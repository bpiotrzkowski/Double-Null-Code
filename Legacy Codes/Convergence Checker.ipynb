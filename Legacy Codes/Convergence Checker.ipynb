{
 "cells": [
  {
   "cell_type": "code",
   "execution_count": 1,
   "metadata": {},
   "outputs": [],
   "source": [
    "###Python Packages###\n",
    "\n",
    "import numpy as np\n",
    "import matplotlib.pyplot as plt\n",
    "from matplotlib import rc\n",
    "from matplotlib.colors import LogNorm\n",
    "import math as mth\n",
    "from matplotlib.colors import LogNorm\n",
    "import os\n",
    "\n",
    "import timeit\n",
    "#import Double_Null_utils as dnu\n",
    "from scipy import optimize\n",
    "import tables\n",
    "import h5py\n",
    "\n",
    "\n",
    "\n",
    "#import warnings\n",
    "#warnings.filterwarnings(\"ignore\")\n",
    "\n",
    "start = timeit.default_timer()"
   ]
  },
  {
   "cell_type": "markdown",
   "metadata": {},
   "source": [
    "### This code checks the 2nd-order convergence of functions.\n",
    "Currently is only able for check r, sigma, and phi and not for the derivatives. Also it requires 4 sets of arrays, all assumed to be double the resolution (half the step-size) of the last (e.g. N=10,20,40,80)"
   ]
  },
  {
   "cell_type": "code",
   "execution_count": 2,
   "metadata": {},
   "outputs": [
    {
     "name": "stdout",
     "output_type": "stream",
     "text": [
      "File already exists\n"
     ]
    }
   ],
   "source": [
    "uscal=1\n",
    "vscal=1\n",
    "\n",
    "path=\"num-rel-pics/convergence-checks\"\n",
    "try:\n",
    "    os.mkdir(path)\n",
    "except:\n",
    "    print(\"File already exists\")"
   ]
  },
  {
   "cell_type": "markdown",
   "metadata": {},
   "source": [
    "uscal and vscal reduce arrays by their value in order to prevent memory overflow. Use when h5 files are very large (i.e. >2gB)"
   ]
  },
  {
   "cell_type": "code",
   "execution_count": 3,
   "metadata": {},
   "outputs": [
    {
     "name": "stdout",
     "output_type": "stream",
     "text": [
      "True\n"
     ]
    }
   ],
   "source": [
    "rnputil=np.load('rnputil.npy')\n",
    "wHD=rnputil[8]\n",
    "print(wHD)\n"
   ]
  },
  {
   "cell_type": "code",
   "execution_count": 4,
   "metadata": {},
   "outputs": [
    {
     "name": "stdout",
     "output_type": "stream",
     "text": [
      "501 50\n",
      "500 100\n",
      "500 50\n",
      "500 200\n",
      "500 50\n",
      "500 400\n",
      "500 50\n",
      "200000 bytes\n",
      "Hd5 files used\n",
      "------\n",
      "500 500 500 500\n",
      "50 50 50 50\n",
      "500 4002 400\n",
      "8\n",
      "500 50\n"
     ]
    }
   ],
   "source": [
    "Elist=[]\n",
    "\n",
    "#funcchoice='r' ###can choose 'r', 'sig, 'phi'\n",
    "func='dphinpv'\n",
    "\n",
    "if wHD==True or wHD==1.0 or wHD=='True':\n",
    "    urange=np.load('urange.npy')[::uscal]\n",
    "    vrange=np.load('vrange.npy')[::vscal]\n",
    "if wHD==False or wHD==0.0 or wHD==None or wHD=='False':\n",
    "    urange=np.load('urange.npy')\n",
    "    vrange=np.load('vrange.npy')\n",
    "\n",
    "#if funcchoice=='r':\n",
    "if wHD==True or wHD==1.0 or wHD=='True':\n",
    "    \n",
    "    with h5py.File(func+'1.h5','r') as f:\n",
    "        r_group_key = list(f.keys())[0]\n",
    "        rnpi=f[r_group_key]\n",
    "        rnp = np.asarray(rnpi[::uscal,::vscal])\n",
    "       \n",
    "    print(len(rnp),len(rnp[1,:]))\n",
    "    rnp=rnp[:-1]\n",
    "    Elist.append(1)\n",
    "    try:\n",
    "        with h5py.File(func+'2.h5','r') as f:\n",
    "            r_group_key = list(f.keys())[0]\n",
    "            rnpi=f[r_group_key]\n",
    "            rnp2 = np.asarray(rnpi[::uscal,::vscal]) \n",
    "        print(len(rnp),len(rnp2[1,:]))\n",
    "        kval=int(len(rnp2)/len(rnp))\n",
    "        Elist.append(kval)\n",
    "        rnp2= np.asarray(rnp2[::kval,::kval])\n",
    "        rnp2=rnp2[:-1]\n",
    "        print(len(rnp2),len(rnp2[1,:]))\n",
    "    except:\n",
    "        pass\n",
    "    try:\n",
    "        with h5py.File(func+'3.h5','r') as f:\n",
    "            r_group_key = list(f.keys())[0]\n",
    "            rnpi=f[r_group_key]\n",
    "            rnp3 = np.asarray(rnpi[::uscal,::vscal]) \n",
    "        print(len(rnp),len(rnp3[1,:]))\n",
    "        kval=int(len(rnp3)/len(rnp))\n",
    "        Elist.append(kval)\n",
    "        rnp3= np.asarray(rnp3[::kval,::kval])\n",
    "        rnp3=rnp3[:-1]\n",
    "        print(len(rnp3),len(rnp3[1,:]))\n",
    "    except:\n",
    "        pass\n",
    "    try:\n",
    "        with h5py.File(func+'4.h5','r') as f:\n",
    "            r_group_key = list(f.keys())[0]\n",
    "            rnpi=f[r_group_key]\n",
    "            rnp4 = np.asarray(rnpi[::uscal,::vscal]) \n",
    "        print(len(rnp),len(rnp4[1,:]))\n",
    "        kval=int(len(rnp4)/len(rnp))\n",
    "        Elist.append(kval)\n",
    "        rnp4= np.asarray(rnp4[::kval,::kval])\n",
    "        #rnp4=rnp4[:-1]\n",
    "        rnp4=rnp4[:-1]\n",
    "        print(len(rnp4),len(rnp4[1,:]))\n",
    "    except:\n",
    "        pass\n",
    "    \n",
    "\n",
    "    print(str(rnp.nbytes)+\" bytes\")\n",
    "    print(\"Hd5 files used\")\n",
    "\n",
    "if wHD==False or wHD==0.0 or wHD==None or wHD=='False':\n",
    "    rnp=np.load('rnp.npy')\n",
    "    rnp2=np.load('rnp2.npy')\n",
    "    rnp3=np.load('rnp3.npy')\n",
    "    rnp4=np.load('rnp4.npy')\n",
    "    \n",
    "    \n",
    "    print(\"Numpy arrays used\")\n",
    "\n",
    "switchax=float(rnputil[9])\n",
    "if switchax==True:\n",
    "    rnp=np.swapaxes(rnp,0,1)\n",
    "    rnp2=np.swapaxes(rnp2,0,1)\n",
    "    rnp3=np.swapaxes(rnp3,0,1)\n",
    "    rnp4=np.swapaxes(rnp4,0,1)\n",
    "\n",
    "print('------')\n",
    "print(len(rnp),len(rnp2),len(rnp3),len(rnp4))    \n",
    "print(len(rnp[1,:]),len(rnp2[1,:]),len(rnp3[1,:]),len(rnp4[1,:])) \n",
    "urange=np.insert(urange,0,0.0)\n",
    "    \n",
    "if len(rnp)==len(urange):\n",
    "    pass\n",
    "else:\n",
    "    print(len(rnp),len(urange),len(vrange))\n",
    "    kval=int(len(urange)/len(rnp))\n",
    "    print(kval)\n",
    "    urange=urange[::kval]\n",
    "    vrange=vrange[::kval]\n",
    "urange=urange[:-1]\n",
    "   \n",
    "print(len(urange),len(vrange))\n"
   ]
  },
  {
   "cell_type": "code",
   "execution_count": 5,
   "metadata": {},
   "outputs": [
    {
     "name": "stdout",
     "output_type": "stream",
     "text": [
      "['1600400' '4001' '400' '10.0' '0.40405' '1.0' '0.9' '0.0' 'True' '0.0'\n",
      " 'edd']\n",
      "500 50\n"
     ]
    }
   ],
   "source": [
    "print(rnputil)\n",
    "\n",
    "N=int(rnputil[0])\n",
    "Nu=len(urange)#int(rnputil[1])\n",
    "Nv=len(vrange)#int(rnputil[2])\n",
    "ru0=float(rnputil[3])\n",
    "dr0v=float(rnputil[4])\n",
    "M0=float(rnputil[5])\n",
    "Q=float(rnputil[6])\n",
    "Lambda=float(rnputil[7])\n",
    "umax=np.nanmax(urange)\n",
    "vmax=np.nanmax(vrange)\n",
    "\n",
    "\n",
    "dv0=vrange[1]-vrange[0]\n",
    "\n",
    "def fr(r,M0,Q,Lambda):\n",
    "    return 1-2*M0/r+Q**2.0/r**2.0-Lambda*r**2.0/3.0\n",
    "\n",
    "sol = optimize.root(fr,[0.687,1.3,50.0],args=(M0,Q,Lambda), method='hybr')\n",
    "rminus=sol.x[0]\n",
    "rplus=sol.x[1]\n",
    "rcosm=sol.x[2]\n",
    "\n",
    "print(Nu,Nv)"
   ]
  },
  {
   "cell_type": "code",
   "execution_count": 6,
   "metadata": {},
   "outputs": [
    {
     "name": "stdout",
     "output_type": "stream",
     "text": [
      "[1, 2, 4, 8]\n"
     ]
    }
   ],
   "source": [
    "print(Elist)"
   ]
  },
  {
   "cell_type": "code",
   "execution_count": 7,
   "metadata": {},
   "outputs": [
    {
     "name": "stdout",
     "output_type": "stream",
     "text": [
      "[0.       0.009375 0.019375 0.029375 0.039375 0.049375 0.059375 0.069375\n",
      " 0.079375 0.089375 0.099375 0.109375 0.119375 0.129375 0.139375 0.149375\n",
      " 0.159375 0.169375 0.179375 0.189375 0.199375 0.209375 0.219375 0.229375\n",
      " 0.239375 0.249375 0.259375 0.269375 0.279375 0.289375 0.299375 0.309375\n",
      " 0.319375 0.329375 0.339375 0.349375 0.359375 0.369375 0.379375 0.389375\n",
      " 0.399375 0.409375 0.419375 0.429375 0.439375 0.449375 0.459375 0.469375\n",
      " 0.479375 0.489375 0.499375 0.509375 0.519375 0.529375 0.539375 0.549375\n",
      " 0.559375 0.569375 0.579375 0.589375 0.599375 0.609375 0.619375 0.629375\n",
      " 0.639375 0.649375 0.659375 0.669375 0.679375 0.689375 0.699375 0.709375\n",
      " 0.719375 0.729375 0.739375 0.749375 0.759375 0.769375 0.779375 0.789375\n",
      " 0.799375 0.809375 0.819375 0.829375 0.839375 0.849375 0.859375 0.869375\n",
      " 0.879375 0.889375 0.899375 0.909375 0.919375 0.929375 0.939375 0.949375\n",
      " 0.959375 0.969375 0.979375 0.989375 0.999375 1.009375 1.019375 1.029375\n",
      " 1.039375 1.049375 1.059375 1.069375 1.079375 1.089375 1.099375 1.109375\n",
      " 1.119375 1.129375 1.139375 1.149375 1.159375 1.169375 1.179375 1.189375\n",
      " 1.199375 1.209375 1.219375 1.229375 1.239375 1.249375 1.259375 1.269375\n",
      " 1.279375 1.289375 1.299375 1.309375 1.319375 1.329375 1.339375 1.349375\n",
      " 1.359375 1.369375 1.379375 1.389375 1.399375 1.409375 1.419375 1.429375\n",
      " 1.439375 1.449375 1.459375 1.469375 1.479375 1.489375 1.499375 1.509375\n",
      " 1.519375 1.529375 1.539375 1.549375 1.559375 1.569375 1.579375 1.589375\n",
      " 1.599375 1.609375 1.619375 1.629375 1.639375 1.649375 1.659375 1.669375\n",
      " 1.679375 1.689375 1.699375 1.709375 1.719375 1.729375 1.739375 1.749375\n",
      " 1.759375 1.769375 1.779375 1.789375 1.799375 1.809375 1.819375 1.829375\n",
      " 1.839375 1.849375 1.859375 1.869375 1.879375 1.889375 1.899375 1.909375\n",
      " 1.919375 1.929375 1.939375 1.949375 1.959375 1.969375 1.979375 1.989375\n",
      " 1.999375 2.009375 2.019375 2.029375 2.039375 2.049375 2.059375 2.069375\n",
      " 2.079375 2.089375 2.099375 2.109375 2.119375 2.129375 2.139375 2.149375\n",
      " 2.159375 2.169375 2.179375 2.189375 2.199375 2.209375 2.219375 2.229375\n",
      " 2.239375 2.249375 2.259375 2.269375 2.279375 2.289375 2.299375 2.309375\n",
      " 2.319375 2.329375 2.339375 2.349375 2.359375 2.369375 2.379375 2.389375\n",
      " 2.399375 2.409375 2.419375 2.429375 2.439375 2.449375 2.459375 2.469375\n",
      " 2.479375 2.489375 2.499375 2.509375 2.519375 2.529375 2.539375 2.549375\n",
      " 2.559375 2.569375 2.579375 2.589375 2.599375 2.609375 2.619375 2.629375\n",
      " 2.639375 2.649375 2.659375 2.669375 2.679375 2.689375 2.699375 2.709375\n",
      " 2.719375 2.729375 2.739375 2.749375 2.759375 2.769375 2.779375 2.789375\n",
      " 2.799375 2.809375 2.819375 2.829375 2.839375 2.849375 2.859375 2.869375\n",
      " 2.879375 2.889375 2.899375 2.909375 2.919375 2.929375 2.939375 2.949375\n",
      " 2.959375 2.969375 2.979375 2.989375 2.999375 3.009375 3.019375 3.029375\n",
      " 3.039375 3.049375 3.059375 3.069375 3.079375 3.089375 3.099375 3.109375\n",
      " 3.119375 3.129375 3.139375 3.149375 3.159375 3.169375 3.179375 3.189375\n",
      " 3.199375 3.209375 3.219375 3.229375 3.239375 3.249375 3.259375 3.269375\n",
      " 3.279375 3.289375 3.299375 3.309375 3.319375 3.329375 3.339375 3.349375\n",
      " 3.359375 3.369375 3.379375 3.389375 3.399375 3.409375 3.419375 3.429375\n",
      " 3.439375 3.449375 3.459375 3.469375 3.479375 3.489375 3.499375 3.509375\n",
      " 3.519375 3.529375 3.539375 3.549375 3.559375 3.569375 3.579375 3.589375\n",
      " 3.599375 3.609375 3.619375 3.629375 3.639375 3.649375 3.659375 3.669375\n",
      " 3.679375 3.689375 3.699375 3.709375 3.719375 3.729375 3.739375 3.749375\n",
      " 3.759375 3.769375 3.779375 3.789375 3.799375 3.809375 3.819375 3.829375\n",
      " 3.839375 3.849375 3.859375 3.869375 3.879375 3.889375 3.899375 3.909375\n",
      " 3.919375 3.929375 3.939375 3.949375 3.959375 3.969375 3.979375 3.989375\n",
      " 3.999375 4.009375 4.019375 4.029375 4.039375 4.049375 4.059375 4.069375\n",
      " 4.079375 4.089375 4.099375 4.109375 4.119375 4.129375 4.139375 4.149375\n",
      " 4.159375 4.169375 4.179375 4.189375 4.199375 4.209375 4.219375 4.229375\n",
      " 4.239375 4.249375 4.259375 4.269375 4.279375 4.289375 4.299375 4.309375\n",
      " 4.319375 4.329375 4.339375 4.349375 4.359375 4.369375 4.379375 4.389375\n",
      " 4.399375 4.409375 4.419375 4.429375 4.439375 4.449375 4.459375 4.469375\n",
      " 4.479375 4.489375 4.499375 4.509375 4.519375 4.529375 4.539375 4.549375\n",
      " 4.559375 4.569375 4.579375 4.589375 4.599375 4.609375 4.619375 4.629375\n",
      " 4.639375 4.649375 4.659375 4.669375 4.679375 4.689375 4.699375 4.709375\n",
      " 4.719375 4.729375 4.739375 4.749375 4.759375 4.769375 4.779375 4.789375\n",
      " 4.799375 4.809375 4.819375 4.829375 4.839375 4.849375 4.859375 4.869375\n",
      " 4.879375 4.889375 4.899375 4.909375 4.919375 4.929375 4.939375 4.949375\n",
      " 4.959375 4.969375 4.979375 4.989375]\n"
     ]
    }
   ],
   "source": [
    "diff21=np.abs((rnp2-rnp))#/rnp2)\n",
    "diff32=np.abs((rnp3-rnp2))#/rnp3)\n",
    "diff43=np.abs((rnp4-rnp3))#/rnp4)\n",
    "print(urange)"
   ]
  },
  {
   "cell_type": "code",
   "execution_count": 8,
   "metadata": {},
   "outputs": [
    {
     "name": "stdout",
     "output_type": "stream",
     "text": [
      "500\n"
     ]
    },
    {
     "name": "stderr",
     "output_type": "stream",
     "text": [
      "/home/brandon/.conda/envs/pycbc/lib/python3.6/site-packages/matplotlib/ticker.py:2207: UserWarning: Data has no positive values, and therefore cannot be log-scaled.\n",
      "  \"Data has no positive values, and therefore cannot be \"\n"
     ]
    },
    {
     "data": {
      "image/png": "[encoded data removed]",
      "text/plain": [
       "<Figure size 432x288 with 1 Axes>"
      ]
     },
     "metadata": {
      "needs_background": "light"
     },
     "output_type": "display_data"
    }
   ],
   "source": [
    "print(Nu)\n",
    "vind=10\n",
    "plt.plot(urange,diff21[:,vind])\n",
    "plt.plot(urange,diff32[:,vind])\n",
    "plt.plot(urange,diff43[:,vind])\n",
    "plt.yscale('log')\n",
    "plt.xlabel('u')\n",
    "plt.grid()\n",
    "plt.show()"
   ]
  },
  {
   "cell_type": "code",
   "execution_count": 9,
   "metadata": {},
   "outputs": [
    {
     "name": "stdout",
     "output_type": "stream",
     "text": [
      "500 50\n"
     ]
    },
    {
     "data": {
      "image/png": "[encoded data removed]",
      "text/plain": [
       "<Figure size 432x288 with 1 Axes>"
      ]
     },
     "metadata": {
      "needs_background": "light"
     },
     "output_type": "display_data"
    },
    {
     "name": "stdout",
     "output_type": "stream",
     "text": [
      "3.99937499999974\n"
     ]
    }
   ],
   "source": [
    "print(Nu,Nv)\n",
    "uind=400\n",
    "vind=45\n",
    "klist=np.array([0,1,2])\n",
    "plt.plot(klist,[diff21[uind][vind],diff32[uind][vind],diff43[uind][vind]])\n",
    "plt.plot(klist,2.0**(-1*klist)*10**(-7),'--',label='1st-order')\n",
    "plt.plot(klist,2.0**(-2*klist)*10**(-7),'--',label='2nd-order')\n",
    "\n",
    "plt.yscale('log')\n",
    "plt.xlabel('v')\n",
    "plt.ylabel(func)\n",
    "plt.grid()\n",
    "plt.legend(loc='best')\n",
    "#plt.plot(vrange,diff32[uind])\n",
    "#plt.plot(vrange,diff43[uind])\n",
    "plt.savefig(path+'/'+func+'.png',dpi=300)\n",
    "plt.show()\n",
    "\n",
    "print(urange[uind])"
   ]
  },
  {
   "cell_type": "code",
   "execution_count": 10,
   "metadata": {},
   "outputs": [
    {
     "name": "stdout",
     "output_type": "stream",
     "text": [
      "500 50\n"
     ]
    },
    {
     "ename": "IndexError",
     "evalue": "index 90 is out of bounds for axis 0 with size 50",
     "output_type": "error",
     "traceback": [
      "\u001b[0;31m---------------------------------------------------------------------------\u001b[0m",
      "\u001b[0;31mIndexError\u001b[0m                                Traceback (most recent call last)",
      "\u001b[0;32m<ipython-input-10-823044d209b8>\u001b[0m in \u001b[0;36m<module>\u001b[0;34m()\u001b[0m\n\u001b[1;32m      3\u001b[0m \u001b[0mvind\u001b[0m\u001b[0;34m=\u001b[0m\u001b[0;36m90\u001b[0m\u001b[0;34m\u001b[0m\u001b[0m\n\u001b[1;32m      4\u001b[0m \u001b[0mklist\u001b[0m\u001b[0;34m=\u001b[0m\u001b[0mnp\u001b[0m\u001b[0;34m.\u001b[0m\u001b[0marray\u001b[0m\u001b[0;34m(\u001b[0m\u001b[0;34m[\u001b[0m\u001b[0;36m0\u001b[0m\u001b[0;34m,\u001b[0m\u001b[0;36m1\u001b[0m\u001b[0;34m,\u001b[0m\u001b[0;36m2\u001b[0m\u001b[0;34m]\u001b[0m\u001b[0;34m)\u001b[0m\u001b[0;34m\u001b[0m\u001b[0m\n\u001b[0;32m----> 5\u001b[0;31m \u001b[0mErrorlist\u001b[0m\u001b[0;34m=\u001b[0m\u001b[0;36m4.0\u001b[0m\u001b[0;34m/\u001b[0m\u001b[0;36m3.0\u001b[0m\u001b[0;34m*\u001b[0m\u001b[0;34m(\u001b[0m\u001b[0mdv0\u001b[0m\u001b[0;34m)\u001b[0m\u001b[0;34m**\u001b[0m\u001b[0;34m(\u001b[0m\u001b[0;34m-\u001b[0m\u001b[0;36m2.0\u001b[0m\u001b[0;34m)\u001b[0m\u001b[0;34m*\u001b[0m\u001b[0mnp\u001b[0m\u001b[0;34m.\u001b[0m\u001b[0marray\u001b[0m\u001b[0;34m(\u001b[0m\u001b[0;34m[\u001b[0m\u001b[0mdiff21\u001b[0m\u001b[0;34m[\u001b[0m\u001b[0muind\u001b[0m\u001b[0;34m]\u001b[0m\u001b[0;34m[\u001b[0m\u001b[0mvind\u001b[0m\u001b[0;34m]\u001b[0m\u001b[0;34m,\u001b[0m\u001b[0mdiff32\u001b[0m\u001b[0;34m[\u001b[0m\u001b[0muind\u001b[0m\u001b[0;34m]\u001b[0m\u001b[0;34m[\u001b[0m\u001b[0mvind\u001b[0m\u001b[0;34m]\u001b[0m\u001b[0;34m,\u001b[0m\u001b[0mdiff43\u001b[0m\u001b[0;34m[\u001b[0m\u001b[0muind\u001b[0m\u001b[0;34m]\u001b[0m\u001b[0;34m[\u001b[0m\u001b[0mvind\u001b[0m\u001b[0;34m]\u001b[0m\u001b[0;34m]\u001b[0m\u001b[0;34m)\u001b[0m\u001b[0;34m\u001b[0m\u001b[0m\n\u001b[0m\u001b[1;32m      6\u001b[0m \u001b[0mplt\u001b[0m\u001b[0;34m.\u001b[0m\u001b[0mplot\u001b[0m\u001b[0;34m(\u001b[0m\u001b[0mklist\u001b[0m\u001b[0;34m,\u001b[0m\u001b[0mErrorlist\u001b[0m\u001b[0;34m)\u001b[0m\u001b[0;34m\u001b[0m\u001b[0m\n\u001b[1;32m      7\u001b[0m \u001b[0;31m#plt.plot(klist,2.0**(-1*klist)*10**(-6),'--',label='1st-order')\u001b[0m\u001b[0;34m\u001b[0m\u001b[0;34m\u001b[0m\u001b[0m\n",
      "\u001b[0;31mIndexError\u001b[0m: index 90 is out of bounds for axis 0 with size 50"
     ]
    }
   ],
   "source": [
    "print(Nu,Nv)\n",
    "uind=22\n",
    "vind=90\n",
    "klist=np.array([0,1,2])\n",
    "Errorlist=4.0/3.0*(dv0)**(-2.0)*np.array([diff21[uind][vind],diff32[uind][vind],diff43[uind][vind]])\n",
    "plt.plot(klist,Errorlist)\n",
    "#plt.plot(klist,2.0**(-1*klist)*10**(-6),'--',label='1st-order')\n",
    "#plt.plot(klist,2.0**(-2*klist)*10**(-6),'--',label='2nd-order')\n",
    "\n",
    "plt.yscale('log')\n",
    "plt.grid()\n",
    "#plt.legend(loc='best')\n",
    "#plt.plot(vrange,diff32[uind])\n",
    "#plt.plot(vrange,diff43[uind])\n",
    "plt.show()"
   ]
  },
  {
   "cell_type": "code",
   "execution_count": null,
   "metadata": {},
   "outputs": [],
   "source": []
  },
  {
   "cell_type": "code",
   "execution_count": null,
   "metadata": {},
   "outputs": [],
   "source": []
  },
  {
   "cell_type": "code",
   "execution_count": null,
   "metadata": {},
   "outputs": [],
   "source": []
  },
  {
   "cell_type": "code",
   "execution_count": null,
   "metadata": {},
   "outputs": [],
   "source": []
  }
 ],
 "metadata": {
  "kernelspec": {
   "display_name": "Python 3",
   "language": "python",
   "name": "python3"
  },
  "language_info": {
   "codemirror_mode": {
    "name": "ipython",
    "version": 3
   },
   "file_extension": ".py",
   "mimetype": "text/x-python",
   "name": "python",
   "nbconvert_exporter": "python",
   "pygments_lexer": "ipython3",
   "version": "3.6.6"
  }
 },
 "nbformat": 4,
 "nbformat_minor": 2
}
