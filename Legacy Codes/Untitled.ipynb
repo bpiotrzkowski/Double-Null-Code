{
 "cells": [
  {
   "cell_type": "code",
   "execution_count": 1,
   "metadata": {},
   "outputs": [],
   "source": [
    "import numpy as np\n",
    "import matplotlib.pyplot as plt\n",
    "from scipy import interpolate\n",
    "from scipy.integrate import odeint\n",
    "from scipy import optimize\n",
    "import time\n",
    "#import Double_Null_utils as dnu\n",
    "import ODE_utils as odeu\n",
    "from scipy import *\n",
    "import scipy\n",
    "from scipy import stats\n",
    "from scipy import interp\n",
    "from scipy.integrate import cumtrapz as scitrapint\n",
    "import sys\n",
    "import tqdm\n",
    "#!jt -t onedork -cellw 100%"
   ]
  },
  {
   "cell_type": "code",
   "execution_count": 2,
   "metadata": {},
   "outputs": [
    {
     "name": "stdout",
     "output_type": "stream",
     "text": [
      "[0 1 2 3 2 4 5 6]\n",
      "[[0. 0. 0. 0. 0.]\n",
      " [0. 0. 0. 0. 0.]]\n",
      "[[ 0.  0. nan  0.  0.  0.]\n",
      " [ 0.  0. nan  0.  0.  0.]]\n"
     ]
    }
   ],
   "source": [
    "ar=[0,1,2,3,4,5,6]\n",
    "\n",
    "ar=np.insert(ar,4,2)\n",
    "\n",
    "print(ar)\n",
    "\n",
    "i=2\n",
    "arn=np.zeros((2,5))\n",
    "print(arn)\n",
    "print(np.insert(arn,i,np.nan,axis=1))"
   ]
  },
  {
   "cell_type": "code",
   "execution_count": 3,
   "metadata": {},
   "outputs": [
    {
     "name": "stdout",
     "output_type": "stream",
     "text": [
      "1.5125000000000002\n"
     ]
    }
   ],
   "source": [
    "i=10\n",
    "x=[i-1,i,i+1,i+2]\n",
    "y=[1.2,1.4,1.7,2.5]\n",
    "f=interpolate.interp1d(x,y)\n",
    "val=interpolate.interp1d(x,y,kind='cubic')(i+1/2)\n",
    "print(val)"
   ]
  },
  {
   "cell_type": "code",
   "execution_count": 4,
   "metadata": {},
   "outputs": [
    {
     "name": "stdout",
     "output_type": "stream",
     "text": [
      "[0, 1, 2, 4, 7, 8, 9, 10]\n",
      "[0.0, 0.1, 0.2, 0.4, 0.7000000000000001, 0.8, 0.9, 1.0]\n"
     ]
    }
   ],
   "source": [
    "urange0=np.arange(1,9,1)\n",
    "urange=[1,2,3,3.5,4,4.5,4.75,5,6,7,8]\n",
    "rlist=np.arange(0,len(urange),.1)\n",
    "indlist=[]\n",
    "\n",
    "for i in range(0,len(urange0)):\n",
    "    indlist.append(urange.index(urange0[i]))\n",
    "print(indlist)\n",
    "\n",
    "rlist=[rlist[i] for i in indlist]\n",
    "\n",
    "print(rlist)"
   ]
  },
  {
   "cell_type": "code",
   "execution_count": 5,
   "metadata": {},
   "outputs": [],
   "source": [
    "r=np.array([0,1,2,3,4,5,6,7,8])\n",
    "urange=np.array([0,.1,.2,.3,.4,.5,.6,.7,.8])\n",
    "\n",
    "#dnu.interp(3,r,urange)"
   ]
  },
  {
   "cell_type": "code",
   "execution_count": 6,
   "metadata": {},
   "outputs": [
    {
     "data": {
      "text/plain": [
       "False"
      ]
     },
     "execution_count": 6,
     "metadata": {},
     "output_type": "execute_result"
    }
   ],
   "source": [
    "(True or False) and False"
   ]
  },
  {
   "cell_type": "code",
   "execution_count": 7,
   "metadata": {},
   "outputs": [
    {
     "data": {
      "text/plain": [
       "-0.0"
      ]
     },
     "execution_count": 7,
     "metadata": {},
     "output_type": "execute_result"
    }
   ],
   "source": [
    "(-4.000000000000000002-(-4.0))/(-4.0)"
   ]
  },
  {
   "cell_type": "code",
   "execution_count": 8,
   "metadata": {},
   "outputs": [
    {
     "name": "stdout",
     "output_type": "stream",
     "text": [
      "[3. 4. 5. 6. 7. 8.]\n"
     ]
    }
   ],
   "source": [
    "rnpf=np.array([1,2,3,4,5.,6])\n",
    "\n",
    "r2=rnpf+2\n",
    "\n",
    "print(r2)"
   ]
  },
  {
   "cell_type": "code",
   "execution_count": 9,
   "metadata": {},
   "outputs": [
    {
     "name": "stdout",
     "output_type": "stream",
     "text": [
      "[ 1.  4.  9. 16. 25. 36.]\n"
     ]
    }
   ],
   "source": [
    "rnpf=np.array([1,2,3,4,5.,6])\n",
    "rnpf=np.power(rnpf,2)\n",
    "\n",
    "print(rnpf)"
   ]
  },
  {
   "cell_type": "code",
   "execution_count": 10,
   "metadata": {},
   "outputs": [],
   "source": [
    "#np.cumsum(Gasthaus)"
   ]
  },
  {
   "cell_type": "code",
   "execution_count": 11,
   "metadata": {},
   "outputs": [
    {
     "data": {
      "text/plain": [
       "array([ 0.,  1.,  5., 14., 30., 55.])"
      ]
     },
     "execution_count": 11,
     "metadata": {},
     "output_type": "execute_result"
    }
   ],
   "source": [
    "np.cumsum(rnpf)-rnpf"
   ]
  },
  {
   "cell_type": "code",
   "execution_count": 12,
   "metadata": {},
   "outputs": [
    {
     "name": "stdout",
     "output_type": "stream",
     "text": [
      "[ 4.  9. 16. 25. 36.  1.]\n",
      "[ 2.5  6.5 12.5 20.5 30.5 18.5]\n"
     ]
    }
   ],
   "source": [
    "print(np.roll(rnpf,-1))\n",
    "print(0.5*(rnpf)+0.5*np.roll(rnpf,-1))"
   ]
  },
  {
   "cell_type": "code",
   "execution_count": 13,
   "metadata": {},
   "outputs": [
    {
     "name": "stdout",
     "output_type": "stream",
     "text": [
      "[ 1.  4.  9. 16. 25. 36.]\n",
      "[ 4.  9. 16. 25. 36.  1.]\n",
      "---\n",
      "[ 1.  5. 14. 30. 55. 91.]\n",
      "[ 2.5  9.  21.5 42.  72.5 91. ]\n",
      "[ 4.33333333 13.66666667 30.         55.33333333 83.66666667 91.        ]\n"
     ]
    }
   ],
   "source": [
    "print(rnpf)\n",
    "print(np.roll(rnpf,-1))\n",
    "print('---')\n",
    "print(np.cumsum((rnpf)))\n",
    "print(np.cumsum((rnpf+np.roll(rnpf,-1))/2))\n",
    "print(np.cumsum((rnpf+4*np.roll(rnpf,-1)+np.roll(rnpf,-2))/6))"
   ]
  },
  {
   "cell_type": "code",
   "execution_count": 14,
   "metadata": {},
   "outputs": [
    {
     "name": "stdout",
     "output_type": "stream",
     "text": [
      "[ 0.   2.5  9.  21.5 42.  72.5]\n",
      "[ 0.   2.5  9.  21.5 42.  72.5]\n"
     ]
    }
   ],
   "source": [
    "print(np.cumsum((rnpf+np.roll(rnpf,-1))/2)-(rnpf+np.roll(rnpf,-1))/2)\n",
    "print(np.cumsum((rnpf+np.roll(rnpf,-1))/2)-(rnpf+np.roll(rnpf,-1))/2)\n"
   ]
  },
  {
   "cell_type": "code",
   "execution_count": 15,
   "metadata": {},
   "outputs": [
    {
     "name": "stdout",
     "output_type": "stream",
     "text": [
      "[ 1.  4.  9. 16. 25. 36.  4.  7. 12. 19. 28. 39.]\n",
      "2.0\n"
     ]
    }
   ],
   "source": [
    "rnpf2=np.append(rnpf,rnpf+3.0)\n",
    "print(rnpf2)\n",
    "kval=float(int(len(rnpf2)/len(rnpf)))\n",
    "print(kval)"
   ]
  },
  {
   "cell_type": "code",
   "execution_count": 16,
   "metadata": {},
   "outputs": [
    {
     "data": {
      "text/plain": [
       "True"
      ]
     },
     "execution_count": 16,
     "metadata": {},
     "output_type": "execute_result"
    }
   ],
   "source": [
    "np.any([0,1])"
   ]
  },
  {
   "cell_type": "code",
   "execution_count": 17,
   "metadata": {},
   "outputs": [],
   "source": [
    "rnp=np.array([1,2,3,4,5,6,7])\n",
    "dphinpu=np.array([.2,.4,.6,.8,1.0,1.2,1.4])\n",
    "dphinpv=np.array([.1,.1,.1,.1,.1,.1,.1])\n",
    "drnpu=np.array([2,4,6,8,10,12,14])\n",
    "drnpv=np.array([.1,.2,.3,.4,.5,.6,.7])\n",
    "randar=np.array([.2,.5,.7,.4,1.0,.6,-1.2])"
   ]
  },
  {
   "cell_type": "code",
   "execution_count": 18,
   "metadata": {},
   "outputs": [
    {
     "data": {
      "text/plain": [
       "array([0. , 0.2, 0.6, 1.2, 2. , 3. , 4.2])"
      ]
     },
     "execution_count": 18,
     "metadata": {},
     "output_type": "execute_result"
    }
   ],
   "source": [
    "np.cumsum(drnpu*dphinpv)-drnpu*dphinpv"
   ]
  },
  {
   "cell_type": "code",
   "execution_count": 19,
   "metadata": {},
   "outputs": [],
   "source": [
    "#rnp4=np.array([1,2,4,8,16,32,64])\n",
    "rnp4=np.array([1,2,3,4,5,6,7])\n",
    "rnp4r=np.roll(rnp4,1)"
   ]
  },
  {
   "cell_type": "code",
   "execution_count": 20,
   "metadata": {},
   "outputs": [
    {
     "data": {
      "text/plain": [
       "array([ 1,  3,  6, 10, 15, 21, 28])"
      ]
     },
     "execution_count": 20,
     "metadata": {},
     "output_type": "execute_result"
    }
   ],
   "source": [
    "np.cumsum(rnp4)"
   ]
  },
  {
   "cell_type": "code",
   "execution_count": 21,
   "metadata": {},
   "outputs": [
    {
     "name": "stdout",
     "output_type": "stream",
     "text": [
      "[ 0  1  3  6 10 15 21]\n",
      "[ 0  2  5  9 14 20 27]\n"
     ]
    }
   ],
   "source": [
    "cor0=np.cumsum(rnp4r)-(rnp4r[0])#+rnp4r[0])#-rnp\n",
    "print(cor0)\n",
    "cor1=np.cumsum(rnp4)-(rnp4[0])\n",
    "print(cor1)"
   ]
  },
  {
   "cell_type": "code",
   "execution_count": 22,
   "metadata": {},
   "outputs": [
    {
     "name": "stdout",
     "output_type": "stream",
     "text": [
      "0.3314352035522461\n",
      "[ 0.     0.55   2.625  5.8   13.65  25.3   16.   ]\n",
      "0.16684770584106445\n",
      "[ 0.    1.1   5.25 11.6  27.3  50.6  32.  ]\n"
     ]
    }
   ],
   "source": [
    "cor=np.cumsum(rnp4+rnp4r)-(rnp4[0]+rnp4r[0])\n",
    "cor2=cor0+cor1#+rnp4r[0])#-rnp\n",
    "start = time.time()\n",
    "for i in range(0,10000):\n",
    "    valuewat=0.5*odeu.trapint(randar*rnp4**2)#*np.random.random(1)\n",
    "end= time.time()\n",
    "print(end-start)\n",
    "print(valuewat)\n",
    "start = time.time()\n",
    "for i in range(0,10000):\n",
    "    valuewat=scipy.integrate.cumtrapz(randar*rnp4**2,rnp4,initial=0)#*np.random.random(1)\n",
    "end= time.time()\n",
    "print(end-start)\n",
    "print(valuewat)"
   ]
  },
  {
   "cell_type": "code",
   "execution_count": 23,
   "metadata": {},
   "outputs": [
    {
     "ename": "IndexError",
     "evalue": "index 0 is out of bounds for axis 0 with size 0",
     "output_type": "error",
     "traceback": [
      "\u001b[0;31m---------------------------------------------------------------------------\u001b[0m",
      "\u001b[0;31mIndexError\u001b[0m                                Traceback (most recent call last)",
      "\u001b[0;32m<ipython-input-23-a4952f73d00c>\u001b[0m in \u001b[0;36m<module>\u001b[0;34m()\u001b[0m\n\u001b[1;32m      4\u001b[0m     \u001b[0;32mreturn\u001b[0m \u001b[0;36m0.5\u001b[0m\u001b[0;34m*\u001b[0m\u001b[0;34m(\u001b[0m\u001b[0marray\u001b[0m\u001b[0;34m[\u001b[0m\u001b[0;36m0\u001b[0m\u001b[0;34m]\u001b[0m\u001b[0;34m+\u001b[0m\u001b[0;36m2\u001b[0m\u001b[0;34m*\u001b[0m\u001b[0mnp\u001b[0m\u001b[0;34m.\u001b[0m\u001b[0msum\u001b[0m\u001b[0;34m(\u001b[0m\u001b[0marray2\u001b[0m\u001b[0;34m)\u001b[0m\u001b[0;34m+\u001b[0m\u001b[0marray\u001b[0m\u001b[0;34m[\u001b[0m\u001b[0;34m-\u001b[0m\u001b[0;36m1\u001b[0m\u001b[0;34m]\u001b[0m\u001b[0;34m)\u001b[0m\u001b[0;34m\u001b[0m\u001b[0m\n\u001b[1;32m      5\u001b[0m \u001b[0;34m\u001b[0m\u001b[0m\n\u001b[0;32m----> 6\u001b[0;31m \u001b[0mprint\u001b[0m\u001b[0;34m(\u001b[0m\u001b[0mtrapint2\u001b[0m\u001b[0;34m(\u001b[0m\u001b[0mrand\u001b[0m\u001b[0;34m)\u001b[0m\u001b[0;34m)\u001b[0m\u001b[0;34m\u001b[0m\u001b[0m\n\u001b[0m\u001b[1;32m      7\u001b[0m \u001b[0mprint\u001b[0m\u001b[0;34m(\u001b[0m\u001b[0;36m0.5\u001b[0m\u001b[0;34m*\u001b[0m\u001b[0modeu\u001b[0m\u001b[0;34m.\u001b[0m\u001b[0mtrapint\u001b[0m\u001b[0;34m(\u001b[0m\u001b[0mrand\u001b[0m\u001b[0;34m)\u001b[0m\u001b[0;34m+\u001b[0m\u001b[0;36m2.0\u001b[0m\u001b[0;34m)\u001b[0m\u001b[0;34m\u001b[0m\u001b[0m\n",
      "\u001b[0;32m<ipython-input-23-a4952f73d00c>\u001b[0m in \u001b[0;36mtrapint2\u001b[0;34m(array)\u001b[0m\n\u001b[1;32m      1\u001b[0m \u001b[0;32mdef\u001b[0m \u001b[0mtrapint2\u001b[0m\u001b[0;34m(\u001b[0m\u001b[0marray\u001b[0m\u001b[0;34m)\u001b[0m\u001b[0;34m:\u001b[0m\u001b[0;34m\u001b[0m\u001b[0m\n\u001b[1;32m      2\u001b[0m     \u001b[0marray2\u001b[0m\u001b[0;34m=\u001b[0m\u001b[0mnp\u001b[0m\u001b[0;34m.\u001b[0m\u001b[0mdelete\u001b[0m\u001b[0;34m(\u001b[0m\u001b[0marray\u001b[0m\u001b[0;34m,\u001b[0m\u001b[0;34m-\u001b[0m\u001b[0;36m1\u001b[0m\u001b[0;34m)\u001b[0m\u001b[0;34m\u001b[0m\u001b[0m\n\u001b[0;32m----> 3\u001b[0;31m     \u001b[0marray2\u001b[0m\u001b[0;34m=\u001b[0m\u001b[0mnp\u001b[0m\u001b[0;34m.\u001b[0m\u001b[0mdelete\u001b[0m\u001b[0;34m(\u001b[0m\u001b[0marray2\u001b[0m\u001b[0;34m,\u001b[0m\u001b[0;36m0\u001b[0m\u001b[0;34m)\u001b[0m\u001b[0;34m\u001b[0m\u001b[0m\n\u001b[0m\u001b[1;32m      4\u001b[0m     \u001b[0;32mreturn\u001b[0m \u001b[0;36m0.5\u001b[0m\u001b[0;34m*\u001b[0m\u001b[0;34m(\u001b[0m\u001b[0marray\u001b[0m\u001b[0;34m[\u001b[0m\u001b[0;36m0\u001b[0m\u001b[0;34m]\u001b[0m\u001b[0;34m+\u001b[0m\u001b[0;36m2\u001b[0m\u001b[0;34m*\u001b[0m\u001b[0mnp\u001b[0m\u001b[0;34m.\u001b[0m\u001b[0msum\u001b[0m\u001b[0;34m(\u001b[0m\u001b[0marray2\u001b[0m\u001b[0;34m)\u001b[0m\u001b[0;34m+\u001b[0m\u001b[0marray\u001b[0m\u001b[0;34m[\u001b[0m\u001b[0;34m-\u001b[0m\u001b[0;36m1\u001b[0m\u001b[0;34m]\u001b[0m\u001b[0;34m)\u001b[0m\u001b[0;34m\u001b[0m\u001b[0m\n\u001b[1;32m      5\u001b[0m \u001b[0;34m\u001b[0m\u001b[0m\n",
      "\u001b[0;32m~/.conda/envs/pycbc/lib/python3.6/site-packages/numpy/lib/function_base.py\u001b[0m in \u001b[0;36mdelete\u001b[0;34m(arr, obj, axis)\u001b[0m\n\u001b[1;32m   4218\u001b[0m             raise IndexError(\n\u001b[1;32m   4219\u001b[0m                 \u001b[0;34m\"index %i is out of bounds for axis %i with \"\u001b[0m\u001b[0;34m\u001b[0m\u001b[0m\n\u001b[0;32m-> 4220\u001b[0;31m                 \"size %i\" % (obj, axis, N))\n\u001b[0m\u001b[1;32m   4221\u001b[0m         \u001b[0;32mif\u001b[0m \u001b[0;34m(\u001b[0m\u001b[0mobj\u001b[0m \u001b[0;34m<\u001b[0m \u001b[0;36m0\u001b[0m\u001b[0;34m)\u001b[0m\u001b[0;34m:\u001b[0m\u001b[0;34m\u001b[0m\u001b[0m\n\u001b[1;32m   4222\u001b[0m             \u001b[0mobj\u001b[0m \u001b[0;34m+=\u001b[0m \u001b[0mN\u001b[0m\u001b[0;34m\u001b[0m\u001b[0m\n",
      "\u001b[0;31mIndexError\u001b[0m: index 0 is out of bounds for axis 0 with size 0"
     ]
    }
   ],
   "source": [
    "def trapint2(array):\n",
    "    array2=np.delete(array,-1)\n",
    "    array2=np.delete(array2,0)\n",
    "    return 0.5*(array[0]+2*np.sum(array2)+array[-1])\n",
    "    \n",
    "print(trapint2(rand))\n",
    "print(0.5*odeu.trapint(rand)+2.0)"
   ]
  },
  {
   "cell_type": "code",
   "execution_count": null,
   "metadata": {},
   "outputs": [],
   "source": [
    "#def trapint(array):\n",
    "    #return np.cumsum(np.roll(array,1)+array)-(np.roll(array,1)+array)[0]\n",
    "print(0.5*odeu.trapint2(rnp))\n",
    "#sec=0.5*np.array([1,1+2*2,1+2*2+3*2])\n",
    "#print(sec)\n",
    "print(0.5*(1+2*(2+3+4)+5))"
   ]
  },
  {
   "cell_type": "code",
   "execution_count": null,
   "metadata": {},
   "outputs": [],
   "source": [
    "2.0+.1*.5*trapint(drnpu*drnpv)"
   ]
  },
  {
   "cell_type": "code",
   "execution_count": null,
   "metadata": {},
   "outputs": [],
   "source": [
    "cor3=1/6*np.cumsum(np.roll(rnp4,2)+2*np.roll(rnp4,1)+2*np.roll(rnp4,0)+np.roll(rnp4,-1))-4#-(np.roll(rnp4,2)+2*np.roll(rnp4,1)+2*np.roll(rnp4,0)+np.roll(rnp4,-1))[0]"
   ]
  },
  {
   "cell_type": "code",
   "execution_count": null,
   "metadata": {},
   "outputs": [],
   "source": [
    "print(cor3)"
   ]
  },
  {
   "cell_type": "code",
   "execution_count": null,
   "metadata": {},
   "outputs": [],
   "source": [
    "x=np.asarray([1,2,3,np.nan,5,6,np.nan])\n",
    "y=np.asarray([11,12,13,14,15,16,17])\n",
    "Nv=len(x)\n",
    "print(x)\n",
    "mask=~np.isnan(x)\n",
    "x=x[mask]\n",
    "y=y[mask]\n",
    "Nv=len(x)\n",
    "print(x,y,Nv)"
   ]
  },
  {
   "cell_type": "code",
   "execution_count": null,
   "metadata": {},
   "outputs": [],
   "source": [
    "N=10\n",
    "x1=100\n",
    "x2=101\n",
    "dx=1/N\n",
    "\n",
    "xar=np.arange(x1,x2,dx)\n",
    "#print(x)\n",
    "\n",
    "#numans=dx*odeu.trapint(x)\n",
    "numans=dx*scitrapint(xar**2.0,initial=0)\n",
    "anans=1/3*xar**3-1/3*x1**3\n",
    "\n",
    "plt.plot(xar,numans)\n",
    "plt.plot(xar,anans,'--')\n",
    "plt.show()\n",
    "#def dvdr(x,):\n",
    "    \n",
    "#print(numans)\n",
    "#print(anans)\n",
    "\n",
    "plt.plot(xar,np.abs((numans-anans)))#/anans))\n",
    "plt.show()\n",
    "#odeint"
   ]
  },
  {
   "cell_type": "code",
   "execution_count": null,
   "metadata": {},
   "outputs": [],
   "source": [
    "Tol=10**(-2)\n",
    "N=1000\n",
    "x1=-1\n",
    "x2=1\n",
    "dx0=1/N\n",
    "x=x1\n",
    "\n",
    "xar=np.array([x1])\n",
    "\n",
    "#numans=dx*scitrapint(x**2.0,initial=0)\n",
    "#anans=1/3*x**3-1/3*x1**3\n",
    "power=4\n",
    "\n",
    "def ya(x):\n",
    "    return x**power\n",
    "def dyadx(x):\n",
    "    return power*x**(power-1)\n",
    "\n",
    "def d2ydx2(y,dydx):\n",
    "    return (dydx)**2.0/y*(power-1)/power#y/dydx*(power)**2.0*(power-1)#/3#3*x**2\n",
    "\n",
    "def d3ydx3(y,dydx):\n",
    "    return (dydx)**3.0/y**2.0*(power-1)*(power-2)/power**2.0\n",
    "\n",
    "yf=np.array([ya(x1),np.nan])\n",
    "dyfdx=np.array([dyadx(x1),np.nan])\n",
    "\n",
    "dydxmax=dyfdx[0]\n",
    "d2ydx2max=d2ydx2(yf[0],dyfdx[0])\n",
    "d3ydx3max=d3ydx3(yf[0],dyfdx[0])\n",
    "\n",
    "y=np.array([yf[0]])\n",
    "dydx=np.array([dyfdx[0]])\n",
    "i=0\n",
    "\n",
    "#diff=10**(-16)#np.abs(yf[1]-yf1)/yf[1]\n",
    "dx=dx0\n",
    "\n",
    "while xar[i]<x2:\n",
    "    #dx=dx0*Tol/np.abs(diff)#np.max([abs(dydxmax),abs(d2ydx2max),abs(d3ydx3max)])\n",
    "    if dx>dx0:\n",
    "        dx=dx0\n",
    "        \n",
    "    dyfdx[1] = dyfdx[0]+dx*d2ydx2(yf[0],dyfdx[0])\n",
    "    yf[1] = yf[0]+0.5*dx*(dyfdx[0]+dyfdx[1])\n",
    "    dyfdx1 = dyfdx[1]\n",
    "    yf1 = yf[1]\n",
    "    \n",
    "    dyfdx[1] = dyfdx[0]+0.5*dx*(d2ydx2(yf[0],dyfdx[0])+d2ydx2(yf[1],dyfdx[1]))\n",
    "    yf[1] = yf[0]+0.5*dx*(dyfdx[0]+dyfdx[1])\n",
    "    \n",
    "    diff1=np.abs(yf[1]-yf1)#/np.abs(yf[1])\n",
    "    diff2=np.abs(dyfdx[1]-dyfdx1)#/np.abs(dyfdx[1])\n",
    "    \n",
    "    diff=max([diff1,diff2])\n",
    "    \n",
    "    if diff< Tol:\n",
    "        \n",
    "        y = np.append(y,yf[1])\n",
    "        dydx = np.append(dydx,dyfdx[1])\n",
    "        xar = np.append(xar,xar[i]+dx)\n",
    "        i+=1\n",
    "        yf[0]=yf[1]\n",
    "        dyfdx[0]=dyfdx[1]\n",
    "        dx=dx*2\n",
    "    else:\n",
    "        dx=dx/2\n",
    "    \n",
    "    print(xar[i])\n",
    "    print(dx)\n",
    "    print(dydxmax,d2ydx2max,d3ydx3max)\n",
    "    #diff=np.abs(yf[1]-yf1)/yf[1]\n",
    "    print(diff1,diff2)\n",
    "    print('--')\n",
    "    \n",
    "    \n",
    "    \n",
    "    \n",
    "    \n",
    "    dydxmax=dyfdx[1]\n",
    "    d2ydx2max=d2ydx2(yf[1],dyfdx[1])\n",
    "    d3ydx3max=d3ydx3(yf[1],dyfdx[1])\n",
    "    \n",
    "    \n",
    "    \n",
    "    #print(yf[1],dyfdx[1])\n",
    "    "
   ]
  },
  {
   "cell_type": "code",
   "execution_count": null,
   "metadata": {},
   "outputs": [],
   "source": [
    "plt.plot(xar,y)\n",
    "plt.plot(xar,ya(xar),'--')\n",
    "#plt.xlim(.1,.5)\n",
    "plt.yscale('log')\n",
    "#plt.xlim(-.001,.001)\n",
    "plt.show()\n",
    "\n",
    "plt.plot(xar,dydx)\n",
    "plt.plot(xar,dyadx(xar),'--')\n",
    "#plt.yscale('log')\n",
    "plt.show()\n",
    "\n",
    "plt.plot(xar,np.abs(y-ya(xar)))#/ya(xar)*100)\n",
    "plt.grid()\n",
    "plt.yscale('log')\n",
    "#plt.savefig('method-test/y-error.png',dpi=300)\n",
    "plt.show()\n",
    "\n",
    "plt.plot(xar,np.abs(dydx-dyadx(xar)))#/np.abs(dyadx(xar))*100)\n",
    "plt.grid()\n",
    "plt.yscale('log')\n",
    "#plt.ylim(0,100)\n",
    "#plt.savefig('method-test/dydx-error.png',dpi=300)\n",
    "plt.show()"
   ]
  },
  {
   "cell_type": "code",
   "execution_count": null,
   "metadata": {},
   "outputs": [],
   "source": [
    "#print(y)\n",
    "#print(dydx)"
   ]
  },
  {
   "cell_type": "code",
   "execution_count": null,
   "metadata": {},
   "outputs": [],
   "source": [
    "M=1.000187\n",
    "Q=.95\n",
    "Lambda=.1\n",
    "\n",
    "\n",
    "\n",
    "def fr(r,M,Q,Lambda):\n",
    "    return 1-2*M/r+Q**2.0/r**2.0-Lambda*r**2.0/3.0\n",
    "\n",
    "sol = optimize.root(fr,[.5,1.388,55.0,-50],args=(M,Q,Lambda),tol=10**(-12), method='hybr')\n",
    "rminus=sol.x[0]#+.035\n",
    "rplus=sol.x[1]\n",
    "rcosm=sol.x[2]\n",
    "rneg=sol.x[3]\n",
    "\n",
    "def dfr(r,M,Q,Lambda):\n",
    "    return -2*(Lambda*r**4-3*M*r+3*Q**2)/(3*r**3)\n",
    "\n",
    "print(rminus,rplus,rcosm,rneg)\n",
    "\n",
    "print(fr(np.array([rminus,rplus,rcosm,rneg]),M,Q,Lambda))"
   ]
  },
  {
   "cell_type": "code",
   "execution_count": null,
   "metadata": {},
   "outputs": [],
   "source": [
    "def kappa(fr,r,M,Q,Lambda):\n",
    "    return 0.5*np.abs(scipy.misc.derivative(fr,r,dx=.00000001,n=1,args=(M,Q,Lambda)))\n",
    "#def kappa2(dfr,r,M,Q,Lambda):\n",
    "    #return optimize.root(dfr,[0.01,1.5,50.0],args=(M,Q,Lambda),tol=10**(-10), method='hybr')\n",
    "\n",
    "kappaplus=kappa(fr,rplus,M,Q,Lambda)\n",
    "kappaminus=kappa(fr,rminus,M,Q,Lambda)\n",
    "kappacosm=kappa(fr,rcosm,M,Q,Lambda)\n",
    "print(kappaplus,kappaminus,kappacosm)\n",
    "###double-check for Lambda=0\n",
    "###kappaminus\n",
    "print(np.abs((M*rminus-Q**2)/rminus**3.0))\n",
    "print(0.5*np.abs(dfr(rminus,M,Q,Lambda)))\n",
    "###\n",
    "\n",
    "print(kappaplus-kappacosm)\n"
   ]
  },
  {
   "cell_type": "code",
   "execution_count": null,
   "metadata": {},
   "outputs": [],
   "source": [
    "print(kappa(fr,rminus,M,Q,Lambda))\n",
    "####Low Q-regime\n",
    "print(kappa(fr,rminus,M,Q,Lambda)-kappa(fr,rcosm,M,Q,Lambda))\n",
    "###High Q-regime\n",
    "print(kappa(fr,rminus,M,Q,Lambda)-kappa(fr,rplus,M,Q,Lambda))\n",
    "\n",
    "print(2*kappaminus-kappacosm-kappaplus)"
   ]
  },
  {
   "cell_type": "code",
   "execution_count": null,
   "metadata": {},
   "outputs": [],
   "source": [
    "def slopegiver(kappaminus,kappaplus,kappacosm,A,B,ve):\n",
    "    return (kappaminus-kappacosm)+(kappacosm-kappaplus)/(1+A/B*np.exp((kappaplus-kappacosm)*ve))"
   ]
  },
  {
   "cell_type": "code",
   "execution_count": null,
   "metadata": {},
   "outputs": [],
   "source": [
    "print(slopegiver(kappaminus,kappaplus,kappacosm,1.0,1.0,125))"
   ]
  },
  {
   "cell_type": "code",
   "execution_count": null,
   "metadata": {},
   "outputs": [],
   "source": [
    "velist=np.linspace(-200,440,200)\n",
    "\n",
    "plt.plot(velist,slopegiver(kappaminus,kappaplus,kappacosm,1.0,1.0,velist))\n",
    "plt.plot([velist[0],velist[-1]],[kappaminus-kappacosm,kappaminus-kappacosm],'--',label='normal')\n",
    "plt.plot([velist[0],velist[-1]],[kappaminus-kappaplus,kappaminus-kappaplus],'--',label='looking for')\n",
    "plt.legend(loc='best')\n",
    "plt.show()"
   ]
  },
  {
   "cell_type": "code",
   "execution_count": null,
   "metadata": {},
   "outputs": [],
   "source": [
    "def lnmgiver(kappaminus,kappaplus,kappacosm,A,B,ve):\n",
    "    return (kappaminus-kappacosm)*ve+np.log(1.0+B/A*np.exp((kappacosm-kappaplus)*ve))+np.log(A)"
   ]
  },
  {
   "cell_type": "code",
   "execution_count": null,
   "metadata": {},
   "outputs": [],
   "source": [
    "plt.plot(velist,lnmgiver(kappaminus,kappaplus,kappacosm,1.0,10**(3),velist))\n",
    "#plt.ylim(0,80)\n",
    "plt.show()\n",
    "\n",
    "print(np.polyfit(velist,lnmgiver(kappaminus,kappaplus,kappacosm,1.0,10**(0),velist),1.0))"
   ]
  },
  {
   "cell_type": "code",
   "execution_count": null,
   "metadata": {},
   "outputs": [],
   "source": [
    "def vegiver(r,r0):\n",
    "    C1=6/Lambda*(-(rcosm**2.0*np.log(np.abs(rcosm-r0)))/((rcosm-rminus)*(rcosm-rneg)*(rcosm-rplus))+(rminus**2.0*np.log(np.abs(r0-rminus)))/((rcosm-rminus)*(rminus-rneg)*(rminus-rplus))+(rneg**2.0*np.log(np.abs(r0-rneg)))/((rcosm-rneg)*(rneg-rminus)*(rneg-rplus))+(rplus**2.0*np.log(np.abs(r0-rplus)))/((rcosm-rplus)*(rplus-rminus)*(rplus-rneg)))\n",
    "    f=6/Lambda*(-(rcosm**2.0*np.log(np.abs(rcosm-r)))/((rcosm-rminus)*(rcosm-rneg)*(rcosm-rplus))+(rminus**2.0*np.log(np.abs(r-rminus)))/((rcosm-rminus)*(rminus-rneg)*(rminus-rplus))+(rneg**2.0*np.log(np.abs(r-rneg)))/((rcosm-rneg)*(rneg-rminus)*(rneg-rplus))+(rplus**2.0*np.log(np.abs(r-rplus)))/((rcosm-rplus)*(rplus-rminus)*(rplus-rneg)))\n",
    "    \n",
    "    return C1-f"
   ]
  },
  {
   "cell_type": "code",
   "execution_count": null,
   "metadata": {},
   "outputs": [],
   "source": [
    "rlist=np.linspace(.1,5,10000)\n",
    "\n",
    "plt.plot(rlist,-vegiver(rlist,1.0))\n",
    "plt.plot(rlist,-vegiver(rlist,2.0))\n",
    "plt.plot(rlist,-vegiver(rlist,2.5))\n",
    "plt.plot(rlist,-vegiver(rlist,3.0))\n",
    "plt.plot(rlist,-vegiver(rlist,3.5))\n",
    "plt.plot(rlist,-vegiver(rlist,4.0))\n",
    "plt.plot(rlist,-vegiver(rlist,4.1))\n",
    "plt.ylim(-60,60)\n",
    "plt.axvline(x=rplus,linewidth=0.5,linestyle='--',color='red')\n",
    "plt.axvline(x=rminus,linewidth=0.5,linestyle='--',color='blue')\n",
    "plt.axvline(x=rcosm,linewidth=0.5,linestyle='--',color='green')\n",
    "plt.show()"
   ]
  },
  {
   "cell_type": "code",
   "execution_count": null,
   "metadata": {},
   "outputs": [],
   "source": [
    "def Kretsch(r,drv,dru,dphiv,dphiu,M,Q,Lambda):\n",
    "    return 16/r**6*((M-3*Q**2/(2*r)+Lambda/6*r**3)+r/2*(1-2*M/r+Q**2/r**2-Lambda/3*r**2)*(r*dphiu/dru)*(r*dphiv/drv))**2+16/r**6*(M-Q**2/(2*r)+Lambda/6*r**3)**2+16/r**6*(M-Q**2/r-r**3/3*Lambda)**2.0+4/r**4*(1-2*M/r+Q**2/r**2-Lambda/3*r**2)**2*(r*dphiu/dru)**2*(r*dphiv/drv)**2"
   ]
  },
  {
   "cell_type": "code",
   "execution_count": null,
   "metadata": {},
   "outputs": [],
   "source": [
    "array=np.array([1,10**(-15)])\n",
    "addarray=10**(-9)*np.array([10**(-2),10**(-8)])\n",
    "print(array)\n",
    "newarray=array+addarray\n",
    "print(newarray)"
   ]
  },
  {
   "cell_type": "code",
   "execution_count": null,
   "metadata": {},
   "outputs": [],
   "source": [
    "xar=np.arange(100000)\n",
    "xin=xar\n",
    "start = time.time()\n",
    "for i in range(0,10000):\n",
    "    xar=xar+xin\n",
    "end= time.time()\n",
    "print(end-start)\n",
    "\n",
    "start = time.time()\n",
    "for i in range(0,10000):\n",
    "    xar=xar+xin\n",
    "    if xar[2]>20:\n",
    "        re=3\n",
    "    if xar[1]<20:\n",
    "        ree=2\n",
    "end = time.time()\n",
    "print(end-start)\n"
   ]
  },
  {
   "cell_type": "code",
   "execution_count": null,
   "metadata": {},
   "outputs": [],
   "source": [
    "x=[30,40,50,60,70,80]\n",
    "x2=np.arange(x[0],x[-1],.1)\n",
    "#print(x2)\n",
    "y=[.61,.78,1.28,2.28,9.29,59.24]\n",
    "\n",
    "z = np.polyfit(x, y, 3)\n",
    "f = np.poly1d(z)\n",
    "\n",
    "print(f(150)/60)\n",
    "\n",
    "plt.plot(x,y)\n",
    "plt.plot(x2,f(x2))\n",
    "plt.show()"
   ]
  },
  {
   "cell_type": "code",
   "execution_count": null,
   "metadata": {},
   "outputs": [],
   "source": [
    "x=[40,60,80]\n",
    "x2=np.arange(x[0],x[-1],.1)\n",
    "#print(x2)\n",
    "y=[2.5,7.5,155.5]\n",
    "\n",
    "z = np.polyfit(x, y, 3)\n",
    "f = np.poly1d(z)\n",
    "\n",
    "print(f(150)/60)\n",
    "\n",
    "plt.plot(x,y)\n",
    "plt.plot(x2,f(x2))\n",
    "plt.show()"
   ]
  },
  {
   "cell_type": "code",
   "execution_count": null,
   "metadata": {},
   "outputs": [],
   "source": [
    "length=25\n",
    "\n",
    "for i in range(length+1):\n",
    "    sys.stdout.write('\\r')\n",
    "    #\n",
    "    sys.stdout.write(\"[%- s] %d%%\" % ('='*i,length/4*i))\n",
    "    sys.stdout.flush()\n",
    "    time.sleep(0.1)"
   ]
  },
  {
   "cell_type": "code",
   "execution_count": null,
   "metadata": {},
   "outputs": [],
   "source": [
    "length=100\n",
    "\n",
    "for i in tqdm.tqdm(range(length)):\n",
    "    time.sleep(.1)"
   ]
  },
  {
   "cell_type": "code",
   "execution_count": null,
   "metadata": {},
   "outputs": [],
   "source": [
    "length=1000\n",
    "\n",
    "pbar= tqdm.tqdm(total=length)\n",
    "i=1\n",
    "x=i\n",
    "while x < length:\n",
    "    dx=x/(2*i)\n",
    "    x=x+dx\n",
    "    pbar.update(dx)\n",
    "    i+=1\n",
    "pbar.close()\n",
    "print(x,i,dx)"
   ]
  },
  {
   "cell_type": "code",
   "execution_count": null,
   "metadata": {},
   "outputs": [],
   "source": [
    "M0=1.0\n",
    "Q=0.95\n",
    "Lambda=0.0\n",
    "\n",
    "ru0=1.7\n",
    "\n",
    "metricf=(1-2*M0/ru0+Q**2.0/ru0**2.0-Lambda*ru0**2.0/3)\n",
    "\n",
    "print(metricf)"
   ]
  },
  {
   "cell_type": "code",
   "execution_count": null,
   "metadata": {},
   "outputs": [],
   "source": [
    "np.empty(5)"
   ]
  },
  {
   "cell_type": "code",
   "execution_count": null,
   "metadata": {},
   "outputs": [],
   "source": [
    "from collections import defaultdict\n",
    "\n",
    "something = 'something'\n",
    "options = defaultdict(lambda: 0.0, {'this': 1, 'that': 2, 'there': 3})\n",
    "\n",
    "for i in arange(10000):\n",
    "    the_thing = options[something]\n",
    "  "
   ]
  },
  {
   "cell_type": "code",
   "execution_count": null,
   "metadata": {},
   "outputs": [],
   "source": [
    "the_thing"
   ]
  },
  {
   "cell_type": "code",
   "execution_count": null,
   "metadata": {},
   "outputs": [],
   "source": [
    "x=np.array([1.0,2.0,3.0,4.0,5.0,6.0,7.0])\n",
    "x<3.0\n",
    "x[x < 3]=np.nan\n",
    "\n",
    "print(x)"
   ]
  },
  {
   "cell_type": "code",
   "execution_count": null,
   "metadata": {},
   "outputs": [],
   "source": [
    "def func(x,a,b):\n",
    "    return a*x-b*np.log(x)\n",
    "def func2(x,a,b):\n",
    "    return np.exp(a*x)*x**b\n",
    "\n"
   ]
  },
  {
   "cell_type": "code",
   "execution_count": 48,
   "metadata": {},
   "outputs": [
    {
     "name": "stdout",
     "output_type": "stream",
     "text": [
      "[ 1.3  4.4  9.5 16.6 25.7 36.8 49.9 65.  82.1] [ 10.1        -18.13333333]\n"
     ]
    },
    {
     "data": {
      "image/png": "[encoded data removed]",
      "text/plain": [
       "<Figure size 432x288 with 1 Axes>"
      ]
     },
     "metadata": {
      "needs_background": "light"
     },
     "output_type": "display_data"
    }
   ],
   "source": [
    "def func(x,a,b):\n",
    "    return a*x+b\n",
    "\n",
    "x=np.arange(1,10)\n",
    "\n",
    "y=func(x,.1,.2)+x*x\n",
    "\n",
    "result,resulta=scipy.optimize.curve_fit(func,x,y)\n",
    "\n",
    "print(y,result)\n",
    "\n",
    "plt.plot(x,y,'--')\n",
    "plt.plot(x,func(x,result[0],result[1]))\n",
    "plt.show()"
   ]
  },
  {
   "cell_type": "code",
   "execution_count": 49,
   "metadata": {},
   "outputs": [
    {
     "name": "stderr",
     "output_type": "stream",
     "text": [
      "/home/brandon/.conda/envs/pycbc/lib/python3.6/site-packages/scipy/optimize/minpack.py:794: OptimizeWarning: Covariance of the parameters could not be estimated\n",
      "  category=OptimizeWarning)\n"
     ]
    },
    {
     "data": {
      "image/png": "[encoded data removed]",
      "text/plain": [
       "<Figure size 432x288 with 1 Axes>"
      ]
     },
     "metadata": {
      "needs_background": "light"
     },
     "output_type": "display_data"
    }
   ],
   "source": [
    "result=odeu.massparam(x,y)\n",
    "\n",
    "kappa=result[0]\n",
    "power=result[1]\n",
    "\n",
    "plt.plot(x,kappa*x-power*np.log(x))\n",
    "plt.show()"
   ]
  },
  {
   "cell_type": "code",
   "execution_count": 52,
   "metadata": {},
   "outputs": [
    {
     "name": "stdout",
     "output_type": "stream",
     "text": [
      "[3.  1.5]\n"
     ]
    },
    {
     "data": {
      "image/png": "[encoded data removed]",
      "text/plain": [
       "<Figure size 432x288 with 1 Axes>"
      ]
     },
     "metadata": {
      "needs_background": "light"
     },
     "output_type": "display_data"
    }
   ],
   "source": [
    "x=np.arange(1,10)\n",
    "y=3.0*np.log(x)+1.5\n",
    "\n",
    "result=odeu.drdvparam(x,y)\n",
    "\n",
    "print(result)\n",
    "\n",
    "power=result[0]\n",
    "const=result[1]\n",
    "\n",
    "plt.plot(x,power*np.log(x)+const)\n",
    "plt.show()"
   ]
  },
  {
   "cell_type": "code",
   "execution_count": 54,
   "metadata": {},
   "outputs": [],
   "source": [
    "a=np.array([1,2,3,4])\n",
    "a=0.0"
   ]
  },
  {
   "cell_type": "code",
   "execution_count": 55,
   "metadata": {},
   "outputs": [
    {
     "name": "stdout",
     "output_type": "stream",
     "text": [
      "0.0\n"
     ]
    }
   ],
   "source": [
    "print(a)"
   ]
  },
  {
   "cell_type": "code",
   "execution_count": null,
   "metadata": {},
   "outputs": [],
   "source": []
  }
 ],
 "metadata": {
  "kernelspec": {
   "display_name": "Python 3",
   "language": "python",
   "name": "python3"
  },
  "language_info": {
   "codemirror_mode": {
    "name": "ipython",
    "version": 3
   },
   "file_extension": ".py",
   "mimetype": "text/x-python",
   "name": "python",
   "nbconvert_exporter": "python",
   "pygments_lexer": "ipython3",
   "version": "3.6.6"
  }
 },
 "nbformat": 4,
 "nbformat_minor": 2
}
