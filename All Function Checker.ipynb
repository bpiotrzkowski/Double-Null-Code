{
 "cells": [
  {
   "cell_type": "code",
   "execution_count": 1,
   "metadata": {},
   "outputs": [],
   "source": [
    "###Python Packages###\n",
    "\n",
    "import numpy as np\n",
    "import matplotlib.pyplot as plt\n",
    "from matplotlib import rc\n",
    "from matplotlib.colors import LogNorm\n",
    "import math as mth\n",
    "import timeit\n",
    "from scipy import optimize\n",
    "from scipy import *\n",
    "import scipy\n",
    "from scipy import stats\n",
    "import tables\n",
    "import h5py\n",
    "\n",
    "#!jt -t onedork -cellw 90%"
   ]
  },
  {
   "cell_type": "code",
   "execution_count": 2,
   "metadata": {},
   "outputs": [],
   "source": [
    "uscal=500\n",
    "vscal=10\n",
    "extraterms=True"
   ]
  },
  {
   "cell_type": "code",
   "execution_count": 3,
   "metadata": {},
   "outputs": [],
   "source": [
    "rnputil=np.load('rnputil.npy')\n",
    "urange=np.load('urange.npy')[::uscal]\n",
    "vrange=np.load('vrange.npy')[::vscal]"
   ]
  },
  {
   "cell_type": "code",
   "execution_count": 4,
   "metadata": {},
   "outputs": [
    {
     "ename": "OSError",
     "evalue": "Unable to open file (file signature not found)",
     "output_type": "error",
     "traceback": [
      "\u001b[0;31m---------------------------------------------------------------------------\u001b[0m",
      "\u001b[0;31mOSError\u001b[0m                                   Traceback (most recent call last)",
      "\u001b[0;32m<ipython-input-4-0107e413267f>\u001b[0m in \u001b[0;36m<module>\u001b[0;34m()\u001b[0m\n\u001b[0;32m----> 1\u001b[0;31m \u001b[0;32mwith\u001b[0m \u001b[0mh5py\u001b[0m\u001b[0;34m.\u001b[0m\u001b[0mFile\u001b[0m\u001b[0;34m(\u001b[0m\u001b[0;34m'rnp.h5'\u001b[0m\u001b[0;34m,\u001b[0m\u001b[0;34m'r'\u001b[0m\u001b[0;34m)\u001b[0m \u001b[0;32mas\u001b[0m \u001b[0mf\u001b[0m\u001b[0;34m:\u001b[0m\u001b[0;34m\u001b[0m\u001b[0m\n\u001b[0m\u001b[1;32m      2\u001b[0m     \u001b[0mr_group_key\u001b[0m \u001b[0;34m=\u001b[0m \u001b[0mlist\u001b[0m\u001b[0;34m(\u001b[0m\u001b[0mf\u001b[0m\u001b[0;34m.\u001b[0m\u001b[0mkeys\u001b[0m\u001b[0;34m(\u001b[0m\u001b[0;34m)\u001b[0m\u001b[0;34m)\u001b[0m\u001b[0;34m[\u001b[0m\u001b[0;36m0\u001b[0m\u001b[0;34m]\u001b[0m\u001b[0;34m\u001b[0m\u001b[0m\n\u001b[1;32m      3\u001b[0m     \u001b[0mrnpi\u001b[0m\u001b[0;34m=\u001b[0m\u001b[0mf\u001b[0m\u001b[0;34m[\u001b[0m\u001b[0mr_group_key\u001b[0m\u001b[0;34m]\u001b[0m\u001b[0;34m\u001b[0m\u001b[0m\n\u001b[1;32m      4\u001b[0m     \u001b[0mrnp\u001b[0m \u001b[0;34m=\u001b[0m \u001b[0mnp\u001b[0m\u001b[0;34m.\u001b[0m\u001b[0masarray\u001b[0m\u001b[0;34m(\u001b[0m\u001b[0mrnpi\u001b[0m\u001b[0;34m[\u001b[0m\u001b[0;34m:\u001b[0m\u001b[0;34m:\u001b[0m\u001b[0muscal\u001b[0m\u001b[0;34m,\u001b[0m\u001b[0;34m:\u001b[0m\u001b[0;34m:\u001b[0m\u001b[0mvscal\u001b[0m\u001b[0;34m]\u001b[0m\u001b[0;34m,\u001b[0m\u001b[0mdtype\u001b[0m\u001b[0;34m=\u001b[0m\u001b[0mnp\u001b[0m\u001b[0;34m.\u001b[0m\u001b[0mfloat_\u001b[0m\u001b[0;34m)\u001b[0m\u001b[0;34m\u001b[0m\u001b[0m\n\u001b[1;32m      5\u001b[0m \u001b[0;32mwith\u001b[0m \u001b[0mh5py\u001b[0m\u001b[0;34m.\u001b[0m\u001b[0mFile\u001b[0m\u001b[0;34m(\u001b[0m\u001b[0;34m'signp.h5'\u001b[0m\u001b[0;34m,\u001b[0m\u001b[0;34m'r'\u001b[0m\u001b[0;34m)\u001b[0m \u001b[0;32mas\u001b[0m \u001b[0mf\u001b[0m\u001b[0;34m:\u001b[0m\u001b[0;34m\u001b[0m\u001b[0m\n",
      "\u001b[0;32m~/.conda/envs/pycbc/lib/python3.6/site-packages/h5py/_hl/files.py\u001b[0m in \u001b[0;36m__init__\u001b[0;34m(self, name, mode, driver, libver, userblock_size, swmr, **kwds)\u001b[0m\n\u001b[1;32m    310\u001b[0m             \u001b[0;32mwith\u001b[0m \u001b[0mphil\u001b[0m\u001b[0;34m:\u001b[0m\u001b[0;34m\u001b[0m\u001b[0m\n\u001b[1;32m    311\u001b[0m                 \u001b[0mfapl\u001b[0m \u001b[0;34m=\u001b[0m \u001b[0mmake_fapl\u001b[0m\u001b[0;34m(\u001b[0m\u001b[0mdriver\u001b[0m\u001b[0;34m,\u001b[0m \u001b[0mlibver\u001b[0m\u001b[0;34m,\u001b[0m \u001b[0;34m**\u001b[0m\u001b[0mkwds\u001b[0m\u001b[0;34m)\u001b[0m\u001b[0;34m\u001b[0m\u001b[0m\n\u001b[0;32m--> 312\u001b[0;31m                 \u001b[0mfid\u001b[0m \u001b[0;34m=\u001b[0m \u001b[0mmake_fid\u001b[0m\u001b[0;34m(\u001b[0m\u001b[0mname\u001b[0m\u001b[0;34m,\u001b[0m \u001b[0mmode\u001b[0m\u001b[0;34m,\u001b[0m \u001b[0muserblock_size\u001b[0m\u001b[0;34m,\u001b[0m \u001b[0mfapl\u001b[0m\u001b[0;34m,\u001b[0m \u001b[0mswmr\u001b[0m\u001b[0;34m=\u001b[0m\u001b[0mswmr\u001b[0m\u001b[0;34m)\u001b[0m\u001b[0;34m\u001b[0m\u001b[0m\n\u001b[0m\u001b[1;32m    313\u001b[0m \u001b[0;34m\u001b[0m\u001b[0m\n\u001b[1;32m    314\u001b[0m                 \u001b[0;32mif\u001b[0m \u001b[0mswmr_support\u001b[0m\u001b[0;34m:\u001b[0m\u001b[0;34m\u001b[0m\u001b[0m\n",
      "\u001b[0;32m~/.conda/envs/pycbc/lib/python3.6/site-packages/h5py/_hl/files.py\u001b[0m in \u001b[0;36mmake_fid\u001b[0;34m(name, mode, userblock_size, fapl, fcpl, swmr)\u001b[0m\n\u001b[1;32m    140\u001b[0m         \u001b[0;32mif\u001b[0m \u001b[0mswmr\u001b[0m \u001b[0;32mand\u001b[0m \u001b[0mswmr_support\u001b[0m\u001b[0;34m:\u001b[0m\u001b[0;34m\u001b[0m\u001b[0m\n\u001b[1;32m    141\u001b[0m             \u001b[0mflags\u001b[0m \u001b[0;34m|=\u001b[0m \u001b[0mh5f\u001b[0m\u001b[0;34m.\u001b[0m\u001b[0mACC_SWMR_READ\u001b[0m\u001b[0;34m\u001b[0m\u001b[0m\n\u001b[0;32m--> 142\u001b[0;31m         \u001b[0mfid\u001b[0m \u001b[0;34m=\u001b[0m \u001b[0mh5f\u001b[0m\u001b[0;34m.\u001b[0m\u001b[0mopen\u001b[0m\u001b[0;34m(\u001b[0m\u001b[0mname\u001b[0m\u001b[0;34m,\u001b[0m \u001b[0mflags\u001b[0m\u001b[0;34m,\u001b[0m \u001b[0mfapl\u001b[0m\u001b[0;34m=\u001b[0m\u001b[0mfapl\u001b[0m\u001b[0;34m)\u001b[0m\u001b[0;34m\u001b[0m\u001b[0m\n\u001b[0m\u001b[1;32m    143\u001b[0m     \u001b[0;32melif\u001b[0m \u001b[0mmode\u001b[0m \u001b[0;34m==\u001b[0m \u001b[0;34m'r+'\u001b[0m\u001b[0;34m:\u001b[0m\u001b[0;34m\u001b[0m\u001b[0m\n\u001b[1;32m    144\u001b[0m         \u001b[0mfid\u001b[0m \u001b[0;34m=\u001b[0m \u001b[0mh5f\u001b[0m\u001b[0;34m.\u001b[0m\u001b[0mopen\u001b[0m\u001b[0;34m(\u001b[0m\u001b[0mname\u001b[0m\u001b[0;34m,\u001b[0m \u001b[0mh5f\u001b[0m\u001b[0;34m.\u001b[0m\u001b[0mACC_RDWR\u001b[0m\u001b[0;34m,\u001b[0m \u001b[0mfapl\u001b[0m\u001b[0;34m=\u001b[0m\u001b[0mfapl\u001b[0m\u001b[0;34m)\u001b[0m\u001b[0;34m\u001b[0m\u001b[0m\n",
      "\u001b[0;32mh5py/_objects.pyx\u001b[0m in \u001b[0;36mh5py._objects.with_phil.wrapper\u001b[0;34m()\u001b[0m\n",
      "\u001b[0;32mh5py/_objects.pyx\u001b[0m in \u001b[0;36mh5py._objects.with_phil.wrapper\u001b[0;34m()\u001b[0m\n",
      "\u001b[0;32mh5py/h5f.pyx\u001b[0m in \u001b[0;36mh5py.h5f.open\u001b[0;34m()\u001b[0m\n",
      "\u001b[0;31mOSError\u001b[0m: Unable to open file (file signature not found)"
     ]
    }
   ],
   "source": [
    "with h5py.File('rnp.h5','r') as f:\n",
    "    r_group_key = list(f.keys())[0]\n",
    "    rnpi=f[r_group_key]\n",
    "    rnp = np.asarray(rnpi[::uscal,::vscal],dtype=np.float_)    \n",
    "with h5py.File('signp.h5','r') as f:\n",
    "    sig_group_key = list(f.keys())[0]\n",
    "    signpi=f[sig_group_key]\n",
    "    signp = np.asarray(signpi[::uscal,::vscal],dtype=np.float_)\n",
    "with h5py.File('phinp.h5','r') as f:\n",
    "    phi_group_key = list(f.keys())[0]\n",
    "    phinpi=f[phi_group_key]\n",
    "    phinp = np.asarray(phinpi[::uscal,::vscal],dtype=np.float_)\n",
    "with h5py.File('massnp.h5','r') as f:\n",
    "    mass_group_key = list(f.keys())[0]\n",
    "    massnpi=f[mass_group_key]\n",
    "    massnp = np.asarray(massnpi[::uscal,::vscal])\n",
    "    \n",
    "    \n",
    "if extraterms==True:\n",
    "    with h5py.File('drnpu.h5','r') as f:\n",
    "        dru_group_key = list(f.keys())[0]\n",
    "        drnpui=f[dru_group_key]\n",
    "        drnpu = np.asarray(drnpui[::uscal,::vscal],dtype=np.float_)\n",
    "    with h5py.File('drnpv.h5','r') as f:\n",
    "        drv_group_key = list(f.keys())[0]\n",
    "        drnpvi=f[drv_group_key]\n",
    "        drnpv = np.asarray(drnpvi[::uscal,::vscal],dtype=np.float_)\n",
    "        \n",
    "    with h5py.File('dsignpu.h5','r') as f:\n",
    "        dsigu_group_key = list(f.keys())[0]\n",
    "        dsignpui=f[dsigu_group_key]\n",
    "        dsignpu = np.asarray(dsignpui[::uscal,::vscal],dtype=np.float_)\n",
    "    with h5py.File('dsignpv.h5','r') as f:\n",
    "        dsigv_group_key = list(f.keys())[0]\n",
    "        dsignpvi=f[dsigv_group_key]\n",
    "        dsignpv = np.asarray(dsignpvi[::uscal,::vscal],dtype=np.float_)\n",
    "        \n",
    "    with h5py.File('dphinpu.h5','r') as f:\n",
    "        dphiu_group_key = list(f.keys())[0]\n",
    "        dphinpui=f[dphiu_group_key]\n",
    "        dphinpu = np.asarray(dphinpui[::uscal,::vscal],dtype=np.float_)\n",
    "    with h5py.File('dphinpv.h5','r') as f:\n",
    "        dphiv_group_key = list(f.keys())[0]\n",
    "        dphinpvi=f[dphiv_group_key]\n",
    "        dphinpv = np.asarray(dphinpvi[::uscal,::vscal],dtype=np.float_)\n",
    "    \n",
    "    \n",
    "\n",
    "print(str(rnp.nbytes)+\" bytes\")\n",
    "\n",
    "print(rnp)\n",
    "\n",
    "switchax=rnputil[9]\n",
    "print(switchax)\n",
    "if switchax==True:\n",
    "    rnp=np.swapaxes(rnp,0,1)\n",
    "    signp=np.swapaxes(signp,0,1)\n",
    "    #phinp=np.swapaxes(phinp,0,1)\n",
    "    #massnp=np.swapaxes(massnp,0,1)\n",
    "    print(\"Switched Axes\")\n",
    "\n",
    "#print(massnp[1])\n",
    "print(rnp[:,4])"
   ]
  },
  {
   "cell_type": "code",
   "execution_count": null,
   "metadata": {},
   "outputs": [],
   "source": [
    "print(rnputil)\n",
    "\n",
    "M=massnp[0,-1]\n",
    "\n",
    "N=int(rnputil[0])\n",
    "Nu=len(urange)#int(rnputil[1])\n",
    "Nv=len(vrange)#int(rnputil[2])\n",
    "ru0=float(rnputil[3])\n",
    "dr0v=float(rnputil[4])\n",
    "M0=float(rnputil[5])\n",
    "Q=float(rnputil[6])\n",
    "Lambda=float(rnputil[7])\n",
    "umax=np.nanmax(urange)\n",
    "vmax=np.nanmax(vrange)\n",
    "\n",
    "print('N='+str(N))\n",
    "\n",
    "if M0>0.0:\n",
    "    du0=M0/N\n",
    "    dv0=du0\n",
    "else:\n",
    "    du0=1/N\n",
    "    dv0=du0\n",
    "    \n",
    "#M=nan.max(massnp)\n",
    "\n",
    "def fr(r,M,Q,Lambda):\n",
    "    return 1-2*M/r+Q**2.0/r**2.0-Lambda*r**2.0/3.0\n",
    "\n",
    "sol = optimize.root(fr,[0.5,1.3,50.0],args=(M,Q,Lambda), method='hybr',tol=.0000001)\n",
    "rminus=sol.x[0]\n",
    "rplus=sol.x[1]\n",
    "rcosm=sol.x[2]\n",
    "print('---')\n",
    "print(M,Q,Lambda)\n",
    "print('---')\n",
    "print(rminus,rplus,rcosm)\n"
   ]
  },
  {
   "cell_type": "code",
   "execution_count": null,
   "metadata": {},
   "outputs": [],
   "source": [
    "def kappa(fr,r,M,Q,Lambda):\n",
    "    return 0.5*np.abs(scipy.misc.derivative(fr,r,dx=.00000001,n=1,args=(M,Q,Lambda)))\n",
    "#def kappa2(dfr,r,M,Q,Lambda):\n",
    "    #return optimize.root(dfr,[0.01,1.5,50.0],args=(M,Q,Lambda),tol=10**(-10), method='hybr')\n",
    "\n",
    "kappaplus=kappa(fr,rplus,M,Q,Lambda)\n",
    "kappaminus=kappa(fr,rminus,M,Q,Lambda)\n",
    "kappacosm=kappa(fr,rcosm,M,Q,Lambda)\n",
    "print('k+: '+str(kappaplus),'k-: '+str(kappaminus),'kc: '+str(kappacosm))\n",
    "###double-check for Lambda=0\n",
    "###kappaminus\n",
    "#print(np.abs((M*rminus-Q**2)/rminus**3.0))\n",
    "#print(0.5*np.abs(dfr(rminus,M,Q,Lambda)))\n",
    "###\n",
    "\n",
    "#print(kappaplus-kappacosm)\n"
   ]
  },
  {
   "cell_type": "code",
   "execution_count": null,
   "metadata": {},
   "outputs": [],
   "source": [
    "uval=500\n",
    "print(Nu)"
   ]
  },
  {
   "cell_type": "code",
   "execution_count": null,
   "metadata": {},
   "outputs": [],
   "source": [
    "plt.plot(vrange,rnp[uval])\n",
    "plt.plot([min(vrange),max(vrange)],[rminus,rminus],'--')\n",
    "plt.plot([min(vrange),max(vrange)],[rplus,rplus],'--')\n",
    "plt.plot([min(vrange),max(vrange)],[rcosm,rcosm],'--')\n",
    "#plt.ylim(rcosm-.0000001,rcosm+.0000001)\n",
    "plt.show()"
   ]
  },
  {
   "cell_type": "code",
   "execution_count": null,
   "metadata": {},
   "outputs": [],
   "source": [
    "plt.plot(vrange,np.abs(dsignpv[uval]))\n",
    "plt.plot(vrange,np.abs(dsignpu[uval]))\n",
    "plt.plot([min(vrange),max(vrange)],[kappaminus,kappaminus],'--',label=r'$\\kappa_{-}$')\n",
    "#plt.plot([min(vrange),max(vrange)],[kappaminus-kappacosm,kappaminus-kappacosm],'--',label=r'$\\kappa_{-}-\\kappa_{c}$')\n",
    "#plt.plot([min(vrange),max(vrange)],[kappaminus-kappaplus,kappaminus-kappaplus],'--',label=r'$\\kappa_{-}-\\kappa_{+}$')\n",
    "plt.plot([min(vrange),max(vrange)],[kappaplus,kappaplus],'--',label=r'$\\kappa_{+}$')\n",
    "plt.plot([min(vrange),max(vrange)],[kappacosm,kappacosm],'--',label=r'$\\kappa_{c}$')\n",
    "#plt.plot([min(vrange),max(vrange)],[kappaplus-kappacosm,kappaplus-kappacosm],'--',label=r'$\\kappa_{c}$')\n",
    "plt.yscale('log')\n",
    "#plt.ylim(-.11,-.09)\n",
    "plt.ylim()\n",
    "plt.legend(loc='best')\n",
    "plt.grid()\n",
    "plt.show()"
   ]
  },
  {
   "cell_type": "code",
   "execution_count": null,
   "metadata": {},
   "outputs": [],
   "source": [
    "plt.plot(vrange,signp[uval])\n",
    "plt.show()\n",
    "print(Nu,Nv)\n",
    "vrange2=vrange*dr0v/0.5/np.abs(1-2*massnp[0][0]/rnp[0][0]+Q**2/rnp[0][0]**2-Lambda*(rnp[0][0])**2.0/3.0)\n",
    "v1=300\n",
    "v2=800\n",
    "print(np.polyfit(vrange2[v1:v2],signp[uval][v1:v2],1.0))\n",
    "plt.plot(vrange2[v1:v2],signp[uval][v1:v2])\n",
    "plt.show()\n",
    "\n",
    "print(np.abs(dsignpv[uval][int((v1+v2)/2)]))\n"
   ]
  },
  {
   "cell_type": "code",
   "execution_count": null,
   "metadata": {},
   "outputs": [],
   "source": [
    "plt.plot(vrange2,np.abs(drnpu[uval]))\n",
    "plt.plot(vrange2,drnpv[uval])\n",
    "plt.plot(vrange2,np.abs(drnpv[uval]),'--')\n",
    "plt.yscale('log')\n",
    "plt.show()"
   ]
  },
  {
   "cell_type": "code",
   "execution_count": null,
   "metadata": {},
   "outputs": [],
   "source": [
    "plt.plot(vrange,np.abs(phinp[uval]))\n",
    "plt.plot(vrange,np.abs(dphinpv[uval]))\n",
    "plt.plot(vrange,np.abs(dphinpu[uval]))\n",
    "#plt.plot(vrange,dphinpv[0])\n",
    "plt.yscale('log')\n",
    "plt.show()"
   ]
  },
  {
   "cell_type": "code",
   "execution_count": null,
   "metadata": {},
   "outputs": [],
   "source": [
    "plt.plot(vrange,np.abs(massnp[uval]))\n",
    "#plt.ylim(massnp[uval,-1]-.00000000001,massnp[uval,-1]+.00000000001)\n",
    "plt.yscale('log')\n",
    "plt.show()\n",
    "\n",
    "v1=700\n",
    "v2=800\n",
    "print(np.polyfit(vrange2[v1:v2],np.log(np.abs(massnp[uval][v1:v2])),1.0))\n",
    "plt.plot(vrange2[v1:v2],np.log(np.abs(massnp[uval][v1:v2])))\n",
    "plt.show()"
   ]
  },
  {
   "cell_type": "code",
   "execution_count": null,
   "metadata": {},
   "outputs": [],
   "source": [
    "for i in range(int(Nu/10)):\n",
    "    i2=10*i\n",
    "    plt.plot(vrange,np.log(np.abs(np.exp(-signp[i2])*drnpv[i2])))\n",
    "plt.show()\n"
   ]
  },
  {
   "cell_type": "code",
   "execution_count": null,
   "metadata": {},
   "outputs": [],
   "source": [
    "uval2=-1\n",
    "v1=400\n",
    "v2=600\n",
    "print(np.polyfit(vrange2[v1:v2],np.log(np.abs(np.exp(-signp[uval2][v1:v2])*drnpv[uval2][v1:v2])),1.0))\n",
    "plt.plot(vrange2[v1:v2],np.log(np.abs(np.exp(-signp[uval2][v1:v2])*drnpv[uval2][v1:v2])))\n",
    "plt.show()"
   ]
  },
  {
   "cell_type": "code",
   "execution_count": null,
   "metadata": {},
   "outputs": [],
   "source": [
    "print(massnp[0,-1])"
   ]
  },
  {
   "cell_type": "code",
   "execution_count": null,
   "metadata": {
    "scrolled": false
   },
   "outputs": [],
   "source": [
    "rnp2=rnp[0,-100]+10**(-15)*np.random.random(Nv)\n",
    "\n",
    "dsignpv3=2*((massnp[0,-100]*rnp2-Q**2-1/3*Lambda*rnp2**4)/(rnp2**3-2*massnp[0,-100]*rnp2**2+Q**2*rnp2-Lambda/3*rnp2**5))*drnpv[0]\n",
    "plt.plot(vrange,dsignpv3)\n",
    "#plt.ylim(-1,1)\n",
    "plt.show()\n",
    "#print(dsignpv2)"
   ]
  },
  {
   "cell_type": "code",
   "execution_count": null,
   "metadata": {},
   "outputs": [],
   "source": [
    "dsignpv2=2*((massnp[0,0]*rnp[0]-Q**2-1/3*Lambda*rnp[0]**4)/(rnp[0]**3-2*massnp[0,0]*rnp[0]**2+Q**2*rnp[0]-Lambda/3*rnp[0]**5))*drnpv[0]\n",
    "plt.plot(vrange,dsignpv2)\n",
    "plt.show()\n",
    "print(dsignpv2)"
   ]
  },
  {
   "cell_type": "code",
   "execution_count": null,
   "metadata": {},
   "outputs": [],
   "source": [
    "massnp2=massnp[0,-1]+10**(-19)*np.random.random(Nv)\n",
    "\n",
    "dsignpv2=2*((massnp2*rnp[0,-1]-Q**2-1/3*Lambda*rnp[0,-1]**4)/(rnp[0,-1]**3-2*massnp2*rnp[0,-1]**2+Q**2*rnp[0,-1]-Lambda/3*rnp[0,-1]**5))*drnpv[0]\n",
    "plt.plot(vrange,dsignpv2)\n",
    "#plt.ylim(-.12,-.09)\n",
    "plt.show()\n",
    "print(dsignpv2)"
   ]
  },
  {
   "cell_type": "code",
   "execution_count": null,
   "metadata": {},
   "outputs": [],
   "source": [
    "Rfunc=-drnpv[uval]*drnpu[uval]/rnp[uval]-np.exp(signp[uval])/(4.0*rnp[uval])*(1.0-np.power((Q/rnp[uval]),2.0)-Lambda*np.power(rnp[uval],2.0))"
   ]
  },
  {
   "cell_type": "code",
   "execution_count": null,
   "metadata": {},
   "outputs": [],
   "source": [
    "plt.plot(vrange2,Rfunc)\n",
    "plt.plot(vrange2,np.abs(Rfunc),'--')\n",
    "plt.yscale('log')\n",
    "plt.show()"
   ]
  },
  {
   "cell_type": "code",
   "execution_count": null,
   "metadata": {},
   "outputs": [],
   "source": [
    "r2=1.56\n",
    "print(1-Q**2.0/r2**2.0-Lambda*r2**2.0)"
   ]
  },
  {
   "cell_type": "code",
   "execution_count": null,
   "metadata": {},
   "outputs": [],
   "source": [
    "print(urange)"
   ]
  },
  {
   "cell_type": "code",
   "execution_count": null,
   "metadata": {},
   "outputs": [],
   "source": []
  }
 ],
 "metadata": {
  "kernelspec": {
   "display_name": "Python 3",
   "language": "python",
   "name": "python3"
  },
  "language_info": {
   "codemirror_mode": {
    "name": "ipython",
    "version": 3
   },
   "file_extension": ".py",
   "mimetype": "text/x-python",
   "name": "python",
   "nbconvert_exporter": "python",
   "pygments_lexer": "ipython3",
   "version": "3.6.6"
  }
 },
 "nbformat": 4,
 "nbformat_minor": 2
}
