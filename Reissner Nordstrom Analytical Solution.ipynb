{
 "cells": [
  {
   "cell_type": "code",
   "execution_count": 1,
   "metadata": {
    "collapsed": true
   },
   "outputs": [],
   "source": [
    "import numpy as np\n",
    "import matplotlib.pyplot as plt\n",
    "from matplotlib import rc\n",
    "from matplotlib.colors import LogNorm\n",
    "import math as mth\n",
    "import timeit\n",
    "import Boundary_Functions as bf\n",
    "\n",
    "from mpmath import *\n",
    "from pynverse import inversefunc\n",
    "from scipy.special import gamma as gamma\n",
    "from scipy.special import gammaincc as gamma3\n",
    "from mpmath import gammainc as gamma2\n",
    "\n",
    "#import warnings\n",
    "#warnings.filterwarnings(\"ignore\")\n"
   ]
  },
  {
   "cell_type": "code",
   "execution_count": 2,
   "metadata": {
    "collapsed": true
   },
   "outputs": [],
   "source": [
    "M0=1.0\n",
    "Q=0.95\n",
    "ru0=5.0\n",
    "dr0v=0.4\n",
    "\n",
    "N=20\n",
    "umax=13\n",
    "vmax=200\n",
    "du0=M0/N\n",
    "dv0=du0\n",
    "\n",
    "Nu=int(N*umax)\n",
    "Nv=int(N*vmax)\n",
    "\n",
    "rplus=M0+(M0**2-Q**2)**(0.5)\n",
    "rminus=M0-(M0**2-Q**2)**(0.5)"
   ]
  },
  {
   "cell_type": "code",
   "execution_count": 3,
   "metadata": {},
   "outputs": [
    {
     "name": "stdout",
     "output_type": "stream",
     "text": [
      "0.1376515120410069\n",
      "1.8592264486151873\n",
      "-0.3975625\n"
     ]
    }
   ],
   "source": [
    "print(bf.rbounrninv(5.1,M0,Q,ru0,dr0v*bf.esigrn(M0,Q,ru0)))\n",
    "print(bf.esigrn(M0,Q,ru0))\n",
    "print(bf.dr2rn(M0,Q,dr0v,ru0))"
   ]
  },
  {
   "cell_type": "code",
   "execution_count": 4,
   "metadata": {},
   "outputs": [
    {
     "name": "stdout",
     "output_type": "stream",
     "text": [
      "1.8592264486151873\n",
      "[ 5.          4.98012188  4.96024375  4.94036563  4.9204875   4.90060938\n",
      "  4.88073125  4.86085313  4.840975    4.82109688  4.80121875  4.78134063\n",
      "  4.7614625   4.74158438  4.72170625  4.70182813  4.68195     4.66207187\n",
      "  4.64219375  4.62231562  4.6024375   4.58255937  4.56268125  4.54280312\n",
      "  4.522925    4.50304687  4.48316875  4.46329062  4.4434125   4.42353438\n",
      "  4.40365625  4.38377813  4.3639      4.34402188  4.32414375  4.30426563\n",
      "  4.2843875   4.26450938  4.24463125  4.22475313  4.204875    4.18499687\n",
      "  4.16511875  4.14524062  4.1253625   4.10548437  4.08560625  4.06572812\n",
      "  4.04585     4.02597187  4.00609375  3.98621562  3.9663375   3.94645937\n",
      "  3.92658125  3.90670312  3.886825    3.86694688  3.84706875  3.82719063\n",
      "  3.8073125   3.78743438  3.76755625  3.74767813  3.7278      3.70792188\n",
      "  3.68804375  3.66816563  3.6482875   3.62840937  3.60853125  3.58865312\n",
      "  3.568775    3.54889687  3.52901875  3.50914063  3.4892625   3.46938437\n",
      "  3.44950625  3.42962812  3.40975     3.38987187  3.36999375  3.35011562\n",
      "  3.3302375   3.31035937  3.29048125  3.27060313  3.250725    3.23084688\n",
      "  3.21096875  3.19109063  3.1712125   3.15133438  3.13145625  3.11157813\n",
      "  3.0917      3.07182187  3.05194375  3.03206562  3.0121875   2.99230937\n",
      "  2.97243125  2.95255313  2.932675    2.91279688  2.89291875  2.87304062\n",
      "  2.8531625   2.83328437  2.81340625  2.79352812  2.77365     2.75377187\n",
      "  2.73389375  2.71401563  2.6941375   2.67425937  2.65438125  2.63450313\n",
      "  2.614625    2.59474687  2.57486875  2.55499062  2.5351125   2.51523437\n",
      "  2.49535625  2.47547812  2.4556      2.43572188  2.41584375  2.39596562\n",
      "  2.3760875   2.35620938  2.33633125  2.31645313  2.296575    2.27669687\n",
      "  2.25681875  2.23694062  2.2170625   2.19718437  2.17730625  2.15742813\n",
      "  2.13755     2.11767188  2.09779375  2.07791562  2.0580375   2.03815938\n",
      "  2.01828125  1.99840312  1.978525    1.95864687  1.93876875  1.91889062\n",
      "  1.8990125   1.87913438  1.85925625  1.83937813  1.8195      1.79962187\n",
      "  1.77974375  1.75986562  1.7399875   1.72010938  1.70023125  1.68035313\n",
      "  1.660475    1.64059687  1.62071875  1.60084063  1.5809625   1.56108438\n",
      "  1.54120625  1.52132813  1.50145     1.48157188  1.46169375  1.44181562\n",
      "  1.4219375   1.40205937  1.38218125  1.36230312  1.342425    1.32254688\n",
      "  1.30266875  1.28279063  1.2629125   1.24303437  1.22315625  1.20327812\n",
      "  1.1834      1.16352187  1.14364375  1.12376563  1.1038875   1.08400937\n",
      "  1.06413125  1.04425312  1.024375    1.00449688  0.98461875  0.96474063\n",
      "  0.9448625   0.92498438  0.90510625  0.88522812  0.86535     0.84547187\n",
      "  0.82559375  0.80571562  0.7858375   0.76595938  0.74608125  0.72620313\n",
      "  0.706325    0.68644687  0.66656875  0.64669062  0.6268125   0.60693437\n",
      "  0.58705625  0.56717812  0.5473      0.52742187  0.50754375  0.48766562\n",
      "  0.4677875   0.44790938  0.42803125  0.40815313  0.388275    0.36839688\n",
      "  0.34851875  0.32864063  0.3087625   0.28888437  0.26900625  0.24912812\n",
      "  0.22925     0.20937187  0.18949375  0.16961562  0.1497375   0.12985938\n",
      "  0.10998125  0.09010312  0.070225    0.05034687  0.03046875  0.01059062\n",
      " -0.0092875  -0.02916563 -0.04904375 -0.06892188 -0.0888     -0.10867812\n",
      " -0.12855625 -0.14843437]\n"
     ]
    },
    {
     "data": {
      "image/png": "[encoded data removed]",
      "text/plain": [
       "<matplotlib.figure.Figure at 0x19a4b710a58>"
      ]
     },
     "metadata": {},
     "output_type": "display_data"
    },
    {
     "data": {
      "image/png": "[encoded data removed]",
      "text/plain": [
       "<matplotlib.figure.Figure at 0x19a4b537160>"
      ]
     },
     "metadata": {},
     "output_type": "display_data"
    },
    {
     "name": "stdout",
     "output_type": "stream",
     "text": [
      "[ 0.          0.02676843  0.05328936  0.07956496  0.10559739  0.13138877\n",
      "  0.15694123  0.18225686  0.20733774  0.23218594  0.2568035   0.28119246\n",
      "  0.30535483  0.32929261  0.35300777  0.37650229  0.39977811  0.42283716\n",
      "  0.44568136  0.46831261  0.49073279  0.51294378  0.53494743  0.55674558\n",
      "  0.57834005  0.59973265  0.62092518  0.64191941  0.66271712  0.68332004\n",
      "  0.70372992  0.72394848  0.74397743  0.76381846  0.78347325  0.80294347\n",
      "  0.82223078  0.8413368   0.86026317  0.8790115   0.89758339  0.91598042\n",
      "  0.93420418  0.95225622  0.97013809  0.98785133  1.00539746  1.02277799\n",
      "  1.03999442  1.05704824  1.07394093  1.09067394  1.10724874  1.12366675\n",
      "  1.13992941  1.15603814  1.17199433  1.1877994   1.20345471  1.21896165\n",
      "  1.23432157  1.24953582  1.26460575  1.27953269  1.29431795  1.30896284\n",
      "  1.32346867  1.33783672  1.35206828  1.3661646   1.38012695  1.39395658\n",
      "  1.40765473  1.42122263  1.4346615   1.44797255  1.46115699  1.47421601\n",
      "  1.48715079  1.4999625   1.51265233  1.52522142  1.53767092  1.55000199\n",
      "  1.56221574  1.5743133   1.5862958   1.59816435  1.60992003  1.62156395\n",
      "  1.63309719  1.64452084  1.65583595  1.66704361  1.67814485  1.68914074\n",
      "  1.70003231  1.7108206   1.72150665  1.73209146  1.74257607  1.75296147\n",
      "  1.76324868  1.77343869  1.78353249  1.79353107  1.80343541  1.81324649\n",
      "  1.82296527  1.83259272  1.8421298   1.85157747  1.86093667  1.87020835\n",
      "  1.87939346  1.88849292  1.89750768  1.90643867  1.9152868   1.924053\n",
      "  1.9327382   1.94134331  1.94986924  1.9583169   1.96668721  1.97498107\n",
      "  1.98319939  1.99134307  1.99941301  2.00741013  2.01533531  2.02318946\n",
      "  2.03097349  2.03868829  2.04633478  2.05391384  2.0614264   2.06887336\n",
      "  2.07625563  2.08357412  2.09082976  2.09802347  2.10515618  2.11222881\n",
      "  2.11924232  2.12619763  2.13309572  2.13993754  2.14672407  2.15345628\n",
      "  2.16013518  2.16676177  2.17333707  2.17986211  2.18633795  2.19276566\n",
      "  2.19914633  2.20548106  2.21177099  2.21801728  2.22422112  2.23038371\n",
      "  2.23650631  2.2425902   2.24863669  2.25464716  2.26062301  2.2665657\n",
      "  2.27247673  2.27835769  2.28421019  2.29003597  2.29583679  2.30161453\n",
      "  2.30737116  2.31310874  2.31882946  2.32453564  2.33022973  2.33591435\n",
      "  2.34159227  2.34726648  2.3529402   2.35861686  2.36430019  2.36999425\n",
      "  2.37570342  2.38143253  2.38718682  2.39297212  2.39879485  2.40466213\n",
      "  2.41058194  2.41656323  2.42261609  2.42875198  2.43498402  2.44132728\n",
      "  2.44779926  2.4544204   2.46121483  2.4682113   2.47544446  2.48295658\n",
      "  2.49079998  2.49904048  2.50776239  2.51707614  2.52713016  2.5381302\n",
      "  2.55037273  2.56430608  2.58065275  2.60068264  2.62692995  2.66561054\n",
      "  2.73982681  2.8804294   2.61463361  2.57916734  2.56213002  2.55179683\n",
      "  2.54481481  2.5397931   2.5360326   2.53313707  2.53086253  2.52904935\n",
      "  2.52758806  2.52640083  2.5254306   2.52463452  2.52397973  2.52344057\n",
      "  2.52299675  2.52263193  2.52233288  2.52208874  2.52189053  2.52173074\n",
      "  2.52160309  2.52150227  2.52142375  2.52136367  2.52131874  2.52128611\n",
      "  2.52126331  2.52124821  2.52123896  2.52123396  2.52123179  2.52123122\n",
      "  2.52123118  2.52123073  2.52122903  2.52122538  2.52121912  2.52120971\n",
      "  2.52119666  2.52117954]\n"
     ]
    }
   ],
   "source": [
    "rlistu=ru0+bf.dr2rn(M0,Q,dr0v,ru0)*np.arange(0,umax,du0)\n",
    "rlistv=ru0+dr0v*np.arange(0,vmax,dv0)\n",
    "\n",
    "print(bf.esigrn(M0,Q,ru0))\n",
    "print(rlistu)\n",
    "\n",
    "ulist=np.empty((Nu))\n",
    "vlist=np.empty((Nv))\n",
    "\n",
    "for i in range(0,Nu):\n",
    "    ulist[i]=bf.rbounrninv(float(rlistu[i]),M0,Q,ru0,bf.dr2rn(M0,Q,dr0v,ru0)*(bf.esigrn(M0,Q,rlistv[0]))**(1))\n",
    "\n",
    "for j in range(0,Nv):\n",
    "    vlist[j]=bf.rbounrninv(float(rlistv[j]),M0,Q,ru0,dr0v*(bf.esigrn(M0,Q,rlistv[0]))**(1))\n",
    "\n",
    "plt.plot(ulist)#,rlistu)\n",
    "plt.xlabel('u')\n",
    "plt.ylabel('r')\n",
    "#plt.xlim(0,1)\n",
    "plt.ylim(0,5)\n",
    "plt.grid()\n",
    "plt.show()    \n",
    "    \n",
    "plt.plot(vlist)#,rlistv)\n",
    "plt.xlabel('v')\n",
    "plt.ylabel('r')\n",
    "#plt.xlim(0,1)\n",
    "#plt.ylim(4,5)\n",
    "plt.grid()\n",
    "plt.show()\n",
    "\n",
    "print(ulist)"
   ]
  },
  {
   "cell_type": "code",
   "execution_count": 5,
   "metadata": {},
   "outputs": [
    {
     "data": {
      "text/plain": [
       "0.0"
      ]
     },
     "execution_count": 5,
     "metadata": {},
     "output_type": "execute_result"
    }
   ],
   "source": [
    "bf.rbounrninv(ru0,M0,Q,ru0,bf.dr2rn(M0,Q,dr0v,ru0)*(bf.esigrn(M0,Q,rlistv[0]))**(0))"
   ]
  },
  {
   "cell_type": "code",
   "execution_count": null,
   "metadata": {
    "collapsed": true
   },
   "outputs": [],
   "source": []
  },
  {
   "cell_type": "code",
   "execution_count": null,
   "metadata": {
    "collapsed": true
   },
   "outputs": [],
   "source": []
  },
  {
   "cell_type": "markdown",
   "metadata": {},
   "source": [
    "#ulist=np.arange(0,10,.1)\n",
    "\n",
    "rlist=np.zeros((Nu,Nv))*np.nan\n",
    "\n",
    "#rbounrnu= inversefunc(bf.rbounrninv,args=(M0,Q,ru0,bf.drrn(M0,Q,dr0v,ru0)),domain=[0,6],open_domain=[False,False],image=[0,100])\n",
    "#rbounrnv= inversefunc(bf.rbounrninv,args=(M0,Q,ru0,dr0v),domain=[0,20],open_domain=[False,False],image=[0,1000])\n",
    "\n",
    "for i in range(0,Nu):\n",
    "    \n",
    "    rlist[i][0]=bf.rrn(M0,Q,ru0,dr0v,ulist,vlist,i)\n",
    "    print(rlist[i][0])\n",
    "    \n",
    "for j in range(0,Nv):\n",
    "    \n",
    "    rlist[0][j]=bf.rrn(M0,Q,ru0,dr0v,ulist,vlist,0)\n",
    "\n",
    "plt.plot(ulist,rlist[:,0])\n",
    "plt.show()"
   ]
  },
  {
   "cell_type": "code",
   "execution_count": null,
   "metadata": {
    "collapsed": true
   },
   "outputs": [],
   "source": []
  },
  {
   "cell_type": "code",
   "execution_count": 6,
   "metadata": {
    "scrolled": true
   },
   "outputs": [
    {
     "name": "stderr",
     "output_type": "stream",
     "text": [
      "C:\\ProgramData\\Anaconda3\\lib\\site-packages\\scipy\\integrate\\odepack.py:218: ODEintWarning: Illegal input detected (internal error). Run with full_output = 1 to get quantitative information.\n",
      "  warnings.warn(warning_msg, ODEintWarning)\n",
      "C:\\Users\\Brandon Piotrzkowski\\OneDrive\\Research\\Summer 2017 Research\\py codes\\notebooks\\Boundary_Functions.py:144: RuntimeWarning: invalid value encountered in power\n",
      "  return 1/r**2*dr0*mth.exp(2*kplus*(ru0-r))*(r-rminus)**(1+kplus/kminus)*(ru0-rminus)**(-1-kplus/kminus)*ru0**2#*mth.exp(sig)\n",
      "C:\\ProgramData\\Anaconda3\\lib\\site-packages\\scipy\\integrate\\odepack.py:218: ODEintWarning: Excess accuracy requested (tolerances too small). Run with full_output = 1 to get quantitative information.\n",
      "  warnings.warn(warning_msg, ODEintWarning)\n"
     ]
    }
   ],
   "source": [
    "rlist=np.zeros((Nu,Nv))*np.nan\n",
    "\n",
    "for i in range(0,Nu):\n",
    "    #for j in range(0,Nv):\n",
    "    rlist[i]=bf.rrn(M0,Q,ru0,dr0v,0.0,ulist,vlist,i).reshape(Nv)"
   ]
  },
  {
   "cell_type": "code",
   "execution_count": 21,
   "metadata": {
    "scrolled": false
   },
   "outputs": [
    {
     "data": {
      "image/png": "[encoded data removed]",
      "text/plain": [
       "<matplotlib.figure.Figure at 0x19a4e1af470>"
      ]
     },
     "metadata": {},
     "output_type": "display_data"
    }
   ],
   "source": [
    "levels=[.683,.685,.69,1.0,5.0,10.0,15.0,20.0,25.0,30.0]\n",
    "\n",
    "plot1=plt.imshow(rlist,cmap=plt.cm.cool,extent=(0,vmax,0,umax),aspect='auto',origin='lower',vmax=50)\n",
    "plot4=plt.contour(rlist, levels,linewidths=0.5,colors='black',extent=(0,vmax,0,umax),aspect='auto',origin='lower')\n",
    "plot5=plt.contour(rlist, [rminus],linewidths=0.6,colors='blue',extent=(0,vmax,0,umax),aspect='auto',origin='lower')\n",
    "plot6=plt.contour(rlist, [rplus],linewidths=0.6,colors='red',extent=(0,vmax,0,umax),aspect='auto',origin='lower')\n",
    "plt.clabel(plot4, levels,  \n",
    "           inline=0, inline_spacing=0, \n",
    "           fmt='%1.2f',rightside_up=True,\n",
    "           fontsize=8)\n",
    "#sample3=plt.plot(vrange[-1],drdvnplist)\n",
    "#sample3=plt.plot(vrange,dsigdvnplist)\n",
    "plt.xlabel('v')\n",
    "plt.ylabel('u')\n",
    "plt.xlim(0,50)\n",
    "plt.ylim(0,10.8)\n",
    "plt.colorbar(plot1)\n",
    "plt.title('Radius vs (u,v) Coordinates')\n",
    "#plt.savefig('Test1-2.png',dpi=300)\n",
    "plt.show()"
   ]
  },
  {
   "cell_type": "code",
   "execution_count": 8,
   "metadata": {},
   "outputs": [
    {
     "name": "stdout",
     "output_type": "stream",
     "text": [
      "[  0.     0.05   0.1    0.15   0.2    0.25   0.3    0.35   0.4    0.45\n",
      "   0.5    0.55   0.6    0.65   0.7    0.75   0.8    0.85   0.9    0.95   1.\n",
      "   1.05   1.1    1.15   1.2    1.25   1.3    1.35   1.4    1.45   1.5\n",
      "   1.55   1.6    1.65   1.7    1.75   1.8    1.85   1.9    1.95   2.     2.05\n",
      "   2.1    2.15   2.2    2.25   2.3    2.35   2.4    2.45   2.5    2.55\n",
      "   2.6    2.65   2.7    2.75   2.8    2.85   2.9    2.95   3.     3.05\n",
      "   3.1    3.15   3.2    3.25   3.3    3.35   3.4    3.45   3.5    3.55\n",
      "   3.6    3.65   3.7    3.75   3.8    3.85   3.9    3.95   4.     4.05\n",
      "   4.1    4.15   4.2    4.25   4.3    4.35   4.4    4.45   4.5    4.55\n",
      "   4.6    4.65   4.7    4.75   4.8    4.85   4.9    4.95   5.     5.05\n",
      "   5.1    5.15   5.2    5.25   5.3    5.35   5.4    5.45   5.5    5.55\n",
      "   5.6    5.65   5.7    5.75   5.8    5.85   5.9    5.95   6.     6.05\n",
      "   6.1    6.15   6.2    6.25   6.3    6.35   6.4    6.45   6.5    6.55\n",
      "   6.6    6.65   6.7    6.75   6.8    6.85   6.9    6.95   7.     7.05\n",
      "   7.1    7.15   7.2    7.25   7.3    7.35   7.4    7.45   7.5    7.55\n",
      "   7.6    7.65   7.7    7.75   7.8    7.85   7.9    7.95   8.     8.05\n",
      "   8.1    8.15   8.2    8.25   8.3    8.35   8.4    8.45   8.5    8.55\n",
      "   8.6    8.65   8.7    8.75   8.8    8.85   8.9    8.95   9.     9.05\n",
      "   9.1    9.15   9.2    9.25   9.3    9.35   9.4    9.45   9.5    9.55\n",
      "   9.6    9.65   9.7    9.75   9.8    9.85   9.9    9.95  10.    10.05\n",
      "  10.1   10.15  10.2   10.25  10.3   10.35  10.4   10.45  10.5   10.55\n",
      "  10.6   10.65  10.7   10.75  10.8   10.85  10.9   10.95  11.    11.05\n",
      "  11.1   11.15  11.2   11.25  11.3   11.35  11.4   11.45  11.5   11.55\n",
      "  11.6   11.65  11.7   11.75  11.8   11.85  11.9   11.95  12.    12.05\n",
      "  12.1   12.15  12.2   12.25  12.3   12.35  12.4   12.45  12.5   12.55\n",
      "  12.6   12.65  12.7   12.75  12.8   12.85  12.9   12.95]\n"
     ]
    }
   ],
   "source": [
    "urange0=np.zeros((Nu))\n",
    "vrange0=np.zeros((Nv))\n",
    "\n",
    "dt=du0\n",
    "for i in range(0,Nu-1):\n",
    "    #r=rlist[i][0]\n",
    "    #esig=32*M0**(3.0)/r*mth.exp(-r/(2*M0))\n",
    "    try:\n",
    "        urange0[i+1]=urange0[i]+dt\n",
    "    except OverflowError:\n",
    "        urange0[i+1]=np.nan\n",
    "for j in range(0,Nv-1):\n",
    "    #r=rlist[0][j]\n",
    "    #esig=32*M0**3/r*mth.exp(-r/(2*M0))\n",
    "    try:\n",
    "        vrange0[j+1]=vrange0[j]+dt\n",
    "    except OverflowError:\n",
    "        vrange0[j+1]=np.nan\n",
    "    \n",
    "    \n",
    "print(urange0)"
   ]
  },
  {
   "cell_type": "code",
   "execution_count": 9,
   "metadata": {},
   "outputs": [
    {
     "data": {
      "image/png": "[encoded data removed]",
      "text/plain": [
       "<matplotlib.figure.Figure at 0x19a4e7bd9e8>"
      ]
     },
     "metadata": {},
     "output_type": "display_data"
    },
    {
     "data": {
      "image/png": "[encoded data removed]",
      "text/plain": [
       "<matplotlib.figure.Figure at 0x19a4e7bd898>"
      ]
     },
     "metadata": {},
     "output_type": "display_data"
    }
   ],
   "source": [
    "plt.plot(urange0,rlist[:,0])\n",
    "plt.xlabel('u')\n",
    "plt.ylabel('r')\n",
    "\n",
    "plt.grid()\n",
    "plt.show()\n",
    "\n",
    "plt.plot(vrange0,rlist[0,:])\n",
    "plt.xlabel('v')\n",
    "plt.ylabel('r')\n",
    "plt.grid()\n",
    "plt.show()"
   ]
  },
  {
   "cell_type": "code",
   "execution_count": 10,
   "metadata": {
    "collapsed": true
   },
   "outputs": [],
   "source": [
    "#for i in range(0,Nu):\n",
    "    #print(rlist[i,0])\n",
    "    \n",
    "#for j in range(0,Nv):\n",
    "    #print(rlist[0,j])"
   ]
  },
  {
   "cell_type": "code",
   "execution_count": 11,
   "metadata": {},
   "outputs": [
    {
     "name": "stdout",
     "output_type": "stream",
     "text": [
      "[[  5.           5.02000002   5.04000003 ...,  84.94000148  84.96000151\n",
      "   84.98000153]\n",
      " [  4.98012186   5.00008091   5.02004023 ...,  84.90945212  84.92945197\n",
      "   84.94945182]\n",
      " [  4.96024369   4.98016147   5.00007982 ...,  84.87883975  84.89883943\n",
      "   84.91883911]\n",
      " ..., \n",
      " [  2.52120971   2.53219724   2.54323164 ...,  80.15202854  80.17200005\n",
      "   80.19197157]\n",
      " [  2.52119666   2.53218411   2.54321843 ...,  80.15199204  80.17196355\n",
      "   80.19193508]\n",
      " [  2.52117954   2.53216688   2.54320109 ...,  80.15194417  80.17191568\n",
      "   80.19188721]]\n"
     ]
    }
   ],
   "source": [
    "print(rlist[:,:])"
   ]
  },
  {
   "cell_type": "code",
   "execution_count": 12,
   "metadata": {},
   "outputs": [
    {
     "name": "stdout",
     "output_type": "stream",
     "text": [
      "-0.397562794813\n",
      "-0.39756233042\n",
      "0.400000410349\n",
      "0.40000024098\n"
     ]
    }
   ],
   "source": [
    "\n",
    "\n",
    "#print(rlist[:,0])\n",
    "print((rlist[1,0]-rlist[0,0])/(urange0[1]-urange0[0]))\n",
    "der1=(rlist[11,0]-rlist[10,0])/(urange0[11]-urange0[10])\n",
    "print(der1)\n",
    "\n",
    "#print(rlist[0,:])\n",
    "print((rlist[0,1]-rlist[0,0])/(vrange0[1]-vrange0[0]))\n",
    "der2=(rlist[0,11]-rlist[0,10])/(vrange0[11]-vrange0[10])\n",
    "print(der2)"
   ]
  },
  {
   "cell_type": "code",
   "execution_count": 13,
   "metadata": {},
   "outputs": [
    {
     "name": "stdout",
     "output_type": "stream",
     "text": [
      "nan\n",
      "nan\n",
      "5.32404526451e-05\n"
     ]
    }
   ],
   "source": [
    "s=-.10\n",
    "x=7.5\n",
    "\n",
    "\n",
    "#print(gamma2(s,0,x))\n",
    "print(gamma(s)*(gamma3(s,x)))\n",
    "print(((s-1)*gamma3(s-1,x)*gamma(s-1)-x**(s-1)*mth.exp(-x)))\n",
    "print((gamma3(s+1,x)*gamma(s+1)-(x)**(s)*mth.exp(-x))/s)"
   ]
  },
  {
   "cell_type": "code",
   "execution_count": 14,
   "metadata": {},
   "outputs": [
    {
     "name": "stdout",
     "output_type": "stream",
     "text": [
      "0.4\n"
     ]
    }
   ],
   "source": [
    "print(bf.drrn(M0,Q,bf.drrn(M0,Q,dr0v,100),100))"
   ]
  },
  {
   "cell_type": "code",
   "execution_count": null,
   "metadata": {
    "collapsed": true
   },
   "outputs": [],
   "source": []
  },
  {
   "cell_type": "code",
   "execution_count": 15,
   "metadata": {},
   "outputs": [
    {
     "name": "stdout",
     "output_type": "stream",
     "text": [
      "0.0\n"
     ]
    }
   ],
   "source": [
    "print(bf.rbounrninv(float(rlist[0][0]),M0,Q,ru0,dr0v))"
   ]
  },
  {
   "cell_type": "code",
   "execution_count": 16,
   "metadata": {},
   "outputs": [
    {
     "data": {
      "image/png": "[encoded data removed]",
      "text/plain": [
       "<matplotlib.figure.Figure at 0x19a4fb7cf98>"
      ]
     },
     "metadata": {},
     "output_type": "display_data"
    }
   ],
   "source": [
    "#plt.plot(ulist2,abs(ulist-ulist2)/ulist)\n",
    "plt.plot(urange0,abs(rlist[:,0]-rlistu)/rlistu)\n",
    "plt.ylim(10**(-9),1.3*10**(-5))\n",
    "#plt.xlim(0,N*11)\n",
    "plt.title('Numerical Error of Diff Eq Solver')\n",
    "plt.yscale('log')\n",
    "plt.ylabel('Error (%)')\n",
    "plt.xlabel('u')\n",
    "plt.grid()\n",
    "plt.savefig('Diffeq-error.png',dpi=300)\n",
    "plt.show()\n",
    "#print(ulist-ulist2)"
   ]
  },
  {
   "cell_type": "code",
   "execution_count": 17,
   "metadata": {},
   "outputs": [
    {
     "data": {
      "image/png": "[encoded data removed]",
      "text/plain": [
       "<matplotlib.figure.Figure at 0x19a4faa54a8>"
      ]
     },
     "metadata": {},
     "output_type": "display_data"
    }
   ],
   "source": [
    "#plt.plot(ulist2,abs(ulist-ulist2)/ulist)\n",
    "plt.plot(vrange0,abs(rlist[0,:]-rlistv)/rlistv)\n",
    "plt.ylim(10**(-9),1.3*10**(-5))\n",
    "#plt.xlim(0,N*11)\n",
    "plt.title('Numerical Error of Diff Eq Solver')\n",
    "plt.yscale('log')\n",
    "plt.ylabel('Error (%)')\n",
    "plt.xlabel('v')\n",
    "plt.grid()\n",
    "#plt.savefig('Test1-2.png',dpi=300)\n",
    "plt.show()\n",
    "#print(rlist-ulist2)"
   ]
  },
  {
   "cell_type": "code",
   "execution_count": 18,
   "metadata": {},
   "outputs": [
    {
     "name": "stdout",
     "output_type": "stream",
     "text": [
      "[[  5.           5.02000002   5.04000003 ...,  84.94000148  84.96000151\n",
      "   84.98000153]\n",
      " [  4.98012186   5.00008091   5.02004023 ...,  84.90945212  84.92945197\n",
      "   84.94945182]\n",
      " [  4.96024369   4.98016147   5.00007982 ...,  84.87883975  84.89883943\n",
      "   84.91883911]\n",
      " ..., \n",
      " [  2.52120971   2.53219724   2.54323164 ...,  80.15202854  80.17200005\n",
      "   80.19197157]\n",
      " [  2.52119666   2.53218411   2.54321843 ...,  80.15199204  80.17196355\n",
      "   80.19193508]\n",
      " [  2.52117954   2.53216688   2.54320109 ...,  80.15194417  80.17191568\n",
      "   80.19188721]]\n"
     ]
    }
   ],
   "source": [
    "print(rlist)"
   ]
  },
  {
   "cell_type": "code",
   "execution_count": 19,
   "metadata": {},
   "outputs": [
    {
     "ename": "TypeError",
     "evalue": "rrn() missing 1 required positional argument: 'i'",
     "output_type": "error",
     "traceback": [
      "\u001b[1;31m---------------------------------------------------------------------------\u001b[0m",
      "\u001b[1;31mTypeError\u001b[0m                                 Traceback (most recent call last)",
      "\u001b[1;32m<ipython-input-19-fc04a6ba3e20>\u001b[0m in \u001b[0;36m<module>\u001b[1;34m()\u001b[0m\n\u001b[0;32m      9\u001b[0m     \u001b[0mvlist2\u001b[0m\u001b[1;33m[\u001b[0m\u001b[0mj\u001b[0m\u001b[1;33m]\u001b[0m\u001b[1;33m=\u001b[0m\u001b[0mbf\u001b[0m\u001b[1;33m.\u001b[0m\u001b[0mrbounrninv\u001b[0m\u001b[1;33m(\u001b[0m\u001b[0mfloat\u001b[0m\u001b[1;33m(\u001b[0m\u001b[0mrlistv3\u001b[0m\u001b[1;33m[\u001b[0m\u001b[0mj\u001b[0m\u001b[1;33m]\u001b[0m\u001b[1;33m)\u001b[0m\u001b[1;33m,\u001b[0m\u001b[0mM0\u001b[0m\u001b[1;33m,\u001b[0m\u001b[0mQ\u001b[0m\u001b[1;33m,\u001b[0m\u001b[0mru0\u001b[0m\u001b[1;33m,\u001b[0m\u001b[0mdr0v\u001b[0m\u001b[1;33m*\u001b[0m\u001b[1;33m(\u001b[0m\u001b[0mbf\u001b[0m\u001b[1;33m.\u001b[0m\u001b[0mesigrn\u001b[0m\u001b[1;33m(\u001b[0m\u001b[0mM0\u001b[0m\u001b[1;33m,\u001b[0m\u001b[0mQ\u001b[0m\u001b[1;33m,\u001b[0m\u001b[0mrlistv\u001b[0m\u001b[1;33m[\u001b[0m\u001b[1;36m0\u001b[0m\u001b[1;33m]\u001b[0m\u001b[1;33m)\u001b[0m\u001b[1;33m)\u001b[0m\u001b[1;33m**\u001b[0m\u001b[1;33m(\u001b[0m\u001b[1;36m1\u001b[0m\u001b[1;33m)\u001b[0m\u001b[1;33m)\u001b[0m\u001b[1;33m\u001b[0m\u001b[0m\n\u001b[0;32m     10\u001b[0m \u001b[1;33m\u001b[0m\u001b[0m\n\u001b[1;32m---> 11\u001b[1;33m \u001b[0mrlistv3\u001b[0m\u001b[1;33m=\u001b[0m\u001b[0mbf\u001b[0m\u001b[1;33m.\u001b[0m\u001b[0mrrn\u001b[0m\u001b[1;33m(\u001b[0m\u001b[0mM0\u001b[0m\u001b[1;33m,\u001b[0m\u001b[0mQ\u001b[0m\u001b[1;33m,\u001b[0m\u001b[0mru0\u001b[0m\u001b[1;33m,\u001b[0m\u001b[0mdr0v\u001b[0m\u001b[1;33m,\u001b[0m\u001b[0mulist\u001b[0m\u001b[1;33m,\u001b[0m\u001b[0mvlist2\u001b[0m\u001b[1;33m,\u001b[0m\u001b[0muplac\u001b[0m\u001b[1;33m)\u001b[0m\u001b[1;33m.\u001b[0m\u001b[0mreshape\u001b[0m\u001b[1;33m(\u001b[0m\u001b[0mNv\u001b[0m\u001b[1;33m*\u001b[0m\u001b[0mscal\u001b[0m\u001b[1;33m)\u001b[0m\u001b[1;33m\u001b[0m\u001b[0m\n\u001b[0m\u001b[0;32m     12\u001b[0m \u001b[1;33m\u001b[0m\u001b[0m\n\u001b[0;32m     13\u001b[0m \u001b[1;33m\u001b[0m\u001b[0m\n",
      "\u001b[1;31mTypeError\u001b[0m: rrn() missing 1 required positional argument: 'i'"
     ]
    }
   ],
   "source": [
    "scal=2\n",
    "uplac=int(9/11*Nu+5)\n",
    "\n",
    "\n",
    "rlistv3=ru0+dr0v*np.arange(0,vmax*scal,dv0/scal)\n",
    "vlist2=np.empty((Nv*scal))\n",
    "\n",
    "for j in range(0,Nv*scal):\n",
    "    vlist2[j]=bf.rbounrninv(float(rlistv3[j]),M0,Q,ru0,dr0v*(bf.esigrn(M0,Q,rlistv[0]))**(1))\n",
    "\n",
    "rlistv3=bf.rrn(M0,Q,ru0,dr0v,ulist,vlist2,uplac).reshape(Nv*scal)\n",
    "\n",
    "\n"
   ]
  },
  {
   "cell_type": "code",
   "execution_count": null,
   "metadata": {
    "collapsed": true
   },
   "outputs": [],
   "source": [
    "rlistv3f=rlistv3[::scal]\n",
    "\n",
    "\n",
    "plt.plot(vrange0,abs(rlist[uplac,:]-rlistv3f)/rlistv3f)\n",
    "plt.show()\n",
    "\n",
    "\n",
    "\n",
    "print(rlist[int(9/10*Nu),:]-rlistv3f)\n",
    "#print(rlistv3f[:7000])"
   ]
  },
  {
   "cell_type": "code",
   "execution_count": null,
   "metadata": {
    "collapsed": true
   },
   "outputs": [],
   "source": [
    "plt.plot(vrange0,rlist[uplac,:])\n",
    "plt.show()\n",
    "\n",
    "plt.plot(vrange0,rlistv3f)\n",
    "plt.show()"
   ]
  },
  {
   "cell_type": "code",
   "execution_count": null,
   "metadata": {
    "collapsed": true
   },
   "outputs": [],
   "source": [
    "#for j in range(0,Nv):\n",
    "    #print(rlistv3[2*j]-rlistv3f[j])\n",
    "    "
   ]
  },
  {
   "cell_type": "code",
   "execution_count": null,
   "metadata": {
    "collapsed": true
   },
   "outputs": [],
   "source": []
  }
 ],
 "metadata": {
  "kernelspec": {
   "display_name": "Python 3",
   "language": "python",
   "name": "python3"
  },
  "language_info": {
   "codemirror_mode": {
    "name": "ipython",
    "version": 3
   },
   "file_extension": ".py",
   "mimetype": "text/x-python",
   "name": "python",
   "nbconvert_exporter": "python",
   "pygments_lexer": "ipython3",
   "version": "3.6.1"
  }
 },
 "nbformat": 4,
 "nbformat_minor": 2
}
