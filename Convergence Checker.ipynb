{
 "cells": [
  {
   "cell_type": "code",
   "execution_count": 1,
   "metadata": {},
   "outputs": [],
   "source": [
    "###Python Packages###\n",
    "\n",
    "import numpy as np\n",
    "import matplotlib.pyplot as plt\n",
    "from matplotlib import rc\n",
    "from matplotlib.colors import LogNorm\n",
    "import math as mth\n",
    "from matplotlib.colors import LogNorm\n",
    "\n",
    "import timeit\n",
    "#import Double_Null_utils as dnu\n",
    "from scipy import optimize\n",
    "import tables\n",
    "import h5py\n",
    "\n",
    "\n",
    "\n",
    "#import warnings\n",
    "#warnings.filterwarnings(\"ignore\")\n",
    "\n",
    "start = timeit.default_timer()"
   ]
  },
  {
   "cell_type": "markdown",
   "metadata": {},
   "source": [
    "### This code checks the 2nd-order convergence of functions.\n",
    "Currently is only able for check r, sigma, and phi and not for the derivatives. Also it requires 4 sets of arrays, all assumed to be double the resolution (half the step-size) of the last (e.g. N=10,20,40,80)"
   ]
  },
  {
   "cell_type": "code",
   "execution_count": 2,
   "metadata": {},
   "outputs": [],
   "source": [
    "uscal=1\n",
    "vscal=1"
   ]
  },
  {
   "cell_type": "markdown",
   "metadata": {},
   "source": [
    "uscal and vscal reduce arrays by their value in order to prevent memory overflow. Use when h5 files are very large (i.e. >2gB)"
   ]
  },
  {
   "cell_type": "code",
   "execution_count": 3,
   "metadata": {},
   "outputs": [
    {
     "name": "stdout",
     "output_type": "stream",
     "text": [
      "True\n"
     ]
    }
   ],
   "source": [
    "rnputil=np.load('rnputil.npy')\n",
    "wHD=rnputil[8]\n",
    "print(wHD)\n",
    "\n",
    "if wHD==True or wHD==1.0 or wHD=='True':\n",
    "    urange=np.load('urange.npy')[::uscal]\n",
    "    vrange=np.load('vrange.npy')[::vscal]\n",
    "if wHD==False or wHD==0.0 or wHD==None or wHD=='False':\n",
    "    urange=np.load('urange.npy')\n",
    "    vrange=np.load('vrange.npy')\n"
   ]
  },
  {
   "cell_type": "code",
   "execution_count": 124,
   "metadata": {},
   "outputs": [
    {
     "name": "stdout",
     "output_type": "stream",
     "text": [
      "24 100\n",
      "23 200\n",
      "23 100\n",
      "23 400\n",
      "23 100\n",
      "23 800\n",
      "23 100\n",
      "18400 bytes\n",
      "Hd5 files used\n",
      "------\n",
      "23 23 23 23\n",
      "100 100 100 100\n",
      "23 100\n"
     ]
    }
   ],
   "source": [
    "Elist=[]\n",
    "\n",
    "funcchoice='r' ###can choose 'r', 'sig, 'phi'\n",
    "\n",
    "#if funcchoice=='r':\n",
    "if wHD==True or wHD==1.0 or wHD=='True':\n",
    "    if funcchoice=='r':\n",
    "        with h5py.File('rnp.h5','r') as f:\n",
    "            r_group_key = list(f.keys())[0]\n",
    "            rnpi=f[r_group_key]\n",
    "            rnp = np.asarray(rnpi[::uscal,::vscal])\n",
    "    if funcchoice=='sig':\n",
    "        with h5py.File('signp.h5','r') as f:\n",
    "            r_group_key = list(f.keys())[0]\n",
    "            rnpi=f[r_group_key]\n",
    "            rnp = np.asarray(rnpi[::uscal,::vscal])      \n",
    "    if funcchoice=='phi':\n",
    "        with h5py.File('phinp.h5','r') as f:\n",
    "            r_group_key = list(f.keys())[0]\n",
    "            rnpi=f[r_group_key]\n",
    "            rnp = np.asarray(rnpi[::uscal,::vscal])   \n",
    "    print(len(rnp),len(rnp[1,:]))\n",
    "    rnp=rnp[:-1]\n",
    "    Elist.append(1)\n",
    "    try:\n",
    "        if funcchoice=='r':\n",
    "            with h5py.File('rnp2.h5','r') as f:\n",
    "                r_group_key = list(f.keys())[0]\n",
    "                rnpi=f[r_group_key]\n",
    "                rnp2 = np.asarray(rnpi[::uscal,::vscal])\n",
    "        if funcchoice=='sig':\n",
    "            with h5py.File('signp2.h5','r') as f:\n",
    "                r_group_key = list(f.keys())[0]\n",
    "                rnpi=f[r_group_key]\n",
    "                rnp2 = np.asarray(rnpi[::uscal,::vscal])      \n",
    "        if funcchoice=='phi':\n",
    "            with h5py.File('phinp2.h5','r') as f:\n",
    "                r_group_key = list(f.keys())[0]\n",
    "                rnpi=f[r_group_key]\n",
    "                rnp2 = np.asarray(rnpi[::uscal,::vscal])   \n",
    "        print(len(rnp),len(rnp2[1,:]))\n",
    "        kval=int(len(rnp2)/len(rnp))\n",
    "        Elist.append(kval)\n",
    "        rnp2= np.asarray(rnp2[::kval,::kval])\n",
    "        rnp2=rnp2[:-1]\n",
    "        print(len(rnp2),len(rnp2[1,:]))\n",
    "    except:\n",
    "        pass\n",
    "    try:\n",
    "        if funcchoice=='r':\n",
    "            with h5py.File('rnp3.h5','r') as f:\n",
    "                r_group_key = list(f.keys())[0]\n",
    "                rnpi=f[r_group_key]\n",
    "                rnp3 = np.asarray(rnpi[::uscal,::vscal])\n",
    "        if funcchoice=='sig':\n",
    "            with h5py.File('signp3.h5','r') as f:\n",
    "                r_group_key = list(f.keys())[0]\n",
    "                rnpi=f[r_group_key]\n",
    "                rnp3 = np.asarray(rnpi[::uscal,::vscal])      \n",
    "        if funcchoice=='phi':\n",
    "            with h5py.File('phinp3.h5','r') as f:\n",
    "                r_group_key = list(f.keys())[0]\n",
    "                rnpi=f[r_group_key]\n",
    "                rnp3 = np.asarray(rnpi[::uscal,::vscal])   \n",
    "        print(len(rnp),len(rnp3[1,:]))\n",
    "        kval=int(len(rnp3)/len(rnp))\n",
    "        Elist.append(kval)\n",
    "        rnp3= np.asarray(rnp3[::kval,::kval])\n",
    "        rnp3=rnp3[:-1]\n",
    "        print(len(rnp3),len(rnp3[1,:]))\n",
    "    except:\n",
    "        pass\n",
    "    try:\n",
    "        if funcchoice=='r':\n",
    "            with h5py.File('rnp4.h5','r') as f:\n",
    "                r_group_key = list(f.keys())[0]\n",
    "                rnpi=f[r_group_key]\n",
    "                rnp4 = np.asarray(rnpi[::uscal,::vscal])\n",
    "        if funcchoice=='sig':\n",
    "            with h5py.File('signp4.h5','r') as f:\n",
    "                r_group_key = list(f.keys())[0]\n",
    "                rnpi=f[r_group_key]\n",
    "                rnp4 = np.asarray(rnpi[::uscal,::vscal])      \n",
    "        if funcchoice=='phi':\n",
    "            with h5py.File('phinp4.h5','r') as f:\n",
    "                r_group_key = list(f.keys())[0]\n",
    "                rnpi=f[r_group_key]\n",
    "                rnp4 = np.asarray(rnpi[::uscal,::vscal])   \n",
    "        print(len(rnp),len(rnp4[1,:]))\n",
    "        kval=int(len(rnp4)/len(rnp))\n",
    "        Elist.append(kval)\n",
    "        rnp4= np.asarray(rnp4[::kval,::kval])\n",
    "        #rnp4=rnp4[:-1]\n",
    "        rnp4=rnp4[:-1]\n",
    "        print(len(rnp4),len(rnp4[1,:]))\n",
    "    except:\n",
    "        pass\n",
    "    \n",
    "\n",
    "    print(str(rnp.nbytes)+\" bytes\")\n",
    "    print(\"Hd5 files used\")\n",
    "\n",
    "if wHD==False or wHD==0.0 or wHD==None or wHD=='False':\n",
    "    rnp=np.load('rnp.npy')\n",
    "    rnp2=np.load('rnp2.npy')\n",
    "    rnp3=np.load('rnp3.npy')\n",
    "    rnp4=np.load('rnp4.npy')\n",
    "    \n",
    "    \n",
    "    print(\"Numpy arrays used\")\n",
    "\n",
    "switchax=float(rnputil[9])\n",
    "if switchax==True:\n",
    "    rnp=np.swapaxes(rnp,0,1)\n",
    "    rnp2=np.swapaxes(rnp2,0,1)\n",
    "    rnp3=np.swapaxes(rnp3,0,1)\n",
    "    rnp4=np.swapaxes(rnp4,0,1)\n",
    "\n",
    "print('------')\n",
    "print(len(rnp),len(rnp2),len(rnp3),len(rnp4))    \n",
    "print(len(rnp[1,:]),len(rnp2[1,:]),len(rnp3[1,:]),len(rnp4[1,:])) \n",
    "urange=np.insert(urange,0,0.0)\n",
    "    \n",
    "if len(rnp)==len(urange):\n",
    "    pass\n",
    "else:\n",
    "    print(len(rnp),len(urange),len(vrange))\n",
    "    kval=int(len(urange)/len(rnp))\n",
    "    print(kval)\n",
    "    urange=urange[::kval]\n",
    "    vrange=vrange[::kval]\n",
    "#urange=urange[:-1]\n",
    "   \n",
    "print(len(urange),len(vrange))\n"
   ]
  },
  {
   "cell_type": "code",
   "execution_count": 125,
   "metadata": {},
   "outputs": [
    {
     "name": "stdout",
     "output_type": "stream",
     "text": [
      "['152800' '191' '800' '5' '0.31805' '1.0' '0.95' '0.0' 'True' '0.0' 'edd']\n",
      "2300 points\n",
      "Runtime: about 0.00 minutes\n",
      "23 100\n"
     ]
    }
   ],
   "source": [
    "print(rnputil)\n",
    "\n",
    "N=int(rnputil[0])\n",
    "Nu=len(urange)#int(rnputil[1])\n",
    "Nv=len(vrange)#int(rnputil[2])\n",
    "ru0=float(rnputil[3])\n",
    "dr0v=float(rnputil[4])\n",
    "M0=float(rnputil[5])\n",
    "Q=float(rnputil[6])\n",
    "Lambda=float(rnputil[7])\n",
    "umax=np.nanmax(urange)\n",
    "vmax=np.nanmax(vrange)\n",
    "\n",
    "\n",
    "dv0=vrange[1]-vrange[0]\n",
    "\n",
    "def fr(r,M0,Q,Lambda):\n",
    "    return 1-2*M0/r+Q**2.0/r**2.0-Lambda*r**2.0/3.0\n",
    "\n",
    "sol = optimize.root(fr,[0.687,1.3,50.0],args=(M0,Q,Lambda), method='hybr')\n",
    "rminus=sol.x[0]\n",
    "rplus=sol.x[1]\n",
    "rcosm=sol.x[2]\n",
    "\n",
    "print(Nu,Nv)"
   ]
  },
  {
   "cell_type": "code",
   "execution_count": 126,
   "metadata": {},
   "outputs": [
    {
     "name": "stdout",
     "output_type": "stream",
     "text": [
      "[1, 2, 4, 8]\n"
     ]
    }
   ],
   "source": [
    "print(Elist)"
   ]
  },
  {
   "cell_type": "code",
   "execution_count": 128,
   "metadata": {},
   "outputs": [
    {
     "name": "stdout",
     "output_type": "stream",
     "text": [
      "[0.   0.   0.05 0.47 0.89 1.31 1.73 2.15 2.57 2.99 3.41 3.83 4.25 4.67\n",
      " 5.09 5.51 5.93 6.35 6.77 7.19 7.61 8.03 8.45]\n"
     ]
    }
   ],
   "source": [
    "diff21=np.abs((rnp2-rnp))#/rnp2)\n",
    "diff32=np.abs((rnp3-rnp2))#/rnp3)\n",
    "diff43=np.abs((rnp4-rnp3))#/rnp4)\n",
    "print(urange)"
   ]
  },
  {
   "cell_type": "code",
   "execution_count": 132,
   "metadata": {},
   "outputs": [
    {
     "name": "stdout",
     "output_type": "stream",
     "text": [
      "23\n"
     ]
    },
    {
     "data": {
      "image/png": "[encoded data removed]",
      "text/plain": [
       "<Figure size 432x288 with 1 Axes>"
      ]
     },
     "metadata": {
      "needs_background": "light"
     },
     "output_type": "display_data"
    }
   ],
   "source": [
    "print(Nu)\n",
    "vind=90\n",
    "plt.plot(urange,diff21[:,vind])\n",
    "plt.plot(urange,diff32[:,vind])\n",
    "plt.plot(urange,diff43[:,vind])\n",
    "plt.yscale('log')\n",
    "plt.xlabel('u')\n",
    "plt.grid()\n",
    "plt.show()"
   ]
  },
  {
   "cell_type": "code",
   "execution_count": 130,
   "metadata": {},
   "outputs": [
    {
     "name": "stdout",
     "output_type": "stream",
     "text": [
      "100\n"
     ]
    },
    {
     "data": {
      "image/png": "[encoded data removed]",
      "text/plain": [
       "<Figure size 432x288 with 1 Axes>"
      ]
     },
     "metadata": {
      "needs_background": "light"
     },
     "output_type": "display_data"
    }
   ],
   "source": [
    "print(Nv)\n",
    "uind=22\n",
    "vind=90\n",
    "klist=np.array([0,1,2])\n",
    "plt.plot(klist,[diff21[uind][vind],diff32[uind][vind],diff43[uind][vind]])\n",
    "plt.plot(klist,2.0**(-1*klist)*10**(-6),'--',label='1st-order')\n",
    "plt.plot(klist,2.0**(-2*klist)*10**(-6),'--',label='2nd-order')\n",
    "\n",
    "plt.yscale('log')\n",
    "plt.grid()\n",
    "plt.legend(loc='best')\n",
    "#plt.plot(vrange,diff32[uind])\n",
    "#plt.plot(vrange,diff43[uind])\n",
    "plt.show()"
   ]
  },
  {
   "cell_type": "code",
   "execution_count": 141,
   "metadata": {},
   "outputs": [
    {
     "name": "stdout",
     "output_type": "stream",
     "text": [
      "23 100\n"
     ]
    },
    {
     "data": {
      "image/png": "[encoded data removed]",
      "text/plain": [
       "<Figure size 432x288 with 1 Axes>"
      ]
     },
     "metadata": {
      "needs_background": "light"
     },
     "output_type": "display_data"
    }
   ],
   "source": [
    "print(Nu,Nv)\n",
    "uind=22\n",
    "vind=90\n",
    "klist=np.array([0,1,2])\n",
    "Errorlist=4.0/3.0*(dv0)**(-2.0)*np.array([diff21[uind][vind],diff32[uind][vind],diff43[uind][vind]])\n",
    "plt.plot(klist,Errorlist)\n",
    "#plt.plot(klist,2.0**(-1*klist)*10**(-6),'--',label='1st-order')\n",
    "#plt.plot(klist,2.0**(-2*klist)*10**(-6),'--',label='2nd-order')\n",
    "\n",
    "plt.yscale('log')\n",
    "plt.grid()\n",
    "#plt.legend(loc='best')\n",
    "#plt.plot(vrange,diff32[uind])\n",
    "#plt.plot(vrange,diff43[uind])\n",
    "plt.show()"
   ]
  },
  {
   "cell_type": "code",
   "execution_count": null,
   "metadata": {},
   "outputs": [],
   "source": []
  },
  {
   "cell_type": "code",
   "execution_count": null,
   "metadata": {},
   "outputs": [],
   "source": []
  },
  {
   "cell_type": "code",
   "execution_count": null,
   "metadata": {},
   "outputs": [],
   "source": []
  },
  {
   "cell_type": "code",
   "execution_count": null,
   "metadata": {},
   "outputs": [],
   "source": []
  }
 ],
 "metadata": {
  "kernelspec": {
   "display_name": "Python 3",
   "language": "python",
   "name": "python3"
  },
  "language_info": {
   "codemirror_mode": {
    "name": "ipython",
    "version": 3
   },
   "file_extension": ".py",
   "mimetype": "text/x-python",
   "name": "python",
   "nbconvert_exporter": "python",
   "pygments_lexer": "ipython3",
   "version": "3.6.6"
  }
 },
 "nbformat": 4,
 "nbformat_minor": 2
}
