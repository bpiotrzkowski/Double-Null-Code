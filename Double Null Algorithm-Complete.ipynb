{
 "cells": [
  {
   "cell_type": "markdown",
   "metadata": {},
   "source": [
    "### Double Null Code"
   ]
  },
  {
   "cell_type": "markdown",
   "metadata": {},
   "source": [
    "This code solves for functions $r(u,v)$, $\\sigma(u,v)$, $\\Phi(u,v)$ within a grided spacetime given initial parameters and boundary conditions. "
   ]
  },
  {
   "cell_type": "code",
   "execution_count": 1,
   "metadata": {
    "collapsed": true
   },
   "outputs": [],
   "source": [
    "###Python Packages###\n",
    "\n",
    "import numpy as np\n",
    "import matplotlib.pyplot as plt\n",
    "from matplotlib import rc\n",
    "from matplotlib.colors import LogNorm\n",
    "import math as mth\n",
    "import timeit\n",
    "import Double_Null_utils as dnu\n"
   ]
  },
  {
   "cell_type": "code",
   "execution_count": 2,
   "metadata": {
    "collapsed": true
   },
   "outputs": [],
   "source": [
    "###Initial Values###\n",
    "\n",
    "M0=1.0\n",
    "Q=0.95\n",
    "scalarfield=False"
   ]
  },
  {
   "cell_type": "markdown",
   "metadata": {},
   "source": [
    "- $M_0$ is the initial mass parameter\n",
    "- $Q$ is the charge parameter (constant throughout)\n",
    "- $scalarfield$ if $True$ applies a scalar field on the $u=constant=u_0$ boundary"
   ]
  },
  {
   "cell_type": "code",
   "execution_count": 3,
   "metadata": {
    "collapsed": true
   },
   "outputs": [],
   "source": [
    "N=100\n",
    "scal=1\n",
    "umax=13\n",
    "vmax=50\n",
    "ru0=5.0\n",
    "dr0v=.4\n",
    "\n",
    "bdytype=\"stan\"\n",
    "scaltostan=False\n",
    "solveaffine=False\n",
    "\n",
    "Elist=[1]\n",
    "#Elist=[1,2,4,8,16]\n",
    "\n",
    "#uloc=[1/8,1/4,3/8,1/2,5/8]\n",
    "#uloc=[1/5,2/5,3/5,4/5,9/10]\n",
    "uloc=[8.2/10]"
   ]
  },
  {
   "cell_type": "markdown",
   "metadata": {},
   "source": [
    "\n",
    "- $N$ is the number of points per coordinate (determines resolution)\n",
    "- $scal$ increases the resolution for the boundary conditions\n",
    "- $u_{max}$ is the max value for $u$ \n",
    "- $v_{max}$ is the max value for $v$ \n",
    "- $r_{u0}$ is the initial value $r(u_0,v_0)$\n",
    "- $dr0v$ is the intial value $r_{,v}(u_0,v_0)$\n",
    "\n",
    "- $bdytype$ indicates the type of boundary (standard \"stan\", horizon resolving \"hor\", maximal \"max\") \n",
    "- $Elist$ allows the code to run for multiple resolutions $N'$. These resolutions are the arguments multiplied by $N$\n",
    "- $uloc$ tells for which $v$ the code should plot (multplies $v_{max}$ to get $v$, values can range from $0 \\leq x <1$)\n",
    "\n",
    "Note that typical values for $N$ depend on the boundary conditions being used\n",
    "\n",
    "$stan \\rightarrow N=20-160$\n",
    "\n",
    "$max \\rightarrow N=5-40$\n",
    "\n",
    "where the lower values are around 2 min and the upper are around 20 min (for an i7-7700k)."
   ]
  },
  {
   "cell_type": "code",
   "execution_count": 4,
   "metadata": {
    "scrolled": true
   },
   "outputs": [
    {
     "name": "stdout",
     "output_type": "stream",
     "text": [
      "r+: 1.31224989991992\n",
      "r-: 0.6877501000800801\n",
      "Number of points for highest iteration is 6500000,1300X5000\n",
      "Total number of points is 6500000\n",
      "Runtime: about 1.93 minutes\n"
     ]
    }
   ],
   "source": [
    "###Defining Needed Constants###\n",
    "\n",
    "scalf=float(scal)\n",
    "u0=0.0\n",
    "v0=0.0\n",
    "rv0=ru0\n",
    "phiu0=0.0\n",
    "phiv0=0.0\n",
    "\n",
    "if M0==0.0:\n",
    "    du00=1/N\n",
    "    du0=du00\n",
    "else:\n",
    "    du00=M0/N\n",
    "    du0=du00\n",
    "dv00=du00\n",
    "dv0=du0\n",
    "\n",
    "rplus=M0+(M0**2.0-Q**2.0)**.5\n",
    "rminus=M0-(M0**2.0-Q**2.0)**.5\n",
    "print(\"r+: \"+str(rplus))\n",
    "print(\"r-: \"+str(rminus))\n",
    "\n",
    "###Predicting Run time###\n",
    "\n",
    "###timer\n",
    "start = timeit.default_timer()\n",
    "\n",
    "Nu=int(umax/du0)\n",
    "Nv=int(vmax/dv0)\n",
    "#print(\"Number of points for lowest iteration is \"+str(Nu*Nv)+\",\"+str(Nu)+\"X\"+str(Nv))\n",
    "print(\"Number of points for highest iteration is \"+str(Nu*Nv*max(Elist)**2)+\",\"+str(Nu*max(Elist))+\"X\"+str(Nv*max(Elist)))\n",
    "\n",
    "numpoints=0.0\n",
    "for i in range(0,len(Elist)):\n",
    "    numpoints=Elist[i]**2.0*Nu*Nv+numpoints\n",
    "print(\"Total number of points is \"+str(int(numpoints)))\n",
    "\n",
    "predtime=numpoints/(56000)\n",
    "\n",
    "print(\"Runtime: about \"+str(format(predtime/60,'.2f'))+\" minutes\")\n",
    "\n"
   ]
  },
  {
   "cell_type": "markdown",
   "metadata": {},
   "source": [
    "The code predicts the runtime (based on an Intel i7-7700K CPU)"
   ]
  },
  {
   "cell_type": "markdown",
   "metadata": {},
   "source": [
    "### Apply Boundary Conditions"
   ]
  },
  {
   "cell_type": "code",
   "execution_count": 5,
   "metadata": {
    "collapsed": true
   },
   "outputs": [],
   "source": [
    "##################################\n",
    "###Applying Boundary Conditions###\n",
    "\n",
    "Emax=max([Elist])\n",
    "\n",
    "rnpf=np.zeros((Nu*max(Elist),Nv*max(Elist),len(Elist)))\n",
    "signpf=np.zeros((Nu*max(Elist),Nv*max(Elist),len(Elist)))\n",
    "phinpf=np.zeros((Nu*max(Elist),Nv*max(Elist),len(Elist)))\n",
    "dphinpuf=np.zeros((Nu*max(Elist),len(Elist))) #tempphinpu\n",
    "#tempsignpu\n",
    "massnpf=np.zeros((Nu*max(Elist),Nv*max(Elist),len(Elist)))\n",
    "\n",
    "temprnpu=np.zeros((Nu*max(Elist)))\n",
    "temprnpv=np.zeros((Nv*max(Elist)))\n",
    "tempsignpu=np.zeros((Nu*max(Elist)))\n",
    "tempsignpv=np.zeros((Nv*max(Elist)))\n",
    "tempphinpu=np.zeros((Nu*max(Elist)))\n",
    "tempphinpv=np.zeros((Nv*max(Elist)))\n",
    "tempdphipu=np.zeros((Nu*max(Elist)))\n",
    "\n",
    "#tempsignpu=np.zeros((Nu*max(Elist),Nv*max(Elist)))\n",
    "\n",
    "\n",
    "\n",
    "for k in range(0,len(Elist)):\n",
    "    temprnpu,  temprnpv, tempsignpu, tempsignpv, tempphinpu ,tempphinpv= dnu.boundary(scal,Elist[k],bdytype,Nu,Nv,ru0,dr0v,du0,vmax,M0,Q,scalarfield)\n",
    "    for i in range(0,Nu*Elist[k]):\n",
    "        rnpf[i][0][k]=temprnpu[i]\n",
    "        signpf[i][0][k]=tempsignpu[i]\n",
    "        phinpf[i][0][k]=tempphinpu[i]\n",
    "    for j in range(0,Nv*Elist[k]):\n",
    "        rnpf[0][j][k]=temprnpv[j]\n",
    "        signpf[0][j][k]=tempsignpv[j]\n",
    "        phinpf[0][j][k]=tempphinpv[j]\n",
    "        \n",
    "\n",
    "\n",
    "temprnpu=None\n",
    "temprnpv=None\n",
    "tempsignpu=None\n",
    "tempsignpv=None\n",
    "tempphinpu=None\n",
    "tempphinpv=None\n",
    "#tempphinpu=None"
   ]
  },
  {
   "cell_type": "markdown",
   "metadata": {},
   "source": [
    "This section applies boundary conditions to empty arrays. Some work needs to be done with the function to optimize it more fully, since this section often takes much longer than other sections"
   ]
  },
  {
   "cell_type": "markdown",
   "metadata": {},
   "source": [
    "### Evolve Spacetime"
   ]
  },
  {
   "cell_type": "code",
   "execution_count": 6,
   "metadata": {},
   "outputs": [],
   "source": [
    "drunp=np.zeros((Nu*max(Elist),Nv*max(Elist),len(Elist)))\n",
    "dsigunp=np.zeros((Nu*max(Elist),Nv*max(Elist),len(Elist)))\n",
    "\n",
    "\n",
    "\n",
    "###Applying Propagation Algorithm###\n",
    "for k in range(0,len(Elist)):\n",
    "    if bdytype==\"max\" or bdytype==\"hor\":\n",
    "        drnpu=np.zeros((Nu*Elist[k])) \n",
    "        dsignpu=np.zeros((Nu*Elist[k]))\n",
    "        sigu0=0.0\n",
    "        drnpu[0]=-mth.exp(sigu0)/(4.0*dr0v)*(Q**2.0/ru0**2.0-2*M0/ru0+1.0)\n",
    "        drnpu[1]=-mth.exp(sigu0)/(4.0*dr0v)*(Q**2.0/ru0**2.0-2*M0/ru0+1.0)\n",
    "        sigmamaxlist=[]\n",
    "        sigmaxu=[]\n",
    "        sigmaxu.append(0.0)\n",
    "        sigmaxu.append(0.0)\n",
    "    for i in range(0,Nu*Elist[k]-1):\n",
    "        for j in range(0,Nv*Elist[k]-1):\n",
    "            answer=dnu.x4giver(i,j,Elist[k],k,du00,rnpf,phinpf,signpf,Q)\n",
    "            rnpf[i+1][j+1][k]=answer[0]\n",
    "            phinpf[i+1][j+1][k]=answer[1]\n",
    "            signpf[i+1][j+1][k]=answer[2]\n",
    "            massnpf[i+1][j+1][k]=answer[3]\n",
    "            drunp[i+1][j+1][k]=answer[4]\n",
    "            dsigunp[i+1][j+1]=answer[5]\n",
    "            #dsignp[i+1][j+1]=answer[6]\n",
    "            \n",
    "            if bdytype==\"hor\" or bdytype==\"max\"  and i<Nu*Elist[k]-2:\n",
    "                sigmamaxlist.append(signpf[i+1][j+1][k])\n",
    "        if bdytype==\"hor\" and i<Nu*Elist[k]-2:\n",
    "            \n",
    "            sigma1=signpf[i+1][0][k]-signpf[i+1][-1][k]\n",
    "            sigma2=signpf[i][0][k]-signpf[i][-1][k]\n",
    "            sigma3=signpf[i-1][0][k]-signpf[i-1][-1][k]\n",
    "            dt=(du00/Elist[k])\n",
    "            \n",
    "            signpf[i+2][0][k]=sigma1*(3.0*2.0)/(2.0)+sigma2*(3.0)/(-1.0)+sigma3*(2.0)/(2.0)\n",
    "            \n",
    "            dsignpu[i+1]=(signpf[i+2][0][k]-signpf[i+1][0][k])/dt\n",
    "            rnpf[i+2][0][k]=rnpf[i+1][0][k]+dt*drnpu[i+1]\n",
    "            \n",
    "            drnpu[i+2]=drnpu[i+1]+dt*(drnpu[i+1]*dsignpu[i+1]-rnpf[i+1][0][k]*dphinpuf[i+1][k]**2.0)\n",
    "            \n",
    "        if bdytype==\"max\" and i<Nu*Elist[k]-2:\n",
    "            \n",
    "            sigmaxu.append(max(sigmamaxlist))\n",
    "            sigma1=signpf[i+1][0][k]-sigmaxu[i+2]\n",
    "            sigma2=signpf[i][0][k]-sigmaxu[i+1]\n",
    "            sigma3=signpf[i-1][0][k]-sigmaxu[i]\n",
    "            dt=(du00/Elist[k])\n",
    "            \n",
    "            signpf[i+2][0][k]=sigma1*(3.0*2.0)/(2.0)+sigma2*(3.0)/(-1.0)+sigma3*(2.0)/(2.0)\n",
    "            dsignpu[i+1]=(signpf[i+2][0][k]-signpf[i+1][0][k])/dt\n",
    "            rnpf[i+2][0][k]=rnpf[i+1][0][k]+dt*drnpu[i+1]\n",
    "            drnpu[i+2]=drnpu[i+1]+dt*(drnpu[i+1]*dsignpu[i+1]-rnpf[i+1][0][k]*dphinpuf[i+1][k]**2.0)\n",
    "            if rnpf[i+2][0][k]<0.0:\n",
    "                signpf[i+2][0][k]=np.nan\n",
    "                dsignpu[i+1]=np.nan\n",
    "                rnpf[i+2][0][k]=np.nan\n",
    "                drnpu[i+2]=np.nan\n",
    "            \n",
    "            sigmamaxlist=[]"
   ]
  },
  {
   "cell_type": "markdown",
   "metadata": {},
   "source": [
    "Based on the boundary conditions used, the code uses the evolution algorithm to solve for the functions on the rest of the spacetime. If the boundary conditions are $max$ (maximal gauge) or $hor$ (outer event horizon resolving gauge) then the code solves for new boundary conditions along $v=v_0$ ."
   ]
  },
  {
   "cell_type": "markdown",
   "metadata": {},
   "source": [
    "If a scalar field is applied, the code estimates the new final horizons\n"
   ]
  },
  {
   "cell_type": "code",
   "execution_count": 7,
   "metadata": {
    "collapsed": true
   },
   "outputs": [],
   "source": [
    "###Rescaling to Standard Gauge###\n",
    "\n",
    "urange=np.zeros((len(Elist),Nu*max(Elist)))\n",
    "vrange=np.zeros((len(Elist),Nv*max(Elist)))\n",
    "urange0=np.zeros((Nu))\n",
    "vrange0=np.zeros((Nv))\n",
    "rminuslist=np.zeros((Nv))\n",
    "rminuslistv=np.zeros((Nu))\n",
    "rpluslist=np.zeros((Nv))\n",
    "rpluslistv=np.zeros((Nu))\n",
    "\n",
    "\n",
    "if bdytype==\"stan\" or scaltostan==False:\n",
    "    \n",
    "    for k in range(0,len(Elist)):\n",
    "        dt=du0/float(Elist[k])\n",
    "        for i in range(0,Nu*Elist[k]-1):\n",
    "            urange[k][i+1]=urange[k][i]+dt \n",
    "            if k==0:\n",
    "                #rminuslistv[i]=rminus\n",
    "                #rpluslistv[i]=rplus\n",
    "                urange0[i+1]=urange[k][i+1]\n",
    "        for j in range(0,Nv*Elist[k]-1):\n",
    "            vrange[k][j+1]=vrange[k][j]+dt\n",
    "            if k==0:\n",
    "                #rminuslist[j]=rminus\n",
    "                #rpluslist[j]=rplus\n",
    "                vrange0[j+1]=vrange[k][j+1]\n",
    "    \n",
    "else:\n",
    "    for k in range(0,len(Elist)):\n",
    "        dt=du0/float(Elist[k])\n",
    "        for i in range(0,Nu*Elist[k]-1):\n",
    "            urange[k][i+1]=urange[k][i]+dt*mth.exp(signpf[i][0][k]) \n",
    "            if k==0:\n",
    "                #rminuslistv[i]=rminus\n",
    "                #rpluslistv[i]=rplus\n",
    "                urange0[i+1]=urange[k][i+1]\n",
    "        for j in range(0,Nv*Elist[k]-1):\n",
    "            vrange[k][j+1]=vrange[k][j]+dt*mth.exp(signpf[0][j][k])\n",
    "            if k==0:\n",
    "                #rminuslist[j]=rminus\n",
    "                #rpluslist[j]=rplus\n",
    "                vrange0[j+1]=vrange[k][j+1]\n",
    "                \n",
    "for i in range(0,Nu*Elist[0]):\n",
    "    rminuslistv[i]=rminus\n",
    "    rpluslistv[i]=rplus\n",
    "for j in range(0,Nv*Elist[0]):\n",
    "    rminuslist[j]=rminus\n",
    "    rpluslist[j]=rplus"
   ]
  },
  {
   "cell_type": "markdown",
   "metadata": {},
   "source": [
    "If $scaltostan=True$ and the maximal gauge is chosen then the code rescales the u-max coordinate to the u coordinate of the standard gauge."
   ]
  },
  {
   "cell_type": "code",
   "execution_count": 8,
   "metadata": {
    "collapsed": true
   },
   "outputs": [],
   "source": [
    "###Finding Horizons###\n",
    "drdvnplist=[]\n",
    "drdvnplistscal=[]\n",
    "drdvrlist=[]\n",
    "#dsigdvnplist=[]\n",
    "#dsigdvrlist=[]\n",
    "           \n",
    "for j in range(0,Nv*Elist[-1]):\n",
    "    for i in range(0,Nu*Elist[-1]):\n",
    "        if drunp[i][j][-1]>0.0:\n",
    "            drdvnplist.append(i/(Nu*Elist[-1])*umax)\n",
    "            drdvnplistscal.append(urange[-1][i])\n",
    "            drdvrlist.append(rnpf[i][j][-1])\n",
    "            break\n",
    "        if i==Nu*Elist[-1]-1:\n",
    "            #drdvnplist.append(umax)\n",
    "            #drdvrlist.append(rnpf[Nu*Elist[0]-1][j][0])\n",
    "            drdvnplist.append(np.nan)\n",
    "            drdvnplistscal.append(np.nan)\n",
    "            drdvrlist.append(np.nan)\n",
    "            #drdvnplist.append(nan)\n",
    "            #drdvrlist.append(nan)\n",
    "            break\n",
    "        else:\n",
    "            continue\n",
    "                "
   ]
  },
  {
   "cell_type": "markdown",
   "metadata": {},
   "source": [
    "Checks for an apparent horizon (i.e where $r_{,u}=0$). If there is none, then inserts $nan$"
   ]
  },
  {
   "cell_type": "markdown",
   "metadata": {},
   "source": [
    "### Display Results"
   ]
  },
  {
   "cell_type": "code",
   "execution_count": 9,
   "metadata": {},
   "outputs": [
    {
     "name": "stdout",
     "output_type": "stream",
     "text": [
      "1.31225151495\n",
      "9.28\n",
      "928\n"
     ]
    }
   ],
   "source": [
    "########################\n",
    "###Displaying Results###       \n",
    "\n",
    "rlist2=[]\n",
    "siglist2=[]\n",
    "diflist=[]\n",
    "diflist2=[]\n",
    "dudvlist=[]\n",
    "uscale=[]\n",
    "uvalue=u0\n",
    "rlist=np.zeros((len(Elist),len(uloc),Nu*max(Elist)))*np.nan\n",
    "siglist=np.zeros((len(Elist),len(uloc),Nu*max(Elist)))*np.nan\n",
    "philist=np.zeros((len(Elist),len(uloc),Nu*max(Elist)))*np.nan\n",
    "\n",
    "\n",
    "for k in range(0,len(Elist)):\n",
    "        for j in range(0,len(uloc)):\n",
    "            for i in range(0,Nu*Elist[k]):\n",
    "                rlist[k][j][i]=rnpf[i][int(uloc[j]*Nv*Elist[k])][k]\n",
    "                siglist[k][j][i]=signpf[i][int(uloc[j]*Nv*Elist[k])][k]\n",
    "                philist[k][j][i]=phinpf[i][int(uloc[j]*Nv*Elist[k])][k]\n",
    "  \n",
    "\n",
    "if Q>0.0:\n",
    "    m=massnpf[1][-1][-1]\n",
    "    rplus=m+(m**2.0-Q**2.0)**.5\n",
    "    rminus=m-(m**2.0-Q**2.0)**.5\n",
    "    print(rplus)\n",
    "\n",
    "\n",
    "for i in range(0,Elist[-1]*Nu):\n",
    "    if rnpf[i][100][-1]<rplus:\n",
    "        uEH=i/(Elist[-1]*Nu)\n",
    "        uN=i\n",
    "        print(uEH*umax)\n",
    "        print(uN)\n",
    "        break\n",
    "    if Elist[-1]*Nu-1:\n",
    "        uEH=1.0\n",
    "#uEH=9.25\n",
    "#if Q>0.0:\n",
    "    #m=massnpf[uN][-1][-1]\n",
    "    #rplus=m+(m**2.0-Q**2.0)**.5\n",
    "    #rminus=m-(m**2.0-Q**2.0)**.5\n",
    "    #print(rplus)\n",
    "\n",
    "\n",
    "#print(m)"
   ]
  },
  {
   "cell_type": "markdown",
   "metadata": {},
   "source": [
    "The u-constant null rays, whose v coordinate was defined in the list $uloc$ are stored to be plotted in the next section of code."
   ]
  },
  {
   "cell_type": "markdown",
   "metadata": {},
   "source": [
    "The next section displays the functions vs the u-coordinate at constant v."
   ]
  },
  {
   "cell_type": "code",
   "execution_count": 10,
   "metadata": {},
   "outputs": [
    {
     "data": {
      "image/png": "[encoded data removed]",
      "text/plain": [
       "<matplotlib.figure.Figure at 0x1918cb23fd0>"
      ]
     },
     "metadata": {},
     "output_type": "display_data"
    },
    {
     "data": {
      "image/png": "[encoded data removed]",
      "text/plain": [
       "<matplotlib.figure.Figure at 0x1918cd286a0>"
      ]
     },
     "metadata": {},
     "output_type": "display_data"
    }
   ],
   "source": [
    "###Plotting Function vs u Graphs###\n",
    "    \n",
    "rplot=plt.plot(urange0, rpluslistv,'r--', label='r+')\n",
    "rplot=plt.plot(urange0, rminuslistv,'r--',color='blue',label='r-') \n",
    "for k in range(0,len(Elist)):\n",
    "    \n",
    "    kmax=len(Elist)\n",
    "    for j in range(0,len(uloc)):\n",
    "        #plot=plt.plot(urange[kmax-k-1], rlist[kmax-k-1][j], label='v='+str(round(uloc[j ]*vmax,1))+', N='+str(N*Elist[kmax-k-1]))\n",
    "        plot=plt.plot(urange[k], rlist[k][j], label='v='+str(round(uloc[j]*vmax,1))+', N='+str(N*Elist[k]))\n",
    "\n",
    "plt.xlabel('u')\n",
    "plt.ylabel('r(u)')\n",
    "plt.legend()\n",
    "plt.grid()\n",
    "plt.title('Radius vs u (v=const.)')\n",
    "plt.legend(bbox_to_anchor=(1.05, 1), loc=2, borderaxespad=0.)\n",
    "#plt.tight_layout()\n",
    "#plt.yscale('log')\n",
    "plt.ylim(0.0,15.0)\n",
    "#plt.savefig('test2.png',dpi=300,bbox_inches=\"tight\")\n",
    "plt.show()\n",
    "\n",
    "\n",
    "\n",
    "rplot=plt.plot(urange0, rpluslistv,'r--', label='r+')\n",
    "if scalarfield==False and Q==0.0:\n",
    "    plt.xlim(7,9) \n",
    "    plt.ylim(0,4.0)\n",
    "if scalarfield==False and Q>0.0:\n",
    "    rplot=plt.plot( urange0, rminuslistv,'r--',color='blue',label='r-')\n",
    "    plt.xlim(7,13)       \n",
    "    plt.ylim(.685,.710)\n",
    "    #plt.xlim(6.0,12.0)\n",
    "if scalarfield==True and Q>0.0:\n",
    "    rplot=plt.plot( urange0, rminuslistv,'r--',color='blue',label='r-')    \n",
    "    plt.ylim(0.0,5.0)\n",
    "for k in range(0,len(Elist)):\n",
    "    \n",
    "    kmax=len(Elist)\n",
    "    for j in range(0,len(uloc)):\n",
    "        #plot=plt.plot(urange[kmax-k-1], rlist[kmax-k-1][j], label='v='+str(round(uloc[j ]*vmax,1))+', N='+str(N*Elist[kmax-k-1]))\n",
    "        plot=plt.plot(urange[k], rlist[k][j], label='v='+str(round(uloc[j]*vmax,1))+', N='+str(N*Elist[k]))\n",
    "\n",
    "plt.xlabel('u')\n",
    "plt.ylabel('r(u)')\n",
    "plt.legend()\n",
    "plt.grid()\n",
    "plt.title('Radius vs u (v=const.)')\n",
    "plt.legend(bbox_to_anchor=(1.05, 1), loc=2, borderaxespad=0.)\n",
    "#plt.tight_layout()\n",
    "#plt.yscale('log')\n",
    "#plt.savefig('test2.5.png',dpi=300,bbox_inches=\"tight\")\n",
    "plt.show()\n"
   ]
  },
  {
   "cell_type": "code",
   "execution_count": 11,
   "metadata": {
    "scrolled": true
   },
   "outputs": [
    {
     "data": {
      "image/png": "[encoded data removed]",
      "text/plain": [
       "<matplotlib.figure.Figure at 0x1918cb23cf8>"
      ]
     },
     "metadata": {},
     "output_type": "display_data"
    },
    {
     "data": {
      "image/png": "[encoded data removed]",
      "text/plain": [
       "<matplotlib.figure.Figure at 0x1918cd9d5f8>"
      ]
     },
     "metadata": {},
     "output_type": "display_data"
    }
   ],
   "source": [
    "for k in range(0,len(Elist)):\n",
    "    #sample2=plt.plot(urange[k],siglist[k][0],label='v='+str(uloc[0]*vmax)+', N='+str(N*Elist[k]))\n",
    "    sample2=plt.plot(urange[k],siglist[k][-1],label='v='+str(uloc[-1]*vmax)+', N='+str(N*Elist[k]))\n",
    "    #sample2.set_yscale('log')\n",
    "#sample=plt.plot(uscale, siglist)\n",
    "plt.xlabel('u')\n",
    "plt.ylabel('sigma(u)')\n",
    "\n",
    "if M0==0.0 or Q==0.0 or M0==1.0:\n",
    "    plt.yscale('linear')\n",
    "else:\n",
    "    plt.yscale('log')\n",
    "plt.grid()\n",
    "plt.title('Sigma vs u (v=const.)')\n",
    "plt.legend(bbox_to_anchor=(1.05, 1), loc=2, borderaxespad=0.)\n",
    "#plt.savefig('test3.png',dpi=300,bbox_inches=\"tight\")\n",
    "plt.show()\n",
    "\n",
    "sample3=plt.plot(urange[-1],philist[-1][-1])\n",
    "plt.xlabel('u')\n",
    "plt.ylabel('Scalar Field(u,v)')\n",
    "plt.grid()\n",
    "plt.title('Scalar Field vs u (v='+str(int(uloc[-1]*vmax))+')')\n",
    "#plt.savefig('test6.png',dpi=300,bbox_inches=\"tight\")\n",
    "plt.show()"
   ]
  },
  {
   "cell_type": "markdown",
   "metadata": {},
   "source": [
    "Next we solve for the location of the apparent horizon, both in (u,v) coordinates and in terms of the function r(u,v) vs v (for a sanity check, since we know this generally should match the inner horizon)."
   ]
  },
  {
   "cell_type": "code",
   "execution_count": 12,
   "metadata": {},
   "outputs": [
    {
     "data": {
      "image/png": "[encoded data removed]",
      "text/plain": [
       "<matplotlib.figure.Figure at 0x1918c5205f8>"
      ]
     },
     "metadata": {},
     "output_type": "display_data"
    },
    {
     "data": {
      "image/png": "[encoded data removed]",
      "text/plain": [
       "<matplotlib.figure.Figure at 0x1918d0649b0>"
      ]
     },
     "metadata": {},
     "output_type": "display_data"
    }
   ],
   "source": [
    "sample3=plt.plot(vrange[-1],drdvnplist)\n",
    "plt.xlabel('v')\n",
    "plt.ylabel('u')\n",
    "plt.grid()\n",
    "plt.title('Apparent Horizon Position (u,v)')\n",
    "#plt.savefig('Event Horizon Position(u,v)-M=1-Q=.09-N=200.png',dpi=300)\n",
    "plt.show()\n",
    "\n",
    "\n",
    "sample3=plt.plot(vrange[-1],drdvrlist)\n",
    "sample3=plt.plot(vrange0,rminuslist,'r--')\n",
    "plt.xlabel('v')\n",
    "plt.ylabel('r(v)')\n",
    "plt.grid()\n",
    "plt.title('Apparent Horizon Position (r(u,v))')\n",
    "#plt.savefig('test7.png',dpi=300)\n",
    "plt.show()"
   ]
  },
  {
   "cell_type": "markdown",
   "metadata": {},
   "source": [
    "### Heatmaps"
   ]
  },
  {
   "cell_type": "code",
   "execution_count": 13,
   "metadata": {
    "collapsed": true
   },
   "outputs": [],
   "source": [
    "###Heatmaps for radius, sigma, scalar field###\n",
    "\n",
    "rnp=np.empty([Nu*Elist[-1],Nv*Elist[-1]])\n",
    "signp=np.empty([Nu*Elist[-1],Nv*Elist[-1]])\n",
    "phinp=np.empty([Nu*Elist[-1],Nv*Elist[-1]])\n",
    "massnp=np.empty([Nu*Elist[-1],Nv*Elist[-1]])\n",
    "\n",
    "#for i in range(0,Nu*Elist[-1]): \n",
    "    #for j in range(0,Nv*Elist[-1]):\n",
    "rnp[:,:]=rnpf[:,:,-1]\n",
    "signp[:,:]=signpf[:,:,-1]\n",
    "phinp[:,:]=phinpf[:,:,-1]\n",
    "massnp[:,:]=massnpf[:,:,-1]\n"
   ]
  },
  {
   "cell_type": "markdown",
   "metadata": {},
   "source": [
    "To display our functions fully in (u,v) coordinates, we first create new arrays comprised only of the values of the highest resolution we chose (I ran into issues with displaying otherwise)"
   ]
  },
  {
   "cell_type": "code",
   "execution_count": 14,
   "metadata": {},
   "outputs": [
    {
     "name": "stdout",
     "output_type": "stream",
     "text": [
      "[  0.5     0.6     0.65    0.67    0.68    0.685   0.687   0.8     0.9     1.\n",
      "   5.     10.     15.     20.   ]\n"
     ]
    }
   ],
   "source": [
    "levels=np.arange(10.0, np.nanmax(rnp), 5.0 )\n",
    "\n",
    "\n",
    "if rplus==0.0 and scalarfield==False:\n",
    "    levels=np.insert(levels,0,[ru0])\n",
    "if Q==0.0 and scalarfield==False and M0>0.0:\n",
    "    levels=np.insert(levels,0,[1.0,rplus,3.0,4.0,ru0])\n",
    "if scalarfield==True and Q==0.0:\n",
    "    levels=np.insert(levels,0,[0.1,ru0])\n",
    "if scalarfield==True and Q>0.0:\n",
    "    levels=np.insert(levels,0,[.1,.3,rminus,rplus,ru0])\n",
    "if scalarfield==False and Q>0.0:\n",
    "    #levels=np.insert(levels,0,[0.1,rminus,rminus+0.001,rminus+0.002,rminus+0.003,rminus+0.004,rminus+0.005,rminus+0.006,rminus+0.007,rminus+0.008,rminus+0.009,rminus+0.01,rminus+0.011,rminus+0.012,rminus+0.013,rminus+0.014,rminus+0.015,rminus+0.016,rminus+0.017,rminus+0.018,rminus+0.020,rminus+0.025,rminus+0.030,rminus+0.035,rplus-0.5,rplus-0.4,rplus,ru0])\n",
    "    #levels=np.insert(levels,0,[0.1,rminus,rminus+0.003,rminus+0.006,rminus+0.009,rminus+0.012,rminus+0.015,rminus+0.018,rminus+0.025,rminus+0.030,rminus+0.035,rplus-0.5,rplus-0.4,rplus,ru0])\n",
    "    #levels=np.insert(levels,0,[0.1,rminus-.01,rminus,.689,.690,.691,0.7,0.8,0.9,1.0,rplus,ru0])\n",
    "    levels=np.insert(levels,0,[.5,.6,.65,.67,.68,.685,.687,.8,.9,1.0,ru0])\n",
    "print(levels)    "
   ]
  },
  {
   "cell_type": "code",
   "execution_count": 15,
   "metadata": {
    "collapsed": true,
    "scrolled": true
   },
   "outputs": [],
   "source": [
    "if solveaffine==True: \n",
    "    #lambdamax=100\n",
    "    #dlambda=.01\n",
    "    #Nl=int(lambdamax/dlambda)\n",
    "    uloc2=[145/200,147.5/200,150/200,155/200,160/200,165/200]#,18/20,19/20]\n",
    "\n",
    "\n",
    "    vlambda=np.zeros((len(uloc2),Nv*Elist[0]))*np.nan\n",
    "    dvlambda=np.zeros((len(uloc2),Nv*Elist[0]))*np.nan\n",
    "    sample=np.zeros((Nv*Elist[0]))*np.nan\n",
    "\n",
    "\n",
    "\n",
    "    #upos=9/10\n",
    "    #print(upos*umax)\n",
    "\n",
    "    for i in range(0,len(uloc2)):\n",
    "        sigk=0\n",
    "        vlambda[i][0]=v0\n",
    "        dvlambda[i][0]=1\n",
    "        sample[0]=vlambda[i][0]\n",
    "        #print('---')\n",
    "        for j in range(0,Nv*Elist[0]-1):\n",
    "            try:\n",
    "                vlambda[i][j+1]=dv0*dvlambda[i][j]+vlambda[i][j]\n",
    "                dvlambda[i][j+1]=dvlambda[i][j]-(signpf[int(uloc2[i]*Nu*Elist[0])][sigk+1][0]-signpf[int(uloc2[i]*Nu*Elist[0])][sigk][0])*(dvlambda[i][j])**2.0\n",
    "                sigk=int(vlambda[i][j+1]/vmax*Nv*Elist[0])\n",
    "            \n",
    "            except:\n",
    "                break\n",
    "\n",
    "    for i in range(0,len(uloc2)):\n",
    "        plot=plt.plot(vrange0, vlambda[i][:], label='u='+str(format(uloc2[i]*umax,'.2f')))\n",
    "        plot2=plt.scatter(vrange0, vlambda[i][:]) #label='u='+str(format(uloc2[i]*umax,'.2f')))\n",
    "    #plot=plt.plot(vrange0, sample, 'g--',label='log(v)')\n",
    "    plt.plot()\n",
    "    plt.title('v vs affine parameter  (u_EH='+str(format(uEH*umax,'.3f'))+')')\n",
    "    plt.legend()\n",
    "    plt.grid()\n",
    "    plt.xlabel('lambda')\n",
    "    plt.ylabel('v(lambda)')\n",
    "    #plt.xlim(0,1)\n",
    "    plt.ylim(0,100)\n",
    "    #plt.savefig('affine1.png',dpi=300,bbox_inches=\"tight\")\n",
    "    plt.show()    \n",
    "\n",
    "    #print(sample)"
   ]
  },
  {
   "cell_type": "code",
   "execution_count": 16,
   "metadata": {
    "collapsed": true,
    "scrolled": true
   },
   "outputs": [],
   "source": [
    "if solveaffine==True: \n",
    "    CHlist=[]\n",
    "    lscale=10\n",
    "    vlambda=np.zeros((Nv*Elist[-1]*lscale))*np.nan\n",
    "    dvlambda=np.zeros((Nv*Elist[-1]*lscale))*np.nan\n",
    "    buffer=10\n",
    "\n",
    "\n",
    "    for i in range(int(uEH*Nu*Elist[-1]),Nu*Elist[-1]):\n",
    "        vlambda=np.zeros((Nv*Elist[-1]*lscale))*np.nan\n",
    "        dvlambda=np.zeros((Nv*Elist[-1]*lscale))*np.nan\n",
    "        sigk=0\n",
    "        vlambda[0]=v0\n",
    "        dvlambda[0]=1\n",
    "        #print('---')\n",
    "        for j in range(0,Nv*Elist[-1]*lscale-1):\n",
    "            try:\n",
    "                vlambda[j+1]=dv0*dvlambda[j]/lscale+vlambda[j]\n",
    "                dvlambda[j+1]=dvlambda[j]-1/lscale*(signpf[i][sigk+1][-1]-signpf[i][sigk][-1])*(dvlambda[j])**2.0\n",
    "                sigk=int(vlambda[j+1]/vmax*Nv*Elist[-1])\n",
    "                if j==Nv*Elist[-1]*lscale-2:\n",
    "                    CHlist.append(np.nan)\n",
    "            except:\n",
    "                #CHlist.append(j/(Nv*Elist[-1]-1)*vmax-3)\n",
    "                if j>buffer:\n",
    "                    CHlist.append(vlambda[j-buffer])#+2*dv0*buffer)\n",
    "                else:\n",
    "                    CHlist.append(np.nan)\n",
    "                break\n",
    "    #print(CHlist)\n",
    "    #print(dvlambda)\n",
    "    #print(urange[-1][int(uEH*Nu*Elist[-1]):])\n",
    "\n",
    "    CHorizon=plt.plot(CHlist,urange[-1][int(uEH*Nu*Elist[-1]):],label='buffer='+str(buffer))\n",
    "    plt.xlabel('v')\n",
    "    plt.ylabel('u')\n",
    "    plt.grid()\n",
    "    plt.title('Cauchy Horizon Position (u,v)')\n",
    "    #plt.savefig('Event Horizon Position(u,v)-M=1-Q=.09-N=200.png',dpi=300)\n",
    "    plt.show()"
   ]
  },
  {
   "cell_type": "markdown",
   "metadata": {},
   "source": [
    "Next we define lines of constant r(u,v) to be displayed on the heatmaps"
   ]
  },
  {
   "cell_type": "code",
   "execution_count": 17,
   "metadata": {
    "scrolled": false
   },
   "outputs": [
    {
     "data": {
      "image/png": "[encoded data removed]",
      "text/plain": [
       "<matplotlib.figure.Figure at 0x1919fccb198>"
      ]
     },
     "metadata": {},
     "output_type": "display_data"
    }
   ],
   "source": [
    "rnpm=np.ma.masked_invalid(rnp)\n",
    "\n",
    "plot1=plt.pcolormesh(vrange[-1],urange[-1],rnpm,cmap=plt.cm.cool,vmin=0.65,vmax=np.nanmax(rnp))# norm=LogNorm(vmin=0.6, vmax=.8))#\n",
    "plot4=plt.contour(vrange[-1],urange[-1],rnpm, levels,linewidths=0.5,colors='black',extent=(0,vmax,0,umax),aspect='auto',origin='lower')\n",
    "plot5=plt.contour(vrange[-1],urange[-1],rnpm, [rminus],linewidths=0.6,colors='blue',extent=(0,vmax,0,umax),aspect='auto',origin='lower')\n",
    "plot6=plt.contour(vrange[-1],urange[-1],rnpm, [rplus],linewidths=0.6,colors='red',extent=(0,vmax,0,umax),aspect='auto',origin='lower')\n",
    "plt.clabel(plot4, levels, inline=0, inline_spacing=0, fmt='%1.3f',rightside_up=True, fontsize=8)\n",
    "if solveaffine==True:\n",
    "    CHorizon=plt.plot(CHlist,urange[-1][int(uEH*Nu*Elist[-1]):],color='g')\n",
    "#sample3=plt.plot(vrange[-1],drdvnplistscal)\n",
    "\n",
    "plt.xlabel('v')\n",
    "plt.ylabel('u')\n",
    "plt.xlim(0,vmax)\n",
    "plt.ylim(0,13)\n",
    "#plt.ylim(7.95,8.2)\n",
    "#plt.ylim(0,np.nanmax(urange[-1]))\n",
    "plt.colorbar(plot1)\n",
    "plt.title('r(u,v) vs (u,v) Coordinates')\n",
    "#plt.grid()\n",
    "#plt.savefig('Test.png',dpi=300)\n",
    "plt.show()\n"
   ]
  },
  {
   "cell_type": "markdown",
   "metadata": {},
   "source": [
    "^This first heatmap is scaled from the maximal gauge to standard gauge if $scaltostan=True$. Otherwise returns the non-scaled heatmap for $r(u,v)$."
   ]
  },
  {
   "cell_type": "markdown",
   "metadata": {},
   "source": [
    "### Error Scaling\n",
    "\n",
    "\n",
    "The next few points give the relative error between different resolutions in different formats (given multiple resolutions in $Elist$ were given prior)"
   ]
  },
  {
   "cell_type": "code",
   "execution_count": 18,
   "metadata": {
    "collapsed": true,
    "scrolled": true
   },
   "outputs": [],
   "source": [
    "if len(Elist)>1:\n",
    "    Errornp0=np.zeros((Nu*Elist[0],Nv*Elist[0]))\n",
    "    Errornp=np.zeros((len(Elist)-1,Nu*max(Elist),Nv*max(Elist)))*np.nan\n",
    "    Errorunp=np.zeros((len(Elist)-1,len(uloc),Nv*max(Elist)))*np.nan\n",
    "\n",
    "    for i in range(0,Nu*Elist[0]):\n",
    "        for j in range(0,Nv*Elist[0]):\n",
    "            Errornp0[i][j]=abs((rnpf[2*i][2*j][1]-rnpf[i][j][0])/rnpf[2*i][2*j][1])\n",
    "\n",
    "    for k in range(0,len(Elist)-1):\n",
    "        for i in range(0,Nu*Elist[k]):\n",
    "            for j in range(0,Nv*Elist[k]):\n",
    "                Errornp[k][i][j]=abs((rnpf[2*i][2*j][k+1]-rnpf[i][j][k])/rnpf[2*i][2*j][k+1])\n",
    "\n",
    "        \n",
    "            \n",
    "    for k in range(0,len(Elist)-1):        \n",
    "        for l in range(0,len(uloc)):\n",
    "            for j in range(0,Nv*Elist[k]):\n",
    "                Errorunp[k][l][j]=Errornp[k][int(uloc[l]*Nu*Elist[k])][j]\n",
    "            \n",
    "\n",
    "            \n",
    "\n",
    "\n",
    "\n"
   ]
  },
  {
   "cell_type": "code",
   "execution_count": 19,
   "metadata": {
    "collapsed": true
   },
   "outputs": [],
   "source": [
    "if len(Elist)>1:    \n",
    "    Errornpm=np.ma.masked_invalid(Errornp[-1])\n",
    "\n",
    "    levelserror=[.00001,.0001,.001,.01,.1]\n",
    "\n",
    "    plot1=plt.pcolormesh(2*vrange[-1],2*urange[-1],Errornpm,cmap=plt.cm.cool,vmin=0.0001,vmax=.001)#np.nanmax(Errornp))\n",
    "    plot4=plt.contour(2*vrange[-1],2*urange[-1],Errornpm, levelserror,linewidths=0.5,colors='black',extent=(0,vmax,0,umax),aspect='auto',origin='lower')\n",
    "    plt.clabel(plot4, levelserror, inline=0, inline_spacing=0, fmt='%1.4f',rightside_up=True, fontsize=8)\n",
    "    \n",
    "    plot5=plt.contour(vrange[-1],urange[-1],rnpm, [rminus],linewidths=0.6,colors='blue',extent=(0,vmax,0,umax),aspect='auto',origin='lower')\n",
    "    plot6=plt.contour(vrange[-1],urange[-1],rnpm, [rplus],linewidths=0.6,colors='red',extent=(0,vmax,0,umax),aspect='auto',origin='lower')\n",
    "    #sample3=plt.plot(vrange[-1],drdvnplistscal)\n",
    "\n",
    "    plt.xlabel('v')\n",
    "    plt.ylabel('u')\n",
    "    #plt.xlim(0,vmax)\n",
    "    plt.xlim(0,vmax)\n",
    "    plt.ylim(0,13)\n",
    "    #plt.ylim(0,np.nanmax(urange[-1]))\n",
    "    plt.colorbar(plot1)\n",
    "    plt.title('Percentage Difference (%) (N0='+str(N*Elist[-2])+')')\n",
    "    #plt.grid()\n",
    "    #plt.savefig('Test1-3.png',dpi=300)\n",
    "    plt.show()"
   ]
  },
  {
   "cell_type": "code",
   "execution_count": 20,
   "metadata": {
    "collapsed": true,
    "scrolled": false
   },
   "outputs": [],
   "source": [
    "if len(Elist)>1:\n",
    "    for k in range(0,len(Elist)-1):\n",
    "        for j in range(0,len(uloc)):\n",
    "            plot=plt.plot(vrange[k], Errorunp[k][j][:], label='u='+str(round(uloc[j]*umax,1))+', N='+str(N*Elist[k+1])+\"-\"+str(N*Elist[k]))\n",
    "    plt.xlabel('v')\n",
    "    plt.ylabel('|r_N-r_2N|')\n",
    "    plt.legend()\n",
    "    plt.grid()\n",
    "    plt.title('|r_N-r_2N| vs v (u=const.)')\n",
    "    plt.legend(bbox_to_anchor=(1.05, 1), loc=2, borderaxespad=0.)\n",
    "    #plt.tight_layout()\n",
    "    plt.yscale('log')\n",
    "    plt.xscale('log')\n",
    "    plt.ylim(10**(-8),10**(-1))\n",
    "    #plt.xlim(0,10)\n",
    "    #plt.savefig('Error.png',dpi=300,bbox_inches=\"tight\")\n",
    "    plt.show()\n",
    "\n",
    "    vloc=[3/30,6/30,10/30,12/30,15/30,18/30,21/30,24/30]\n",
    "    klist=np.zeros((len(vloc),len(Elist)-1))*np.nan\n",
    "\n",
    "    for j in range(0,len(vloc)):\n",
    "        for k in range(0,len(Elist)-1):\n",
    "            klist[j][k]=Errorunp[k][0][int(vloc[j]*Nv*Elist[k])]\n",
    "        \n",
    "    simlist=range(1,len(Elist))\n",
    "    #klist=np.array([Errorunp[0][0][int(1/2*Nv*Elist[0])],Errorunp[1][0][int(1/2*Nv*Elist[1])],Errorunp[2][0][int(1/2*Nv*Elist[2])],Errorunp[3][0][int(1/2*Nv*Elist[3])]])\n",
    "    sample=np.zeros((len(Elist)-1))*np.nan\n",
    "    sample2=np.zeros((len(Elist)-1))*np.nan\n",
    "    sample3=np.zeros((len(Elist)-1))*np.nan\n",
    "    for k in range(0,len(Elist)-1):\n",
    "        sample[k]=10**(-2)*2**(-2*simlist[k])\n",
    "        #sample2[k]=10**(-3)*2**(-1*simlist[k])\n",
    "        sample3[k]=10**(-1)*2**(-2*simlist[k])\n",
    "\n",
    "    for j in range(0,len(vloc)):\n",
    "        plot=plt.plot(simlist,klist[j][:],label='v='+str(round(vloc[j]*vmax,1))+\", u=\"+str(round(uloc[0]*umax,1)))\n",
    "    plt.plot(simlist,sample,'r--',label='10^(-2)*2^(-2k)')\n",
    "    #plt.plot(simlist,sample2,'b--',label='10^(-3)*2^(-1k)')\n",
    "    plt.plot(simlist,sample3,'g--',label='10^(-1)*2^(-2k)')\n",
    "    plt.title('|r_N0*k-r_N0*2k| vs k (N0='+str(N)+')')\n",
    "    plt.xlabel('k')\n",
    "    plt.legend(bbox_to_anchor=(1.05, 1), loc=2, borderaxespad=0.)\n",
    "    #plt.xlim(1,10)\n",
    "    #plt.ylim(10**(-10),10**(-1))\n",
    "    plt.ylabel('|r_N0*k-r_N0*2k|')\n",
    "    #plt.xscale('log')\n",
    "    plt.yscale('log')\n",
    "    plt.grid()\n",
    "    #plt.savefig('Error2.png',dpi=300,bbox_inches=\"tight\")\n",
    "    plt.show()\n",
    "    \n",
    "    print(klist)\n"
   ]
  },
  {
   "cell_type": "code",
   "execution_count": 21,
   "metadata": {
    "collapsed": true
   },
   "outputs": [],
   "source": [
    "if len(Elist)>1:\n",
    "    Error1list=[]\n",
    "    thrhold=0.01\n",
    "    for j in range(0,Nv*Elist[-1]):\n",
    "        for i in range(0,Nu*Elist[-1]):\n",
    "            if Errornp[-1][i][j]>thrhold:\n",
    "                Error1list.append(rnpf[i][j][-2])\n",
    "                break\n",
    "            elif i==Nu*Elist[-1]-1:\n",
    "                Error1list.append(np.nan)\n",
    "    #print(Error1list)\n",
    "    plot=plt.plot(2*vrange[-1], Error1list,label=str(thrhold*100.0)+'%')\n",
    "    sample3=plt.plot(vrange0,rminuslist,'r--',color='blue',label='r-')\n",
    "    sample4=plt.plot(vrange0,rpluslist,'r--',color='red',label='r+')\n",
    "    plt.xlabel('v')\n",
    "    plt.ylabel('r')\n",
    "    plt.legend()\n",
    "    plt.grid()\n",
    "    plt.title('Last r(u,v) Before Error vs v (u=const.)')\n",
    "    \n",
    "    #plt.tight_layout()\n",
    "    plt.yscale('log')\n",
    "    #plt.xscale('log')\n",
    "    plt.ylim(10**(-1),10**(2))\n",
    "    plt.xlim(0,35)\n",
    "    #plt.savefig('Error3.png',dpi=300,bbox_inches=\"tight\")\n",
    "    plt.show()\n",
    "        "
   ]
  },
  {
   "cell_type": "markdown",
   "metadata": {},
   "source": [
    "In this next block we solve the null geodesic equation in our coordinates to check that ingoing null rays reach the Cauchy Horizon within a finite null parameter $\\lambda$"
   ]
  },
  {
   "cell_type": "markdown",
   "metadata": {},
   "source": [
    "These last few plots are unscaled verions of our functions. These are used mostly for sanity checks and trouble shooting"
   ]
  },
  {
   "cell_type": "code",
   "execution_count": 22,
   "metadata": {},
   "outputs": [
    {
     "data": {
      "image/png": "[encoded data removed]",
      "text/plain": [
       "<matplotlib.figure.Figure at 0x1918cfa5278>"
      ]
     },
     "metadata": {},
     "output_type": "display_data"
    },
    {
     "data": {
      "image/png": "[encoded data removed]",
      "text/plain": [
       "<matplotlib.figure.Figure at 0x1919fd8e048>"
      ]
     },
     "metadata": {},
     "output_type": "display_data"
    },
    {
     "data": {
      "image/png": "[encoded data removed]",
      "text/plain": [
       "<matplotlib.figure.Figure at 0x191af6ac710>"
      ]
     },
     "metadata": {},
     "output_type": "display_data"
    },
    {
     "data": {
      "image/png": "[encoded data removed]",
      "text/plain": [
       "<matplotlib.figure.Figure at 0x1918cf77358>"
      ]
     },
     "metadata": {},
     "output_type": "display_data"
    }
   ],
   "source": [
    "plot1=plt.imshow(rnp,cmap=plt.cm.cool,extent=(0,vmax,0,umax),aspect='auto',origin='lower')\n",
    "plot4=plt.contour(rnp, levels,linewidths=0.5,colors='black',extent=(0,vmax,0,umax),aspect='auto',origin='lower')\n",
    "plt.clabel(plot4, levels,  \n",
    "           inline=0, inline_spacing=0, \n",
    "           fmt='%1.2f',rightside_up=True,\n",
    "           fontsize=8)\n",
    "#sample3=plt.plot(vrange[-1],drdvnplist)\n",
    "#sample3=plt.plot(vrange,dsigdvnplist)\n",
    "plt.xlabel('v')\n",
    "plt.ylabel('u')\n",
    "plt.xlim()\n",
    "plt.colorbar(plot1)\n",
    "plt.title('Radius vs (u,v) Coordinates')\n",
    "#plt.savefig('Test1-2.png',dpi=300)\n",
    "plt.show()\n",
    "\n",
    "plot3=plt.imshow(signp,cmap=plt.cm.afmhot,extent=(0,vmax,0,umax),aspect='auto',origin='lower')\n",
    "plt.xlabel('v')\n",
    "plt.ylabel('u')\n",
    "plt.colorbar(plot3)\n",
    "plt.title('Sigma vs (u,v) Coordinates')\n",
    "#plt.savefig('test4.png',dpi=300,bbox_inches=\"tight\")\n",
    "plt.show()\n",
    "\n",
    "plot2=plt.imshow(phinp,cmap=plt.cm.afmhot,extent=(0,vmax,0,umax),aspect='auto',origin='lower')\n",
    "plt.xlabel('v')\n",
    "plt.ylabel('u')\n",
    "plt.colorbar(plot2)\n",
    "plt.title('Scalar Field vs (u,v) Coordinates')\n",
    "plt.show()\n",
    "\n",
    "plot2=plt.imshow(massnpf[:,:,-1],cmap=plt.cm.afmhot,extent=(0,vmax,0,umax),aspect='auto',origin='lower')\n",
    "plt.xlabel('v')\n",
    "plt.ylabel('u')\n",
    "plt.colorbar(plot2)\n",
    "plt.title('Mass vs (u,v) Coordinates')\n",
    "plt.show()"
   ]
  },
  {
   "cell_type": "markdown",
   "metadata": {
    "collapsed": true
   },
   "source": [
    "np.save('rnp.npy',rnp)\n",
    "np.save('rnputil',np.array([N*Elist[-1],Nu*Elist[-1],Nv*Elist[-1],ru0,dr0v,M0,Q]))\n"
   ]
  },
  {
   "cell_type": "code",
   "execution_count": 23,
   "metadata": {},
   "outputs": [
    {
     "data": {
      "image/png": "[encoded data removed]",
      "text/plain": [
       "<matplotlib.figure.Figure at 0x1918cf654a8>"
      ]
     },
     "metadata": {},
     "output_type": "display_data"
    }
   ],
   "source": [
    "sample3=plt.plot(rlist[-1][-1],philist[-1][-1])\n",
    "plt.xlabel('r')\n",
    "plt.ylabel('Scalar Field(u,v)')\n",
    "plt.xlim(3.0,0.0)\n",
    "plt.grid()\n",
    "plt.title('Scalar Field vs u (v='+str(int(uloc[-1]*vmax))+')')\n",
    "#plt.savefig('test5.png',dpi=300,bbox_inches=\"tight\")\n",
    "plt.show()"
   ]
  },
  {
   "cell_type": "code",
   "execution_count": 24,
   "metadata": {
    "scrolled": false
   },
   "outputs": [
    {
     "name": "stdout",
     "output_type": "stream",
     "text": [
      "200\n"
     ]
    },
    {
     "name": "stderr",
     "output_type": "stream",
     "text": [
      "C:\\ProgramData\\Anaconda3\\lib\\site-packages\\ipykernel_launcher.py:11: RuntimeWarning: invalid value encountered in double_scalars\n",
      "  # This is added back by InteractiveShellApp.init_path()\n"
     ]
    },
    {
     "data": {
      "image/png": "[encoded data removed]",
      "text/plain": [
       "<matplotlib.figure.Figure at 0x1918ca844a8>"
      ]
     },
     "metadata": {},
     "output_type": "display_data"
    },
    {
     "data": {
      "image/png": "[encoded data removed]",
      "text/plain": [
       "<matplotlib.figure.Figure at 0x191afa87048>"
      ]
     },
     "metadata": {},
     "output_type": "display_data"
    }
   ],
   "source": [
    "uN2u=2\n",
    "\n",
    "uN2=int(uN2u/umax*Nu*Elist[-1])\n",
    "print(uN2)\n",
    "localpower=np.zeros((Nv*Elist[-1]))*np.nan\n",
    "power1list=[]\n",
    "power3list=[]\n",
    "\n",
    "for j in range(0,Elist[-1]*Nv-1):\n",
    "    v=j*vmax/(Elist[-1]*Nv)\n",
    "    localpower[j]=-v*(phinp[uN2][j+1]-phinp[uN2][j])/(dv0*phinp[uN2][j])*Elist[-1]\n",
    "    \n",
    "\n",
    "\n",
    "sample3=plt.plot(vrange[-1],abs(phinp[uN2]))\n",
    "plt.xlabel('v')\n",
    "plt.ylabel(r'$|\\Phi|$')\n",
    "plt.ylim(0.0000001,.1)\n",
    "plt.xlim(1,vmax)\n",
    "plt.grid()\n",
    "plt.xscale('log')\n",
    "plt.yscale('log')\n",
    "plt.title('Test of Prices Law')\n",
    "#plt.savefig('Phi1.png',dpi=300,bbox_inches=\"tight\")\n",
    "plt.show()    \n",
    "\n",
    "sample3=plt.plot(vrange[-1],localpower)\n",
    "plt.xlim(0,vmax)\n",
    "plt.xlabel('v')\n",
    "plt.ylabel(r'Local Power $-v \\Phi_{,v}/\\Phi$')\n",
    "plt.ylim(0,5)\n",
    "\n",
    "plt.grid()\n",
    "plt.title('Test of Prices Law (goes as 3)(u='+str(uN2u)+',uEH='+str(uEH*umax)+')')\n",
    "#plt.savefig('Phi2.png',dpi=300,bbox_inches=\"tight\")\n",
    "plt.show()"
   ]
  },
  {
   "cell_type": "code",
   "execution_count": null,
   "metadata": {
    "collapsed": true
   },
   "outputs": [],
   "source": []
  },
  {
   "cell_type": "markdown",
   "metadata": {},
   "source": [
    "Finally we plot the scalar field function $\\Phi$(u,v) vs r(u,v), a quantity indpendent of gauge/coordinate choice. Increased resolution is needed to get good results here."
   ]
  },
  {
   "cell_type": "code",
   "execution_count": 25,
   "metadata": {
    "collapsed": true
   },
   "outputs": [],
   "source": [
    "stop = timeit.default_timer()\n"
   ]
  },
  {
   "cell_type": "code",
   "execution_count": 26,
   "metadata": {},
   "outputs": [
    {
     "name": "stdout",
     "output_type": "stream",
     "text": [
      "108.93448185400406 seconds\n",
      "1.8155746975667344 minutes\n",
      "0.030259578292778908 hours\n",
      "59668.89353466073 points per second\n",
      "Took -0.12 more minutes\n"
     ]
    }
   ],
   "source": [
    "acttime=stop - start\n",
    "\n",
    "print(str(acttime)+' seconds')\n",
    "print(str((acttime)/60)+' minutes')\n",
    "print(str((acttime)/3600)+' hours')\n",
    "\n",
    "print(str((numpoints)/(stop - start))+' points per second') \n",
    "\n",
    "exttime=format((acttime-predtime)/60,'.2f')\n",
    "\n",
    "print(\"Took \"+str(exttime)+\" more minutes\")"
   ]
  },
  {
   "cell_type": "code",
   "execution_count": 27,
   "metadata": {},
   "outputs": [
    {
     "data": {
      "image/png": "[encoded data removed]",
      "text/plain": [
       "<matplotlib.figure.Figure at 0x191af8d8cf8>"
      ]
     },
     "metadata": {},
     "output_type": "display_data"
    }
   ],
   "source": [
    "plt.plot(urange0,signp[:,0])\n",
    "plt.show()"
   ]
  },
  {
   "cell_type": "code",
   "execution_count": 28,
   "metadata": {},
   "outputs": [
    {
     "name": "stdout",
     "output_type": "stream",
     "text": [
      "[[ 0.          0.          0.         ...,  0.          0.          0.        ]\n",
      " [ 0.          1.00000023  1.00000023 ...,  1.00000038  1.00000038\n",
      "   1.00000038]\n",
      " [ 0.          1.00000023  1.00000023 ...,  1.00000038  1.00000038\n",
      "   1.00000038]\n",
      " ..., \n",
      " [ 0.          4.91853053  1.81803962 ...,         nan         nan\n",
      "          nan]\n",
      " [ 0.          4.9187344   1.81816985 ...,         nan         nan\n",
      "          nan]\n",
      " [ 0.          4.91893167  1.81829586 ...,         nan         nan\n",
      "          nan]]\n"
     ]
    }
   ],
   "source": [
    "print(massnpf[:,:,-1])"
   ]
  },
  {
   "cell_type": "code",
   "execution_count": 36,
   "metadata": {},
   "outputs": [
    {
     "data": {
      "text/plain": [
       "1.7945018875875354"
      ]
     },
     "execution_count": 36,
     "metadata": {},
     "output_type": "execute_result"
    }
   ],
   "source": [
    "max(signp[:,1000])"
   ]
  },
  {
   "cell_type": "code",
   "execution_count": null,
   "metadata": {
    "collapsed": true
   },
   "outputs": [],
   "source": []
  }
 ],
 "metadata": {
  "kernelspec": {
   "display_name": "Python 3",
   "language": "python",
   "name": "python3"
  },
  "language_info": {
   "codemirror_mode": {
    "name": "ipython",
    "version": 3
   },
   "file_extension": ".py",
   "mimetype": "text/x-python",
   "name": "python",
   "nbconvert_exporter": "python",
   "pygments_lexer": "ipython3",
   "version": "3.6.1"
  }
 },
 "nbformat": 4,
 "nbformat_minor": 2
}
