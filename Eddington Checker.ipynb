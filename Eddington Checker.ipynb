{
 "cells": [
  {
   "cell_type": "code",
   "execution_count": 1,
   "metadata": {},
   "outputs": [],
   "source": [
    "###Python Packages###\n",
    "\n",
    "import numpy as np\n",
    "import matplotlib.pyplot as plt\n",
    "from matplotlib import rc\n",
    "from matplotlib.colors import LogNorm\n",
    "import math as mth\n",
    "from matplotlib.colors import LogNorm\n",
    "\n",
    "import timeit\n",
    "import Double_Null_utils as dnu\n",
    "from scipy import optimize\n",
    "import tables\n",
    "import h5py\n",
    "\n",
    "\n",
    "\n",
    "#import warnings\n",
    "#warnings.filterwarnings(\"ignore\")\n",
    "\n",
    "start = timeit.default_timer()"
   ]
  },
  {
   "cell_type": "code",
   "execution_count": 2,
   "metadata": {},
   "outputs": [],
   "source": [
    "uscal=30\n",
    "vscal=10"
   ]
  },
  {
   "cell_type": "code",
   "execution_count": 3,
   "metadata": {},
   "outputs": [
    {
     "name": "stdout",
     "output_type": "stream",
     "text": [
      "1.0\n"
     ]
    }
   ],
   "source": [
    "rnputil=np.load('rnputil.npy')\n",
    "wHD=rnputil[8]\n",
    "print(wHD)\n",
    "\n",
    "if wHD==True or wHD==1.0:\n",
    "    urange=np.load('urange.npy')[::uscal]\n",
    "    vrange=np.load('vrange.npy')[::vscal]\n",
    "if wHD==False or wHD==0.0 or wHD==None:\n",
    "    urange=np.load('urange.npy')\n",
    "    vrange=np.load('vrange.npy')\n"
   ]
  },
  {
   "cell_type": "code",
   "execution_count": 4,
   "metadata": {},
   "outputs": [
    {
     "name": "stdout",
     "output_type": "stream",
     "text": [
      "14384000 bytes\n",
      "Hd5 files used\n"
     ]
    }
   ],
   "source": [
    "if wHD==True or wHD==1.0:\n",
    "    with h5py.File('rnp.h5','r') as f:\n",
    "        r_group_key = list(f.keys())[0]\n",
    "        rnpi=f[r_group_key]\n",
    "        rnp = np.asarray(rnpi[::uscal,::vscal])\n",
    "    with h5py.File('signp.h5','r') as f:\n",
    "        sig_group_key = list(f.keys())[0]\n",
    "        signpi=f[sig_group_key]\n",
    "        signp = np.asarray(signpi[::uscal,::vscal])\n",
    "    with h5py.File('phinp.h5','r') as f:\n",
    "        phi_group_key = list(f.keys())[0]\n",
    "        phinpi=f[phi_group_key]\n",
    "        phinp = np.asarray(phinpi[::uscal,::vscal])\n",
    "    with h5py.File('massnp.h5','r') as f:\n",
    "        mass_group_key = list(f.keys())[0]\n",
    "        massnpi=f[mass_group_key]\n",
    "        massnp = np.asarray(massnpi[::uscal,::vscal])\n",
    "    \n",
    "    print(str(rnp.nbytes)+\" bytes\")\n",
    "    print(\"Hd5 files used\")\n",
    "\n",
    "if wHD==False or wHD==0.0 or wHD==None:\n",
    "    rnp=np.load('rnp.npy')\n",
    "    signp=np.load('sig.npy')\n",
    "    phinp=np.load('phi.npy')\n",
    "    massnp=np.load('mass.npy')\n",
    "    print(\"Numpy arrays used\")\n",
    "\n",
    "switchax=float(rnputil[9])\n",
    "if switchax==True:\n",
    "    rnp=np.swapaxes(rnp,0,1)\n",
    "    signp=np.swapaxes(signp,0,1)\n",
    "    phinp=np.swapaxes(phinp,0,1)\n",
    "    massnp=np.swapaxes(massnp,0,1)    \n",
    "    \n"
   ]
  },
  {
   "cell_type": "code",
   "execution_count": 5,
   "metadata": {},
   "outputs": [
    {
     "name": "stdout",
     "output_type": "stream",
     "text": [
      "[5.38880000e+08 2.69440000e+04 2.00000000e+04 2.00000000e+00\n",
      " 1.50416667e-01 1.00000000e+00 9.50000000e-01 0.00000000e+00\n",
      " 1.00000000e+00 0.00000000e+00]\n",
      "1798000 points\n",
      "Runtime: about 0.12 minutes\n"
     ]
    }
   ],
   "source": [
    "print(rnputil)\n",
    "\n",
    "N=int(rnputil[0])\n",
    "Nu=len(urange)#int(rnputil[1])\n",
    "Nv=len(vrange)#int(rnputil[2])\n",
    "ru0=float(rnputil[3])\n",
    "dr0v=float(rnputil[4])\n",
    "M0=float(rnputil[5])\n",
    "Q=float(rnputil[6])\n",
    "Lambda=float(rnputil[7])\n",
    "umax=np.nanmax(urange)\n",
    "vmax=np.nanmax(vrange)\n",
    "\n",
    "\n",
    "dv0=vrange[1]-vrange[0]\n",
    "\n",
    "def fr(r,M0,Q,Lambda):\n",
    "    return 1-2*M0/r+Q**2.0/r**2.0-Lambda*r**2.0/3.0\n",
    "\n",
    "sol = optimize.root(fr,[0.687,1.3,50.0],args=(M0,Q,Lambda), method='hybr')\n",
    "rminus=sol.x[0]\n",
    "rplus=sol.x[1]\n",
    "rcosm=sol.x[2]\n",
    "    \n",
    "numpoints=Nu*Nv\n",
    "print(str(numpoints)+\" points\")\n",
    "\n",
    "if Q==0.0:\n",
    "    predtime=numpoints/(144935)\n",
    "if Q>0.0:\n",
    "    predtime=numpoints/(259000)\n",
    "print(\"Runtime: about \"+str(format(predtime/60,'.2f'))+\" minutes\")"
   ]
  },
  {
   "cell_type": "code",
   "execution_count": 6,
   "metadata": {},
   "outputs": [
    {
     "data": {
      "image/png": "[encoded data removed]",
      "text/plain": [
       "<Figure size 432x288 with 1 Axes>"
      ]
     },
     "metadata": {
      "needs_background": "light"
     },
     "output_type": "display_data"
    }
   ],
   "source": [
    "for line in massnp[2900:3500]:\n",
    "#for line in rnp[2500:3500]:\n",
    "    plt.plot(vrange,line)\n",
    "#plt.plot([0,vmax],[rplus,rplus],'r--',color='red',linewidth=0.5, label='r+')\n",
    "#plt.plot([0,vmax],[rminus,rminus],'r--',color='blue',linewidth=0.5, label='r-')\n",
    "plt.ylim(.9,1.1)  \n",
    "#plt.ylim(.687,.69)\n",
    "#plt.yscale('log')\n",
    "plt.grid()\n",
    "plt.show()"
   ]
  },
  {
   "cell_type": "code",
   "execution_count": 7,
   "metadata": {},
   "outputs": [
    {
     "data": {
      "image/png": "[encoded data removed]",
      "text/plain": [
       "<Figure size 432x288 with 1 Axes>"
      ]
     },
     "metadata": {
      "needs_background": "light"
     },
     "output_type": "display_data"
    }
   ],
   "source": [
    "#for line in massnp[2900:3500]:\n",
    "for line in rnp[2500:3500]:\n",
    "    plt.plot(vrange,line)\n",
    "#plt.plot([0,vmax],[rplus,rplus],'r--',color='red',linewidth=0.5, label='r+')\n",
    "plt.plot([0,vmax],[rminus,rminus],'r--',color='blue',linewidth=0.5, label='r-')\n",
    "#plt.ylim(.9,1.1)  \n",
    "plt.ylim(.687,.69)\n",
    "#plt.yscale('log')\n",
    "plt.grid()\n",
    "plt.show()"
   ]
  },
  {
   "cell_type": "code",
   "execution_count": 8,
   "metadata": {},
   "outputs": [
    {
     "data": {
      "image/png": "[encoded data removed]",
      "text/plain": [
       "<Figure size 432x288 with 1 Axes>"
      ]
     },
     "metadata": {
      "needs_background": "light"
     },
     "output_type": "display_data"
    }
   ],
   "source": [
    "#for line in massnp[2900:3500]:\n",
    "#for line in rnp[:][::100]:\n",
    "for i in range(0,10):\n",
    "    plt.plot(urange,rnp[:,i*1+10])\n",
    "#plt.plot([0,vmax],[rplus,rplus],'r--',color='red',linewidth=0.5, label='r+')\n",
    "plt.plot([0,umax],[rplus,rplus],'r--',color='red',linewidth=0.5, label='r-')\n",
    "plt.plot([0,umax],[rminus,rminus],'r--',color='blue',linewidth=0.5, label='r-')\n",
    "#plt.ylim(.9,1.1)  \n",
    "#plt.ylim(0,2)\n",
    "#plt.ylim(.6875,.688)\n",
    "#plt.ylim(.5,.9)\n",
    "plt.ylim(.6877460,.6877525)\n",
    "#plt.xlim(1.83399,1.834005)\n",
    "#plt.ylim(1.312,1.3124)\n",
    "plt.yscale('log')\n",
    "plt.grid()\n",
    "plt.show()"
   ]
  },
  {
   "cell_type": "code",
   "execution_count": 9,
   "metadata": {},
   "outputs": [
    {
     "name": "stdout",
     "output_type": "stream",
     "text": [
      "899\n"
     ]
    }
   ],
   "source": [
    "print(len(rnp[:,1]))"
   ]
  },
  {
   "cell_type": "code",
   "execution_count": 10,
   "metadata": {},
   "outputs": [
    {
     "name": "stdout",
     "output_type": "stream",
     "text": [
      "[[1.         1.         1.         ... 1.         1.         1.        ]\n",
      " [0.99999993 0.99999992 0.9999999  ... 1.00015219 1.00015226 1.00015233]\n",
      " [0.99999988 0.99999986 0.99999984 ... 1.00034296 1.00034312 1.00034329]\n",
      " ...\n",
      " [0.99997267 0.99825251 0.99917379 ... 1.03291041 1.03295008 1.03299019]\n",
      " [0.99997267 0.99824617 0.99917079 ... 1.03291046 1.03295013 1.03299025]\n",
      " [0.99997267 0.99823982 0.9991678  ... 1.03291051 1.03295018 1.0329903 ]]\n",
      "0.032990300607758094\n"
     ]
    }
   ],
   "source": [
    "massdiffnp=abs(massnp[:,:]-M0)\n",
    "print(massnp)\n",
    "print(np.nanmax(massdiffnp))\n",
    "#print(signp)"
   ]
  },
  {
   "cell_type": "code",
   "execution_count": 11,
   "metadata": {},
   "outputs": [
    {
     "ename": "IndexError",
     "evalue": "index 1200 is out of bounds for axis 0 with size 899",
     "output_type": "error",
     "traceback": [
      "\u001b[0;31m---------------------------------------------------------------------------\u001b[0m",
      "\u001b[0;31mIndexError\u001b[0m                                Traceback (most recent call last)",
      "\u001b[0;32m<ipython-input-11-7a9feea915ff>\u001b[0m in \u001b[0;36m<module>\u001b[0;34m()\u001b[0m\n\u001b[0;32m----> 1\u001b[0;31m \u001b[0mprint\u001b[0m\u001b[0;34m(\u001b[0m\u001b[0mrnp\u001b[0m\u001b[0;34m[\u001b[0m\u001b[0;36m1200\u001b[0m\u001b[0;34m]\u001b[0m\u001b[0;34m[\u001b[0m\u001b[0;36m0\u001b[0m\u001b[0;34m]\u001b[0m\u001b[0;34m)\u001b[0m\u001b[0;34m\u001b[0m\u001b[0m\n\u001b[0m\u001b[1;32m      2\u001b[0m \u001b[0;34m\u001b[0m\u001b[0m\n\u001b[1;32m      3\u001b[0m \u001b[0mplt\u001b[0m\u001b[0;34m.\u001b[0m\u001b[0mplot\u001b[0m\u001b[0;34m(\u001b[0m\u001b[0mvrange\u001b[0m\u001b[0;34m,\u001b[0m\u001b[0mmassnp\u001b[0m\u001b[0;34m[\u001b[0m\u001b[0;36m1200\u001b[0m\u001b[0;34m]\u001b[0m\u001b[0;34m)\u001b[0m\u001b[0;34m\u001b[0m\u001b[0m\n\u001b[1;32m      4\u001b[0m \u001b[0mplt\u001b[0m\u001b[0;34m.\u001b[0m\u001b[0mshow\u001b[0m\u001b[0;34m(\u001b[0m\u001b[0;34m)\u001b[0m\u001b[0;34m\u001b[0m\u001b[0m\n",
      "\u001b[0;31mIndexError\u001b[0m: index 1200 is out of bounds for axis 0 with size 899"
     ]
    }
   ],
   "source": [
    "print(rnp[1200][0])\n",
    "\n",
    "plt.plot(vrange,massnp[1200])\n",
    "plt.show()"
   ]
  },
  {
   "cell_type": "code",
   "execution_count": null,
   "metadata": {},
   "outputs": [],
   "source": [
    "AHloc=[]\n",
    "for j in range(0,Nv):\n",
    "    for i in range(0,Nu-1):\n",
    "        dru=rnp[i+1][j]-rnp[i][j]\n",
    "        if dru>0.0: #and rnp[i][j]<rplus:\n",
    "            AHloc.append(urange[i])\n",
    "            break\n",
    "        if i==Nu-2:\n",
    "            AHloc.append(np.nan)\n",
    "        \n",
    "#AHulist=[]            \n",
    "#for k in range(0,len(AHloc)):\n",
    "    #try:\n",
    "        #AHulist.append(urange[AHloc[k]])\n",
    "    #except:\n",
    "        #AHulist.append(np.nan)\n",
    "#AHulist=np.take(urange,AHloc)\n",
    "plt.plot(vrange,AHloc)#,AHulist) \n",
    "plt.show()"
   ]
  },
  {
   "cell_type": "code",
   "execution_count": null,
   "metadata": {},
   "outputs": [],
   "source": [
    "plot1=plt.pcolormesh(vrange,urange,np.ma.masked_invalid(massdiffnp),cmap=plt.cm.cool,norm=LogNorm(vmin=0.0001, vmax=np.nanmax(massdiffnp)))\n",
    "plot5=plt.contour(vrange,urange,np.ma.masked_invalid(rnp), [rplus],linewidths=0.5,colors='red',extent=(0,vmax,0,umax),aspect='auto',origin='lower')\n",
    "#plot5=plt.contour(vrange,urange,np.ma.masked_invalid(rnp), [rminus],linewidths=0.5,colors='blue',extent=(0,vmax,0,umax),aspect='auto',origin='lower')\n",
    "#plot7=plt.plot(vrange,AHloc) \n",
    "plt.xlabel('v')\n",
    "plt.ylabel('u')\n",
    "plt.ylim(0,umax)\n",
    "plt.xlim(0,vmax)\n",
    "#plt.ylim(1.5,2.5)\n",
    "#plt.xlim(100,200)\n",
    "#plt.ylim(9.2758,9.2761)\n",
    "plt.colorbar(plot1)\n",
    "plt.title('|M-M0| vs (u,v) Coordinates')\n",
    "#plt.savefig('Mass-Error.png',dpi=300)\n",
    "#plt.savefig('EH-mismatch.png',dpi=300)\n",
    "plt.show()"
   ]
  },
  {
   "cell_type": "code",
   "execution_count": 16,
   "metadata": {
    "scrolled": true
   },
   "outputs": [
    {
     "name": "stdout",
     "output_type": "stream",
     "text": [
      "[[1.         1.         1.         ... 1.         1.         1.        ]\n",
      " [0.99999993 0.99999992 0.9999999  ... 1.00015219 1.00015226 1.00015233]\n",
      " [0.99999988 0.99999986 0.99999984 ... 1.00034296 1.00034312 1.00034329]\n",
      " ...\n",
      " [0.99997267 0.99825251 0.99917379 ... 1.03291041 1.03295008 1.03299019]\n",
      " [0.99997267 0.99824617 0.99917079 ... 1.03291046 1.03295013 1.03299025]\n",
      " [0.99997267 0.99823982 0.9991678  ... 1.03291051 1.03295018 1.0329903 ]]\n",
      "0.032990300607758094\n",
      "0.010172294044720037\n",
      "1.3122596205514436\n"
     ]
    },
    {
     "data": {
      "image/png": "[encoded data removed]",
      "text/plain": [
       "<Figure size 432x288 with 1 Axes>"
      ]
     },
     "metadata": {
      "needs_background": "light"
     },
     "output_type": "display_data"
    },
    {
     "data": {
      "text/plain": [
       "<Figure size 432x288 with 0 Axes>"
      ]
     },
     "metadata": {},
     "output_type": "display_data"
    },
    {
     "data": {
      "image/png": "[encoded data removed]",
      "text/plain": [
       "<Figure size 432x288 with 1 Axes>"
      ]
     },
     "metadata": {
      "needs_background": "light"
     },
     "output_type": "display_data"
    },
    {
     "data": {
      "text/plain": [
       "<Figure size 432x288 with 0 Axes>"
      ]
     },
     "metadata": {},
     "output_type": "display_data"
    },
    {
     "data": {
      "image/png": "[encoded data removed]",
      "text/plain": [
       "<Figure size 432x288 with 1 Axes>"
      ]
     },
     "metadata": {
      "needs_background": "light"
     },
     "output_type": "display_data"
    },
    {
     "data": {
      "text/plain": [
       "279002.65513"
      ]
     },
     "execution_count": 16,
     "metadata": {},
     "output_type": "execute_result"
    }
   ],
   "source": [
    "#print(massdiffnp)\n",
    "print(massnp)\n",
    "print(np.nanmax(massdiffnp))\n",
    "print(np.nanmean(massdiffnp))\n",
    "#print(massdiffnp[-10])\n",
    "\n",
    "uEH=400\n",
    "print(rnp[uEH][0])\n",
    "#plt.plot(urange,np.abs(massnp[:,-1]))\n",
    "plt.plot(vrange,np.abs(massnp[uEH,:]))\n",
    "#plt.yscale('log')\n",
    "plt.ylabel('Mass')\n",
    "plt.xlabel('v')\n",
    "#plt.xlabel('u')\n",
    "plt.grid()\n",
    "plt.title('M along EH')\n",
    "#plt.title('M along vmax')\n",
    "#plt.savefig('M-EH.png',dpi=300)\n",
    "plt.show()\n",
    "#plt.savefig('num-rel-pics/M-EH.png',dpi=300)\n",
    "plt.show()\n",
    "\n",
    "plt.plot(urange,np.abs(massnp[:,-1]))\n",
    "#plt.yscale('log')\n",
    "plt.ylabel('Mass')\n",
    "plt.xlabel('u')\n",
    "plt.grid()\n",
    "plt.title('M along vmax')\n",
    "plt.show()\n",
    "#plt.savefig('num-rel-pics/M-vmax.png',dpi=300)\n",
    "plt.show()\n",
    "\n",
    "plt.plot(vrange,massdiffnp[1,:],':')\n",
    "plt.plot(vrange,massdiffnp[-1,:])\n",
    "plt.yscale('log')\n",
    "plt.ylabel('Mass Error')\n",
    "plt.xlabel('v')\n",
    "plt.xlim(0,vmax)\n",
    "plt.grid()\n",
    "plt.show()\n",
    "\n",
    "\n",
    "1897154954.72\n",
    "13851032.0928\n",
    "54530507.1436\n",
    "13851032.0928\n",
    "#Tol=2, Nul=2000, N=10 9.128 min\n",
    "13730096.5359\n",
    "#Tol=.2, Nul=200, 5.671 min\n",
    "13851032.0928\n",
    "#Tol=1, Nul=200, 1.122 min\n",
    "336154711.505\n",
    "256500.649449\n",
    "#Tol=1, Nul=2000, 11.938 min\n",
    "4538541.30462\n",
    "3379.12875389\n",
    "#Tol=1, Nul=200, N=100, 11.029 min - full\n",
    "627615304.428\n",
    "279002.65513"
   ]
  },
  {
   "cell_type": "code",
   "execution_count": null,
   "metadata": {},
   "outputs": [],
   "source": [
    "sig2np=np.zeros((Nu,Nv))\n",
    "sigdiffnp=np.zeros((Nu,Nv))\n",
    "\n",
    "sig2np[:,:]=np.log(1-2*M0/rnp[:,:]+Q**2/rnp[:,:]**2-Lambda*rnp[:,:]**2/3)\n",
    "\n",
    "sigdiffnp[:,:]=np.abs(signp[:,:]-sig2np[:,:])"
   ]
  },
  {
   "cell_type": "code",
   "execution_count": null,
   "metadata": {
    "scrolled": false
   },
   "outputs": [],
   "source": [
    "plot1=plt.pcolormesh(vrange,urange,np.ma.masked_invalid(sigdiffnp),cmap=plt.cm.cool,norm=LogNorm(vmin=0.01, vmax=np.nanmax(sigdiffnp)))\n",
    "plt.xlabel('v')\n",
    "plt.ylabel('u')\n",
    "#plt.xlim(0,20)\n",
    "plt.ylim(0,umax)\n",
    "plt.xlim(0,vmax)\n",
    "#plt.ylim(9.2758,9.2761)\n",
    "plt.colorbar(plot1)\n",
    "plt.title('Difference in Sigma vs (u,v) Coordinates (Eddington)')\n",
    "#plt.savefig('EH-mismatch.png',dpi=300)\n",
    "plt.show()"
   ]
  },
  {
   "cell_type": "code",
   "execution_count": null,
   "metadata": {},
   "outputs": [],
   "source": [
    "print(sigdiffnp)\n",
    "print(np.nanmax(sigdiffnp))"
   ]
  },
  {
   "cell_type": "code",
   "execution_count": null,
   "metadata": {
    "scrolled": true
   },
   "outputs": [],
   "source": [
    "def ce1checker(rnp,signp,i):\n",
    "    checklist=np.empty((Nv-2))*np.nan\n",
    "    for j in range(0,Nv-2):\n",
    "        checklist[j]=1/dv0**2*(rnp[i][j+2]-2*rnp[i][j+1]+rnp[i][j]-(rnp[i][j+1]-rnp[i][j])*(signp[i][j+1]-signp[i][j]))\n",
    "    return checklist\n",
    "def ce2checker(rnp,signp,j):\n",
    "    checklist=np.empty((Nu-2))*np.nan\n",
    "    for i in range(0,Nu-2):\n",
    "        checklist[i]=1/((urange[i+1]-urange[i])*(urange[i+2]-urange[i+1]))*((rnp[i+2][j]-2*rnp[i+1][j]+rnp[i][j])-(rnp[i+1][j]-rnp[i][j])*(signp[i+1][j]-signp[i][j]))\n",
    "    return checklist\n",
    "\n",
    "\n",
    "print(ce1checker(rnp,signp,3500))\n",
    "print(np.nanmax(np.abs(ce1checker(rnp,signp,3500))))\n",
    "print(ce2checker(rnp,signp,0))\n",
    "print(np.nanmax(np.abs(ce2checker(rnp,signp,0))))"
   ]
  },
  {
   "cell_type": "code",
   "execution_count": null,
   "metadata": {},
   "outputs": [],
   "source": [
    "u5=1000\n",
    "v5=1200\n",
    "\n",
    "du0=urange[u5+1]-urange[u5]\n",
    "dv0=vrange[v5+1]-vrange[v5]\n",
    "print(du0)\n",
    "print(dv0)\n",
    "\n",
    "rnpnew=np.array([[rnp[u5][v5],rnp[u5][v5+1]],[rnp[u5+1][v5],2]])\n",
    "signpnew=np.array([[signp[u5][v5],signp[u5][v5+1]],[signp[u5+1][v5],2]])\n",
    "phinpnew=np.array([[0,0],[0,0]])\n",
    "\n",
    "print(rnpnew)\n",
    "print(signpnew)\n",
    "\n",
    "print(dnu.x4giveralt(0,0,du0,dv0,rnpnew,phinpnew,signpnew,1.0,.95,0.0,np.float64))\n",
    "print(massnp[u5][v5])"
   ]
  },
  {
   "cell_type": "code",
   "execution_count": null,
   "metadata": {},
   "outputs": [],
   "source": [
    "print(rnp[1][0])"
   ]
  },
  {
   "cell_type": "code",
   "execution_count": null,
   "metadata": {},
   "outputs": [],
   "source": [
    "#u=1,v=1\n",
    "M2=1.0000231\n",
    "M3=1.0000002 \n",
    "M4=1.0000119 #increase v res\n",
    "M5=1.0000010 #increase u res\n",
    "###############\n",
    "#u=10,v=10\n",
    "M2=1.0000229\n",
    "M3=1.0000002\n",
    "M4=1.0000139\n",
    "M5=1.0000098"
   ]
  },
  {
   "cell_type": "code",
   "execution_count": null,
   "metadata": {},
   "outputs": [],
   "source": []
  },
  {
   "cell_type": "code",
   "execution_count": null,
   "metadata": {},
   "outputs": [],
   "source": []
  }
 ],
 "metadata": {
  "kernelspec": {
   "display_name": "Python 3",
   "language": "python",
   "name": "python3"
  },
  "language_info": {
   "codemirror_mode": {
    "name": "ipython",
    "version": 3
   },
   "file_extension": ".py",
   "mimetype": "text/x-python",
   "name": "python",
   "nbconvert_exporter": "python",
   "pygments_lexer": "ipython3",
   "version": "3.6.6"
  }
 },
 "nbformat": 4,
 "nbformat_minor": 2
}
