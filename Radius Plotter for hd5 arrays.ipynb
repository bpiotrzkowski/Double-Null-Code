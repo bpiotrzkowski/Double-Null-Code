{
 "cells": [
  {
   "cell_type": "code",
   "execution_count": null,
   "metadata": {},
   "outputs": [],
   "source": [
    "###Python Packages###\n",
    "\n",
    "import numpy as np\n",
    "import matplotlib.pyplot as plt\n",
    "from matplotlib import rc\n",
    "from matplotlib.colors import LogNorm\n",
    "import math as mth\n",
    "import timeit\n",
    "import Double_Null_utils as dnu\n",
    "from scipy import optimize\n",
    "import tables\n",
    "import h5py\n",
    "\n"
   ]
  },
  {
   "cell_type": "code",
   "execution_count": null,
   "metadata": {},
   "outputs": [],
   "source": [
    "uscal=2\n",
    "vscal=1"
   ]
  },
  {
   "cell_type": "markdown",
   "metadata": {},
   "source": [
    "If hd5 is used, uscal and vscal reduce arrays by their value in order to prevent memory overflow. Use when h5 files are very large (i.e. >2gB)"
   ]
  },
  {
   "cell_type": "code",
   "execution_count": null,
   "metadata": {},
   "outputs": [],
   "source": [
    "#rnp=np.load('rnp.npy')\n",
    "#signp=np.load('sig.npy')\n",
    "rnputil=np.load('rnputil.npy')\n",
    "urange=np.load('urange.npy')[::uscal]\n",
    "vrange=np.load('vrange.npy')[::vscal]\n",
    "\n",
    "#print(rnputil)"
   ]
  },
  {
   "cell_type": "code",
   "execution_count": null,
   "metadata": {},
   "outputs": [],
   "source": [
    "with h5py.File('rnp.h5','r') as f:\n",
    "    r_group_key = list(f.keys())[0]\n",
    "    rnpi=f[r_group_key]\n",
    "    rnp = np.asarray(rnpi[::uscal,::vscal],dtype=np.float_)\n",
    "    \n",
    "with h5py.File('signp.h5','r') as f:\n",
    "    sig_group_key = list(f.keys())[0]\n",
    "    signpi=f[sig_group_key]\n",
    "    signp = np.asarray(signpi[::uscal,::vscal],dtype=np.float_)\n",
    "with h5py.File('massnp.h5','r') as f:\n",
    "    mass_group_key = list(f.keys())[0]\n",
    "    massnpi=f[mass_group_key]\n",
    "    massnp = np.asarray(massnpi[::uscal,::vscal])\n",
    "print(str(rnp.nbytes)+\" bytes\")\n",
    "\n",
    "print(rnp)\n",
    "\n",
    "switchax=rnputil[9]\n",
    "print(switchax)\n",
    "if switchax==True:\n",
    "    rnp=np.swapaxes(rnp,0,1)\n",
    "    signp=np.swapaxes(signp,0,1)\n",
    "    #phinp=np.swapaxes(phinp,0,1)\n",
    "    massnp=np.swapaxes(massnp,0,1)\n",
    "    print(\"Switched Axes\")\n",
    "\n",
    "print(massnp[1])\n",
    "print(rnp[:,4])"
   ]
  },
  {
   "cell_type": "code",
   "execution_count": null,
   "metadata": {},
   "outputs": [],
   "source": [
    "print(len(urange),len(vrange))"
   ]
  },
  {
   "cell_type": "code",
   "execution_count": null,
   "metadata": {},
   "outputs": [],
   "source": [
    "print(rnputil)\n",
    "\n",
    "N=int(rnputil[0])\n",
    "Nu=len(urange)#int(rnputil[1])\n",
    "Nv=len(vrange)#int(rnputil[2])\n",
    "ru0=float(rnputil[3])\n",
    "dr0v=float(rnputil[4])\n",
    "M0=float(rnputil[5])\n",
    "Q=float(rnputil[6])\n",
    "Lambda=float(rnputil[7])\n",
    "umax=np.nanmax(urange)\n",
    "vmax=np.nanmax(vrange)\n",
    "\n",
    "print('N='+str(N))\n",
    "\n",
    "if M0>0.0:\n",
    "    du0=M0/N\n",
    "    dv0=du0\n",
    "else:\n",
    "    du0=1/N\n",
    "    dv0=du0\n",
    "\n",
    "def fr(r,M0,Q,Lambda):\n",
    "    return 1-2*M0/r+Q**2.0/r**2.0-Lambda*r**2.0/3.0\n",
    "\n",
    "sol = optimize.root(fr,[0.687,1.3,50.0],args=(M0,Q,Lambda), method='hybr')\n",
    "rminus=sol.x[0]\n",
    "rplus=sol.x[1]\n",
    "rcosm=sol.x[2]\n"
   ]
  },
  {
   "cell_type": "code",
   "execution_count": null,
   "metadata": {},
   "outputs": [],
   "source": [
    "for line in rnp[::100]:\n",
    "    plt.plot(vrange,line)\n",
    "plt.plot([0,vmax],[rplus,rplus],'r--',color='red',linewidth=0.5, label='r+')\n",
    "plt.plot([0,vmax],[rminus,rminus],'r--',color='blue',linewidth=0.5, label='r-')\n",
    "plt.ylim(0,5)    \n",
    "plt.grid()\n",
    "plt.show()"
   ]
  },
  {
   "cell_type": "code",
   "execution_count": null,
   "metadata": {},
   "outputs": [],
   "source": [
    "AHloc=[]\n",
    "for j in range(0,Nv-1):\n",
    "    for i in range(0,Nu):\n",
    "        drv=rnp[i][j+1]-rnp[i][j]\n",
    "        if drv>0.0 and rnp[i][j]<rplus:\n",
    "            AHloc.append(i)\n",
    "            break\n",
    "        if i==Nu-1:\n",
    "            AHloc.append(np.nan)\n",
    "AHulist=[]            \n",
    "for k in range(0,len(AHloc)):\n",
    "    try:\n",
    "        AHulist.append(urange[AHloc[k]])\n",
    "    except:\n",
    "        AHulist.append(np.nan)\n",
    "#AHulist=np.take(urange,AHloc)\n",
    "plt.plot(np.delete(vrange,-1),AHulist) \n",
    "plt.show()"
   ]
  },
  {
   "cell_type": "code",
   "execution_count": null,
   "metadata": {},
   "outputs": [],
   "source": [
    "levels=np.arange(5.0, np.nanmax(rnp), 5.0 )\n",
    "#levels=np.arange(5.0, 100, 5.0 )\n",
    "if Q==0.0:\n",
    "     levels=np.insert(levels,0,[1.0])\n",
    "if Q>0.0:\n",
    "    levels=np.insert(levels,0,[.7,1.0])\n",
    "\n",
    "\n",
    "\n",
    "plot1=plt.pcolormesh(vrange,urange,np.ma.masked_invalid(rnp),cmap=plt.cm.cool,vmin=0.0,vmax=np.nanmax(rnp))\n",
    "plot4=plt.contour(vrange,urange,np.ma.masked_invalid(rnp),levels,linewidths=0.5,colors='black',extent=(0,vmax,0,umax),aspect='auto',origin='lower')\n",
    "plot5=plt.contour(vrange,urange,np.ma.masked_invalid  (rnp), [rplus],linewidths=0.5,colors='red',extent=(0,vmax,0,umax),aspect='auto',origin='lower')\n",
    "#plot7=plt.plot(np.delete(vrange,-1),AHulist) \n",
    "plt.clabel(plot4, levels, \n",
    "           inline=0, inline_spacing=0, \n",
    "           fmt='%1.2f',rightside_up=True,\n",
    "           fontsize=8)\n",
    "plt.xlabel('v')\n",
    "plt.ylabel('u')\n",
    "#plt.xlim(0,20)\n",
    "plt.ylim(0,umax)\n",
    "plt.xlim(0,vmax)\n",
    "#plt.ylim(9.2758,9.2761)\n",
    "plt.colorbar(plot1)\n",
    "plt.title('Radius vs (u,v) Coordinates')\n",
    "#plt.savefig('EH-mismatch.png',dpi=300)\n",
    "plt.show()"
   ]
  },
  {
   "cell_type": "code",
   "execution_count": null,
   "metadata": {},
   "outputs": [],
   "source": [
    "#levels=np.arange(5.0, np.nanmax(signp), 5.0 )\n",
    "#levels=np.arange(5.0, 100, 5.0 )\n",
    "#if Q==0.0:\n",
    "     #levels=np.insert(levels,0,[1.0])\n",
    "#if Q>0.0:\n",
    "    #levels=np.insert(levels,0,[rminus,rminus+.01,.7,1.0])\n",
    "\n",
    "\n",
    "\n",
    "plot1=plt.pcolormesh(vrange,urange,np.ma.masked_invalid(signp),cmap=plt.cm.cool,vmin=np.nanmin(signp),vmax=np.nanmax(signp))\n",
    "#plot4=plt.contour(vrange,urange,np.ma.masked_invalid(signp),levels,linewidths=0.5,colors='black',extent=(0,vmax,0,umax),aspect='auto',origin='lower')\n",
    "plot5=plt.contour(vrange,urange,np.ma.masked_invalid(rnp), [rplus],linewidths=0.5,colors='red',extent=(0,vmax,0,umax),aspect='auto',origin='lower')\n",
    "#plt.clabel(plot4, levels, inline=0, inline_spacing=0, fmt='%1.2f',rightside_up=True,fontsize=8)\n",
    "plt.xlabel('v')\n",
    "plt.ylabel('u')\n",
    "#plt.xlim(0,20)\n",
    "plt.ylim(0,umax)\n",
    "plt.xlim(0,vmax)\n",
    "#plt.ylim(9.2758,9.2761)\n",
    "plt.colorbar(plot1)\n",
    "plt.title('Sigma vs (u,v) Coordinates')\n",
    "#plt.savefig('EH-mismatch.png',dpi=300)\n",
    "plt.show()"
   ]
  },
  {
   "cell_type": "code",
   "execution_count": null,
   "metadata": {},
   "outputs": [],
   "source": [
    "print(len(rnp[0]))"
   ]
  },
  {
   "cell_type": "code",
   "execution_count": null,
   "metadata": {},
   "outputs": [],
   "source": [
    "print(umax)"
   ]
  },
  {
   "cell_type": "code",
   "execution_count": null,
   "metadata": {},
   "outputs": [],
   "source": []
  },
  {
   "cell_type": "code",
   "execution_count": null,
   "metadata": {},
   "outputs": [],
   "source": [
    "plt.plot(urange,rnp[:,0])\n",
    "plt.show()\n",
    "#print(np.polyfit(urange,rnp[:,0],2.0))\n",
    "plt.plot(vrange,rnp[0,:])\n",
    "plt.show()\n",
    "print(np.polyfit(vrange,rnp[0,:],2.0))\n",
    "print(np.polyfit(urange,rnp[:,0],2.0))"
   ]
  },
  {
   "cell_type": "code",
   "execution_count": null,
   "metadata": {},
   "outputs": [],
   "source": []
  },
  {
   "cell_type": "code",
   "execution_count": null,
   "metadata": {},
   "outputs": [],
   "source": []
  },
  {
   "cell_type": "code",
   "execution_count": null,
   "metadata": {},
   "outputs": [],
   "source": []
  },
  {
   "cell_type": "code",
   "execution_count": null,
   "metadata": {},
   "outputs": [],
   "source": [
    "print(Nu,Nv)\n",
    "\n",
    "u4=500\n",
    "v4=1000\n",
    "\n",
    "print(urange[u4],vrange[v4])"
   ]
  },
  {
   "cell_type": "code",
   "execution_count": null,
   "metadata": {},
   "outputs": [],
   "source": [
    "dru=np.zeros((Nu-1))\n",
    "\n",
    "for i in range(0,Nu-1):\n",
    "    dru[i]=(rnp[i+1][v4]-rnp[i][v4])/(urange[i+1]-urange[i])\n",
    "plt.plot(np.delete(urange,0),np.abs(dru))\n",
    "plt.yscale('log')\n",
    "plt.ylabel('|r,u|')\n",
    "plt.xlabel('u')\n",
    "plt.show()\n",
    "\n"
   ]
  },
  {
   "cell_type": "code",
   "execution_count": null,
   "metadata": {
    "scrolled": true
   },
   "outputs": [],
   "source": [
    "drv=np.zeros((Nv-1))\n",
    "\n",
    "for j in range(0,Nv-1):\n",
    "    drv[j]=(rnp[u4][j+1]-rnp[u4][j])/(vrange[j+1]-vrange[j])\n",
    "plt.plot(np.delete(vrange,0),np.abs(drv))\n",
    "plt.yscale('log')\n",
    "plt.ylabel('|r,v|')\n",
    "plt.xlabel('v')\n",
    "plt.show()\n"
   ]
  },
  {
   "cell_type": "code",
   "execution_count": null,
   "metadata": {},
   "outputs": [],
   "source": [
    "r=rnp[u4][v4]\n",
    "print(r)\n",
    "print(dru[u4],drv[v4],mth.exp(-signp[u4][v4]))\n",
    "print(dru[u4]*drv[v4]*mth.exp(-signp[u4][v4]))\n",
    "print(-1/4*(1-2*M0/r+Q**2/r**2))"
   ]
  },
  {
   "cell_type": "code",
   "execution_count": null,
   "metadata": {},
   "outputs": [],
   "source": [
    "r=rnp[u4][v4]\n",
    "print(\"M=\"+str((1.0+4.0*np.exp(-signp[u4][v4])*dru[u4]*drv[v4])*r/2+Q**2.0/(2.0*r)))\n",
    "print(massnp[u4][v4])"
   ]
  },
  {
   "cell_type": "code",
   "execution_count": null,
   "metadata": {},
   "outputs": [],
   "source": [
    "print(rnp[u4+1][v4],rnp[u4][v4])\n",
    "print(rnp[u4+1][v4]-rnp[u4][v4])\n",
    "print(urange[u4+1],urange[u4])\n",
    "print(urange[u4+1]-urange[u4])"
   ]
  },
  {
   "cell_type": "code",
   "execution_count": null,
   "metadata": {},
   "outputs": [],
   "source": [
    "print(rnp)"
   ]
  },
  {
   "cell_type": "code",
   "execution_count": null,
   "metadata": {},
   "outputs": [],
   "source": []
  },
  {
   "cell_type": "code",
   "execution_count": null,
   "metadata": {},
   "outputs": [],
   "source": []
  }
 ],
 "metadata": {
  "kernelspec": {
   "display_name": "Python 3",
   "language": "python",
   "name": "python3"
  },
  "language_info": {
   "codemirror_mode": {
    "name": "ipython",
    "version": 3
   },
   "file_extension": ".py",
   "mimetype": "text/x-python",
   "name": "python",
   "nbconvert_exporter": "python",
   "pygments_lexer": "ipython3",
   "version": "3.6.5"
  }
 },
 "nbformat": 4,
 "nbformat_minor": 2
}
