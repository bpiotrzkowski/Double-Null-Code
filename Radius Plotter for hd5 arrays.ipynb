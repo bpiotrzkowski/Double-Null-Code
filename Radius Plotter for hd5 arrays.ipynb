{
 "cells": [
  {
   "cell_type": "code",
   "execution_count": 1,
   "metadata": {},
   "outputs": [],
   "source": [
    "###Python Packages###\n",
    "\n",
    "import numpy as np\n",
    "import matplotlib.pyplot as plt\n",
    "from matplotlib import rc\n",
    "from matplotlib.colors import LogNorm\n",
    "import math as mth\n",
    "import timeit\n",
    "from scipy import optimize\n",
    "import tables\n",
    "import h5py\n",
    "\n"
   ]
  },
  {
   "cell_type": "markdown",
   "metadata": {},
   "source": [
    "### This code displays radius vs v and radius vs u"
   ]
  },
  {
   "cell_type": "code",
   "execution_count": 2,
   "metadata": {},
   "outputs": [],
   "source": [
    "uscal=15\n",
    "vscal=10"
   ]
  },
  {
   "cell_type": "markdown",
   "metadata": {},
   "source": [
    "uscal and vscal reduce arrays by their value in order to prevent memory overflow. Use when h5 files are very large (i.e. >2gB)"
   ]
  },
  {
   "cell_type": "code",
   "execution_count": 3,
   "metadata": {},
   "outputs": [],
   "source": [
    "#rnp=np.load('rnp.npy')\n",
    "#signp=np.load('sig.npy')\n",
    "rnputil=np.load('rnputil.npy')\n",
    "urange=np.load('urange.npy')[::uscal]\n",
    "vrange=np.load('vrange.npy')[::vscal]\n",
    "\n",
    "#print(rnputi"
   ]
  },
  {
   "cell_type": "code",
   "execution_count": 10,
   "metadata": {},
   "outputs": [
    {
     "ename": "OSError",
     "evalue": "Unable to open file (file signature not found)",
     "output_type": "error",
     "traceback": [
      "\u001b[0;31m---------------------------------------------------------------------------\u001b[0m",
      "\u001b[0;31mOSError\u001b[0m                                   Traceback (most recent call last)",
      "\u001b[0;32m<ipython-input-10-ed0868362402>\u001b[0m in \u001b[0;36m<module>\u001b[0;34m()\u001b[0m\n\u001b[0;32m----> 1\u001b[0;31m \u001b[0;32mwith\u001b[0m \u001b[0mh5py\u001b[0m\u001b[0;34m.\u001b[0m\u001b[0mFile\u001b[0m\u001b[0;34m(\u001b[0m\u001b[0;34m'rnp.h5'\u001b[0m\u001b[0;34m,\u001b[0m\u001b[0;34m'r'\u001b[0m\u001b[0;34m)\u001b[0m \u001b[0;32mas\u001b[0m \u001b[0mf\u001b[0m\u001b[0;34m:\u001b[0m\u001b[0;34m\u001b[0m\u001b[0m\n\u001b[0m\u001b[1;32m      2\u001b[0m     \u001b[0mr_group_key\u001b[0m \u001b[0;34m=\u001b[0m \u001b[0mlist\u001b[0m\u001b[0;34m(\u001b[0m\u001b[0mf\u001b[0m\u001b[0;34m.\u001b[0m\u001b[0mkeys\u001b[0m\u001b[0;34m(\u001b[0m\u001b[0;34m)\u001b[0m\u001b[0;34m)\u001b[0m\u001b[0;34m[\u001b[0m\u001b[0;36m0\u001b[0m\u001b[0;34m]\u001b[0m\u001b[0;34m\u001b[0m\u001b[0m\n\u001b[1;32m      3\u001b[0m     \u001b[0mrnpi\u001b[0m\u001b[0;34m=\u001b[0m\u001b[0mf\u001b[0m\u001b[0;34m[\u001b[0m\u001b[0mr_group_key\u001b[0m\u001b[0;34m]\u001b[0m\u001b[0;34m\u001b[0m\u001b[0m\n\u001b[1;32m      4\u001b[0m     \u001b[0mrnp\u001b[0m \u001b[0;34m=\u001b[0m \u001b[0mnp\u001b[0m\u001b[0;34m.\u001b[0m\u001b[0masarray\u001b[0m\u001b[0;34m(\u001b[0m\u001b[0mrnpi\u001b[0m\u001b[0;34m[\u001b[0m\u001b[0;34m:\u001b[0m\u001b[0;34m:\u001b[0m\u001b[0muscal\u001b[0m\u001b[0;34m,\u001b[0m\u001b[0;34m:\u001b[0m\u001b[0;34m:\u001b[0m\u001b[0mvscal\u001b[0m\u001b[0;34m]\u001b[0m\u001b[0;34m,\u001b[0m\u001b[0mdtype\u001b[0m\u001b[0;34m=\u001b[0m\u001b[0mnp\u001b[0m\u001b[0;34m.\u001b[0m\u001b[0mfloat_\u001b[0m\u001b[0;34m)\u001b[0m\u001b[0;34m\u001b[0m\u001b[0m\n\u001b[1;32m      5\u001b[0m \u001b[0;34m\u001b[0m\u001b[0m\n",
      "\u001b[0;32m~/.conda/envs/pycbc/lib/python3.6/site-packages/h5py/_hl/files.py\u001b[0m in \u001b[0;36m__init__\u001b[0;34m(self, name, mode, driver, libver, userblock_size, swmr, **kwds)\u001b[0m\n\u001b[1;32m    310\u001b[0m             \u001b[0;32mwith\u001b[0m \u001b[0mphil\u001b[0m\u001b[0;34m:\u001b[0m\u001b[0;34m\u001b[0m\u001b[0m\n\u001b[1;32m    311\u001b[0m                 \u001b[0mfapl\u001b[0m \u001b[0;34m=\u001b[0m \u001b[0mmake_fapl\u001b[0m\u001b[0;34m(\u001b[0m\u001b[0mdriver\u001b[0m\u001b[0;34m,\u001b[0m \u001b[0mlibver\u001b[0m\u001b[0;34m,\u001b[0m \u001b[0;34m**\u001b[0m\u001b[0mkwds\u001b[0m\u001b[0;34m)\u001b[0m\u001b[0;34m\u001b[0m\u001b[0m\n\u001b[0;32m--> 312\u001b[0;31m                 \u001b[0mfid\u001b[0m \u001b[0;34m=\u001b[0m \u001b[0mmake_fid\u001b[0m\u001b[0;34m(\u001b[0m\u001b[0mname\u001b[0m\u001b[0;34m,\u001b[0m \u001b[0mmode\u001b[0m\u001b[0;34m,\u001b[0m \u001b[0muserblock_size\u001b[0m\u001b[0;34m,\u001b[0m \u001b[0mfapl\u001b[0m\u001b[0;34m,\u001b[0m \u001b[0mswmr\u001b[0m\u001b[0;34m=\u001b[0m\u001b[0mswmr\u001b[0m\u001b[0;34m)\u001b[0m\u001b[0;34m\u001b[0m\u001b[0m\n\u001b[0m\u001b[1;32m    313\u001b[0m \u001b[0;34m\u001b[0m\u001b[0m\n\u001b[1;32m    314\u001b[0m                 \u001b[0;32mif\u001b[0m \u001b[0mswmr_support\u001b[0m\u001b[0;34m:\u001b[0m\u001b[0;34m\u001b[0m\u001b[0m\n",
      "\u001b[0;32m~/.conda/envs/pycbc/lib/python3.6/site-packages/h5py/_hl/files.py\u001b[0m in \u001b[0;36mmake_fid\u001b[0;34m(name, mode, userblock_size, fapl, fcpl, swmr)\u001b[0m\n\u001b[1;32m    140\u001b[0m         \u001b[0;32mif\u001b[0m \u001b[0mswmr\u001b[0m \u001b[0;32mand\u001b[0m \u001b[0mswmr_support\u001b[0m\u001b[0;34m:\u001b[0m\u001b[0;34m\u001b[0m\u001b[0m\n\u001b[1;32m    141\u001b[0m             \u001b[0mflags\u001b[0m \u001b[0;34m|=\u001b[0m \u001b[0mh5f\u001b[0m\u001b[0;34m.\u001b[0m\u001b[0mACC_SWMR_READ\u001b[0m\u001b[0;34m\u001b[0m\u001b[0m\n\u001b[0;32m--> 142\u001b[0;31m         \u001b[0mfid\u001b[0m \u001b[0;34m=\u001b[0m \u001b[0mh5f\u001b[0m\u001b[0;34m.\u001b[0m\u001b[0mopen\u001b[0m\u001b[0;34m(\u001b[0m\u001b[0mname\u001b[0m\u001b[0;34m,\u001b[0m \u001b[0mflags\u001b[0m\u001b[0;34m,\u001b[0m \u001b[0mfapl\u001b[0m\u001b[0;34m=\u001b[0m\u001b[0mfapl\u001b[0m\u001b[0;34m)\u001b[0m\u001b[0;34m\u001b[0m\u001b[0m\n\u001b[0m\u001b[1;32m    143\u001b[0m     \u001b[0;32melif\u001b[0m \u001b[0mmode\u001b[0m \u001b[0;34m==\u001b[0m \u001b[0;34m'r+'\u001b[0m\u001b[0;34m:\u001b[0m\u001b[0;34m\u001b[0m\u001b[0m\n\u001b[1;32m    144\u001b[0m         \u001b[0mfid\u001b[0m \u001b[0;34m=\u001b[0m \u001b[0mh5f\u001b[0m\u001b[0;34m.\u001b[0m\u001b[0mopen\u001b[0m\u001b[0;34m(\u001b[0m\u001b[0mname\u001b[0m\u001b[0;34m,\u001b[0m \u001b[0mh5f\u001b[0m\u001b[0;34m.\u001b[0m\u001b[0mACC_RDWR\u001b[0m\u001b[0;34m,\u001b[0m \u001b[0mfapl\u001b[0m\u001b[0;34m=\u001b[0m\u001b[0mfapl\u001b[0m\u001b[0;34m)\u001b[0m\u001b[0;34m\u001b[0m\u001b[0m\n",
      "\u001b[0;32mh5py/_objects.pyx\u001b[0m in \u001b[0;36mh5py._objects.with_phil.wrapper\u001b[0;34m()\u001b[0m\n",
      "\u001b[0;32mh5py/_objects.pyx\u001b[0m in \u001b[0;36mh5py._objects.with_phil.wrapper\u001b[0;34m()\u001b[0m\n",
      "\u001b[0;32mh5py/h5f.pyx\u001b[0m in \u001b[0;36mh5py.h5f.open\u001b[0;34m()\u001b[0m\n",
      "\u001b[0;31mOSError\u001b[0m: Unable to open file (file signature not found)"
     ]
    }
   ],
   "source": [
    "with h5py.File('rnp.h5','r') as f:\n",
    "    r_group_key = list(f.keys())[0]\n",
    "    rnpi=f[r_group_key]\n",
    "    rnp = np.asarray(rnpi[::uscal,::vscal],dtype=np.float_)\n",
    "    \n",
    "with h5py.File('signp.h5','r') as f:\n",
    "    sig_group_key = list(f.keys())[0]\n",
    "    signpi=f[sig_group_key]\n",
    "    signp = np.asarray(signpi[::uscal,::vscal],dtype=np.float_)\n",
    "with h5py.File('massnp.h5','r') as f:\n",
    "    mass_group_key = list(f.keys())[0]\n",
    "    massnpi=f[mass_group_key]\n",
    "    massnp = np.asarray(massnpi[::uscal,::vscal])\n",
    "print(str(rnp.nbytes)+\" bytes\")\n",
    "\n",
    "print(rnp)\n",
    "\n",
    "switchax=rnputil[9]\n",
    "print(switchax)\n",
    "if switchax==True:\n",
    "    rnp=np.swapaxes(rnp,0,1)\n",
    "    signp=np.swapaxes(signp,0,1)\n",
    "    #phinp=np.swapaxes(phinp,0,1)\n",
    "    #massnp=np.swapaxes(massnp,0,1)\n",
    "    print(\"Switched Axes\")"
   ]
  },
  {
   "cell_type": "code",
   "execution_count": 5,
   "metadata": {},
   "outputs": [
    {
     "name": "stdout",
     "output_type": "stream",
     "text": [
      "367 80\n",
      "367\n"
     ]
    }
   ],
   "source": [
    "print(len(urange),len(vrange))\n",
    "print(len(rnp))"
   ]
  },
  {
   "cell_type": "code",
   "execution_count": 6,
   "metadata": {},
   "outputs": [
    {
     "name": "stdout",
     "output_type": "stream",
     "text": [
      "['4396800' '5496' '800' '5' '0.31805' '1.0' '0.95' '0.0' 'True' '0.0'\n",
      " 'edd']\n",
      "[[1.         1.         1.         ... 1.00285143 1.00285143 1.00285143]\n",
      " [1.         1.         1.         ... 1.00285142 1.00285142 1.00285142]\n",
      " [1.         1.         1.         ... 1.00285141 1.00285141 1.00285141]\n",
      " ...\n",
      " [1.         1.         1.         ... 1.0028079  1.00280855 1.00280916]\n",
      " [1.         1.         1.         ... 1.0028079  1.00280855 1.00280916]\n",
      " [1.         1.         1.         ... 1.0028079  1.00280855 1.00280916]]\n",
      "N=4396800\n",
      "99.88656249991408 19.75\n",
      "0.6815867725315132 1.324116072041726 1.3241160720417546\n"
     ]
    }
   ],
   "source": [
    "print(rnputil)\n",
    "\n",
    "M=massnp[1][-1]\n",
    "print(massnp)\n",
    "\n",
    "N=int(rnputil[0])\n",
    "Nu=len(urange)#int(rnputil[1])\n",
    "Nv=len(vrange)#int(rnputil[2])\n",
    "ru0=float(rnputil[3])\n",
    "dr0v=float(rnputil[4])\n",
    "M0=float(rnputil[5])\n",
    "Q=float(rnputil[6])\n",
    "Lambda=float(rnputil[7])\n",
    "umax=np.nanmax(urange)\n",
    "vmax=np.nanmax(vrange)\n",
    "\n",
    "print('N='+str(N))\n",
    "\n",
    "if M0>0.0:\n",
    "    du0=M0/N\n",
    "    dv0=du0\n",
    "else:\n",
    "    du0=1/N\n",
    "    dv0=du0\n",
    "    \n",
    "#M=nan.max(massnp)\n",
    "\n",
    "def fr(r,M,Q,Lambda):\n",
    "    return 1-2*M/r+Q**2.0/r**2.0-Lambda*r**2.0/3.0\n",
    "\n",
    "sol = optimize.root(fr,[0.6,1.3,53.0],args=(M,Q,Lambda), method='hybr')\n",
    "rminus=sol.x[0]\n",
    "rplus=sol.x[1]\n",
    "rcosm=sol.x[2]\n",
    "print(umax,vmax)\n",
    "print(rminus,rplus,rcosm)"
   ]
  },
  {
   "cell_type": "code",
   "execution_count": 7,
   "metadata": {},
   "outputs": [
    {
     "data": {
      "image/png": "[encoded data removed]",
      "text/plain": [
       "<Figure size 432x288 with 1 Axes>"
      ]
     },
     "metadata": {
      "needs_background": "light"
     },
     "output_type": "display_data"
    },
    {
     "data": {
      "image/png": "[encoded data removed]",
      "text/plain": [
       "<Figure size 432x288 with 1 Axes>"
      ]
     },
     "metadata": {
      "needs_background": "light"
     },
     "output_type": "display_data"
    }
   ],
   "source": [
    "for line in rnp[::5]:\n",
    "    plt.plot(line,vrange)\n",
    "#plt.plot([0,vmax],[rplus,rplus],'r--',color='red',linewidth=0.5, label='r+')\n",
    "#plt.plot([0,vmax],[rminus,rminus],'r--',color='blue',linewidth=0.5, label='r-')\n",
    "plt.xlim(0,np.nanmax(rnp)) \n",
    "plt.axvline(x=rplus,linewidth=0.5,linestyle='--',color='red')\n",
    "plt.axvline(x=rminus,linewidth=0.5,linestyle='--',color='blue')\n",
    "plt.axvline(x=rcosm,linewidth=0.5,linestyle='--',color='green')\n",
    "#plt.xlim(1.2,1.4)\n",
    "#plt.xlim(0,55)\n",
    "plt.xlim(0,2.0)\n",
    "#plt.ylim(0,10) \n",
    "\n",
    "plt.ylabel('v')\n",
    "plt.xlabel('r(v)')\n",
    "plt.grid()\n",
    "#plt.savefig('num-rel-pics/r vs v-lambda-Phi.png',dpi=300)\n",
    "plt.show()\n",
    "\n",
    "ui=0\n",
    "while ui < len(urange):\n",
    "    try:\n",
    "        plt.plot(rnp[:,ui+1],urange)\n",
    "        ui += 10\n",
    "    except:\n",
    "        break\n",
    "#plt.plot([0,umax],[rplus,rplus],'r--',color='red',linewidth=0.5, label='r+')\n",
    "#plt.plot([0,umax],[rminus,rminus],'r--',color='blue',linewidth=0.5, label='r-')\n",
    "plt.axvline(x=rplus,linewidth=0.75,linestyle='--',color='red')\n",
    "plt.axvline(x=rminus,linewidth=0.75,linestyle='--',color='blue')\n",
    "#plt.axvline(x=rcosm,linewidth=1.0,linestyle='--',color='green')\n",
    "#plt.xlim(0,10)#/8)\n",
    "#plt.ylim(0,umax)   \n",
    "#plt.ylim(.686,.69) \n",
    "plt.ylabel('u')\n",
    "plt.xlabel('r(u)')\n",
    "plt.grid()\n",
    "#plt.xscale('log')\n",
    "#plt.yscale('log')\n",
    "#plt.savefig('num-rel-pics/r vs u-Lambda-Phi.png',dpi=300)\n",
    "plt.show()"
   ]
  },
  {
   "cell_type": "code",
   "execution_count": 8,
   "metadata": {},
   "outputs": [
    {
     "data": {
      "image/png": "[encoded data removed]",
      "text/plain": [
       "<Figure size 432x288 with 1 Axes>"
      ]
     },
     "metadata": {
      "needs_background": "light"
     },
     "output_type": "display_data"
    }
   ],
   "source": [
    "AHloc=[]\n",
    "for j in range(0,Nv-1):\n",
    "    for i in range(0,Nu):\n",
    "        drv=rnp[i][j+1]-rnp[i][j]\n",
    "        if drv<0.0 and rnp[i][j]<rplus:\n",
    "            AHloc.append(i)\n",
    "            break\n",
    "        if i==Nu-1:\n",
    "            AHloc.append(np.nan)\n",
    "AHulist=[]            \n",
    "for k in range(0,len(AHloc)):\n",
    "    try:\n",
    "        AHulist.append(urange[AHloc[k]])\n",
    "    except:\n",
    "        AHulist.append(np.nan)\n",
    "#AHulist=np.take(urange,AHloc)\n",
    "plt.plot(np.delete(vrange,-1),AHulist) \n",
    "plt.show()\n"
   ]
  },
  {
   "cell_type": "markdown",
   "metadata": {},
   "source": [
    "###Legacy Code###"
   ]
  },
  {
   "cell_type": "code",
   "execution_count": 9,
   "metadata": {},
   "outputs": [
    {
     "ename": "SyntaxError",
     "evalue": "can't assign to keyword (<ipython-input-9-ee82bf03c999>, line 1)",
     "output_type": "error",
     "traceback": [
      "\u001b[0;36m  File \u001b[0;32m\"<ipython-input-9-ee82bf03c999>\"\u001b[0;36m, line \u001b[0;32m1\u001b[0m\n\u001b[0;31m    True=False\u001b[0m\n\u001b[0m              ^\u001b[0m\n\u001b[0;31mSyntaxError\u001b[0m\u001b[0;31m:\u001b[0m can't assign to keyword\n"
     ]
    }
   ],
   "source": [
    "True=False"
   ]
  },
  {
   "cell_type": "code",
   "execution_count": null,
   "metadata": {},
   "outputs": [],
   "source": [
    "levels=np.arange(2.0, np.nanmax(rnp), 1.0 )\n",
    "#levels=np.arange(5.0, 100, 5.0 )\n",
    "if Q==0.0:\n",
    "     levels=np.insert(levels,0,[1.0])\n",
    "if Q>0.0:\n",
    "    levels=np.insert(levels,0,[rminus+.001,1.0,1.31,1.4])\n",
    "\n",
    "\n",
    "\n",
    "plot1=plt.pcolormesh(vrange,urange,np.ma.masked_invalid(rnp),cmap=plt.cm.cool,vmin=0.0,vmax=np.nanmax(rnp))\n",
    "plot4=plt.contour(vrange,urange,np.ma.masked_invalid(rnp),levels,linewidths=0.5,colors='black',extent=(0,vmax,0,umax),aspect='auto',origin='lower')\n",
    "plot5=plt.contour(vrange,urange,np.ma.masked_invalid(rnp), [rplus],linewidths=0.5,colors='red',extent=(0,vmax,0,umax),aspect='auto',origin='lower')\n",
    "plot7=plt.plot(np.delete(vrange,-1),AHulist) \n",
    "plt.clabel(plot4, levels, \n",
    "           inline=0, inline_spacing=0, \n",
    "           fmt='%1.3f',rightside_up=True,\n",
    "           fontsize=8)\n",
    "plt.xlabel('v')\n",
    "plt.ylabel('u')\n",
    "#plt.xlim(0,20)\n",
    "plt.ylim(0,umax)\n",
    "plt.xlim(0,vmax)\n",
    "#plt.ylim(9.2758,9.2761)\n",
    "plt.colorbar(plot1)\n",
    "plt.title('Radius vs (u,v) Coordinates')\n",
    "#plt.savefig('ruv.png',dpi=300)\n",
    "#plt.savefig('EH-mismatch.png',dpi=300)\n",
    "plt.show()"
   ]
  },
  {
   "cell_type": "code",
   "execution_count": null,
   "metadata": {},
   "outputs": [],
   "source": [
    "#levels=np.arange(5.0, np.nanmax(signp), 5.0 )\n",
    "#levels=np.arange(5.0, 100, 5.0 )\n",
    "#if Q==0.0:\n",
    "     #levels=np.insert(levels,0,[1.0])\n",
    "#if Q>0.0:\n",
    "    #levels=np.insert(levels,0,[rminus,rminus+.01,.7,1.0])\n",
    "\n",
    "\n",
    "\n",
    "plot1=plt.pcolormesh(vrange,urange,np.ma.masked_invalid(signp),cmap=plt.cm.cool,vmin=np.nanmin(signp),vmax=np.nanmax(signp))\n",
    "#plot4=plt.contour(vrange,urange,np.ma.masked_invalid(signp),levels,linewidths=0.5,colors='black',extent=(0,vmax,0,umax),aspect='auto',origin='lower')\n",
    "plot5=plt.contour(vrange,urange,np.ma.masked_invalid(rnp), [rplus],linewidths=0.5,colors='red',extent=(0,vmax,0,umax),aspect='auto',origin='lower')\n",
    "#plt.clabel(plot4, levels, inline=0, inline_spacing=0, fmt='%1.2f',rightside_up=True,fontsize=8)\n",
    "plt.xlabel('v')\n",
    "plt.ylabel('u')\n",
    "#plt.xlim(0,20)\n",
    "plt.ylim(0,umax)\n",
    "plt.xlim(0,vmax)\n",
    "#plt.ylim(9.2758,9.2761)\n",
    "plt.colorbar(plot1)\n",
    "plt.title('Sigma vs (u,v) Coordinates')\n",
    "#plt.savefig('EH-mismatch.png',dpi=300)\n",
    "plt.show()"
   ]
  },
  {
   "cell_type": "code",
   "execution_count": null,
   "metadata": {},
   "outputs": [],
   "source": [
    "print(len(rnp[0]))"
   ]
  },
  {
   "cell_type": "code",
   "execution_count": null,
   "metadata": {},
   "outputs": [],
   "source": [
    "print(umax)"
   ]
  },
  {
   "cell_type": "code",
   "execution_count": null,
   "metadata": {},
   "outputs": [],
   "source": []
  },
  {
   "cell_type": "code",
   "execution_count": null,
   "metadata": {},
   "outputs": [],
   "source": [
    "plt.plot(urange,rnp[:,0])\n",
    "plt.show()\n",
    "#print(np.polyfit(urange,rnp[:,0],2.0))\n",
    "plt.plot(vrange,rnp[0,:])\n",
    "plt.show()\n",
    "print(np.polyfit(vrange,rnp[0,:],2.0))\n",
    "print(np.polyfit(urange,rnp[:,0],2.0))"
   ]
  },
  {
   "cell_type": "code",
   "execution_count": null,
   "metadata": {},
   "outputs": [],
   "source": []
  },
  {
   "cell_type": "code",
   "execution_count": null,
   "metadata": {},
   "outputs": [],
   "source": []
  },
  {
   "cell_type": "code",
   "execution_count": null,
   "metadata": {},
   "outputs": [],
   "source": []
  },
  {
   "cell_type": "code",
   "execution_count": null,
   "metadata": {},
   "outputs": [],
   "source": [
    "print(Nu,Nv)\n",
    "\n",
    "u4=500\n",
    "v4=1000\n",
    "\n",
    "print(urange[u4],vrange[v4])"
   ]
  },
  {
   "cell_type": "code",
   "execution_count": null,
   "metadata": {},
   "outputs": [],
   "source": [
    "dru=np.zeros((Nu-1))\n",
    "\n",
    "for i in range(0,Nu-1):\n",
    "    dru[i]=(rnp[i+1][v4]-rnp[i][v4])/(urange[i+1]-urange[i])\n",
    "plt.plot(np.delete(urange,0),np.abs(dru))\n",
    "plt.yscale('log')\n",
    "plt.ylabel('|r,u|')\n",
    "plt.xlabel('u')\n",
    "plt.show()\n",
    "\n"
   ]
  },
  {
   "cell_type": "code",
   "execution_count": null,
   "metadata": {
    "scrolled": true
   },
   "outputs": [],
   "source": [
    "drv=np.zeros((Nv-1))\n",
    "\n",
    "for j in range(0,Nv-1):\n",
    "    drv[j]=(rnp[u4][j+1]-rnp[u4][j])/(vrange[j+1]-vrange[j])\n",
    "plt.plot(np.delete(vrange,0),np.abs(drv))\n",
    "plt.yscale('log')\n",
    "plt.ylabel('|r,v|')\n",
    "plt.xlabel('v')\n",
    "plt.show()\n"
   ]
  },
  {
   "cell_type": "code",
   "execution_count": null,
   "metadata": {},
   "outputs": [],
   "source": [
    "r=rnp[u4][v4]\n",
    "print(r)\n",
    "print(dru[u4],drv[v4],mth.exp(-signp[u4][v4]))\n",
    "print(dru[u4]*drv[v4]*mth.exp(-signp[u4][v4]))\n",
    "print(-1/4*(1-2*M0/r+Q**2/r**2))"
   ]
  },
  {
   "cell_type": "code",
   "execution_count": null,
   "metadata": {},
   "outputs": [],
   "source": [
    "r=rnp[u4][v4]\n",
    "print(\"M=\"+str((1.0+4.0*np.exp(-signp[u4][v4])*dru[u4]*drv[v4])*r/2+Q**2.0/(2.0*r)))\n",
    "print(massnp[u4][v4])"
   ]
  },
  {
   "cell_type": "code",
   "execution_count": null,
   "metadata": {},
   "outputs": [],
   "source": [
    "print(rnp[u4+1][v4],rnp[u4][v4])\n",
    "print(rnp[u4+1][v4]-rnp[u4][v4])\n",
    "print(urange[u4+1],urange[u4])\n",
    "print(urange[u4+1]-urange[u4])"
   ]
  },
  {
   "cell_type": "code",
   "execution_count": null,
   "metadata": {},
   "outputs": [],
   "source": [
    "print(rnp)"
   ]
  },
  {
   "cell_type": "code",
   "execution_count": null,
   "metadata": {},
   "outputs": [],
   "source": []
  },
  {
   "cell_type": "code",
   "execution_count": null,
   "metadata": {},
   "outputs": [],
   "source": []
  }
 ],
 "metadata": {
  "kernelspec": {
   "display_name": "Python 3",
   "language": "python",
   "name": "python3"
  },
  "language_info": {
   "codemirror_mode": {
    "name": "ipython",
    "version": 3
   },
   "file_extension": ".py",
   "mimetype": "text/x-python",
   "name": "python",
   "nbconvert_exporter": "python",
   "pygments_lexer": "ipython3",
   "version": "3.6.6"
  }
 },
 "nbformat": 4,
 "nbformat_minor": 2
}
