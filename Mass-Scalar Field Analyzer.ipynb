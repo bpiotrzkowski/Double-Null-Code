{
 "cells": [
  {
   "cell_type": "code",
   "execution_count": 1,
   "metadata": {},
   "outputs": [],
   "source": [
    "import numpy as np\n",
    "import math as mth\n",
    "import matplotlib.pyplot as plt\n",
    "import matplotlib.ticker as ticker\n",
    "from matplotlib.colors import LogNorm\n",
    "\n",
    "import Boundary_Functions as bf\n",
    "import timeit\n",
    "import tables\n",
    "import h5py\n",
    "\n",
    "from scipy import stats\n",
    "from scipy import optimize\n",
    "from scipy import *\n",
    "import scipy\n",
    "\n",
    "#import warnings\n",
    "#warnings.filterwarnings(\"ignore\")\n",
    "\n",
    "start = timeit.default_timer()"
   ]
  },
  {
   "cell_type": "code",
   "execution_count": 2,
   "metadata": {},
   "outputs": [],
   "source": [
    "uscal=45\n",
    "vscal=1"
   ]
  },
  {
   "cell_type": "markdown",
   "metadata": {},
   "source": [
    "uscal and vscal reduce arrays by their value in order to prevent memory overflow. Use when h5 files are very large (i.e. >2gB)"
   ]
  },
  {
   "cell_type": "code",
   "execution_count": 3,
   "metadata": {},
   "outputs": [
    {
     "name": "stdout",
     "output_type": "stream",
     "text": [
      "True\n"
     ]
    }
   ],
   "source": [
    "rnputil=np.load('rnputil.npy')\n",
    "wHD=rnputil[8]\n",
    "print(wHD)\n",
    "\n",
    "if wHD==True or wHD==1.0 or wHD=='True':\n",
    "    urange=np.load('urange.npy')[::uscal]\n",
    "    vrange=np.load('vrange.npy')[::vscal]\n",
    "if wHD==False or wHD==0.0 or wHD==None or wHD=='False':\n",
    "    urange=np.load('urange.npy')\n",
    "    vrange=np.load('vrange.npy')"
   ]
  },
  {
   "cell_type": "code",
   "execution_count": 4,
   "metadata": {},
   "outputs": [
    {
     "name": "stdout",
     "output_type": "stream",
     "text": [
      "396800 bytes\n",
      "Hd5 files used\n"
     ]
    }
   ],
   "source": [
    "if wHD==True or wHD==1.0 or wHD=='True':\n",
    "    with h5py.File('rnp.h5','r') as f:\n",
    "        r_group_key = list(f.keys())[0]\n",
    "        rnpi=f[r_group_key]\n",
    "        rnp = np.asarray(rnpi[::uscal,::vscal])\n",
    "    with h5py.File('signp.h5','r') as f:\n",
    "        sig_group_key = list(f.keys())[0]\n",
    "        signpi=f[sig_group_key]\n",
    "        signp = np.asarray(signpi[::uscal,::vscal])\n",
    "    with h5py.File('phinp.h5','r') as f:\n",
    "        phi_group_key = list(f.keys())[0]\n",
    "        phinpi=f[phi_group_key]\n",
    "        phinp = np.asarray(phinpi[::uscal,::vscal])\n",
    "    with h5py.File('massnp.h5','r') as f:\n",
    "        mass_group_key = list(f.keys())[0]\n",
    "        massnpi=f[mass_group_key]\n",
    "        massnp = np.asarray(massnpi[::uscal,::vscal])\n",
    "    \n",
    "    print(str(rnp.nbytes)+\" bytes\")\n",
    "    print(\"Hd5 files used\")\n",
    "\n",
    "if wHD==False or wHD==0.0 or wHD==None or wHD=='False':\n",
    "    rnp=np.load('rnp.npy')\n",
    "    signp=np.load('sig.npy')\n",
    "    phinp=np.load('phi.npy')\n",
    "    massnp=np.load('mass.npy')\n",
    "    print(\"Numpy arrays used\")"
   ]
  },
  {
   "cell_type": "code",
   "execution_count": 5,
   "metadata": {},
   "outputs": [
    {
     "name": "stdout",
     "output_type": "stream",
     "text": [
      "['2212000' '2765' '800' '5' '0.31805' '1.0' '0.95' '0.0' 'True' '0.0'\n",
      " 'edd']\n",
      "39.95\n",
      "Runtime: about 0.00 minutes\n"
     ]
    }
   ],
   "source": [
    "print(rnputil)\n",
    "\n",
    "N=int(rnputil[0])\n",
    "Nu=len(urange)#int(rnputil[1])\n",
    "Nv=len(vrange)#int(rnputil[2])\n",
    "ru0=float(rnputil[3])\n",
    "dr0v=float(rnputil[4])\n",
    "M0=float(rnputil[5])\n",
    "Q=float(rnputil[6])\n",
    "Lambda=float(rnputil[7])\n",
    "umax=np.nanmax(urange)\n",
    "vmax=np.nanmax(vrange)\n",
    "print(vmax)\n",
    "\n",
    "dv0=vrange[1]-vrange[0]\n",
    "\n",
    "    \n",
    "numpoints=Nu*Nv\n",
    "#print(str(numpoints)+\" points\")\n",
    "\n",
    "if Q==0.0:\n",
    "    predtime=numpoints/(144935)\n",
    "if Q>0.0:\n",
    "    predtime=numpoints/(259000)\n",
    "print(\"Runtime: about \"+str(format(predtime/60,'.2f'))+\" minutes\")"
   ]
  },
  {
   "cell_type": "code",
   "execution_count": 6,
   "metadata": {},
   "outputs": [
    {
     "name": "stdout",
     "output_type": "stream",
     "text": [
      "1.0028514292769746 0.95 0.0\n",
      "0.6811677674619171 1.3241471039800823 -976664.2567913297\n",
      "[5.80593009e-04 1.13617950e-05 1.00000205e+00]\n"
     ]
    }
   ],
   "source": [
    "M=massnp[0][-1]\n",
    "Q=Q#*M\n",
    "Lambda=Lambda#/M**2.0\n",
    "\n",
    "\n",
    "print(M,Q,Lambda)\n",
    "\n",
    "def fr(r,M,Q,Lambda):\n",
    "    return 1-2*M/r+Q**2.0/r**2.0-Lambda*r**2.0/3.0\n",
    "\n",
    "sol = optimize.root(fr,[0.4,1.2,55.0],args=(M,Q,Lambda),tol=10**(-12), method='hybr')\n",
    "rminus=sol.x[0]#+.035\n",
    "rplus=sol.x[1]\n",
    "rcosm=sol.x[2]\n",
    "\n",
    "def dfr(r,M,Q,Lambda):\n",
    "    return -2*(Lambda*r**4-3*M*r+3*Q**2)/(3*r**3)\n",
    "\n",
    "print(rminus,rplus,rcosm)\n",
    "\n",
    "print(fr(np.array([rminus,rplus,rcosm]),M,Q,Lambda))"
   ]
  },
  {
   "cell_type": "code",
   "execution_count": 7,
   "metadata": {},
   "outputs": [
    {
     "name": "stdout",
     "output_type": "stream",
     "text": [
      "0.18323653584728647 0.6941517520842043 0.0\n",
      "0.6941517513195358\n",
      "0.6941517513195359\n"
     ]
    }
   ],
   "source": [
    "def kappa(fr,r,M,Q,Lambda):\n",
    "    return 0.5*np.abs(scipy.misc.derivative(fr,r,dx=.00001,n=1,args=(M,Q,Lambda)))\n",
    "#def kappa2(dfr,r,M,Q,Lambda):\n",
    "    #return optimize.root(dfr,[0.01,1.5,50.0],args=(M,Q,Lambda),tol=10**(-10), method='hybr')\n",
    "\n",
    "kappaplus=kappa(fr,rplus,M,Q,Lambda)\n",
    "kappaminus=kappa(fr,rminus,M,Q,Lambda)\n",
    "kappacosm=kappa(fr,rcosm,M,Q,Lambda)\n",
    "print(kappaplus,kappaminus,kappacosm)\n",
    "###double-check for Lambda=0\n",
    "###kappaminus\n",
    "print(np.abs((M*rminus-Q**2)/rminus**3.0))\n",
    "print(0.5*np.abs(dfr(rminus,M,Q,Lambda)))\n",
    "###\n"
   ]
  },
  {
   "cell_type": "markdown",
   "metadata": {
    "scrolled": false
   },
   "source": [
    "masslist=[1.0,1.00001,1.0001,1.001,1.01]\n",
    "\n",
    "plot1=plt.pcolormesh(vrange,urange,np.ma.masked_invalid(phinp),cmap=plt.cm.cool,vmin=0.0,vmax=np.nanmax(phinp))\n",
    "#plot4=plt.contour(vrange,urange,np.ma.masked_invalid(phinp), masslist,linewidths=0.5,colors='black',extent=(0,vmax,0,umax),aspect='auto',origin='lower')\n",
    "#plt.clabel(plot4, masslist,  inline=0, inline_spacing=0, fmt='%1.6f',rightside_up=True,fontsize=8)\n",
    "plt.xlabel('v')\n",
    "plt.ylabel('u')\n",
    "#plt.xlim(0,vmax)\n",
    "#plt.ylim(0,13)\n",
    "plt.ylim(0,umax)\n",
    "plt.xlim(0,vmax)\n",
    "#plt.ylim(9.2758,9.2761)\n",
    "plt.colorbar(plot1)\n",
    "plt.title(r'$\\Phi$ vs (u,v) Coordinates')\n",
    "plt.show()\n",
    "\n"
   ]
  },
  {
   "cell_type": "code",
   "execution_count": 8,
   "metadata": {},
   "outputs": [
    {
     "name": "stdout",
     "output_type": "stream",
     "text": [
      "1.0028514296620095\n"
     ]
    },
    {
     "data": {
      "image/png": "[encoded data removed]",
      "text/plain": [
       "<Figure size 432x288 with 2 Axes>"
      ]
     },
     "metadata": {
      "needs_background": "light"
     },
     "output_type": "display_data"
    }
   ],
   "source": [
    "try:\n",
    "    print(np.nanmax(massnp))\n",
    "    plot1=plt.pcolormesh(vrange,urange,np.ma.masked_invalid(massnp),cmap=plt.cm.cool,norm=LogNorm(vmin=0.9, vmax=np.nanmax(massnp)))#vmin=0,vmax=2.0)\n",
    "    #plot4=plt.contour(vrange,urange,np.ma.masked_invalid(massnp), masslist,linewidths=0.5,colors='black',extent=(0,vmax,0,umax),aspect='auto',origin='lower')\n",
    "    #plt.clabel(plot4, masslist, inline=0, inline_spacing=0, fmt='%1.6f',rightside_up=True, fontsize=8)\n",
    "    plt.xlabel('v')\n",
    "    plt.ylabel('u')\n",
    "    #plt.xlim(0,vmax)\n",
    "    plt.ylim(0,umax)\n",
    "    #plt.xlim(0,10)\n",
    "    plt.xlim(0,vmax)\n",
    "    #plt.ylim(9.2758,9.2761)\n",
    "    plt.colorbar(plot1)\n",
    "    plt.title('Mass vs (u,v) Coordinates')\n",
    "    plt.show()\n",
    "except ValueError:\n",
    "    pass"
   ]
  },
  {
   "cell_type": "code",
   "execution_count": 9,
   "metadata": {},
   "outputs": [
    {
     "name": "stdout",
     "output_type": "stream",
     "text": [
      "62\n",
      "800\n",
      "1.0028511687106594\n",
      "[[1.         1.         1.         ... 1.00285143 1.00285143 1.00285143]\n",
      " [1.         1.         1.         ... 1.00285117 1.00285117 1.00285117]\n",
      " [1.         1.         1.         ... 1.00285065 1.00285065 1.00285065]\n",
      " ...\n",
      " [1.         1.         1.         ... 1.00281657 1.00281658 1.00281658]\n",
      " [1.         1.         1.         ... 1.00281657 1.00281658 1.00281658]\n",
      " [1.         1.         1.         ... 1.00281657 1.00281658 1.00281658]]\n",
      "1.0028514296620095\n",
      "0.9999999999357964\n",
      "799\n"
     ]
    }
   ],
   "source": [
    "print(Nu)\n",
    "print(Nv)\n",
    "print(massnp[1][-1])\n",
    "print(massnp[:,:])\n",
    "print(np.nanmax(massnp))\n",
    "print(np.nanmin(massnp))\n",
    "print(np.argmax(massnp[-10]))"
   ]
  },
  {
   "cell_type": "code",
   "execution_count": 10,
   "metadata": {},
   "outputs": [],
   "source": [
    "#print(signp[-2])\n",
    "#for i in massnp[-3]:\n",
    "    #print(i)"
   ]
  },
  {
   "cell_type": "code",
   "execution_count": null,
   "metadata": {},
   "outputs": [],
   "source": []
  },
  {
   "cell_type": "code",
   "execution_count": 11,
   "metadata": {},
   "outputs": [
    {
     "name": "stdout",
     "output_type": "stream",
     "text": [
      "62\n"
     ]
    }
   ],
   "source": [
    "print(Nu)"
   ]
  },
  {
   "cell_type": "code",
   "execution_count": 12,
   "metadata": {
    "scrolled": true
   },
   "outputs": [
    {
     "data": {
      "image/png": "[encoded data removed]",
      "text/plain": [
       "<Figure size 432x288 with 1 Axes>"
      ]
     },
     "metadata": {
      "needs_background": "light"
     },
     "output_type": "display_data"
    },
    {
     "name": "stderr",
     "output_type": "stream",
     "text": [
      "/home/brandon/.conda/envs/pycbc/lib/python3.6/site-packages/ipykernel_launcher.py:54: RuntimeWarning: invalid value encountered in double_scalars\n",
      "/home/brandon/.conda/envs/pycbc/lib/python3.6/site-packages/ipykernel_launcher.py:54: RuntimeWarning: divide by zero encountered in double_scalars\n"
     ]
    },
    {
     "data": {
      "image/png": "[encoded data removed]",
      "text/plain": [
       "<Figure size 432x288 with 1 Axes>"
      ]
     },
     "metadata": {
      "needs_background": "light"
     },
     "output_type": "display_data"
    },
    {
     "data": {
      "image/png": "[encoded data removed]",
      "text/plain": [
       "<Figure size 432x288 with 1 Axes>"
      ]
     },
     "metadata": {
      "needs_background": "light"
     },
     "output_type": "display_data"
    },
    {
     "data": {
      "image/png": "[encoded data removed]",
      "text/plain": [
       "<Figure size 432x288 with 1 Axes>"
      ]
     },
     "metadata": {
      "needs_background": "light"
     },
     "output_type": "display_data"
    },
    {
     "data": {
      "image/png": "[encoded data removed]",
      "text/plain": [
       "<Figure size 432x288 with 1 Axes>"
      ]
     },
     "metadata": {
      "needs_background": "light"
     },
     "output_type": "display_data"
    },
    {
     "data": {
      "image/png": "[encoded data removed]",
      "text/plain": [
       "<Figure size 432x288 with 1 Axes>"
      ]
     },
     "metadata": {
      "needs_background": "light"
     },
     "output_type": "display_data"
    }
   ],
   "source": [
    "\n",
    "#uNEH=800\n",
    "#ustep=100\n",
    "#uN1=uNEH-mth.floor(uNEH/100)*100\n",
    "#Numax=Nu\n",
    "\n",
    "uNEH=540\n",
    "#uNEH=49\n",
    "ustep=25\n",
    "uN1=uNEH-mth.floor(uNEH/10)*10+2\n",
    "Numax=int(Nu)#-400\n",
    "\n",
    "#print(uN2)\n",
    "localpowerlist=np.zeros((Nv))*np.nan\n",
    "etemplist=np.zeros((Nv))*np.nan\n",
    "power1list=[]\n",
    "power3list=[]\n",
    "\n",
    "vrange2=vrange*dr0v/0.5/np.abs(1-2*massnp[0][0]/rnp[0][0]+Q**2/rnp[0][0]**2-Lambda*(rnp[0][0])**2.0/3.0)\n",
    "\n",
    "\n",
    "#for j in range(0,Nv-1):\n",
    "    #v=j*vmax/(Nv)\n",
    "    #localpowerlist[j]=-v*(phinp[uN2][j+1]-phinp[uN2][j])/(dv0*phinp[uN2][j])\n",
    "    \n",
    "uN=uN1\n",
    "while uN < Numax:\n",
    "    #print(uN)\n",
    "    if uN<uNEH:\n",
    "        sample3=plt.plot(vrange,abs(phinp[uN]),'--')\n",
    "    if uN==uNEH:\n",
    "        sample3=plt.plot(vrange,abs(phinp[uN]))\n",
    "    if uN>uNEH:\n",
    "        sample3=plt.plot(vrange,abs(phinp[uN]),'-.')\n",
    "    #sample3=plt.plot(vrange,abs(phinp[uN1+uN]))\n",
    "    uN+=ustep\n",
    "    \n",
    "plt.xlabel('v')\n",
    "plt.ylabel(r'$|\\Phi|$')\n",
    "plt.ylim(0.000000001,1.0)\n",
    "plt.xlim(1,vmax)\n",
    "plt.grid()\n",
    "#plt.xscale('log')\n",
    "plt.yscale('log')\n",
    "plt.title(r'$|\\Phi|$ vs v')\n",
    "#plt.savefig('num-rel-pics/Phi v q-0.png',dpi=300,bbox_inches=\"tight\")\n",
    "plt.show()    \n",
    "\n",
    "#sample3=plt.plot(vrange,localpowerlist)\n",
    "uN=uN1\n",
    "while uN< Numax:\n",
    "    for j in range(0,Nv-1):\n",
    "        v=j*vmax/(Nv)\n",
    "        localpowerlist[j]=-v*(phinp[uN][j+1]-phinp[uN][j])/((vrange[j+1]-vrange[j])*phinp[uN][j])\n",
    "    \n",
    "    if uN<uNEH:\n",
    "        sample3=plt.plot(vrange,localpowerlist,'--')\n",
    "    if uN==uNEH:\n",
    "        sample3=plt.plot(vrange,localpowerlist)\n",
    "    if uN>uNEH:\n",
    "        sample3=plt.plot(vrange,localpowerlist,'-.')\n",
    "    #sample3=plt.plot(vrange,localpowerlist)+\n",
    "    uN+=ustep\n",
    "plt.xlim(0,vmax)\n",
    "plt.xlabel('v')\n",
    "plt.ylabel(r'Local Power $-v \\Phi_{,v}/\\Phi$')\n",
    "plt.ylim(2,4)\n",
    "plt.grid()\n",
    "plt.title(r'Local Power of $\\Phi$') #(u='+str(uN2u)+')')#+',uEH='+str(uEH*umax)+')')\n",
    "#plt.savefig('num-rel-pics/Phipower.png',dpi=300,bbox_inches=\"tight\")\n",
    "plt.show()\n",
    "\n",
    "uN=uN1\n",
    "\n",
    "while uN< Numax:\n",
    "    if uN<uNEH:\n",
    "        sample3=plt.plot(vrange2,rnp[uN,:],'--',color='black')\n",
    "    if uN==uNEH:\n",
    "        sample3=plt.plot(vrange2,rnp[uN,:])\n",
    "    if uN>uNEH:\n",
    "        sample3=plt.plot(vrange2,rnp[uN,:],'-.',color='black')\n",
    "    #sample3=plt.plot(vrange,rnp[uN1+uN,:])\n",
    "    uN+=ustep\n",
    "\n",
    "plt.plot([nan],[nan],'--',color='black',label='Outside EH')\n",
    "plt.plot([nan],[nan],'-.',color='black',label='Inside EH')\n",
    "plt.plot([0,vmax],[rplus,rplus],'r--',color='red',linewidth=1.0,label=r'$r_+$')\n",
    "plt.plot([0,vmax],[rminus,rminus],'r--',color='cyan',linewidth=1.0,label=r'$r_-$')\n",
    "plt.xlim(0,max(vrange2))\n",
    "plt.xlabel(r'$v$',fontsize=14)\n",
    "plt.ylabel(r'$r(u,v)$',fontsize=14)\n",
    "plt.ylim(0,5)\n",
    "#plt.ylim(.2,.4)\n",
    "#plt.xscale('log')\n",
    "#plt.yscale('log')\n",
    "plt.grid()\n",
    "plt.legend(loc='best')\n",
    "#plt.title('r(u,v) vs v') #(u='+str(uN2u)+')')#+',uEH='+str(uEH*umax)+')')\n",
    "#plt.savefig('num-rel-pics/r_v.png',dpi=300)\n",
    "plt.show()\n",
    "\n",
    "uN=uN1\n",
    "while uN< Numax:\n",
    "    if uN<uNEH:\n",
    "        sample3=plt.plot(vrange,signp[uN,:],'--',label='u='+str(uN))\n",
    "    if uN==uNEH:\n",
    "        sample3=plt.plot(vrange,signp[uN,:])\n",
    "    if uN>uNEH:\n",
    "        sample3=plt.plot(vrange,signp[uN,:],'-.')\n",
    "    #sample3=plt.plot(vrange,signp[uN1+uN,:])\n",
    "    uN+=ustep\n",
    "plt.xlim(0,vmax)\n",
    "plt.xlabel('v')\n",
    "plt.ylabel(r'$\\sigma$(u,v)')\n",
    "#plt.ylim(-25,50)\n",
    "#plt.xscale('log')\n",
    "#plt.yscale('log')\n",
    "plt.grid()\n",
    "plt.title(r'$\\sigma$(u,v) vs v') #(u='+str(uN2u)+')')#+',uEH='+str(uEH*umax)+')')\n",
    "#plt.savefig('num-rel-pics/sig_v.png',dpi=300,bbox_inches=\"tight\")\n",
    "plt.show()\n",
    "#print(localpowerlist[-200])\n",
    "\n",
    "uN=uN1\n",
    "while uN< Numax:\n",
    "    for j in range(0,Nv-1):\n",
    "        try:\n",
    "            etemplist[j]=abs(mth.exp(-signp[uN][j])*(rnp[uN][j+1]-rnp[uN][j])/(vrange[j+1]-vrange[j]))\n",
    "        except OverflowError:\n",
    "            etemplist[j]=np.nan\n",
    "    if uN<uNEH:\n",
    "        sample3=plt.plot(vrange,np.log(etemplist),'--')\n",
    "    if uN==uNEH:\n",
    "        sample3=plt.plot(vrange,np.log(etemplist))\n",
    "    if uN>uNEH:\n",
    "        sample3=plt.plot(vrange,np.log(etemplist),'-.')\n",
    "    #print(etemplist)\n",
    "    uN+=ustep\n",
    "plt.xlim(1,vmax)\n",
    "#plt.ylim(-1,10)\n",
    "plt.xlabel('v')\n",
    "plt.ylabel(r'$\\log{|e^{-\\sigma(u,v)} r_{,v}|}$')\n",
    "#plt.ylim(2,4)\n",
    "#plt.xscale('log')\n",
    "#plt.yscale('log')\n",
    "plt.grid()\n",
    "plt.title(r'$\\log{|e^{-\\sigma(u,v)} r_{,v}|}$ vs v') #(u='+str(uN2u)+')')#+',uEH='+str(uEH*umax)+')')\n",
    "#plt.savefig('weird-Phi-v_0.png',dpi=300,bbox_inches=\"tight\")\n",
    "plt.show()\n",
    "\n",
    "\n",
    "uN=uN1\n",
    "while uN< Numax:\n",
    "    if uN<uNEH:\n",
    "        #sample3=plt.plot(vrange,np.log(massnp[uN,:]),'--')\n",
    "        sample3=plt.plot(vrange2,massnp[uN,:],'--',color='black')\n",
    "    if uN==uNEH:\n",
    "        #sample3=plt.plot(vrange,np.log(massnp[uN,:]))\n",
    "        sample3=plt.plot(vrange2,massnp[uN,:])\n",
    "    if uN>uNEH:\n",
    "        #sample3=plt.plot(vrange,np.log(massnp[uN,:]),'-.')\n",
    "        sample3=plt.plot(vrange2,massnp[uN,:],'-.',color='black')\n",
    "        \n",
    "    #sample3=plt.plot(vrange,rnp[uN1+uN,:])\n",
    "    #print(urange[uN])\n",
    "    uN+=ustep\n",
    "plt.plot([nan],[nan],'--',color='black',label='Outside EH')\n",
    "plt.plot([nan],[nan],'-.',color='black',label='Inside EH')\n",
    "plt.xlim(0,max(vrange2))\n",
    "plt.xlabel(r'$v$',fontsize=14)\n",
    "plt.ylabel(r'$m(u,v)$',fontsize=14)\n",
    "#plt.ylim(.9,10**17)\n",
    "#plt.xscale('log')\n",
    "plt.yscale('log')\n",
    "plt.grid()\n",
    "plt.legend(loc='best')\n",
    "#plt.title('Mass Parameter vs v') #(u='+str(uN2u)+')')#+',uEH='+str(uEH*umax)+')')\n",
    "#plt.savefig('num-rel-pics/m_v.png',dpi=300)\n",
    "plt.show()\n"
   ]
  },
  {
   "cell_type": "code",
   "execution_count": null,
   "metadata": {},
   "outputs": [],
   "source": [
    "print(Nu,Nv)\n",
    "print(vmax)\n",
    "#print(Lambda)"
   ]
  },
  {
   "cell_type": "markdown",
   "metadata": {},
   "source": [
    "###Standard Coordinates"
   ]
  },
  {
   "cell_type": "code",
   "execution_count": null,
   "metadata": {},
   "outputs": [],
   "source": [
    "v1=Nv-5000#Nv-4#int(50/vmax*Nv)#2000\n",
    "v2=Nv-1000#int(85/vmax*Nv)#3000\n",
    "u3=-1\n",
    "u4=0\n",
    "print(v1,v2,u3)\n",
    "print(rnp[u3][v1])\n",
    "#print(massnp[u3])\n",
    "\n",
    "vmaxh=vmax\n",
    "\n",
    "#cornp=vmaxh/float(Nv)*np.full(Nv,1.0)*2.0/(np.abs(1-2*massnp[u4]/rnp[u4]+Q**2/rnp[u4]**2-Lambda*(rnp[u4])**2.0/3.0)*np.exp(signp[u4])+np.roll(np.abs(1-2*massnp[u4]/rnp[u4]+Q**2/rnp[u4]**2-Lambda*(rnp[u4])**2.0/3)*np.exp(signp[u4]),1))*np.abs(1-2*massnp[u4][0]/rnp[u4][0]+Q**2/rnp[u4][0]**2-Lambda*(rnp[u4][0])**2.0/3.0)\n",
    "cornp=vmaxh/float(Nv)*np.full(Nv,1.0)/(np.roll(np.abs(1-2*massnp[u4]/rnp[u4]+Q**2/rnp[u4]**2-Lambda*(rnp[u4])**2.0/3.0)*np.exp(signp[u4]),1))*np.abs(1-2*massnp[u4][0]/rnp[u4][0]+Q**2/rnp[u4][0]**2-Lambda*(rnp[u4][0])**2.0/3.0)\n",
    "vrange2=np.cumsum(cornp)-cornp[0]\n",
    "\n",
    "print(vrange2[0:10])#-vrange2[0:10])\n",
    "\n",
    "print(np.polyfit(vrange2[v1:v2],np.log(np.abs(massnp[u3][v1:v2])),1.0))#/signp[u3][v1])#*32/rnp[u3][v1]*np.exp(-rnp[u3][v1]/2))\n",
    "#plt.plot(vrange[v1:v2],massnp[u3][v1:v2])\n",
    "#plt.plot(vrange[v1:v2],np.log(massnp[u3][v1:v2]),'--')\n",
    "plt.plot(vrange2,np.log(np.abs(massnp[u3])))\n",
    "plt.plot(vrange2[v1:v2],np.log(np.abs(massnp[u3][v1:v2])))\n",
    "plt.show()\n",
    "\n",
    "Nua=int(Nu/1.0)\n",
    "numulines=int((Nu-1)/2.0)\n",
    "\n",
    "for i in range(numulines):\n",
    "    i=-i*int(Nu/numulines)\n",
    "    plt.plot(vrange2[v1:v2-1],diff(np.log(np.abs(massnp[i][v1:v2])))/diff(vrange2[v1:v2]))\n",
    "#if Lambda==0.0:\n",
    "plt.plot([0,max(vrange2[v1:v2-1])],[kappaminus,kappaminus],'--',label=r'$\\kappa_{-}$',linewidth=0.75)\n",
    "if Lambda>0.0:\n",
    "    plt.plot([0,max(vrange2[v1:v2-1])],[kappaminus-kappacosm,kappaminus-kappacosm],'--',label=r'$\\kappa_{-}-\\kappa_{c}$')\n",
    "plt.legend(loc='best')\n",
    "plt.ylabel(r'$\\frac{d}{dv_{edd}} \\ln(m)$')\n",
    "plt.xlabel(r'$v_{edd}$')\n",
    "plt.grid()\n",
    "#plt.ylim(0,2)\n",
    "#plt.savefig('num-rel-pics/slope_m_Mf='+str(M)+'_Q='+str(Q)+'_Lambda='+str(Lambda)+'_N=100_stan.png',dpi=300)\n",
    "plt.show()\n"
   ]
  },
  {
   "cell_type": "code",
   "execution_count": null,
   "metadata": {},
   "outputs": [],
   "source": [
    "#print(kappa(fr,rminus,massnp[u3],Q,Lambda))\n",
    "print(kappa(fr,rminus,M,Q,Lambda))\n",
    "####Low Q-regime\n",
    "print(kappa(fr,rminus,M,Q,Lambda)-kappa(fr,rcosm,M,Q,Lambda))\n",
    "###High Q-regime\n",
    "print(kappa(fr,rminus,M,Q,Lambda)-kappa(fr,rplus,M,Q,Lambda))\n",
    "\n",
    "print(Nu,Nv)\n",
    "#print(kappa(fr,rcosm,M,Q,Lambda)-kappa(fr,rplus,M,Q,Lambda))\n",
    "#print(2*kappa(fr,rminus,M,Q,Lambda)-kappa(fr,rplus,M,Q,Lambda)-kappa(fr,rcosm,M,Q,Lambda))"
   ]
  },
  {
   "cell_type": "markdown",
   "metadata": {},
   "source": [
    "###Eddington Coordinates"
   ]
  },
  {
   "cell_type": "code",
   "execution_count": null,
   "metadata": {
    "scrolled": true
   },
   "outputs": [],
   "source": [
    "v1=Nv-60#Nv-50000#75000#Nv-90000\n",
    "v2=Nv-10#-20000\n",
    "u3=-1\n",
    "u4=0\n",
    "\n",
    "vmaxh=vmax\n",
    "\n",
    "vrange2=vrange*dr0v/0.5/np.abs(1-2*massnp[0][0]/rnp[0][0]+Q**2/rnp[0][0]**2-Lambda*(rnp[0][0])**2.0/3.0)\n",
    "\n",
    "print(0.5*np.abs(1-2*massnp[u4][0]/rnp[u4][0]+Q**2/rnp[u4][0]**2-Lambda*(rnp[u4][0])**2.0/3.0))\n",
    "\n",
    "plt.plot(vrange2,np.log(np.abs(massnp[u3])))\n",
    "\n",
    "print(np.polyfit(vrange2[v1:v2],np.log(np.abs(massnp[u3][v1:v2])),1.0))#/signp[u3][v1])#*32/rnp[u3][v1]*np.exp(-rnp[u3][v1]/2))\n",
    "#plt.plot(vrange[v1:v2],massnp[u3][v1:v2])\n",
    "#plt.plot(vrange[v1:v2],np.log(massnp[u3][v1:v2]),'--')\n",
    "plt.plot(vrange2[v1:v2],np.log(np.abs(massnp[u3][v1:v2])))\n",
    "plt.grid()\n",
    "#plt.savefig('num-rel-pics/measured slope_Q=.9.png')\n",
    "plt.show()\n",
    "\n",
    "\n"
   ]
  },
  {
   "cell_type": "code",
   "execution_count": null,
   "metadata": {},
   "outputs": [],
   "source": [
    "print(kappa(fr,rminus,M,Q,Lambda))\n",
    "####Low Q-regime\n",
    "print(kappa(fr,rminus,M,Q,Lambda)-kappa(fr,rcosm,M,Q,Lambda))\n",
    "###High Q-regime\n",
    "print(kappa(fr,rminus,M,Q,Lambda)-kappa(fr,rplus,M,Q,Lambda))\n",
    "\n",
    "print(2*kappaminus-kappaminus-kappacosm)\n",
    "\n",
    "print(Nu,Nv)"
   ]
  },
  {
   "cell_type": "code",
   "execution_count": null,
   "metadata": {},
   "outputs": [],
   "source": [
    "print(Nu)\n",
    "v1=0\n",
    "v2=Nv\n",
    "\n",
    "Nua=int(Nu/1.0)\n",
    "numulines=int((Nu-1)/5)\n",
    "\n",
    "#vrange2=vrange\n",
    "\n",
    "for i in range(numulines):\n",
    "    i=-i*int(Nu/numulines)\n",
    "    plt.plot(vrange2[v1:v2-1],diff(np.log(np.abs(massnp[i][v1:v2])))/diff(vrange2[v1:v2]))\n",
    "#if Lambda==0.0:\n",
    "plt.plot([0,max(vrange2[v1:v2-1])],[kappaminus,kappaminus],'--',label=r'$\\kappa_{-}$',linewidth=2.0)\n",
    "if Lambda>0.0:\n",
    "    plt.plot([0,max(vrange2[v1:v2-1])],[kappaminus-2*kappacosm,kappaminus-2*kappacosm],'--',label=r'$\\kappa_{-}-2\\kappa_{c}$')\n",
    "    plt.plot([0,max(vrange2[v1:v2-1])],[kappaminus-kappaplus,kappaminus-kappaplus],'--',label=r'$\\kappa_{-}-\\kappa_{+}$')\n",
    "    plt.plot([0,max(vrange2[v1:v2-1])],[kappaminus-2*kappaplus,kappaminus-2*kappaplus],'--',label=r'$\\kappa_{-}-2\\kappa_{+}$')\n",
    "    \n",
    "plt.legend(loc='best')\n",
    "plt.ylabel(r'$\\frac{d}{dv_{edd}} \\ln(m)$')\n",
    "plt.xlabel(r'$v_{edd}$')\n",
    "plt.grid()\n",
    "plt.ylim(.6,.8)\n",
    "#plt.savefig('num-rel-pics/Mass_slope-hires.png',dpi=300)\n",
    "#plt.savefig('num-rel-pics/slope_m_Mf='+str(M)+'_Q='+str(Q)+'_Lambda='+str(Lambda)+'_N=200_Nv=1000_Tol=.25_edd.png',dpi=300)\n",
    "\n",
    "plt.show()\n",
    "#print(M,)"
   ]
  },
  {
   "cell_type": "code",
   "execution_count": null,
   "metadata": {},
   "outputs": [],
   "source": [
    "plt.plot(vrange,np.abs(np.exp(signp[u4])/(32*massnp[u4]**3.0/rnp[u4]*np.exp(-rnp[u4]/(2*massnp[u4])))))\n",
    "plt.yscale('log')\n",
    "plt.show()"
   ]
  },
  {
   "cell_type": "code",
   "execution_count": null,
   "metadata": {},
   "outputs": [],
   "source": [
    "plt.plot(phinp[uNEH,:])\n",
    "plt.show()\n",
    "\n",
    "\n",
    "freq=np.fft.fftfreq(vrange.shape[-1],dv0)\n",
    "\n",
    "Phifft=np.fft.fft(phinp[uNEH,:])\n",
    "plt.plot(freq,Phifft.real,freq,Phifft.imag)\n",
    "plt.xlim(0,1.5)\n",
    "plt.grid()\n",
    "plt.show()"
   ]
  },
  {
   "cell_type": "code",
   "execution_count": null,
   "metadata": {},
   "outputs": [],
   "source": [
    "True=False\n",
    "if f is p\n",
    "asdf"
   ]
  },
  {
   "cell_type": "markdown",
   "metadata": {},
   "source": [
    "###Legacy Code###"
   ]
  },
  {
   "cell_type": "code",
   "execution_count": null,
   "metadata": {},
   "outputs": [],
   "source": [
    "localpowerv=np.zeros((Nu,Nv))*np.nan\n",
    "\n",
    "for i in range(0,Nu-1):\n",
    "    for j in range(0,Nv-1):\n",
    "        v=j*vmax/(Nv)\n",
    "        localpowerv[i][j]=-v*(phinp[i][j+1]-phinp[i][j])/(dv0*phinp[i][j])\n",
    "        "
   ]
  },
  {
   "cell_type": "code",
   "execution_count": null,
   "metadata": {},
   "outputs": [],
   "source": [
    "powerlist=[1,2,3,4,5]\n",
    "\n",
    "#plot1=plt.pcolormesh(vrange,urange,np.ma.masked_invalid(localpowerv),cmap=plt.cm.cool,vmin=0.0,vmax=5.0)\n",
    "#plot4=plt.contour(vrange,urange,np.ma.masked_invalid(localpowerv), powerlist,linewidths=0.5,colors='black',extent=(0,vmax,0,umax),aspect='auto',origin='lower')\n",
    "\n",
    "plot1=plt.imshow(np.ma.masked_invalid(localpowerv),cmap=plt.cm.cool,extent=(0,vmax,0,umax),aspect='auto',origin='lower',vmin=0.0,vmax=5.0)\n",
    "plot4=plt.contour(np.ma.masked_invalid(localpowerv), powerlist,linewidths=0.5,colors='black',extent=(0,vmax,0,umax),aspect='auto',origin='lower')\n",
    "\n",
    "plt.clabel(plot4, powerlist,inline=0, inline_spacing=0, fmt='%1.6f',rightside_up=True,fontsize=8)\n",
    "#sample3=plt.plot(vrange[-1],drdvnplist)\n",
    "#sample3=plt.plot(vrange,dsigdvnplist)\n",
    "plt.xlabel('v')\n",
    "plt.ylabel('u')\n",
    "#plt.xlim(0,400)\n",
    "#plt.ylim(9.36,9.37)\n",
    "#plt.ylim(0,1000)\n",
    "plt.colorbar(plot1)\n",
    "plt.title('Power Law ')\n",
    "#plt.savefig('RN-err-max-N_60.png',dpi=300)\n",
    "plt.show()"
   ]
  },
  {
   "cell_type": "code",
   "execution_count": null,
   "metadata": {},
   "outputs": [],
   "source": [
    "ueddrange=np.empty((Nu))\n",
    "ueddrange[0]=0.0\n",
    "M=massnp[1][-1]\n",
    "\n",
    "for i in range(0,Nu-1):\n",
    "    \n",
    "    #print(M)\n",
    "    ueddrange[i+1]=ueddrange[i]+(urange[i+1]-urange[i])*(1-2*M/rnp[i][0]+Q**2/rnp[i][0]**2)**(1)*mth.exp(-signp[i][0])\n",
    "    \n",
    "plt.plot(ueddrange)\n",
    "plt.plot(urange)\n",
    "plt.ylim(0,20)\n",
    "plt.xlabel('Point Number')\n",
    "plt.ylabel('u')\n",
    "plt.grid()\n",
    "plt.show()\n",
    "\n"
   ]
  },
  {
   "cell_type": "code",
   "execution_count": null,
   "metadata": {},
   "outputs": [],
   "source": [
    "localpoweru=np.zeros((Nu,Nv))*np.nan\n",
    "\n",
    "for i in range(0,Nu-1):\n",
    "    for j in range(0,Nv-1):\n",
    "        #u=i*umax/(Nu)\n",
    "        #=urange[i]\n",
    "        u=ueddrange[i]\n",
    "        try:\n",
    "            localpoweru[i][j]=-u*(phinp[i+1][j]-phinp[i][j])/(du0*phinp[i][j])#*(1-2*massnp[i][j]/rnp[i][j]+Q**2/rnp[i][j]**2)**(-1)*mth.exp(signp[i][j])\n",
    "        except:\n",
    "            localpoweru[i][j]=np.nan"
   ]
  },
  {
   "cell_type": "code",
   "execution_count": null,
   "metadata": {},
   "outputs": [],
   "source": [
    "powerlist=[1,2,3,4,5]\n",
    "\n",
    "#plot1=plt.pcolormesh(vrange,urange,np.ma.masked_invalid(localpoweru),cmap=plt.cm.cool,vmin=0.0,vmax=10.0)\n",
    "#plot4=plt.contour(vrange,urange,np.ma.masked_invalid(localpoweru), powerlist,linewidths=0.5,colors='black',extent=(0,vmax,0,umax),aspect='auto',origin='lower')\n",
    "\n",
    "\n",
    "plot1=plt.imshow(np.ma.masked_invalid(localpoweru),cmap=plt.cm.cool,extent=(0,vmax,0,umax),aspect='auto',origin='lower',vmin=0.0,vmax=5.0)\n",
    "plot4=plt.contour(np.ma.masked_invalid(localpoweru), powerlist,linewidths=0.5,colors='black',extent=(0,vmax,0,umax),aspect='auto',origin='lower')\n",
    "\n",
    "plt.clabel(plot4, powerlist,inline=0, inline_spacing=0, fmt='%1.6f',rightside_up=True,fontsize=8)\n",
    "#sample3=plt.plot(vrange[-1],drdvnplist)\n",
    "#sample3=plt.plot(vrange,dsigdvnplist)\n",
    "plt.xlabel('v')\n",
    "plt.ylabel('u')\n",
    "plt.xlim(0,vmax)\n",
    "#plt.ylim(9.0,10.8)\n",
    "plt.colorbar(plot1)\n",
    "plt.title('Power Law')\n",
    "#plt.savefig('RN-err-max-N_60.png',dpi=300)\n",
    "plt.show()"
   ]
  },
  {
   "cell_type": "code",
   "execution_count": null,
   "metadata": {
    "scrolled": false
   },
   "outputs": [],
   "source": [
    "sample3=plt.plot(abs(phinp[:,-1]))\n",
    "plt.xlabel('u')\n",
    "plt.ylabel(r'$|\\Phi|$')\n",
    "#plt.ylim(0.0000000001,0.001)\n",
    "#plt.xlim(18.2999,18.299905)\n",
    "#plt.xlim(0.,100)\n",
    "plt.grid()\n",
    "plt.xscale('log')\n",
    "plt.yscale('log')\n",
    "plt.title(r'$|\\Phi|$ along v=1000')\n",
    "plt.savefig('Phi1.png',dpi=300,bbox_inches=\"tight\")\n",
    "plt.show()  \n",
    "\n",
    "\n",
    "sample3=plt.plot(localpoweru[:,-2])\n",
    "#plt.xlim(0,1000)\n",
    "plt.xlabel('u')\n",
    "plt.ylabel(r'Local Power $-u \\Phi_{,u}/\\Phi$')\n",
    "plt.ylim(0,4)\n",
    "#plt.xlim(11,20)\n",
    "plt.grid()\n",
    "plt.title('Test of Prices Law (goes as 2)')\n",
    "plt.savefig('Phi2.png',dpi=300,bbox_inches=\"tight\")\n",
    "plt.show()"
   ]
  },
  {
   "cell_type": "code",
   "execution_count": null,
   "metadata": {},
   "outputs": [],
   "source": [
    "stop = timeit.default_timer()"
   ]
  },
  {
   "cell_type": "code",
   "execution_count": null,
   "metadata": {},
   "outputs": [],
   "source": [
    "acttime=stop - start\n",
    "\n",
    "numpoints=Nu*Nv\n",
    "\n",
    "\n",
    "\n",
    "print(str(acttime)+' seconds')\n",
    "print(str((acttime)/60)+' minutes')\n",
    "print(str((acttime)/3600)+' hours')\n",
    "\n",
    "print(str(numpoints)+' points')\n",
    "\n",
    "print(str((numpoints)/(stop - start))+' points per second') \n",
    "\n",
    "exttimef=(acttime-predtime)/60\n",
    "\n",
    "exttime=format(abs((acttime-predtime)/60),'.2f')\n",
    "if exttimef>0.0:\n",
    "    print(\"Took \"+str(exttime)+\" more minutes\")\n",
    "if exttimef<0.0:\n",
    "    print(\"Took \"+str(exttime)+\" less minutes\")\n",
    "if exttimef==0.0:\n",
    "    print(\"Took exactly the right time!!!!\")"
   ]
  },
  {
   "cell_type": "code",
   "execution_count": null,
   "metadata": {},
   "outputs": [],
   "source": [
    "uc=1000\n",
    "vc=-10\n",
    "print(2.0/1.75)\n",
    "print((1-2*massnp[uc][vc]/rnp[uc][vc]+Q**2/rnp[uc][vc]**2)**(-1)*mth.exp(-signp[uc][vc]))\n",
    "print((1-2*massnp[uc][vc]/rnp[uc][vc]+Q**2/rnp[uc][vc]**2)**(-1)*mth.exp(-signp[uc][vc]))\n",
    "print(massnp[uc][vc])\n",
    "print(uc*umax/Nu)\n",
    "print(mth.exp(-signp[uc][vc]))\n"
   ]
  },
  {
   "cell_type": "code",
   "execution_count": null,
   "metadata": {},
   "outputs": [],
   "source": [
    "uNEH=Nu-100\n",
    "ustep=10\n",
    "uN1=uNEH#uNEH-3000\n",
    "Numax=Nu+1\n",
    "\n",
    "plt.plot([0,vmax],[rplus,rplus],'r--',color='red',linewidth=0.5, label='r+')\n",
    "plt.plot([0,vmax],[rminus,rminus],'r--',color='blue',linewidth=0.5, label='r-')\n",
    "\n",
    "uN=uN1\n",
    "while uN< Numax:\n",
    "    if uN<uNEH:\n",
    "        sample3=plt.plot(vrange,rnp[uN,:],'--',label='u='+str(urange[uN]))\n",
    "    if uN==uNEH:\n",
    "        sample3=plt.plot(vrange,rnp[uN,:],label='u='+str(urange[uN]))\n",
    "    if uN>uNEH:\n",
    "        sample3=plt.plot(vrange,rnp[uN,:],'-.',label='u='+str(urange[uN]))\n",
    "    #sample3=plt.plot(vrange,signp[uN1+uN,:])\n",
    "    uN+=ustep\n",
    "plt.xlim(0,vmax)\n",
    "plt.xlabel('v')\n",
    "plt.ylabel(r'$r$(u,v)')\n",
    "plt.ylim(0,1.0)\n",
    "#plt.xscale('log')\n",
    "#plt.yscale('log')\n",
    "#plt.legend()\n",
    "plt.grid()\n",
    "plt.title(r'$r$(u,v) vs v') #(u='+str(uN2u)+')')#+',uEH='+str(uEH*umax)+')')\n",
    "plt.savefig('near_r_0.png',dpi=300,bbox_inches=\"tight\")\n",
    "plt.show()"
   ]
  },
  {
   "cell_type": "code",
   "execution_count": null,
   "metadata": {},
   "outputs": [],
   "source": []
  },
  {
   "cell_type": "code",
   "execution_count": null,
   "metadata": {},
   "outputs": [],
   "source": []
  },
  {
   "cell_type": "code",
   "execution_count": null,
   "metadata": {},
   "outputs": [],
   "source": []
  },
  {
   "cell_type": "code",
   "execution_count": null,
   "metadata": {},
   "outputs": [],
   "source": [
    "\n"
   ]
  }
 ],
 "metadata": {
  "kernelspec": {
   "display_name": "Python 3",
   "language": "python",
   "name": "python3"
  },
  "language_info": {
   "codemirror_mode": {
    "name": "ipython",
    "version": 3
   },
   "file_extension": ".py",
   "mimetype": "text/x-python",
   "name": "python",
   "nbconvert_exporter": "python",
   "pygments_lexer": "ipython3",
   "version": "3.6.6"
  }
 },
 "nbformat": 4,
 "nbformat_minor": 2
}
