{
 "cells": [
  {
   "cell_type": "code",
   "execution_count": 1,
   "metadata": {},
   "outputs": [],
   "source": [
    "import numpy as np\n",
    "import math as mth\n",
    "import statistics as stat\n",
    "import matplotlib.pyplot as plt\n",
    "import matplotlib.colors as colors\n",
    "import matplotlib.ticker as ticker\n",
    "\n",
    "import Boundary_Functions as bf\n",
    "import timeit\n",
    "import tables\n",
    "import h5py\n",
    "\n",
    "#import Double_Null_utils as dnu\n",
    "from mpmath import *\n",
    "from decimal import *\n",
    "from scipy.special import gamma as gamma\n",
    "from scipy.special import gammaincc as gamma3\n",
    "from scipy import optimize\n",
    "from mpmath import gammainc as gamma2\n",
    "\n",
    "#import warnings\n",
    "#warnings.filterwarnings(\"ignore\")\n",
    "\n",
    "start = timeit.default_timer()\n",
    "\n",
    "!jt -t onedork"
   ]
  },
  {
   "cell_type": "code",
   "execution_count": null,
   "metadata": {},
   "outputs": [],
   "source": []
  },
  {
   "cell_type": "code",
   "execution_count": 2,
   "metadata": {},
   "outputs": [],
   "source": [
    "uscal=1\n",
    "vscal=5"
   ]
  },
  {
   "cell_type": "code",
   "execution_count": 3,
   "metadata": {},
   "outputs": [
    {
     "name": "stdout",
     "output_type": "stream",
     "text": [
      "True\n"
     ]
    }
   ],
   "source": [
    "rnputil=np.load('rnputil.npy')\n",
    "wHD=rnputil[8]\n",
    "#print(type(wHD))\n",
    "print(wHD)\n",
    "\n",
    "if wHD==True or wHD==1.0 or wHD=='True':\n",
    "    urange=np.load('urange.npy')[::uscal]\n",
    "    vrange=np.load('vrange.npy')[::vscal]\n",
    "if wHD==False or wHD==0.0 or wHD==None or wHD=='False':\n",
    "    urange=np.load('urange.npy')\n",
    "    vrange=np.load('vrange.npy')\n",
    "\n",
    "#print(urange)"
   ]
  },
  {
   "cell_type": "code",
   "execution_count": 4,
   "metadata": {},
   "outputs": [
    {
     "name": "stdout",
     "output_type": "stream",
     "text": [
      "5126400 bytes\n",
      "Hd5 files used\n"
     ]
    }
   ],
   "source": [
    "if wHD==True or wHD==1.0 or wHD=='True':\n",
    "    with h5py.File('rnp.h5','r') as f:\n",
    "        r_group_key = list(f.keys())[0]\n",
    "        rnpi=f[r_group_key]\n",
    "        rnp = np.asarray(rnpi[::uscal,::vscal])\n",
    "    with h5py.File('signp.h5','r') as f:\n",
    "        sig_group_key = list(f.keys())[0]\n",
    "        signpi=f[sig_group_key]\n",
    "        signp = np.asarray(signpi[::uscal,::vscal])\n",
    "    with h5py.File('phinp.h5','r') as f:\n",
    "        phi_group_key = list(f.keys())[0]\n",
    "        phinpi=f[phi_group_key]\n",
    "        phinp = np.asarray(phinpi[::uscal,::vscal])\n",
    "    with h5py.File('massnp.h5','r') as f:\n",
    "        mass_group_key = list(f.keys())[0]\n",
    "        massnpi=f[mass_group_key]\n",
    "        massnp = np.asarray(massnpi[::uscal,::vscal])\n",
    "    \n",
    "    print(str(rnp.nbytes)+\" bytes\")\n",
    "    print(\"Hd5 files used\")\n",
    "\n",
    "if wHD==False or wHD==0.0 or wHD==None or wHD=='False':\n",
    "    rnp=np.load('rnp.npy')\n",
    "    signp=np.load('sig.npy')\n",
    "    phinp=np.load('phi.npy')\n",
    "    massnp=np.load('mass.npy')\n",
    "    print(\"Numpy arrays used\")\n",
    "    \n",
    "switchax=float(rnputil[9])\n",
    "if switchax==True or switchax=='True':\n",
    "    rnp=np.swapaxes(rnp,0,1)\n",
    "    signp=np.swapaxes(signp,0,1)\n",
    "    phinp=np.swapaxes(phinp,0,1)\n",
    "    massnp=np.swapaxes(massnp,0,1)\n",
    "    \n"
   ]
  },
  {
   "cell_type": "code",
   "execution_count": 5,
   "metadata": {},
   "outputs": [
    {
     "name": "stdout",
     "output_type": "stream",
     "text": [
      "['3204000' '801' '4000' '2.0' '0.04614583333333333' '1.0' '0.95' '0.1'\n",
      " 'True' '0.0' 'edd']\n",
      "[ 0.0225  0.0475  0.0725  0.0975  0.1225  0.1475  0.1725  0.1975  0.2225\n",
      "  0.2475  0.2725  0.2975  0.3225  0.3475  0.3725  0.3975  0.4225  0.4475\n",
      "  0.4725  0.4975  0.5225  0.5475  0.5725  0.5975  0.6225  0.6475  0.6725\n",
      "  0.6975  0.7225  0.7475  0.7725  0.7975  0.8225  0.8475  0.8725  0.8975\n",
      "  0.9225  0.9475  0.9725  0.9975  1.0225  1.0475  1.0725  1.0975  1.1225\n",
      "  1.1475  1.1725  1.1975  1.2225  1.2475  1.2725  1.2975  1.3225  1.3475\n",
      "  1.3725  1.3975  1.4225  1.4475  1.4725  1.4975  1.5225  1.5475  1.5725\n",
      "  1.5975  1.6225  1.6475  1.6725  1.6975  1.7225  1.7475  1.7725  1.7975\n",
      "  1.8225  1.8475  1.8725  1.8975  1.9225  1.9475  1.9725  1.9975  2.0225\n",
      "  2.0475  2.0725  2.0975  2.1225  2.1475  2.1725  2.1975  2.2225  2.2475\n",
      "  2.2725  2.2975  2.3225  2.3475  2.3725  2.3975  2.4225  2.4475  2.4725\n",
      "  2.4975  2.5225  2.5475  2.5725  2.5975  2.6225  2.6475  2.6725  2.6975\n",
      "  2.7225  2.7475  2.7725  2.7975  2.8225  2.8475  2.8725  2.8975  2.9225\n",
      "  2.9475  2.9725  2.9975  3.0225  3.0475  3.0725  3.0975  3.1225  3.1475\n",
      "  3.1725  3.1975  3.2225  3.2475  3.2725  3.2975  3.3225  3.3475  3.3725\n",
      "  3.3975  3.4225  3.4475  3.4725  3.4975  3.5225  3.5475  3.5725  3.5975\n",
      "  3.6225  3.6475  3.6725  3.6975  3.7225  3.7475  3.7725  3.7975  3.8225\n",
      "  3.8475  3.8725  3.8975  3.9225  3.9475  3.9725  3.9975  4.0225  4.0475\n",
      "  4.0725  4.0975  4.1225  4.1475  4.1725  4.1975  4.2225  4.2475  4.2725\n",
      "  4.2975  4.3225  4.3475  4.3725  4.3975  4.4225  4.4475  4.4725  4.4975\n",
      "  4.5225  4.5475  4.5725  4.5975  4.6225  4.6475  4.6725  4.6975  4.7225\n",
      "  4.7475  4.7725  4.7975  4.8225  4.8475  4.8725  4.8975  4.9225  4.9475\n",
      "  4.9725  4.9975  5.0225  5.0475  5.0725  5.0975  5.1225  5.1475  5.1725\n",
      "  5.1975  5.2225  5.2475  5.2725  5.2975  5.3225  5.3475  5.3725  5.3975\n",
      "  5.4225  5.4475  5.4725  5.4975  5.5225  5.5475  5.5725  5.5975  5.6225\n",
      "  5.6475  5.6725  5.6975  5.7225  5.7475  5.7725  5.7975  5.8225  5.8475\n",
      "  5.8725  5.8975  5.9225  5.9475  5.9725  5.9975  6.0225  6.0475  6.0725\n",
      "  6.0975  6.1225  6.1475  6.1725  6.1975  6.2225  6.2475  6.2725  6.2975\n",
      "  6.3225  6.3475  6.3725  6.3975  6.4225  6.4475  6.4725  6.4975  6.5225\n",
      "  6.5475  6.5725  6.5975  6.6225  6.6475  6.6725  6.6975  6.7225  6.7475\n",
      "  6.7725  6.7975  6.8225  6.8475  6.8725  6.8975  6.9225  6.9475  6.9725\n",
      "  6.9975  7.0225  7.0475  7.0725  7.0975  7.1225  7.1475  7.1725  7.1975\n",
      "  7.2225  7.2475  7.2725  7.2975  7.3225  7.3475  7.3725  7.3975  7.4225\n",
      "  7.4475  7.4725  7.4975  7.5225  7.5475  7.5725  7.5975  7.6225  7.6475\n",
      "  7.6725  7.6975  7.7225  7.7475  7.7725  7.7975  7.8225  7.8475  7.8725\n",
      "  7.8975  7.9225  7.9475  7.9725  7.9975  8.0225  8.0475  8.0725  8.0975\n",
      "  8.1225  8.1475  8.1725  8.1975  8.2225  8.2475  8.2725  8.2975  8.3225\n",
      "  8.3475  8.3725  8.3975  8.4225  8.4475  8.4725  8.4975  8.5225  8.5475\n",
      "  8.5725  8.5975  8.6225  8.6475  8.6725  8.6975  8.7225  8.7475  8.7725\n",
      "  8.7975  8.8225  8.8475  8.8725  8.8975  8.9225  8.9475  8.9725  8.9975\n",
      "  9.0225  9.0475  9.0725  9.0975  9.1225  9.1475  9.1725  9.1975  9.2225\n",
      "  9.2475  9.2725  9.2975  9.3225  9.3475  9.3725  9.3975  9.4225  9.4475\n",
      "  9.4725  9.4975  9.5225  9.5475  9.5725  9.5975  9.6225  9.6475  9.6725\n",
      "  9.6975  9.7225  9.7475  9.7725  9.7975  9.8225  9.8475  9.8725  9.8975\n",
      "  9.9225  9.9475  9.9725  9.9975 10.0225 10.0475 10.0725 10.0975 10.1225\n",
      " 10.1475 10.1725 10.1975 10.2225 10.2475 10.2725 10.2975 10.3225 10.3475\n",
      " 10.3725 10.3975 10.4225 10.4475 10.4725 10.4975 10.5225 10.5475 10.5725\n",
      " 10.5975 10.6225 10.6475 10.6725 10.6975 10.7225 10.7475 10.7725 10.7975\n",
      " 10.8225 10.8475 10.8725 10.8975 10.9225 10.9475 10.9725 10.9975 11.0225\n",
      " 11.0475 11.0725 11.0975 11.1225 11.1475 11.1725 11.1975 11.2225 11.2475\n",
      " 11.2725 11.2975 11.3225 11.3475 11.3725 11.3975 11.4225 11.4475 11.4725\n",
      " 11.4975 11.5225 11.5475 11.5725 11.5975 11.6225 11.6475 11.6725 11.6975\n",
      " 11.7225 11.7475 11.7725 11.7975 11.8225 11.8475 11.8725 11.8975 11.9225\n",
      " 11.9475 11.9725 11.9975 12.0225 12.0475 12.0725 12.0975 12.1225 12.1475\n",
      " 12.1725 12.1975 12.2225 12.2475 12.2725 12.2975 12.3225 12.3475 12.3725\n",
      " 12.3975 12.4225 12.4475 12.4725 12.4975 12.5225 12.5475 12.5725 12.5975\n",
      " 12.6225 12.6475 12.6725 12.6975 12.7225 12.7475 12.7725 12.7975 12.8225\n",
      " 12.8475 12.8725 12.8975 12.9225 12.9475 12.9725 12.9975 13.0225 13.0475\n",
      " 13.0725 13.0975 13.1225 13.1475 13.1725 13.1975 13.2225 13.2475 13.2725\n",
      " 13.2975 13.3225 13.3475 13.3725 13.3975 13.4225 13.4475 13.4725 13.4975\n",
      " 13.5225 13.5475 13.5725 13.5975 13.6225 13.6475 13.6725 13.6975 13.7225\n",
      " 13.7475 13.7725 13.7975 13.8225 13.8475 13.8725 13.8975 13.9225 13.9475\n",
      " 13.9725 13.9975 14.0225 14.0475 14.0725 14.0975 14.1225 14.1475 14.1725\n",
      " 14.1975 14.2225 14.2475 14.2725 14.2975 14.3225 14.3475 14.3725 14.3975\n",
      " 14.4225 14.4475 14.4725 14.4975 14.5225 14.5475 14.5725 14.5975 14.6225\n",
      " 14.6475 14.6725 14.6975 14.7225 14.7475 14.7725 14.7975 14.8225 14.8475\n",
      " 14.8725 14.8975 14.9225 14.9475 14.9725 14.9975 15.0225 15.0475 15.0725\n",
      " 15.0975 15.1225 15.1475 15.1725 15.1975 15.2225 15.2475 15.2725 15.2975\n",
      " 15.3225 15.3475 15.3725 15.3975 15.4225 15.4475 15.4725 15.4975 15.5225\n",
      " 15.5475 15.5725 15.5975 15.6225 15.6475 15.6725 15.6975 15.7225 15.7475\n",
      " 15.7725 15.7975 15.8225 15.8475 15.8725 15.8975 15.9225 15.9475 15.9725\n",
      " 15.9975 16.0225 16.0475 16.0725 16.0975 16.1225 16.1475 16.1725 16.1975\n",
      " 16.2225 16.2475 16.2725 16.2975 16.3225 16.3475 16.3725 16.3975 16.4225\n",
      " 16.4475 16.4725 16.4975 16.5225 16.5475 16.5725 16.5975 16.6225 16.6475\n",
      " 16.6725 16.6975 16.7225 16.7475 16.7725 16.7975 16.8225 16.8475 16.8725\n",
      " 16.8975 16.9225 16.9475 16.9725 16.9975 17.0225 17.0475 17.0725 17.0975\n",
      " 17.1225 17.1475 17.1725 17.1975 17.2225 17.2475 17.2725 17.2975 17.3225\n",
      " 17.3475 17.3725 17.3975 17.4225 17.4475 17.4725 17.4975 17.5225 17.5475\n",
      " 17.5725 17.5975 17.6225 17.6475 17.6725 17.6975 17.7225 17.7475 17.7725\n",
      " 17.7975 17.8225 17.8475 17.8725 17.8975 17.9225 17.9475 17.9725 17.9975\n",
      " 18.0225 18.0475 18.0725 18.0975 18.1225 18.1475 18.1725 18.1975 18.2225\n",
      " 18.2475 18.2725 18.2975 18.3225 18.3475 18.3725 18.3975 18.4225 18.4475\n",
      " 18.4725 18.4975 18.5225 18.5475 18.5725 18.5975 18.6225 18.6475 18.6725\n",
      " 18.6975 18.7225 18.7475 18.7725 18.7975 18.8225 18.8475 18.8725 18.8975\n",
      " 18.9225 18.9475 18.9725 18.9975 19.0225 19.0475 19.0725 19.0975 19.1225\n",
      " 19.1475 19.1725 19.1975 19.2225 19.2475 19.2725 19.2975 19.3225 19.3475\n",
      " 19.3725 19.3975 19.4225 19.4475 19.4725 19.4975 19.5225 19.5475 19.5725\n",
      " 19.5975 19.6225 19.6475 19.6725 19.6975 19.7225 19.7475 19.7725 19.7975\n",
      " 19.8225 19.8475 19.8725 19.8975 19.9225 19.9475 19.9725 19.9975 20.    ]\n",
      "N=3204000\n",
      "0.6767481351792639 1.5287287754890744 4.130469742835357 -6.3359466535036955\n",
      "[-1.56125113e-17 -9.71445147e-17 -1.11022302e-16 -2.22044605e-16]\n",
      "640800 points\n",
      "Runtime: about 0.05 minutes\n",
      "801 800\n"
     ]
    }
   ],
   "source": [
    "print(rnputil)\n",
    "print(urange)\n",
    "\n",
    "N=int(rnputil[0])\n",
    "Nu=len(urange)#int(rnputil[1])\n",
    "Nv=len(vrange)#int(rnputil[2])\n",
    "ru0=float(rnputil[3])\n",
    "dr0v=float(rnputil[4])\n",
    "M0=float(rnputil[5])\n",
    "Q=float(rnputil[6])\n",
    "Lambda=float(rnputil[7])\n",
    "bdytype=str(rnputil[10])\n",
    "\n",
    "umax=np.nanmax(urange)\n",
    "vmax=np.nanmax(vrange)\n",
    "\n",
    "print('N='+str(N))\n",
    "\n",
    "if M0>0.0:\n",
    "    du0=M0/N\n",
    "    dv0=du0\n",
    "\n",
    "M=massnp[0][-1]    \n",
    "    \n",
    "def fr(r,M,Q,Lambda):\n",
    "    return 1-2*M/r+Q**2.0/r**2.0-Lambda*r**2.0/3.0\n",
    "\n",
    "sol = optimize.root(fr,[0.6,1.288,55.0,-50],args=(M,Q,Lambda),tol=10**(-12), method='hybr')\n",
    "rminus=sol.x[0]#+.035\n",
    "rplus=sol.x[1]\n",
    "rcosm=sol.x[2]\n",
    "rneg=sol.x[3]\n",
    "\n",
    "def dfr(r,M,Q,Lambda):\n",
    "    return -2*(Lambda*r**4-3*M*r+3*Q**2)/(3*r**3)\n",
    "\n",
    "print(rminus,rplus,rcosm,rneg)\n",
    "\n",
    "print(fr(np.array([rminus,rplus,rcosm,rneg]),M,Q,Lambda))\n",
    "    \n",
    "    \n",
    "    \n",
    "numpoints=Nu*Nv\n",
    "print(str(numpoints)+\" points\")\n",
    "\n",
    "if Q==0.0:\n",
    "    predtime=numpoints/(17530)\n",
    "if Q>0.0:\n",
    "    predtime=numpoints/(204896)\n",
    "print(\"Runtime: about \"+str(format(predtime/60,'.2f'))+\" minutes\")\n",
    "print(Nu,Nv)"
   ]
  },
  {
   "cell_type": "code",
   "execution_count": 6,
   "metadata": {},
   "outputs": [],
   "source": [
    "if M0==0.0:\n",
    "    rlist=np.zeros((Nu,Nv))\n",
    "    dr0u=-1/(4*dr0v)\n",
    "\n",
    "    for i in range(0,Nu):\n",
    "        for j in range(0,Nv):\n",
    "            rlist[i][j]=ru0+dr0u/N*i+dr0v/N*j\n"
   ]
  },
  {
   "cell_type": "code",
   "execution_count": 7,
   "metadata": {},
   "outputs": [],
   "source": [
    "if M0>0.0 and Q==0.0 and Lambda==0.0:\n",
    "    ulist=np.empty((Nu))*np.nan\n",
    "    vlist=np.empty((Nv))*np.nan\n",
    "    \n",
    "    #rlistu=ru0+bf.dr2(M0,dr0v,ru0)*np.arange(0,umax,du0)\n",
    "    #rlistv=ru0+dr0v*np.arange(0,vmax,dv0)\n",
    "\n",
    "    rlistu=rnp[:,0]\n",
    "    rlistv=rnp[0,:]\n",
    "    \n",
    "    #print(rlistv)\n",
    "\n",
    "    ulist=np.empty((Nu))\n",
    "    vlist=np.empty((Nv))\n",
    "\n",
    "    for i in range(0,Nu):\n",
    "        if rlistu[i]>rminus:\n",
    "            ulist[i]=bf.rbounschinv(M0,ru0,bf.dr2(M0,dr0v,ru0)*(bf.esig(M0,rlistu[0]))**(1),rlistu[i])\n",
    "        else:\n",
    "            ulist[i]=np.nan\n",
    "    \n",
    "    for j in range(0,Nv):\n",
    "        vlist[j]=bf.rbounschinv(M0,ru0,dr0v*bf.esig(M0,rlistu[0])**(1),rlistv[j])\n",
    "\n",
    "    #print(vlist)\n",
    "    plt.plot(ulist)\n",
    "    plt.show()"
   ]
  },
  {
   "cell_type": "code",
   "execution_count": 8,
   "metadata": {},
   "outputs": [],
   "source": [
    "if M0>0.0 and Q==0.0 and Lambda==0.0:        \n",
    "    rlist=np.zeros((Nu,Nv))*np.nan\n",
    "\n",
    "    for i in range(0,Nu):\n",
    "        for j in range(0,Nv):\n",
    "            rlist[i][j]=bf.rsch(M0,ru0,dr0v,ulist[i],vlist[j])\n",
    "            #if rlist[i][j]>0.0:\n",
    "                #continue\n",
    "            #else:\n",
    "                    #rlistv[j]=np.nan\n",
    "                #break\n",
    "            "
   ]
  },
  {
   "cell_type": "code",
   "execution_count": 9,
   "metadata": {},
   "outputs": [],
   "source": [
    "if M0>0.0 and Q>0.0 and Lambda==0.0:\n",
    "    #rlistu=ru0+bf.dr2rn(M0,Q,dr0v,ru0)*np.arange(0,umax,du0)\n",
    "    #rlistv=ru0+dr0v*np.arange(0,vmax,dv0)\n",
    "\n",
    "    rlistu=rnp[:,0]\n",
    "    rlistv=rnp[0,:]\n",
    "    \n",
    "    print(len(rnp[0]),len(rnp[:,0]))\n",
    "    \n",
    "    #print(bf.esigrn(M0,Q,ru0))\n",
    "    #print(rlistu)\n",
    "\n",
    "    ulist=np.empty((Nu))*np.nan\n",
    "    vlist=np.empty((Nv))*np.nan\n",
    "    \n",
    "    print(len(rlistu))\n",
    "    print(Nu)\n",
    "    print(Nv)\n",
    "    \n",
    "    for i in range(0,Nu):\n",
    "        if rlistu[i]>rminus:\n",
    "            ulist[i]=bf.rbounrninv(float(rlistu[i]),M0,Q,ru0,bf.dr2rn(M0,Q,dr0v,ru0)*(bf.esigrn(M0,Q,rlistv[0]))**(1))\n",
    "        else:\n",
    "            ulist[i]=np.nan\n",
    "\n",
    "    for i in range(0,Nv):\n",
    "        vlist[i]=bf.rbounrninv(float(rlistv[i]),M0,Q,ru0,dr0v*(bf.esigrn(M0,Q,rlistv[0]))**(1))\n",
    "\n",
    "    plt.plot(ulist)#,rlistu)\n",
    "    plt.xlabel('numpoints')\n",
    "    plt.ylabel('u')\n",
    "    #plt.xlabel('u')\n",
    "    #plt.ylabel('r')\n",
    "    #plt.xlim(0,1)\n",
    "    plt.ylim(0,5)\n",
    "    plt.grid()\n",
    "    plt.show()    \n",
    "    \n",
    "    plt.plot(vlist)#,rlistv)\n",
    "    plt.xlabel('numpoints')\n",
    "    plt.ylabel('v')\n",
    "    #plt.xlabel('v')\n",
    "    #plt.ylabel('r')\n",
    "    #plt.xlim(0,1)\n",
    "    #plt.ylim(4,5)\n",
    "    plt.grid()\n",
    "    plt.show()\n",
    "\n",
    "    print(ulist)"
   ]
  },
  {
   "cell_type": "code",
   "execution_count": 10,
   "metadata": {},
   "outputs": [],
   "source": [
    "if M0>0.0 and Q>0.0 and Lambda==0.0:\n",
    "    rlist=np.zeros((Nu,Nv))*np.nan\n",
    "    for i in range(0,Nu):\n",
    "    #for j in range(0,Nv):\n",
    "        rlist[i]=bf.rrn(M0,Q,ru0,dr0v,signp[i][0],ulist,vlist,i).reshape(Nv)"
   ]
  },
  {
   "cell_type": "code",
   "execution_count": 11,
   "metadata": {},
   "outputs": [
    {
     "name": "stdout",
     "output_type": "stream",
     "text": [
      "1.0\n",
      "801\n"
     ]
    },
    {
     "data": {
      "image/png": "[encoded data removed]",
      "text/plain": [
       "<Figure size 432x288 with 1 Axes>"
      ]
     },
     "metadata": {
      "needs_background": "light"
     },
     "output_type": "display_data"
    },
    {
     "name": "stderr",
     "output_type": "stream",
     "text": [
      "/home/brandon/.conda/envs/pycbc/lib/python3.6/site-packages/ipykernel_launcher.py:45: RuntimeWarning: invalid value encountered in true_divide\n"
     ]
    },
    {
     "data": {
      "image/png": "[encoded data removed]",
      "text/plain": [
       "<Figure size 432x288 with 1 Axes>"
      ]
     },
     "metadata": {
      "needs_background": "light"
     },
     "output_type": "display_data"
    },
    {
     "data": {
      "image/png": "[encoded data removed]",
      "text/plain": [
       "<Figure size 432x288 with 1 Axes>"
      ]
     },
     "metadata": {
      "needs_background": "light"
     },
     "output_type": "display_data"
    },
    {
     "name": "stdout",
     "output_type": "stream",
     "text": [
      "1.0000000000213747\n"
     ]
    }
   ],
   "source": [
    "if M0>0.0 and Q>0.0 and Lambda>0.0:\n",
    "    ###Need to calculate in Eddington-like coordinates to work\n",
    "    corfactor=1/dr0v*0.5*np.abs(1-2*massnp[0][0]/rnp[0][0]+Q**2/rnp[0][0]**2-Lambda*(rnp[0][0])**2.0/3.0)\n",
    "    print(corfactor)\n",
    "    def vegiver(r,r0):\n",
    "        C1=6/Lambda*(-(rcosm**2.0*np.log(rcosm-r0))/((rcosm-rminus)*(rcosm-rneg)*(rcosm-rplus))+(rminus**2.0*np.log(np.abs(r0-rminus)))/((rcosm-rminus)*(rminus-rneg)*(rminus-rplus))+(rneg**2.0*np.log(np.abs(r0-rneg)))/((rcosm-rneg)*(rneg-rminus)*(rneg-rplus))+(rplus**2.0*np.log(np.abs(r0-rplus)))/((rcosm-rplus)*(rplus-rminus)*(rplus-rneg)))\n",
    "        f=6/Lambda*(-(rcosm**2.0*np.log(rcosm-r))/((rcosm-rminus)*(rcosm-rneg)*(rcosm-rplus))+(rminus**2.0*np.log(np.abs(r-rminus)))/((rcosm-rminus)*(rminus-rneg)*(rminus-rplus))+(rneg**2.0*np.log(np.abs(r-rneg)))/((rcosm-rneg)*(rneg-rminus)*(rneg-rplus))+(rplus**2.0*np.log(np.abs(r-rplus)))/((rcosm-rplus)*(rplus-rminus)*(rplus-rneg)))\n",
    "    \n",
    "        return -(C1-f)*corfactor\n",
    "    \n",
    "    #rlist=np.zeros((Nu,Nv))*np.nan\n",
    "    #vlist= vegiver(rnp,rnp[0,0])\n",
    "    \n",
    "    \n",
    "    #vrange2=np.cumsum(cornp)-cornp[0]\n",
    "    print(Nu)\n",
    "    numlines=100\n",
    "    \n",
    "    for i in range(0,numlines):\n",
    "    #or line in rnp[::100]:\n",
    "        #plt.plot(line,-vegiver(line,rnp[0,0])*corfactor)\n",
    "        #plt.plot(line,vrange)\n",
    "        rline=rnp[int(i/numlines*Nu)]\n",
    "        #print(rline)\n",
    "        plt.plot(rline,vegiver(rline,rline[0]),'--')\n",
    "        plt.plot(rline,vrange)\n",
    "        #print(vegiver(rline,rline[0]))\n",
    "        #print(vrange)\n",
    "        #print('--')\n",
    "    plt.plot([nan],[nan],'--',label='exact')\n",
    "    plt.plot([nan],[nan],label='numerical')\n",
    "    plt.axvline(x=rplus,linewidth=0.75,linestyle='--',color='red')\n",
    "    plt.axvline(x=rminus,linewidth=0.75,linestyle='--',color='blue')\n",
    "    #plt.axvline(x=rcosm,linewidth=0.75,linestyle='--',color='green')\n",
    "    plt.ylabel('v')\n",
    "    plt.xlabel('r(v)')\n",
    "    plt.ylim(0,vmax)\n",
    "    plt.xlim(rplus-.01,rplus+.01)\n",
    "    plt.grid()\n",
    "    plt.legend(loc='best')\n",
    "    #plt.savefig('num-rel-pics/v=600_r_N-200.png',dpi=300)\n",
    "    plt.show()\n",
    "    for i in range(0,numlines):\n",
    "        rline=rnp[int(i/numlines*Nu)]\n",
    "        plt.plot(rline,np.abs(vrange-vegiver(rline,rline[0]))/vegiver(rline,rline[0]))\n",
    "    plt.axvline(x=rplus,linewidth=0.75,linestyle='--',color='red')\n",
    "    plt.axvline(x=rminus,linewidth=0.75,linestyle='--',color='blue')\n",
    "    #plt.axvline(x=rcosm,linewidth=0.75,linestyle='--',color='green')\n",
    "    #plt.ylim(.0000001,10000)\n",
    "    #plt.xlim(0,5)\n",
    "    plt.ylabel(r'$|v-v_{num}|/v$')\n",
    "    plt.xlabel('r')\n",
    "    plt.grid()\n",
    "    #plt.xlim(rminus-.005,rminus+.005)\n",
    "    #plt.xscale('log')\n",
    "    plt.yscale('log')\n",
    "    plt.title('Error in v')\n",
    "    #plt.savefig('num-rel-pics/v=600_error_N-200.png',dpi=300)\n",
    "    #plt.savefig('num-rel-pics/error.png',dpi=300)\n",
    "    plt.show()\n",
    "    \n",
    "    \n",
    "    plt.plot(vrange,massnp[-1])\n",
    "    plt.show()\n",
    "    \n",
    "    print(np.nanmax(massnp))\n",
    "        \n",
    "    "
   ]
  },
  {
   "cell_type": "code",
   "execution_count": 12,
   "metadata": {},
   "outputs": [
    {
     "ename": "SyntaxError",
     "evalue": "invalid syntax (<ipython-input-12-490cd3e3ff76>, line 1)",
     "output_type": "error",
     "traceback": [
      "\u001b[0;36m  File \u001b[0;32m\"<ipython-input-12-490cd3e3ff76>\"\u001b[0;36m, line \u001b[0;32m1\u001b[0m\n\u001b[0;31m    if f is p\u001b[0m\n\u001b[0m             ^\u001b[0m\n\u001b[0;31mSyntaxError\u001b[0m\u001b[0;31m:\u001b[0m invalid syntax\n"
     ]
    }
   ],
   "source": [
    "if f is p"
   ]
  },
  {
   "cell_type": "markdown",
   "metadata": {
    "scrolled": false
   },
   "source": [
    "levels=np.arange(5.0, np.nanmax(rlist), 5.0 )\n",
    "#levels=np.arange(5.0, 100, 5.0 )\n",
    "levels=np.insert(levels,0,[rminus+.01,.7,1.0,rplus])\n",
    "\n",
    "plot1=plt.pcolormesh(vrange,urange,np.ma.masked_invalid(rlist),cmap=plt.cm.cool,vmin=0.0,vmax=np.nanmax(rlist))\n",
    "plot4=plt.contour(vrange,urange,rlist,levels,linewidths=0.5,colors='black',extent=(0,vmax,0,umax),aspect='auto',origin='lower')\n",
    "plot5=plt.contour(vrange,urange,rlist, [rplus],linewidths=0.5,colors='red',extent=(0,vmax,0,umax),aspect='auto',origin='lower')\n",
    "plot6=plt.contour(vrange,urange,rlist, [rminus],linewidths=1.0,linestyles='dashed',colors='blue',extent=(0,vmax,0,umax),aspect='auto',origin='lower')\n",
    "#plt.clabel(plot4, levels,  \n",
    "           #inline=0, inline_spacing=0, \n",
    "           #fmt='%1.2f',rightside_up=True,\n",
    "           #fontsize=8)\n",
    "#sample3=plt.plot(vrange[-1],drdvnplist)\n",
    "#sample3=plt.plot(vrange,dsigdvnplist)\n",
    "plt.xlabel('v')\n",
    "plt.ylabel('u')\n",
    "#plt.xlim(0,20)\n",
    "#plt.ylim(0,11)\n",
    "plt.xlim(0,vmax)\n",
    "#plt.ylim(9.2758,9.2761)\n",
    "plt.colorbar(plot1)\n",
    "plt.title('Radius vs (u,v) Coordinates')\n",
    "#plt.savefig('EH-mismatch.png',dpi=300)\n",
    "plt.show()\n"
   ]
  },
  {
   "cell_type": "code",
   "execution_count": null,
   "metadata": {},
   "outputs": [],
   "source": [
    "print(Nu)\n",
    "Ni=2500\n",
    "while Ni<Nu:\n",
    "    plt.plot(vrange,rlist[Ni,:])\n",
    "    Ni+=100\n",
    "plt.plot([0,vmax],[rminus,rminus],'r--',color='blue',linewidth=0.5)\n",
    "plt.ylim(rminus-0.00000001,rminus+0.00000001)\n",
    "plt.xlabel('v')\n",
    "plt.ylabel('r')\n",
    "plt.grid()\n",
    "plt.show()\n",
    "\n"
   ]
  },
  {
   "cell_type": "code",
   "execution_count": null,
   "metadata": {},
   "outputs": [],
   "source": [
    "print(Nu)\n",
    "\n",
    "Ni=100\n",
    "Numax=2000\n",
    "while Ni<Numax:\n",
    "    #plt.plot(vrange,rlist[Ni,:],'-.')\n",
    "    #plt.plot(vrange,rnp[Ni,:])\n",
    "    try:\n",
    "        plt.plot(rlist[Ni,:],vrange,'-.')\n",
    "        plt.plot(rnp[Ni,:],vrange)\n",
    "    except:\n",
    "        break\n",
    "    #plt.plot(urange,rlist[:,Ni+1],'-.')\n",
    "    #plt.plot(urange,rnp[:,Ni+1])\n",
    "    Ni+=100\n",
    "#plt.plot([0,vmax],[rplus,rplus],'r--',color='red',linewidth=0.5)\n",
    "#plt.plot([0,vmax],[rminus,rminus],'r--',color='blue',linewidth=0.5)\n",
    "#plt.ylim(rminus-0.1,rminus+0.1)\n",
    "plt.ylabel('v')\n",
    "plt.xlabel('r')\n",
    "plt.xlim(1.31,1.315)\n",
    "#plt.ylim(.6877460,.6877525)\n",
    "#plt.ylim(.687749,.6877492)\n",
    "plt.grid()\n",
    "plt.title('u vs r(u) along v=const')\n",
    "#plt.savefig('rminus-mismatch-u.png',dpi=300)\n",
    "plt.show()"
   ]
  },
  {
   "cell_type": "code",
   "execution_count": null,
   "metadata": {},
   "outputs": [],
   "source": [
    "rdiff=np.ma.masked_invalid(np.abs((rlist-rnp)/rlist))"
   ]
  },
  {
   "cell_type": "code",
   "execution_count": null,
   "metadata": {},
   "outputs": [],
   "source": [
    "#np.ma.masked_invalid()\n",
    "\n",
    "#print(rdiff[-100,:])\n",
    "plt.plot(vrange,rdiff[700,:])\n",
    "plt.plot(vrange,rdiff[100,:],label='u='+str(urange[100]))\n",
    "plt.plot(vrange,rdiff[1000,:],label='u='+str(urange[1000]))\n",
    "plt.plot(vrange,rdiff[2000,:],label='u='+str(urange[2000]))\n",
    "#plt.plot(vrange,rdiff[3000,:],label='u='+str(urange[3000]))\n",
    "plt.yscale('log')\n",
    "plt.grid()\n",
    "plt.xlabel('v')\n",
    "plt.ylabel('Error in r')\n",
    "plt.legend(loc='upper left')\n",
    "plt.show()\n",
    "\n",
    "print(len(urange),len(vrange),len(rdiff))\n",
    "\n",
    "plt.plot(urange,rdiff[:,Nv-1],label='v='+str(vrange[Nv-1]))\n",
    "plt.plot(urange,rdiff[:,int(Nv*3/4)],label='v='+str(vrange[int(Nv*3/4)]))\n",
    "plt.plot(urange,rdiff[:,int(Nv*1/2)],label='v='+str(vrange[int(Nv*1/2)]))\n",
    "plt.plot(urange,rdiff[:,1],label='v='+str(vrange[1]))\n",
    "\n",
    "\n",
    "\n",
    "#plt.plot(urange,rdiff[:,-4000],label='v='+str(vrange[-4000]))\n",
    "#ax= fig.add_subplot(1,1,1)\n",
    "plt.yscale('log')\n",
    "plt.grid()\n",
    "plt.xlabel('u')\n",
    "plt.ylabel('Error in r')\n",
    "#handles, labels = plt.get_legend_handles_labels()\n",
    "plt.legend(loc='upper left')\n",
    "plt.show()"
   ]
  },
  {
   "cell_type": "code",
   "execution_count": null,
   "metadata": {},
   "outputs": [],
   "source": [
    "\n",
    "if M0==0.0:\n",
    "    levelsdiff=[10**(-11.0),10**(-10.0),10**(-9.0)]\n",
    "if M0>0.0 and Q==0.0:\n",
    "    levelsdiff=[.00001,.0001,.001]\n",
    "if M0>0.0 and Q>0.0:\n",
    "    levelsdiff=[10**(-7),10**(-6),10**(-5),10**(-4),10**(-3),10**(-2)]#,10**(-1)]#,10**(-1)]#,10**(-0),10**(1),20**(1),30**(1)]\n",
    "\n",
    "plot1=plt.pcolormesh(vrange,urange,rdiff,cmap=plt.cm.cool, norm=colors.LogNorm(vmin=min(levelsdiff), vmax=max(levelsdiff)))#,vmin=0.0,vmax=.0001)\n",
    "#plt.ylim(0,10.8)\n",
    "plot4=plt.contour(vrange,urange,rdiff, levelsdiff,linewidths=0.5,colors='black',extent=(0,vmax,0,umax),aspect='auto',origin='lower')\n",
    "plot5=plt.contour(vrange,urange,rlist, [rplus],linewidths=0.5,colors='red',extent=(0,vmax,0,umax),aspect='auto',origin='lower')\n",
    "plot5=plt.contour(vrange,urange,rnp, [rplus],linewidths=0.5,colors='green',extent=(0,vmax,0,umax),aspect='auto',origin='lower')\n",
    "plot6=plt.contour(vrange,urange,rlist, [rminus],linewidths=1.0,linestyles='dashed',colors='blue',extent=(0,vmax,0,umax),aspect='auto',origin='lower')\n",
    "plot6=plt.contour(vrange,urange,rnp, [rminus+.00001],linewidths=1.0,linestyles='dashed',colors='purple',extent=(0,vmax,0,umax),aspect='auto',origin='lower')\n",
    "#fmt={str(10**(-2)):10**(-2)}\n",
    "plt.clabel(plot4, levelsdiff,  \n",
    "           inline=0, inline_spacing=0, \n",
    "           fmt='%1.6f',rightside_up=True,\n",
    "           fontsize=8)\n",
    "#sample3=plt.plot(vrange[-1],drdvnplist)\n",
    "#sample3=plt.plot(vrange,dsigdvnplist)\n",
    "plt.xlabel('v')\n",
    "plt.ylabel('u')\n",
    "plt.xlim(0,vmax)\n",
    "#plt.ylim(9.27585,9.27615) #normal\n",
    "#plt.ylim(9.27589,9.27597)\n",
    "#plt.ylim(.4432,.44325)\n",
    "plt.ylim(0,umax)\n",
    "plt.colorbar(plot1)\n",
    "plt.title('Fractional Error of r(u,v)')\n",
    "plt.savefig('num-rel-pics/r-error.png',dpi=300)\n",
    "plt.show()"
   ]
  },
  {
   "cell_type": "code",
   "execution_count": null,
   "metadata": {},
   "outputs": [],
   "source": [
    "print(\"Max error is: \"+str(np.nanmax(rdiff)))\n",
    "print(\"Mean error is: \"+str(np.nanmean(rdiff)))\n",
    "print(\"Standard Deviation is: \"+str(np.nanstd(rdiff)))\n",
    "plt.plot(vrange,urange[np.argmax(rdiff,axis=0)])\n",
    "plt.xlabel('v')\n",
    "plt.ylabel('u')\n",
    "plt.grid()\n",
    "plt.show()\n",
    "plt.plot(urange,vrange[np.argmax(rdiff,axis=1)])\n",
    "plt.xlabel('u')\n",
    "plt.ylabel('v')\n",
    "plt.grid()\n",
    "plt.show()\n",
    "\n",
    "plt.plot(vrange,urange[np.argmax(rdiff,axis=0)])\n",
    "plt.plot(vrange[np.argmax(rdiff,axis=1)],urange)\n",
    "plt.xlabel('v')\n",
    "\n",
    "plt.ylabel('u')\n",
    "plt.grid()\n",
    "plt.show()\n",
    "#print(rlist[570,570])\n",
    "\n",
    "#print(rdiff)\n",
    "\n",
    "#Max error is: 0.523035549926\n",
    "#Mean error is: 0.00250593093563\n",
    "#Standard Deviation is: 0.012842896785"
   ]
  },
  {
   "cell_type": "code",
   "execution_count": null,
   "metadata": {},
   "outputs": [],
   "source": []
  },
  {
   "cell_type": "code",
   "execution_count": null,
   "metadata": {},
   "outputs": [],
   "source": [
    "stop = timeit.default_timer()"
   ]
  },
  {
   "cell_type": "code",
   "execution_count": null,
   "metadata": {},
   "outputs": [],
   "source": [
    "acttime=stop - start\n",
    "\n",
    "numpoints=Nu*Nv\n",
    "\n",
    "\n",
    "\n",
    "print(str(acttime)+' seconds')\n",
    "print(str((acttime)/60)+' minutes')\n",
    "print(str((acttime)/3600)+' hours')\n",
    "\n",
    "print(str(numpoints)+' points')\n",
    "\n",
    "print(str((numpoints)/(stop - start))+' points per second') \n",
    "\n",
    "exttimef=(acttime-predtime)/60\n",
    "\n",
    "exttime=format(abs((acttime-predtime)/60),'.2f')\n",
    "if exttimef>0.0:\n",
    "    print(\"Took \"+str(exttime)+\" more minutes\")\n",
    "if exttimef<0.0:\n",
    "    print(\"Took \"+str(exttime)+\" less minutes\")\n",
    "if exttimef==0.0:\n",
    "    print(\"Took exactly the right time!!!!\")"
   ]
  },
  {
   "cell_type": "code",
   "execution_count": null,
   "metadata": {},
   "outputs": [],
   "source": [
    "plt.plot(vrange,rlist[300,:])\n",
    "plt.ylim(1.5,5)\n",
    "plt.xlim(0,60)\n",
    "plt.xlabel('v')\n",
    "plt.ylabel('r')\n",
    "plt.grid()\n",
    "plt.show()\n",
    "\n"
   ]
  },
  {
   "cell_type": "code",
   "execution_count": null,
   "metadata": {},
   "outputs": [],
   "source": [
    "print(Nu)\n",
    "urange2=[]\n",
    "for i in range(0,Nu-1):\n",
    "    urange2.append(urange[i+1]-urange[i])\n",
    "print(np.argmin(urange2))\n",
    "print(urange[np.argmin(urange2)])"
   ]
  },
  {
   "cell_type": "code",
   "execution_count": null,
   "metadata": {
    "scrolled": true
   },
   "outputs": [],
   "source": [
    "#uNEH=Nu-10\n",
    "#ustep=1\n",
    "#uN1=uNEH#uNEH-3000\n",
    "uNEH=768\n",
    "ustep=100\n",
    "uN1=uNEH-700\n",
    "Numax=Nu\n",
    "\n",
    "\n",
    "uN=uN1\n",
    "plt.plot([0,vmax],[rplus,rplus],'r--',color='red',linewidth=0.5, label='r+')\n",
    "plt.plot([0,vmax],[rminus,rminus],'r--',color='blue',linewidth=0.5, label='r-')\n",
    "while uN< Numax:\n",
    "    if uN<uNEH:\n",
    "        sample3=plt.plot(vrange,rnp[uN,:],'--',label='u='+str(urange[uN]))\n",
    "    if uN==uNEH:\n",
    "        sample3=plt.plot(vrange,rnp[uN,:],label='u='+str(urange[uN]))\n",
    "    if uN>uNEH:\n",
    "        sample3=plt.plot(vrange,rnp[uN,:],'-.',label='u='+str(urange[uN]))\n",
    "    #sample3=plt.plot(vrange,signp[uN1+uN,:])\n",
    "    uN+=ustep\n",
    "plt.xlim(0,vmax)\n",
    "plt.xlabel('v')\n",
    "plt.ylabel(r'$r$(u,v)')\n",
    "plt.ylim(0,4)\n",
    "#plt.xscale('log')\n",
    "#plt.yscale('log')\n",
    "#plt.legend()\n",
    "plt.grid()\n",
    "plt.title(r'$r$(u,v) vs v') #(u='+str(uN2u)+')')#+',uEH='+str(uEH*umax)+')')\n",
    "#plt.savefig('rEH-RN.png',dpi=300,bbox_inches=\"tight\")\n",
    "plt.show()\n",
    "\n",
    "uN=uN1\n",
    "while uN< Numax:\n",
    "    if uN<uNEH:\n",
    "        sample3=plt.plot(vrange,signp[uN,:],'--',label='u='+str(uN))\n",
    "    if uN==uNEH:\n",
    "        sample3=plt.plot(vrange,signp[uN,:])\n",
    "    if uN>uNEH:\n",
    "        sample3=plt.plot(vrange,signp[uN,:],'-.')\n",
    "    #sample3=plt.plot(vrange,signp[uN1+uN,:])\n",
    "    uN+=ustep\n",
    "plt.xlim(0,vmax)\n",
    "plt.xlabel('v')\n",
    "plt.ylabel(r'$\\sigma$(u,v)')\n",
    "plt.ylim(-50,50)\n",
    "#plt.xscale('log')\n",
    "#plt.yscale('log')\n",
    "plt.grid()\n",
    "plt.title(r'$\\sigma$(u,v) vs v') #(u='+str(uN2u)+')')#+',uEH='+str(uEH*umax)+')')\n",
    "#plt.savefig('sigEH-RN.png',dpi=300,bbox_inches=\"tight\")\n",
    "plt.show()"
   ]
  },
  {
   "cell_type": "code",
   "execution_count": null,
   "metadata": {},
   "outputs": [],
   "source": [
    "#for j in range(0,Nv):\n",
    "    #print(rnp[3300,j])"
   ]
  },
  {
   "cell_type": "code",
   "execution_count": null,
   "metadata": {},
   "outputs": [],
   "source": [
    "du0=urange[1]-urange[0]\n",
    "dv0=vrange[1]-vrange[0]\n",
    "\n",
    "rnpnew=np.array([[rnp[0][0],rnp[0][1]],[rnp[1][0],np.nan]])\n",
    "#signpnew=np.array([[0,0],[0,0]])\n",
    "signpnew=np.array([[signp[0][0],signp[0][1]],[signp[1][0],np.nan]])\n",
    "phinpnew=np.array([[0,0],[0,0]])\n",
    "\n",
    "print(rnpnew)\n",
    "print(signpnew)\n",
    "\n",
    "#print(massnp[1][1])\n",
    "\n",
    "print(dnu.x4giveralt(0,0,du0,dv0,rnpnew,phinpnew,signpnew,massnpf,1.0,.95,0.0,np.longdouble))\n",
    "\n",
    "print(abs(rlist[1][1]-dnu.x4giveralt(0,0,du0,dv0,rnpnew,phinpnew,signpnew,massnp,1.0,.95,0.0,np.longdouble)[0]))"
   ]
  },
  {
   "cell_type": "code",
   "execution_count": null,
   "metadata": {},
   "outputs": [],
   "source": [
    "rnpnew=np.array([[rlist[0][0],rlist[0][1]],[rlist[1][0],np.nan]])\n",
    "#signpnew=np.array([[0,0],[0,0]])\n",
    "#def siggiver(r,M0,Q):\n",
    "    #sig=np.log(1-2*M0/r+Q**2/r**2)\n",
    "signpnew=np.array\n",
    "signpnew=np.array([[signp[0][0],signp[0][1]],[signp[1][0],np.nan]])\n",
    "phinpnew=np.array([[0,0],[0,0]])\n",
    "\n",
    "print(rnpnew)\n",
    "print(signpnew)\n",
    "\n",
    "\n",
    "print(dnu.x4giveralt(0,0,du0,dv0,rnpnew,phinpnew,signpnew,1.0,.95,0.0,np.longdouble))\n",
    "\n",
    "print(abs(rlist[1][1]-dnu.x4giveralt(0,0,du0,dv0,rnpnew,phinpnew,signpnew,1.0,.95,0.0,np.longdouble)[0]))"
   ]
  },
  {
   "cell_type": "code",
   "execution_count": null,
   "metadata": {},
   "outputs": [],
   "source": [
    "print(Nu,Nv)\n",
    "\n",
    "#u4=4000\n",
    "#v4=3500\n",
    "u4=2000\n",
    "\n",
    "v4=2000\n",
    "\n",
    "print(urange[u4],vrange[v4])\n",
    "print(rnp[u4][0])"
   ]
  },
  {
   "cell_type": "code",
   "execution_count": null,
   "metadata": {},
   "outputs": [],
   "source": [
    "drua=np.zeros((Nu-1))\n",
    "dru=np.zeros((Nu-1))\n",
    "\n",
    "for i in range(0,Nu-1):\n",
    "    drua[i]=(rlist[i+1][v4]-rlist[i][v4])/rlist[i][v4]#(urange[i+1]-urange[i])\n",
    "    dru[i]=(rnp[i+1][v4]-rnp[i][v4])/rnp[i][v4]#(urange[i+1]-urange[i])\n",
    "\n",
    "plt.plot(np.delete(urange,0),np.abs(dru),label='numerical')\n",
    "plt.plot(np.delete(urange,0),np.abs(drua),'--',label='analytic')\n",
    "plt.yscale('log')\n",
    "plt.ylabel('|r,u|')\n",
    "plt.xlabel('u')\n",
    "#plt.xlim(1.8336,1.8345)\n",
    "#plt.xlim(1.83,1.842)\n",
    "#plt.ylim(10**(-3),10**(4))\n",
    "plt.title('|r,u| at v='+str(vrange[v4]))\n",
    "plt.legend(loc='lower right')\n",
    "plt.grid()\n",
    "#plt.savefig('ru.png',dpi=300)\n",
    "plt.show()\n",
    "\n",
    "print(urange[np.argmax(np.abs(dru))])\n",
    "rnp[np.argmax(np.abs(dru))]"
   ]
  },
  {
   "cell_type": "code",
   "execution_count": null,
   "metadata": {},
   "outputs": [],
   "source": [
    "drva=np.zeros((Nv-1))\n",
    "drv=np.zeros((Nv-1))\n",
    "\n",
    "\n",
    "for j in range(0,Nv-1):\n",
    "    drva[j]=(rlist[u4][j+1]-rlist[u4][j])/(vrange[j+1]-vrange[j])\n",
    "    drv[j]=(rnp[u4][j+1]-rnp[u4][j])/(vrange[j+1]-vrange[j])\n",
    "\n",
    "plt.plot(np.delete(vrange,0),np.abs(drv),label='numerical')\n",
    "plt.plot(np.delete(vrange,0),np.abs(drva),'--',label='analytic')\n",
    "plt.yscale('log')\n",
    "plt.ylabel('|r,v|')\n",
    "plt.xlabel('v')\n",
    "plt.grid()\n",
    "plt.title('|r,v| at u='+str(round(urange[u4],3)))\n",
    "plt.legend(loc='upper right')\n",
    "#plt.ylim(.1,1)\n",
    "#plt.savefig('rv.png',dpi=300)\n",
    "plt.show()\n",
    "\n"
   ]
  },
  {
   "cell_type": "code",
   "execution_count": null,
   "metadata": {},
   "outputs": [],
   "source": [
    "druf=np.abs((drua[:]-dru[:])/drua[:])\n",
    "plt.axvline(x=1.835,linestyle='--',color='red')\n",
    "plt.plot(np.delete(urange,0),druf)\n",
    "\n",
    "#plt.plot(np.delete(urange,0),np.abs(drua),'--')\n",
    "plt.yscale('log')\n",
    "#plt.xscale('log')\n",
    "#plt.xlim(1.8339,1.8341)\n",
    "plt.ylabel('Error in r,u')\n",
    "plt.xlabel('u')\n",
    "#plt.xlim(1.83,1.842)\n",
    "plt.grid()\n",
    "plt.title('Fractional Error of r,u')\n",
    "#plt.savefig('ru-error.png',dpi=300)\n",
    "plt.show()"
   ]
  },
  {
   "cell_type": "code",
   "execution_count": null,
   "metadata": {},
   "outputs": [],
   "source": [
    "signp2=np.delete(signp,0,axis=1)\n",
    "drvf=np.abs((drva[:]-drv[:])/drva[:])\n",
    "drvf2=np.abs((drva[:]-drv[:])/drva[:]*np.exp(signp2[u4,:]))\n",
    "\n",
    "plt.plot(np.delete(vrange,0),drvf)\n",
    "#plt.plot(np.delete(vrange,0),drvf2)\n",
    "#plt.plot(np.delete(urange,0),np.abs(drua),'--')\n",
    "plt.yscale('log')\n",
    "#plt.xscale('log')\n",
    "#plt.xlim(1.8339,1.8341)\n",
    "plt.ylabel('Error in r,v')\n",
    "plt.xlabel('v')\n",
    "plt.xlim(0,vmax)\n",
    "plt.title('Fractional Error of r,v')\n",
    "plt.grid()\n",
    "#plt.savefig('rv-error.png',dpi=300)\n",
    "plt.show()"
   ]
  },
  {
   "cell_type": "code",
   "execution_count": null,
   "metadata": {
    "scrolled": true
   },
   "outputs": [],
   "source": [
    "r=rnp[u4][v4]\n",
    "\n",
    "print(dru[u4],drv[v4],mth.exp(-signp[u4][v4]))\n",
    "print(drua[u4],drva[v4],mth.exp(-signp[u4][v4]))\n",
    "print(dru[u4]*drv[v4]*mth.exp(-signp[u4][v4]))\n",
    "print(drua[u4]*drva[v4]*mth.exp(-signp[u4][v4]))\n",
    "print((1+4*drua[u4]*drva[v4]*mth.exp(-signp[u4][v4]))*r/2+Q**2/(2*r))\n",
    "print(-1/4*(1-2*M0/r+Q**2/r**2))"
   ]
  },
  {
   "cell_type": "code",
   "execution_count": null,
   "metadata": {},
   "outputs": [],
   "source": [
    "du=urange[u4+1]-urange[u4]\n",
    "dv=vrange[v4+1]-vrange[v4]\n",
    "print(dnu.x4giveralt(u4,v4,du,dv,rnp,phinp,signp,massnp,M0,Q,0.0,object))\n",
    "print(dnu.x4giveralt(0,0,du,dv,rnp,phinp,signp,massnp,M0,Q,0.0,object))"
   ]
  },
  {
   "cell_type": "code",
   "execution_count": null,
   "metadata": {},
   "outputs": [],
   "source": [
    "vmar=rnp[u4][v4]\n",
    "print(r)\n",
    "print(\"M=\"+str((1.0+4.0*np.exp(-signp[u4][v4])*dru[u4]*drv[v4])*r/2+Q**2.0/(2.0*r)))\n",
    "print(massnp[u4][v4])"
   ]
  },
  {
   "cell_type": "code",
   "execution_count": null,
   "metadata": {},
   "outputs": [],
   "source": [
    "mth.exp(-27)*10**(-3)+1\n",
    "print(mth.exp(signp[u4][v4]))\n",
    "print(\"%.32f\" % (mth.exp(signp[u4][v4])/(25*4*.6877*1000)*(1-.95**2/.6877**2)))\n",
    "print(\"%.32f\" % (mth.exp(signp[u4][v4])/(25*4*.6877*1000)*(1-.95**2/.6877**2)+1))\n",
    "print(urange[u4+1]-urange[u4])\n"
   ]
  },
  {
   "cell_type": "code",
   "execution_count": null,
   "metadata": {},
   "outputs": [],
   "source": [
    "getcontext().prec=32"
   ]
  },
  {
   "cell_type": "code",
   "execution_count": null,
   "metadata": {},
   "outputs": [],
   "source": [
    "Decimal(mth.exp(signp[u4][v4])/(25*4*.6877*1000)*(1-.95**2/.6877**2))+Decimal(1)"
   ]
  },
  {
   "cell_type": "code",
   "execution_count": null,
   "metadata": {},
   "outputs": [],
   "source": [
    "np.array([Decimal(Decimal(-19).exp())+1])+np.array([1])"
   ]
  },
  {
   "cell_type": "code",
   "execution_count": null,
   "metadata": {},
   "outputs": [],
   "source": [
    "Decimal(mth.exp(Decimal(-19)))+Decimal(1)"
   ]
  },
  {
   "cell_type": "code",
   "execution_count": null,
   "metadata": {},
   "outputs": [],
   "source": [
    "Decimal(.95)+1"
   ]
  },
  {
   "cell_type": "code",
   "execution_count": null,
   "metadata": {},
   "outputs": [],
   "source": [
    "du0*dv0*(Decimal(signp[u4][v4])).exp()*(Q**Decimal(2)-M0*rnp[u4][v4])/(Decimal(2)*rnp[u4][v4]**Decimal(3))"
   ]
  },
  {
   "cell_type": "code",
   "execution_count": null,
   "metadata": {},
   "outputs": [],
   "source": [
    "(10**(-20)+1.0)-1.0"
   ]
  },
  {
   "cell_type": "code",
   "execution_count": null,
   "metadata": {},
   "outputs": [],
   "source": []
  },
  {
   "cell_type": "code",
   "execution_count": null,
   "metadata": {},
   "outputs": [],
   "source": []
  }
 ],
 "metadata": {
  "kernelspec": {
   "display_name": "Python 3",
   "language": "python",
   "name": "python3"
  },
  "language_info": {
   "codemirror_mode": {
    "name": "ipython",
    "version": 3
   },
   "file_extension": ".py",
   "mimetype": "text/x-python",
   "name": "python",
   "nbconvert_exporter": "python",
   "pygments_lexer": "ipython3",
   "version": "3.6.6"
  }
 },
 "nbformat": 4,
 "nbformat_minor": 2
}
