{
 "cells": [
  {
   "cell_type": "code",
   "execution_count": 1,
   "metadata": {
    "collapsed": true
   },
   "outputs": [],
   "source": [
    "import numpy as np\n",
    "import math as mth\n",
    "import matplotlib.pyplot as plt\n",
    "import matplotlib.ticker as ticker\n",
    "\n",
    "import Boundary_Functions as bf\n",
    "import timeit\n",
    "\n",
    "from mpmath import *\n",
    "from pynverse import inversefunc\n",
    "from scipy.special import gamma as gamma\n",
    "from scipy.special import gammaincc as gamma3\n",
    "from mpmath import gammainc as gamma2\n",
    "\n",
    "#import warnings\n",
    "#warnings.filterwarnings(\"ignore\")\n",
    "\n",
    "start = timeit.default_timer()"
   ]
  },
  {
   "cell_type": "code",
   "execution_count": 2,
   "metadata": {
    "collapsed": true
   },
   "outputs": [],
   "source": [
    "rnp=np.load('rnp.npy')\n",
    "rnputil=np.load('rnputil.npy')\n",
    "urange=np.load('urange.npy')\n",
    "vrange=np.load('vrange.npy')"
   ]
  },
  {
   "cell_type": "code",
   "execution_count": 3,
   "metadata": {},
   "outputs": [
    {
     "name": "stdout",
     "output_type": "stream",
     "text": [
      "[  1.60000000e+02   1.92000000e+03   4.80000000e+03   5.00000000e+00\n",
      "   4.00000000e-01   1.00000000e+00   0.00000000e+00]\n",
      "N=160\n",
      "9216000 points\n",
      "Runtime: about 8.76 minutes\n"
     ]
    }
   ],
   "source": [
    "print(rnputil)\n",
    "\n",
    "N=int(rnputil[0])\n",
    "Nu=int(rnputil[1])\n",
    "Nv=int(rnputil[2])\n",
    "ru0=float(rnputil[3])\n",
    "dr0v=float(rnputil[4])\n",
    "M0=float(rnputil[5])\n",
    "Q=float(rnputil[6])\n",
    "umax=Nu/N\n",
    "vmax=Nv/N\n",
    "\n",
    "print('N='+str(N))\n",
    "\n",
    "if M0>0.0:\n",
    "    du0=M0/N\n",
    "    dv0=du0\n",
    "\n",
    "rplus=M0+(M0**2-Q**2)**(0.5)\n",
    "rminus=M0-(M0**2-Q**2)**(0.5)\n",
    "    \n",
    "numpoints=Nu*Nv\n",
    "print(str(numpoints)+\" points\")\n",
    "\n",
    "if Q==0.0:\n",
    "    predtime=numpoints/(17530)\n",
    "if Q>0.0:\n",
    "    predtime=numpoints/(259000)\n",
    "print(\"Runtime: about \"+str(format(predtime/60,'.2f'))+\" minutes\")"
   ]
  },
  {
   "cell_type": "code",
   "execution_count": 4,
   "metadata": {
    "collapsed": true
   },
   "outputs": [],
   "source": [
    "if M0==0.0:\n",
    "    rlist=np.zeros((Nu,Nv))\n",
    "    dr0u=-1/(4*dr0v)\n",
    "\n",
    "    for i in range(0,Nu):\n",
    "        for j in range(0,Nv):\n",
    "            rlist[i][j]=ru0+dr0u/N*i+dr0v/N*j\n"
   ]
  },
  {
   "cell_type": "code",
   "execution_count": 5,
   "metadata": {},
   "outputs": [
    {
     "data": {
      "image/png": "[encoded data removed]",
      "text/plain": [
       "<matplotlib.figure.Figure at 0x150802fcb00>"
      ]
     },
     "metadata": {},
     "output_type": "display_data"
    }
   ],
   "source": [
    "if M0>0.0 and Q==0.0:\n",
    "    ulist=np.empty((Nu))*np.nan\n",
    "    vlist=np.empty((Nv))*np.nan\n",
    "    \n",
    "    #rlistu=ru0+bf.dr2(M0,dr0v,ru0)*np.arange(0,umax,du0)\n",
    "    #rlistv=ru0+dr0v*np.arange(0,vmax,dv0)\n",
    "\n",
    "    rlistu=rnp[:,0]\n",
    "    rlistv=rnp[0,:]\n",
    "    \n",
    "    #print(rlistv)\n",
    "\n",
    "    ulist=np.empty((Nu))\n",
    "    vlist=np.empty((Nv))\n",
    "\n",
    "    for i in range(0,Nu):\n",
    "        ulist[i]=bf.rbounschinv(M0,ru0,bf.dr2(M0,dr0v,ru0)*(bf.esig(M0,rlistu[0]))**(1),rlistu[i])\n",
    "    \n",
    "    for j in range(0,Nv):\n",
    "        vlist[j]=bf.rbounschinv(M0,ru0,dr0v*bf.esig(M0,rlistu[0])**(1),rlistv[j])\n",
    "\n",
    "    #print(vlist)\n",
    "    plt.plot(ulist)\n",
    "    plt.show()"
   ]
  },
  {
   "cell_type": "code",
   "execution_count": 6,
   "metadata": {
    "collapsed": true
   },
   "outputs": [],
   "source": [
    "if M0>0.0 and Q==0.0:        \n",
    "    rlist=np.zeros((Nu,Nv))*np.nan\n",
    "\n",
    "    for i in range(0,Nu):\n",
    "        for j in range(0,Nv):\n",
    "            rlist[i][j]=bf.rsch(M0,ru0,dr0v,ulist[i],vlist[j])\n",
    "            #if rlist[i][j]>0.0:\n",
    "                #continue\n",
    "            #else:\n",
    "                    #rlistv[j]=np.nan\n",
    "                #break\n",
    "            "
   ]
  },
  {
   "cell_type": "code",
   "execution_count": 7,
   "metadata": {},
   "outputs": [],
   "source": [
    "if M0>0.0 and Q>0.0:\n",
    "    #rlistu=ru0+bf.dr2rn(M0,Q,dr0v,ru0)*np.arange(0,umax,du0)\n",
    "    #rlistv=ru0+dr0v*np.arange(0,vmax,dv0)\n",
    "\n",
    "    rlistu=rnp[:,0]\n",
    "    rlistv=rnp[0,:]\n",
    "    \n",
    "    print(bf.esigrn(M0,Q,ru0))\n",
    "    print(rlistu)\n",
    "\n",
    "    ulist=np.empty((Nu))*np.nan\n",
    "    vlist=np.empty((Nv))*np.nan\n",
    "\n",
    "    for i in range(0,Nu):\n",
    "        ulist[i]=bf.rbounrninv(float(rlistu[i]),M0,Q,ru0,bf.dr2rn(M0,Q,dr0v,ru0)*(bf.esigrn(M0,Q,rlistv[0]))**(1))\n",
    "\n",
    "    for i in range(0,Nv):\n",
    "        vlist[i]=bf.rbounrninv(float(rlistv[i]),M0,Q,ru0,dr0v*(bf.esigrn(M0,Q,rlistv[0]))**(1))\n",
    "\n",
    "    plt.plot(ulist)#,rlistu)\n",
    "    plt.xlabel('u')\n",
    "    plt.ylabel('r')\n",
    "    #plt.xlim(0,1)\n",
    "    plt.ylim(0,5)\n",
    "    plt.grid()\n",
    "    plt.show()    \n",
    "    \n",
    "    plt.plot(vlist)#,rlistv)\n",
    "    plt.xlabel('v')\n",
    "    plt.ylabel('r')\n",
    "    #plt.xlim(0,1)\n",
    "    #plt.ylim(4,5)\n",
    "    plt.grid()\n",
    "    plt.show()\n",
    "\n",
    "    print(ulist)"
   ]
  },
  {
   "cell_type": "code",
   "execution_count": 8,
   "metadata": {},
   "outputs": [],
   "source": [
    "if M0>0.0 and Q>0.0:\n",
    "    rlist=np.zeros((Nu,Nv))*np.nan\n",
    "    for i in range(0,Nu):\n",
    "    #for j in range(0,Nv):\n",
    "        rlist[i]=bf.rrn(M0,Q,ru0,dr0v,ulist,vlist,i).reshape(Nv)"
   ]
  },
  {
   "cell_type": "code",
   "execution_count": 9,
   "metadata": {},
   "outputs": [
    {
     "data": {
      "image/png": "[encoded data removed]",
      "text/plain": [
       "<matplotlib.figure.Figure at 0x150803ec780>"
      ]
     },
     "metadata": {},
     "output_type": "display_data"
    }
   ],
   "source": [
    "levels=np.arange(5.0, np.nanmax(rlist), 5.0 )\n",
    "levels=np.insert(levels,0,[rminus,.7,1.0,rplus])\n",
    "\n",
    "plot1=plt.imshow(rlist,cmap=plt.cm.cool,extent=(0,vmax,0,umax),aspect='auto',origin='lower',vmax=np.nanmax(rlist))\n",
    "plot4=plt.contour(rlist, levels,linewidths=0.5,colors='black',extent=(0,vmax,0,umax),aspect='auto',origin='lower')\n",
    "plt.clabel(plot4, levels,  \n",
    "           inline=0, inline_spacing=0, \n",
    "           fmt='%1.2f',rightside_up=True,\n",
    "           fontsize=8)\n",
    "#sample3=plt.plot(vrange[-1],drdvnplist)\n",
    "#sample3=plt.plot(vrange,dsigdvnplist)\n",
    "plt.xlabel('v')\n",
    "plt.ylabel('u')\n",
    "plt.xlim()\n",
    "plt.colorbar(plot1)\n",
    "plt.title('Radius vs (u,v) Coordinates')\n",
    "#plt.savefig('Test1-2.png',dpi=300)\n",
    "plt.show()\n"
   ]
  },
  {
   "cell_type": "code",
   "execution_count": 14,
   "metadata": {
    "scrolled": false
   },
   "outputs": [
    {
     "data": {
      "image/png": "[encoded data removed]",
      "text/plain": [
       "<matplotlib.figure.Figure at 0x1508047d5f8>"
      ]
     },
     "metadata": {},
     "output_type": "display_data"
    }
   ],
   "source": [
    "rdiff=np.ma.masked_invalid(abs((rlist-rnp)/rlist)*100)\n",
    "\n",
    "\n",
    "if M0==0.0:\n",
    "    levelsdiff=[10**(-11.0),10**(-10.0),10**(-9.0)]\n",
    "if M0>0.0: #and Q==0.0:\n",
    "    levelsdiff=[.01,.1,1,10,50]\n",
    "#if M0>0.0 and Q>0.0:\n",
    "    #levelsdiff=[10**(-2),10**(-1),10**(0),10**(1),20,30]\n",
    "\n",
    "plot1=plt.pcolormesh(vrange,urange,rdiff,cmap=plt.cm.cool,vmin=0.0,vmax=1.0)\n",
    "plt.ylim(0,10.8)\n",
    "plot4=plt.contour(vrange,urange,rdiff, levelsdiff,linewidths=0.5,colors='black',extent=(0,vmax,0,umax),aspect='auto',origin='lower')\n",
    "plot5=plt.contour(vrange,urange,rdiff, [rplus],linewidths=0.5,colors='red',extent=(0,vmax,0,umax),aspect='auto',origin='lower')\n",
    "plot6=plt.contour(vrange,urange,rlist, [rminus],linewidths=1.0,linestyles='dashed',colors='blue',extent=(0,vmax,0,umax),aspect='auto',origin='lower')\n",
    "#fmt={str(10**(-2)):10**(-2)}\n",
    "plt.clabel(plot4, levelsdiff,  \n",
    "           inline=0, inline_spacing=0, \n",
    "           fmt='%1.6f',rightside_up=True,\n",
    "           fontsize=8)\n",
    "#sample3=plt.plot(vrange[-1],drdvnplist)\n",
    "#sample3=plt.plot(vrange,dsigdvnplist)\n",
    "plt.xlabel('v')\n",
    "plt.ylabel('u')\n",
    "plt.xlim(0,50)\n",
    "plt.ylim(0.0,10.8)\n",
    "plt.colorbar(plot1)\n",
    "plt.title('Percentage Error (Numerical vs Analytical)')\n",
    "#plt.savefig('RN-err-max-N_60.png',dpi=300)\n",
    "plt.show()"
   ]
  },
  {
   "cell_type": "code",
   "execution_count": 11,
   "metadata": {},
   "outputs": [
    {
     "name": "stdout",
     "output_type": "stream",
     "text": [
      "[[  5.           5.0025       5.005      ...,  16.9925      16.995       16.9975    ]\n",
      " [  4.99765625   5.00015547   5.00265469 ...,  16.98905302  16.99155295\n",
      "   16.99405288]\n",
      " [  4.9953125    4.99781094   5.00030938 ...,  16.98560505  16.98810492\n",
      "   16.99060478]\n",
      " ..., \n",
      " [  0.50703125   0.49456122   0.48166335 ...,          nan          nan\n",
      "           nan]\n",
      " [  0.5046875    0.49213794   0.47915343 ...,          nan          nan\n",
      "           nan]\n",
      " [  0.50234375   0.48971388   0.47664182 ...,          nan          nan\n",
      "           nan]]\n",
      "[[  5.           5.0025       5.005      ...,  16.9925      16.995       16.9975    ]\n",
      " [  4.99765625   5.00015547   5.00265469 ...,  16.98905302  16.99155295\n",
      "   16.99405288]\n",
      " [  4.9953125    4.99781094   5.00030938 ...,  16.98560505  16.98810492\n",
      "   16.99060478]\n",
      " ..., \n",
      " [  0.50703125   0.4945601    0.48166089 ...,  11.71262483  11.71505638\n",
      "   11.71748794]\n",
      " [  0.5046875    0.49213679   0.47915092 ...,  11.71330577  11.71573734\n",
      "   11.71816891]\n",
      " [  0.50234375   0.4897127    0.47663924 ...,  11.7139825   11.71641408\n",
      "   11.71884568]]\n",
      "0.0\n",
      "1.10504313493e-13\n",
      "[[0.0 0.0 0.0 ..., 0.0 0.0 0.0]\n",
      " [0.0 3.6414182954027655e-12 7.261444098967093e-12 ...,\n",
      "  8.542462820754879e-11 8.549569467709693e-11 8.55458346087122e-11]\n",
      " [0.0 7.375109799780273e-12 1.4654037205937574e-11 ...,\n",
      "  1.7088393768762377e-10 1.7100518210371636e-10 1.7108457109789111e-10]\n",
      " ..., \n",
      " [2.1896540393221604e-14 0.0002284034536531174 0.0005097017988663584 ...,\n",
      "  -- -- --]\n",
      " [3.519716338130219e-13 0.00023484244787672467 0.0005247492113209243 ...,\n",
      "  -- -- --]\n",
      " [1.1050431349300769e-13 0.00024150024262375444 0.0005403357147889509 ...,\n",
      "  -- -- --]]\n"
     ]
    }
   ],
   "source": [
    "print(rnp)\n",
    "print(rlist)\n",
    "print(rdiff[0,-1])\n",
    "print(rdiff[-1,0])\n",
    "\n",
    "\n",
    "print(rdiff)"
   ]
  },
  {
   "cell_type": "code",
   "execution_count": 12,
   "metadata": {
    "collapsed": true
   },
   "outputs": [],
   "source": [
    "stop = timeit.default_timer()"
   ]
  },
  {
   "cell_type": "code",
   "execution_count": 13,
   "metadata": {},
   "outputs": [
    {
     "name": "stdout",
     "output_type": "stream",
     "text": [
      "658.8304621136264 seconds\n",
      "10.980507701893773 minutes\n",
      "0.18300846169822954 hours\n",
      "13988.424230466966 points per second\n",
      "Took 2.22 more minutes\n"
     ]
    }
   ],
   "source": [
    "acttime=stop - start\n",
    "\n",
    "print(str(acttime)+' seconds')\n",
    "print(str((acttime)/60)+' minutes')\n",
    "print(str((acttime)/3600)+' hours')\n",
    "\n",
    "print(str((numpoints)/(stop - start))+' points per second') \n",
    "\n",
    "exttime=format((acttime-predtime)/60,'.2f')\n",
    "\n",
    "print(\"Took \"+str(exttime)+\" more minutes\")"
   ]
  },
  {
   "cell_type": "code",
   "execution_count": null,
   "metadata": {
    "collapsed": true
   },
   "outputs": [],
   "source": [
    "\n"
   ]
  }
 ],
 "metadata": {
  "kernelspec": {
   "display_name": "Python 3",
   "language": "python",
   "name": "python3"
  },
  "language_info": {
   "codemirror_mode": {
    "name": "ipython",
    "version": 3
   },
   "file_extension": ".py",
   "mimetype": "text/x-python",
   "name": "python",
   "nbconvert_exporter": "python",
   "pygments_lexer": "ipython3",
   "version": "3.6.1"
  }
 },
 "nbformat": 4,
 "nbformat_minor": 2
}
