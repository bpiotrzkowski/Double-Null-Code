{
 "cells": [
  {
   "cell_type": "code",
   "execution_count": 1,
   "metadata": {},
   "outputs": [],
   "source": [
    "import numpy as np\n",
    "import math as mth\n",
    "import statistics as stat\n",
    "import matplotlib.pyplot as plt\n",
    "import matplotlib.colors as colors\n",
    "import matplotlib.ticker as ticker\n",
    "\n",
    "import Boundary_Functions as bf\n",
    "import timeit\n",
    "import tables\n",
    "import h5py\n",
    "\n",
    "#import Double_Null_utils as dnu\n",
    "from mpmath import *\n",
    "from decimal import *\n",
    "from scipy.special import gamma as gamma\n",
    "from scipy.special import gammaincc as gamma3\n",
    "from scipy import optimize\n",
    "from mpmath import gammainc as gamma2\n",
    "\n",
    "#import warnings\n",
    "#warnings.filterwarnings(\"ignore\")\n",
    "\n",
    "start = timeit.default_timer()\n",
    "\n",
    "!jt -t onedork"
   ]
  },
  {
   "cell_type": "code",
   "execution_count": null,
   "metadata": {},
   "outputs": [],
   "source": []
  },
  {
   "cell_type": "code",
   "execution_count": 2,
   "metadata": {},
   "outputs": [],
   "source": [
    "uscal=1\n",
    "vscal=50"
   ]
  },
  {
   "cell_type": "code",
   "execution_count": 3,
   "metadata": {},
   "outputs": [
    {
     "name": "stdout",
     "output_type": "stream",
     "text": [
      "True\n"
     ]
    }
   ],
   "source": [
    "rnputil=np.load('rnputil.npy')\n",
    "wHD=rnputil[8]\n",
    "#print(type(wHD))\n",
    "print(wHD)\n",
    "\n",
    "if wHD==True or wHD==1.0 or wHD=='True':\n",
    "    urange=np.load('urange.npy')[::uscal]\n",
    "    vrange=np.load('vrange.npy')[::vscal]\n",
    "if wHD==False or wHD==0.0 or wHD==None or wHD=='False':\n",
    "    urange=np.load('urange.npy')\n",
    "    vrange=np.load('vrange.npy')\n",
    "\n",
    "#print(urange)"
   ]
  },
  {
   "cell_type": "code",
   "execution_count": 4,
   "metadata": {},
   "outputs": [
    {
     "name": "stdout",
     "output_type": "stream",
     "text": [
      "231200 bytes\n",
      "Hd5 files used\n"
     ]
    }
   ],
   "source": [
    "if wHD==True or wHD==1.0 or wHD=='True':\n",
    "    with h5py.File('rnp.h5','r') as f:\n",
    "        r_group_key = list(f.keys())[0]\n",
    "        rnpi=f[r_group_key]\n",
    "        rnp = np.asarray(rnpi[::uscal,::vscal])\n",
    "    with h5py.File('signp.h5','r') as f:\n",
    "        sig_group_key = list(f.keys())[0]\n",
    "        signpi=f[sig_group_key]\n",
    "        signp = np.asarray(signpi[::uscal,::vscal])\n",
    "    with h5py.File('phinp.h5','r') as f:\n",
    "        phi_group_key = list(f.keys())[0]\n",
    "        phinpi=f[phi_group_key]\n",
    "        phinp = np.asarray(phinpi[::uscal,::vscal])\n",
    "    with h5py.File('massnp.h5','r') as f:\n",
    "        mass_group_key = list(f.keys())[0]\n",
    "        massnpi=f[mass_group_key]\n",
    "        massnp = np.asarray(massnpi[::uscal,::vscal])\n",
    "    \n",
    "    print(str(rnp.nbytes)+\" bytes\")\n",
    "    print(\"Hd5 files used\")\n",
    "\n",
    "if wHD==False or wHD==0.0 or wHD==None or wHD=='False':\n",
    "    rnp=np.load('rnp.npy')\n",
    "    signp=np.load('sig.npy')\n",
    "    phinp=np.load('phi.npy')\n",
    "    massnp=np.load('mass.npy')\n",
    "    print(\"Numpy arrays used\")\n",
    "    \n",
    "switchax=float(rnputil[9])\n",
    "if switchax==True or switchax=='True':\n",
    "    rnp=np.swapaxes(rnp,0,1)\n",
    "    signp=np.swapaxes(signp,0,1)\n",
    "    phinp=np.swapaxes(phinp,0,1)\n",
    "    massnp=np.swapaxes(massnp,0,1)\n",
    "    \n"
   ]
  },
  {
   "cell_type": "code",
   "execution_count": 5,
   "metadata": {},
   "outputs": [
    {
     "name": "stdout",
     "output_type": "stream",
     "text": [
      "['1445000' '1156' '1250' '5.0' '0.2763833333333333' '1.0' '0.95' '0.01'\n",
      " 'True' '0.0' 'edd']\n",
      "[ 0.18        0.38        0.58       ... 18.05650412 18.05652586\n",
      " 18.05653454]\n",
      "N=1445000\n",
      "0.68656636671651 1.3284533318298755 16.251309435030095 -18.26632913357649\n",
      "[ 2.69955499e-14 -1.82145965e-17 -1.11022302e-16  1.11022302e-15]\n",
      "28900 points\n",
      "Runtime: about 0.00 minutes\n"
     ]
    }
   ],
   "source": [
    "print(rnputil)\n",
    "print(urange)\n",
    "\n",
    "N=int(rnputil[0])\n",
    "Nu=len(urange)#int(rnputil[1])\n",
    "Nv=len(vrange)#int(rnputil[2])\n",
    "ru0=float(rnputil[3])\n",
    "dr0v=float(rnputil[4])\n",
    "M0=float(rnputil[5])\n",
    "Q=float(rnputil[6])\n",
    "Lambda=float(rnputil[7])\n",
    "bdytype=str(rnputil[10])\n",
    "\n",
    "umax=np.nanmax(urange)\n",
    "vmax=np.nanmax(vrange)\n",
    "\n",
    "print('N='+str(N))\n",
    "\n",
    "if M0>0.0:\n",
    "    du0=M0/N\n",
    "    dv0=du0\n",
    "\n",
    "M=massnp[0][-1]    \n",
    "    \n",
    "def fr(r,M,Q,Lambda):\n",
    "    return 1-2*M/r+Q**2.0/r**2.0-Lambda*r**2.0/3.0\n",
    "\n",
    "sol = optimize.root(fr,[0.6,1.288,55.0,-50],args=(M,Q,Lambda),tol=10**(-12), method='hybr')\n",
    "rminus=sol.x[0]#+.035\n",
    "rplus=sol.x[1]\n",
    "rcosm=sol.x[2]\n",
    "rneg=sol.x[3]\n",
    "\n",
    "def dfr(r,M,Q,Lambda):\n",
    "    return -2*(Lambda*r**4-3*M*r+3*Q**2)/(3*r**3)\n",
    "\n",
    "print(rminus,rplus,rcosm,rneg)\n",
    "\n",
    "print(fr(np.array([rminus,rplus,rcosm,rneg]),M,Q,Lambda))\n",
    "    \n",
    "    \n",
    "    \n",
    "numpoints=Nu*Nv\n",
    "print(str(numpoints)+\" points\")\n",
    "\n",
    "if Q==0.0:\n",
    "    predtime=numpoints/(17530)\n",
    "if Q>0.0:\n",
    "    predtime=numpoints/(204896)\n",
    "print(\"Runtime: about \"+str(format(predtime/60,'.2f'))+\" minutes\")"
   ]
  },
  {
   "cell_type": "code",
   "execution_count": 6,
   "metadata": {},
   "outputs": [],
   "source": [
    "if M0==0.0:\n",
    "    rlist=np.zeros((Nu,Nv))\n",
    "    dr0u=-1/(4*dr0v)\n",
    "\n",
    "    for i in range(0,Nu):\n",
    "        for j in range(0,Nv):\n",
    "            rlist[i][j]=ru0+dr0u/N*i+dr0v/N*j\n"
   ]
  },
  {
   "cell_type": "code",
   "execution_count": 7,
   "metadata": {},
   "outputs": [],
   "source": [
    "if M0>0.0 and Q==0.0 and Lambda==0.0:\n",
    "    ulist=np.empty((Nu))*np.nan\n",
    "    vlist=np.empty((Nv))*np.nan\n",
    "    \n",
    "    #rlistu=ru0+bf.dr2(M0,dr0v,ru0)*np.arange(0,umax,du0)\n",
    "    #rlistv=ru0+dr0v*np.arange(0,vmax,dv0)\n",
    "\n",
    "    rlistu=rnp[:,0]\n",
    "    rlistv=rnp[0,:]\n",
    "    \n",
    "    #print(rlistv)\n",
    "\n",
    "    ulist=np.empty((Nu))\n",
    "    vlist=np.empty((Nv))\n",
    "\n",
    "    for i in range(0,Nu):\n",
    "        if rlistu[i]>rminus:\n",
    "            ulist[i]=bf.rbounschinv(M0,ru0,bf.dr2(M0,dr0v,ru0)*(bf.esig(M0,rlistu[0]))**(1),rlistu[i])\n",
    "        else:\n",
    "            ulist[i]=np.nan\n",
    "    \n",
    "    for j in range(0,Nv):\n",
    "        vlist[j]=bf.rbounschinv(M0,ru0,dr0v*bf.esig(M0,rlistu[0])**(1),rlistv[j])\n",
    "\n",
    "    #print(vlist)\n",
    "    plt.plot(ulist)\n",
    "    plt.show()"
   ]
  },
  {
   "cell_type": "code",
   "execution_count": 8,
   "metadata": {},
   "outputs": [],
   "source": [
    "if M0>0.0 and Q==0.0 and Lambda==0.0:        \n",
    "    rlist=np.zeros((Nu,Nv))*np.nan\n",
    "\n",
    "    for i in range(0,Nu):\n",
    "        for j in range(0,Nv):\n",
    "            rlist[i][j]=bf.rsch(M0,ru0,dr0v,ulist[i],vlist[j])\n",
    "            #if rlist[i][j]>0.0:\n",
    "                #continue\n",
    "            #else:\n",
    "                    #rlistv[j]=np.nan\n",
    "                #break\n",
    "            "
   ]
  },
  {
   "cell_type": "code",
   "execution_count": 9,
   "metadata": {},
   "outputs": [],
   "source": [
    "if M0>0.0 and Q>0.0 and Lambda==0.0:\n",
    "    #rlistu=ru0+bf.dr2rn(M0,Q,dr0v,ru0)*np.arange(0,umax,du0)\n",
    "    #rlistv=ru0+dr0v*np.arange(0,vmax,dv0)\n",
    "\n",
    "    rlistu=rnp[:,0]\n",
    "    rlistv=rnp[0,:]\n",
    "    \n",
    "    print(len(rnp[0]),len(rnp[:,0]))\n",
    "    \n",
    "    #print(bf.esigrn(M0,Q,ru0))\n",
    "    #print(rlistu)\n",
    "\n",
    "    ulist=np.empty((Nu))*np.nan\n",
    "    vlist=np.empty((Nv))*np.nan\n",
    "    \n",
    "    print(len(rlistu))\n",
    "    print(Nu)\n",
    "    print(Nv)\n",
    "    \n",
    "    for i in range(0,Nu):\n",
    "        if rlistu[i]>rminus:\n",
    "            ulist[i]=bf.rbounrninv(float(rlistu[i]),M0,Q,ru0,bf.dr2rn(M0,Q,dr0v,ru0)*(bf.esigrn(M0,Q,rlistv[0]))**(1))\n",
    "        else:\n",
    "            ulist[i]=np.nan\n",
    "\n",
    "    for i in range(0,Nv):\n",
    "        vlist[i]=bf.rbounrninv(float(rlistv[i]),M0,Q,ru0,dr0v*(bf.esigrn(M0,Q,rlistv[0]))**(1))\n",
    "\n",
    "    plt.plot(ulist)#,rlistu)\n",
    "    plt.xlabel('numpoints')\n",
    "    plt.ylabel('u')\n",
    "    #plt.xlabel('u')\n",
    "    #plt.ylabel('r')\n",
    "    #plt.xlim(0,1)\n",
    "    plt.ylim(0,5)\n",
    "    plt.grid()\n",
    "    plt.show()    \n",
    "    \n",
    "    plt.plot(vlist)#,rlistv)\n",
    "    plt.xlabel('numpoints')\n",
    "    plt.ylabel('v')\n",
    "    #plt.xlabel('v')\n",
    "    #plt.ylabel('r')\n",
    "    #plt.xlim(0,1)\n",
    "    #plt.ylim(4,5)\n",
    "    plt.grid()\n",
    "    plt.show()\n",
    "\n",
    "    print(ulist)"
   ]
  },
  {
   "cell_type": "code",
   "execution_count": 10,
   "metadata": {},
   "outputs": [],
   "source": [
    "if M0>0.0 and Q>0.0 and Lambda==0.0:\n",
    "    rlist=np.zeros((Nu,Nv))*np.nan\n",
    "    for i in range(0,Nu):\n",
    "    #for j in range(0,Nv):\n",
    "        rlist[i]=bf.rrn(M0,Q,ru0,dr0v,signp[i][0],ulist,vlist,i).reshape(Nv)"
   ]
  },
  {
   "cell_type": "code",
   "execution_count": 11,
   "metadata": {},
   "outputs": [
    {
     "name": "stdout",
     "output_type": "stream",
     "text": [
      "1.0\n",
      "1156\n"
     ]
    },
    {
     "data": {
      "image/png": "[encoded data removed]",
      "text/plain": [
       "<Figure size 432x288 with 1 Axes>"
      ]
     },
     "metadata": {
      "needs_background": "light"
     },
     "output_type": "display_data"
    },
    {
     "name": "stderr",
     "output_type": "stream",
     "text": [
      "/home/brandon/.conda/envs/pycbc/lib/python3.6/site-packages/ipykernel_launcher.py:45: RuntimeWarning: invalid value encountered in true_divide\n"
     ]
    },
    {
     "data": {
      "image/png": "[encoded data removed]",
      "text/plain": [
       "<Figure size 432x288 with 1 Axes>"
      ]
     },
     "metadata": {
      "needs_background": "light"
     },
     "output_type": "display_data"
    },
    {
     "data": {
      "image/png": "[encoded data removed]",
      "text/plain": [
       "<Figure size 432x288 with 1 Axes>"
      ]
     },
     "metadata": {
      "needs_background": "light"
     },
     "output_type": "display_data"
    },
    {
     "name": "stdout",
     "output_type": "stream",
     "text": [
      "inf\n"
     ]
    }
   ],
   "source": [
    "if M0>0.0 and Q>0.0 and Lambda>0.0:\n",
    "    ###Need to calculate in Eddington-like coordinates to work\n",
    "    corfactor=1/dr0v*0.5*np.abs(1-2*massnp[0][0]/rnp[0][0]+Q**2/rnp[0][0]**2-Lambda*(rnp[0][0])**2.0/3.0)\n",
    "    print(corfactor)\n",
    "    def vegiver(r,r0):\n",
    "        C1=6/Lambda*(-(rcosm**2.0*np.log(rcosm-r0))/((rcosm-rminus)*(rcosm-rneg)*(rcosm-rplus))+(rminus**2.0*np.log(np.abs(r0-rminus)))/((rcosm-rminus)*(rminus-rneg)*(rminus-rplus))+(rneg**2.0*np.log(np.abs(r0-rneg)))/((rcosm-rneg)*(rneg-rminus)*(rneg-rplus))+(rplus**2.0*np.log(np.abs(r0-rplus)))/((rcosm-rplus)*(rplus-rminus)*(rplus-rneg)))\n",
    "        f=6/Lambda*(-(rcosm**2.0*np.log(rcosm-r))/((rcosm-rminus)*(rcosm-rneg)*(rcosm-rplus))+(rminus**2.0*np.log(np.abs(r-rminus)))/((rcosm-rminus)*(rminus-rneg)*(rminus-rplus))+(rneg**2.0*np.log(np.abs(r-rneg)))/((rcosm-rneg)*(rneg-rminus)*(rneg-rplus))+(rplus**2.0*np.log(np.abs(r-rplus)))/((rcosm-rplus)*(rplus-rminus)*(rplus-rneg)))\n",
    "    \n",
    "        return -(C1-f)*corfactor\n",
    "    \n",
    "    #rlist=np.zeros((Nu,Nv))*np.nan\n",
    "    #vlist= vegiver(rnp,rnp[0,0])\n",
    "    \n",
    "    \n",
    "    #vrange2=np.cumsum(cornp)-cornp[0]\n",
    "    print(Nu)\n",
    "    numlines=100\n",
    "    \n",
    "    for i in range(0,numlines):\n",
    "    #or line in rnp[::100]:\n",
    "        #plt.plot(line,-vegiver(line,rnp[0,0])*corfactor)\n",
    "        #plt.plot(line,vrange)\n",
    "        rline=rnp[int(i/numlines*Nu)]\n",
    "        #print(rline)\n",
    "        plt.plot(rline,vegiver(rline,rline[0]),'--')\n",
    "        plt.plot(rline,vrange)\n",
    "        #print(vegiver(rline,rline[0]))\n",
    "        #print(vrange)\n",
    "        #print('--')\n",
    "    plt.plot([nan],[nan],'--',label='exact')\n",
    "    plt.plot([nan],[nan],label='numerical')\n",
    "    plt.axvline(x=rplus,linewidth=0.75,linestyle='--',color='red')\n",
    "    plt.axvline(x=rminus,linewidth=0.75,linestyle='--',color='blue')\n",
    "    #plt.axvline(x=rcosm,linewidth=0.75,linestyle='--',color='green')\n",
    "    plt.ylabel('v')\n",
    "    plt.xlabel('r(v)')\n",
    "    plt.ylim(0,vmax)\n",
    "    plt.xlim(0,5)\n",
    "    plt.grid()\n",
    "    plt.legend(loc='best')\n",
    "    #plt.savefig('num-rel-pics/v=600_r_N-200.png',dpi=300)\n",
    "    plt.show()\n",
    "    for i in range(0,numlines):\n",
    "        rline=rnp[int(i/numlines*Nu)]\n",
    "        plt.plot(rline,np.abs(vrange-vegiver(rline,rline[0]))/vegiver(rline,rline[0]))\n",
    "    plt.axvline(x=rplus,linewidth=0.75,linestyle='--',color='red')\n",
    "    plt.axvline(x=rminus,linewidth=0.75,linestyle='--',color='blue')\n",
    "    #plt.axvline(x=rcosm,linewidth=0.75,linestyle='--',color='green')\n",
    "    plt.ylim(.0000001,10000)\n",
    "    plt.xlim(0,5)\n",
    "    plt.ylabel(r'$|v-v_{num}|/v$')\n",
    "    plt.xlabel('r')\n",
    "    plt.grid()\n",
    "    #plt.xlim(rminus-.005,rminus+.005)\n",
    "    plt.yscale('log')\n",
    "    #plt.savefig('num-rel-pics/v=600_error_N-200.png',dpi=300)\n",
    "    #plt.savefig('num-rel-pics/error.png',dpi=300)\n",
    "    plt.show()\n",
    "    \n",
    "    \n",
    "    plt.plot(vrange,massnp[-1])\n",
    "    plt.show()\n",
    "    \n",
    "    print(np.nanmax(massnp))\n",
    "        \n",
    "    "
   ]
  },
  {
   "cell_type": "code",
   "execution_count": 12,
   "metadata": {},
   "outputs": [
    {
     "ename": "SyntaxError",
     "evalue": "invalid syntax (<ipython-input-12-490cd3e3ff76>, line 1)",
     "output_type": "error",
     "traceback": [
      "\u001b[0;36m  File \u001b[0;32m\"<ipython-input-12-490cd3e3ff76>\"\u001b[0;36m, line \u001b[0;32m1\u001b[0m\n\u001b[0;31m    if f is p\u001b[0m\n\u001b[0m             ^\u001b[0m\n\u001b[0;31mSyntaxError\u001b[0m\u001b[0;31m:\u001b[0m invalid syntax\n"
     ]
    }
   ],
   "source": [
    "if f is p"
   ]
  },
  {
   "cell_type": "markdown",
   "metadata": {
    "scrolled": false
   },
   "source": [
    "levels=np.arange(5.0, np.nanmax(rlist), 5.0 )\n",
    "#levels=np.arange(5.0, 100, 5.0 )\n",
    "levels=np.insert(levels,0,[rminus+.01,.7,1.0,rplus])\n",
    "\n",
    "plot1=plt.pcolormesh(vrange,urange,np.ma.masked_invalid(rlist),cmap=plt.cm.cool,vmin=0.0,vmax=np.nanmax(rlist))\n",
    "plot4=plt.contour(vrange,urange,rlist,levels,linewidths=0.5,colors='black',extent=(0,vmax,0,umax),aspect='auto',origin='lower')\n",
    "plot5=plt.contour(vrange,urange,rlist, [rplus],linewidths=0.5,colors='red',extent=(0,vmax,0,umax),aspect='auto',origin='lower')\n",
    "plot6=plt.contour(vrange,urange,rlist, [rminus],linewidths=1.0,linestyles='dashed',colors='blue',extent=(0,vmax,0,umax),aspect='auto',origin='lower')\n",
    "#plt.clabel(plot4, levels,  \n",
    "           #inline=0, inline_spacing=0, \n",
    "           #fmt='%1.2f',rightside_up=True,\n",
    "           #fontsize=8)\n",
    "#sample3=plt.plot(vrange[-1],drdvnplist)\n",
    "#sample3=plt.plot(vrange,dsigdvnplist)\n",
    "plt.xlabel('v')\n",
    "plt.ylabel('u')\n",
    "#plt.xlim(0,20)\n",
    "#plt.ylim(0,11)\n",
    "plt.xlim(0,vmax)\n",
    "#plt.ylim(9.2758,9.2761)\n",
    "plt.colorbar(plot1)\n",
    "plt.title('Radius vs (u,v) Coordinates')\n",
    "#plt.savefig('EH-mismatch.png',dpi=300)\n",
    "plt.show()\n"
   ]
  },
  {
   "cell_type": "code",
   "execution_count": null,
   "metadata": {},
   "outputs": [],
   "source": [
    "print(Nu)\n",
    "Ni=2500\n",
    "while Ni<Nu:\n",
    "    plt.plot(vrange,rlist[Ni,:])\n",
    "    Ni+=100\n",
    "plt.plot([0,vmax],[rminus,rminus],'r--',color='blue',linewidth=0.5)\n",
    "plt.ylim(rminus-0.00000001,rminus+0.00000001)\n",
    "plt.xlabel('v')\n",
    "plt.ylabel('r')\n",
    "plt.grid()\n",
    "plt.show()\n",
    "\n"
   ]
  },
  {
   "cell_type": "code",
   "execution_count": null,
   "metadata": {},
   "outputs": [],
   "source": [
    "print(Nu)\n",
    "\n",
    "Ni=100\n",
    "Numax=2000\n",
    "while Ni<Numax:\n",
    "    #plt.plot(vrange,rlist[Ni,:],'-.')\n",
    "    #plt.plot(vrange,rnp[Ni,:])\n",
    "    try:\n",
    "        plt.plot(rlist[Ni,:],vrange,'-.')\n",
    "        plt.plot(rnp[Ni,:],vrange)\n",
    "    except:\n",
    "        break\n",
    "    #plt.plot(urange,rlist[:,Ni+1],'-.')\n",
    "    #plt.plot(urange,rnp[:,Ni+1])\n",
    "    Ni+=100\n",
    "#plt.plot([0,vmax],[rplus,rplus],'r--',color='red',linewidth=0.5)\n",
    "#plt.plot([0,vmax],[rminus,rminus],'r--',color='blue',linewidth=0.5)\n",
    "#plt.ylim(rminus-0.1,rminus+0.1)\n",
    "plt.ylabel('v')\n",
    "plt.xlabel('r')\n",
    "plt.xlim(1.31,1.315)\n",
    "#plt.ylim(.6877460,.6877525)\n",
    "#plt.ylim(.687749,.6877492)\n",
    "plt.grid()\n",
    "plt.title('u vs r(u) along v=const')\n",
    "#plt.savefig('rminus-mismatch-u.png',dpi=300)\n",
    "plt.show()"
   ]
  },
  {
   "cell_type": "code",
   "execution_count": null,
   "metadata": {},
   "outputs": [],
   "source": [
    "rdiff=np.ma.masked_invalid(np.abs((rlist-rnp)/rlist))"
   ]
  },
  {
   "cell_type": "code",
   "execution_count": null,
   "metadata": {},
   "outputs": [],
   "source": [
    "#np.ma.masked_invalid()\n",
    "\n",
    "#print(rdiff[-100,:])\n",
    "plt.plot(vrange,rdiff[700,:])\n",
    "plt.plot(vrange,rdiff[100,:],label='u='+str(urange[100]))\n",
    "plt.plot(vrange,rdiff[1000,:],label='u='+str(urange[1000]))\n",
    "plt.plot(vrange,rdiff[2000,:],label='u='+str(urange[2000]))\n",
    "#plt.plot(vrange,rdiff[3000,:],label='u='+str(urange[3000]))\n",
    "plt.yscale('log')\n",
    "plt.grid()\n",
    "plt.xlabel('v')\n",
    "plt.ylabel('Error in r')\n",
    "plt.legend(loc='upper left')\n",
    "plt.show()\n",
    "\n",
    "print(len(urange),len(vrange),len(rdiff))\n",
    "\n",
    "plt.plot(urange,rdiff[:,Nv-1],label='v='+str(vrange[Nv-1]))\n",
    "plt.plot(urange,rdiff[:,int(Nv*3/4)],label='v='+str(vrange[int(Nv*3/4)]))\n",
    "plt.plot(urange,rdiff[:,int(Nv*1/2)],label='v='+str(vrange[int(Nv*1/2)]))\n",
    "plt.plot(urange,rdiff[:,1],label='v='+str(vrange[1]))\n",
    "\n",
    "\n",
    "\n",
    "#plt.plot(urange,rdiff[:,-4000],label='v='+str(vrange[-4000]))\n",
    "#ax= fig.add_subplot(1,1,1)\n",
    "plt.yscale('log')\n",
    "plt.grid()\n",
    "plt.xlabel('u')\n",
    "plt.ylabel('Error in r')\n",
    "#handles, labels = plt.get_legend_handles_labels()\n",
    "plt.legend(loc='upper left')\n",
    "plt.show()"
   ]
  },
  {
   "cell_type": "code",
   "execution_count": null,
   "metadata": {},
   "outputs": [],
   "source": [
    "\n",
    "if M0==0.0:\n",
    "    levelsdiff=[10**(-11.0),10**(-10.0),10**(-9.0)]\n",
    "if M0>0.0 and Q==0.0:\n",
    "    levelsdiff=[.00001,.0001,.001]\n",
    "if M0>0.0 and Q>0.0:\n",
    "    levelsdiff=[10**(-7),10**(-6),10**(-5),10**(-4),10**(-3),10**(-2)]#,10**(-1)]#,10**(-1)]#,10**(-0),10**(1),20**(1),30**(1)]\n",
    "\n",
    "plot1=plt.pcolormesh(vrange,urange,rdiff,cmap=plt.cm.cool, norm=colors.LogNorm(vmin=min(levelsdiff), vmax=max(levelsdiff)))#,vmin=0.0,vmax=.0001)\n",
    "#plt.ylim(0,10.8)\n",
    "plot4=plt.contour(vrange,urange,rdiff, levelsdiff,linewidths=0.5,colors='black',extent=(0,vmax,0,umax),aspect='auto',origin='lower')\n",
    "plot5=plt.contour(vrange,urange,rlist, [rplus],linewidths=0.5,colors='red',extent=(0,vmax,0,umax),aspect='auto',origin='lower')\n",
    "plot5=plt.contour(vrange,urange,rnp, [rplus],linewidths=0.5,colors='green',extent=(0,vmax,0,umax),aspect='auto',origin='lower')\n",
    "plot6=plt.contour(vrange,urange,rlist, [rminus],linewidths=1.0,linestyles='dashed',colors='blue',extent=(0,vmax,0,umax),aspect='auto',origin='lower')\n",
    "plot6=plt.contour(vrange,urange,rnp, [rminus+.00001],linewidths=1.0,linestyles='dashed',colors='purple',extent=(0,vmax,0,umax),aspect='auto',origin='lower')\n",
    "#fmt={str(10**(-2)):10**(-2)}\n",
    "plt.clabel(plot4, levelsdiff,  \n",
    "           inline=0, inline_spacing=0, \n",
    "           fmt='%1.6f',rightside_up=True,\n",
    "           fontsize=8)\n",
    "#sample3=plt.plot(vrange[-1],drdvnplist)\n",
    "#sample3=plt.plot(vrange,dsigdvnplist)\n",
    "plt.xlabel('v')\n",
    "plt.ylabel('u')\n",
    "plt.xlim(0,vmax)\n",
    "#plt.ylim(9.27585,9.27615) #normal\n",
    "#plt.ylim(9.27589,9.27597)\n",
    "#plt.ylim(.4432,.44325)\n",
    "plt.ylim(0,umax)\n",
    "plt.colorbar(plot1)\n",
    "plt.title('Fractional Error of r(u,v)')\n",
    "plt.savefig('num-rel-pics/r-error.png',dpi=300)\n",
    "plt.show()"
   ]
  },
  {
   "cell_type": "code",
   "execution_count": null,
   "metadata": {},
   "outputs": [],
   "source": [
    "print(\"Max error is: \"+str(np.nanmax(rdiff)))\n",
    "print(\"Mean error is: \"+str(np.nanmean(rdiff)))\n",
    "print(\"Standard Deviation is: \"+str(np.nanstd(rdiff)))\n",
    "plt.plot(vrange,urange[np.argmax(rdiff,axis=0)])\n",
    "plt.xlabel('v')\n",
    "plt.ylabel('u')\n",
    "plt.grid()\n",
    "plt.show()\n",
    "plt.plot(urange,vrange[np.argmax(rdiff,axis=1)])\n",
    "plt.xlabel('u')\n",
    "plt.ylabel('v')\n",
    "plt.grid()\n",
    "plt.show()\n",
    "\n",
    "plt.plot(vrange,urange[np.argmax(rdiff,axis=0)])\n",
    "plt.plot(vrange[np.argmax(rdiff,axis=1)],urange)\n",
    "plt.xlabel('v')\n",
    "\n",
    "plt.ylabel('u')\n",
    "plt.grid()\n",
    "plt.show()\n",
    "#print(rlist[570,570])\n",
    "\n",
    "#print(rdiff)\n",
    "\n",
    "#Max error is: 0.523035549926\n",
    "#Mean error is: 0.00250593093563\n",
    "#Standard Deviation is: 0.012842896785"
   ]
  },
  {
   "cell_type": "code",
   "execution_count": null,
   "metadata": {},
   "outputs": [],
   "source": []
  },
  {
   "cell_type": "code",
   "execution_count": null,
   "metadata": {},
   "outputs": [],
   "source": [
    "stop = timeit.default_timer()"
   ]
  },
  {
   "cell_type": "code",
   "execution_count": null,
   "metadata": {},
   "outputs": [],
   "source": [
    "acttime=stop - start\n",
    "\n",
    "numpoints=Nu*Nv\n",
    "\n",
    "\n",
    "\n",
    "print(str(acttime)+' seconds')\n",
    "print(str((acttime)/60)+' minutes')\n",
    "print(str((acttime)/3600)+' hours')\n",
    "\n",
    "print(str(numpoints)+' points')\n",
    "\n",
    "print(str((numpoints)/(stop - start))+' points per second') \n",
    "\n",
    "exttimef=(acttime-predtime)/60\n",
    "\n",
    "exttime=format(abs((acttime-predtime)/60),'.2f')\n",
    "if exttimef>0.0:\n",
    "    print(\"Took \"+str(exttime)+\" more minutes\")\n",
    "if exttimef<0.0:\n",
    "    print(\"Took \"+str(exttime)+\" less minutes\")\n",
    "if exttimef==0.0:\n",
    "    print(\"Took exactly the right time!!!!\")"
   ]
  },
  {
   "cell_type": "code",
   "execution_count": null,
   "metadata": {},
   "outputs": [],
   "source": [
    "plt.plot(vrange,rlist[300,:])\n",
    "plt.ylim(1.5,5)\n",
    "plt.xlim(0,60)\n",
    "plt.xlabel('v')\n",
    "plt.ylabel('r')\n",
    "plt.grid()\n",
    "plt.show()\n",
    "\n"
   ]
  },
  {
   "cell_type": "code",
   "execution_count": null,
   "metadata": {},
   "outputs": [],
   "source": [
    "print(Nu)\n",
    "urange2=[]\n",
    "for i in range(0,Nu-1):\n",
    "    urange2.append(urange[i+1]-urange[i])\n",
    "print(np.argmin(urange2))\n",
    "print(urange[np.argmin(urange2)])"
   ]
  },
  {
   "cell_type": "code",
   "execution_count": null,
   "metadata": {
    "scrolled": true
   },
   "outputs": [],
   "source": [
    "#uNEH=Nu-10\n",
    "#ustep=1\n",
    "#uN1=uNEH#uNEH-3000\n",
    "uNEH=768\n",
    "ustep=100\n",
    "uN1=uNEH-700\n",
    "Numax=Nu\n",
    "\n",
    "\n",
    "uN=uN1\n",
    "plt.plot([0,vmax],[rplus,rplus],'r--',color='red',linewidth=0.5, label='r+')\n",
    "plt.plot([0,vmax],[rminus,rminus],'r--',color='blue',linewidth=0.5, label='r-')\n",
    "while uN< Numax:\n",
    "    if uN<uNEH:\n",
    "        sample3=plt.plot(vrange,rnp[uN,:],'--',label='u='+str(urange[uN]))\n",
    "    if uN==uNEH:\n",
    "        sample3=plt.plot(vrange,rnp[uN,:],label='u='+str(urange[uN]))\n",
    "    if uN>uNEH:\n",
    "        sample3=plt.plot(vrange,rnp[uN,:],'-.',label='u='+str(urange[uN]))\n",
    "    #sample3=plt.plot(vrange,signp[uN1+uN,:])\n",
    "    uN+=ustep\n",
    "plt.xlim(0,vmax)\n",
    "plt.xlabel('v')\n",
    "plt.ylabel(r'$r$(u,v)')\n",
    "plt.ylim(0,4)\n",
    "#plt.xscale('log')\n",
    "#plt.yscale('log')\n",
    "#plt.legend()\n",
    "plt.grid()\n",
    "plt.title(r'$r$(u,v) vs v') #(u='+str(uN2u)+')')#+',uEH='+str(uEH*umax)+')')\n",
    "#plt.savefig('rEH-RN.png',dpi=300,bbox_inches=\"tight\")\n",
    "plt.show()\n",
    "\n",
    "uN=uN1\n",
    "while uN< Numax:\n",
    "    if uN<uNEH:\n",
    "        sample3=plt.plot(vrange,signp[uN,:],'--',label='u='+str(uN))\n",
    "    if uN==uNEH:\n",
    "        sample3=plt.plot(vrange,signp[uN,:])\n",
    "    if uN>uNEH:\n",
    "        sample3=plt.plot(vrange,signp[uN,:],'-.')\n",
    "    #sample3=plt.plot(vrange,signp[uN1+uN,:])\n",
    "    uN+=ustep\n",
    "plt.xlim(0,vmax)\n",
    "plt.xlabel('v')\n",
    "plt.ylabel(r'$\\sigma$(u,v)')\n",
    "plt.ylim(-50,50)\n",
    "#plt.xscale('log')\n",
    "#plt.yscale('log')\n",
    "plt.grid()\n",
    "plt.title(r'$\\sigma$(u,v) vs v') #(u='+str(uN2u)+')')#+',uEH='+str(uEH*umax)+')')\n",
    "#plt.savefig('sigEH-RN.png',dpi=300,bbox_inches=\"tight\")\n",
    "plt.show()"
   ]
  },
  {
   "cell_type": "code",
   "execution_count": null,
   "metadata": {},
   "outputs": [],
   "source": [
    "#for j in range(0,Nv):\n",
    "    #print(rnp[3300,j])"
   ]
  },
  {
   "cell_type": "code",
   "execution_count": null,
   "metadata": {},
   "outputs": [],
   "source": [
    "du0=urange[1]-urange[0]\n",
    "dv0=vrange[1]-vrange[0]\n",
    "\n",
    "rnpnew=np.array([[rnp[0][0],rnp[0][1]],[rnp[1][0],np.nan]])\n",
    "#signpnew=np.array([[0,0],[0,0]])\n",
    "signpnew=np.array([[signp[0][0],signp[0][1]],[signp[1][0],np.nan]])\n",
    "phinpnew=np.array([[0,0],[0,0]])\n",
    "\n",
    "print(rnpnew)\n",
    "print(signpnew)\n",
    "\n",
    "#print(massnp[1][1])\n",
    "\n",
    "print(dnu.x4giveralt(0,0,du0,dv0,rnpnew,phinpnew,signpnew,massnpf,1.0,.95,0.0,np.longdouble))\n",
    "\n",
    "print(abs(rlist[1][1]-dnu.x4giveralt(0,0,du0,dv0,rnpnew,phinpnew,signpnew,massnp,1.0,.95,0.0,np.longdouble)[0]))"
   ]
  },
  {
   "cell_type": "code",
   "execution_count": null,
   "metadata": {},
   "outputs": [],
   "source": [
    "rnpnew=np.array([[rlist[0][0],rlist[0][1]],[rlist[1][0],np.nan]])\n",
    "#signpnew=np.array([[0,0],[0,0]])\n",
    "#def siggiver(r,M0,Q):\n",
    "    #sig=np.log(1-2*M0/r+Q**2/r**2)\n",
    "signpnew=np.array\n",
    "signpnew=np.array([[signp[0][0],signp[0][1]],[signp[1][0],np.nan]])\n",
    "phinpnew=np.array([[0,0],[0,0]])\n",
    "\n",
    "print(rnpnew)\n",
    "print(signpnew)\n",
    "\n",
    "\n",
    "print(dnu.x4giveralt(0,0,du0,dv0,rnpnew,phinpnew,signpnew,1.0,.95,0.0,np.longdouble))\n",
    "\n",
    "print(abs(rlist[1][1]-dnu.x4giveralt(0,0,du0,dv0,rnpnew,phinpnew,signpnew,1.0,.95,0.0,np.longdouble)[0]))"
   ]
  },
  {
   "cell_type": "code",
   "execution_count": null,
   "metadata": {},
   "outputs": [],
   "source": [
    "print(Nu,Nv)\n",
    "\n",
    "#u4=4000\n",
    "#v4=3500\n",
    "u4=2000\n",
    "\n",
    "v4=2000\n",
    "\n",
    "print(urange[u4],vrange[v4])\n",
    "print(rnp[u4][0])"
   ]
  },
  {
   "cell_type": "code",
   "execution_count": null,
   "metadata": {},
   "outputs": [],
   "source": [
    "drua=np.zeros((Nu-1))\n",
    "dru=np.zeros((Nu-1))\n",
    "\n",
    "for i in range(0,Nu-1):\n",
    "    drua[i]=(rlist[i+1][v4]-rlist[i][v4])/rlist[i][v4]#(urange[i+1]-urange[i])\n",
    "    dru[i]=(rnp[i+1][v4]-rnp[i][v4])/rnp[i][v4]#(urange[i+1]-urange[i])\n",
    "\n",
    "plt.plot(np.delete(urange,0),np.abs(dru),label='numerical')\n",
    "plt.plot(np.delete(urange,0),np.abs(drua),'--',label='analytic')\n",
    "plt.yscale('log')\n",
    "plt.ylabel('|r,u|')\n",
    "plt.xlabel('u')\n",
    "#plt.xlim(1.8336,1.8345)\n",
    "#plt.xlim(1.83,1.842)\n",
    "#plt.ylim(10**(-3),10**(4))\n",
    "plt.title('|r,u| at v='+str(vrange[v4]))\n",
    "plt.legend(loc='lower right')\n",
    "plt.grid()\n",
    "#plt.savefig('ru.png',dpi=300)\n",
    "plt.show()\n",
    "\n",
    "print(urange[np.argmax(np.abs(dru))])\n",
    "rnp[np.argmax(np.abs(dru))]"
   ]
  },
  {
   "cell_type": "code",
   "execution_count": null,
   "metadata": {},
   "outputs": [],
   "source": [
    "drva=np.zeros((Nv-1))\n",
    "drv=np.zeros((Nv-1))\n",
    "\n",
    "\n",
    "for j in range(0,Nv-1):\n",
    "    drva[j]=(rlist[u4][j+1]-rlist[u4][j])/(vrange[j+1]-vrange[j])\n",
    "    drv[j]=(rnp[u4][j+1]-rnp[u4][j])/(vrange[j+1]-vrange[j])\n",
    "\n",
    "plt.plot(np.delete(vrange,0),np.abs(drv),label='numerical')\n",
    "plt.plot(np.delete(vrange,0),np.abs(drva),'--',label='analytic')\n",
    "plt.yscale('log')\n",
    "plt.ylabel('|r,v|')\n",
    "plt.xlabel('v')\n",
    "plt.grid()\n",
    "plt.title('|r,v| at u='+str(round(urange[u4],3)))\n",
    "plt.legend(loc='upper right')\n",
    "#plt.ylim(.1,1)\n",
    "#plt.savefig('rv.png',dpi=300)\n",
    "plt.show()\n",
    "\n"
   ]
  },
  {
   "cell_type": "code",
   "execution_count": null,
   "metadata": {},
   "outputs": [],
   "source": [
    "druf=np.abs((drua[:]-dru[:])/drua[:])\n",
    "plt.axvline(x=1.835,linestyle='--',color='red')\n",
    "plt.plot(np.delete(urange,0),druf)\n",
    "\n",
    "#plt.plot(np.delete(urange,0),np.abs(drua),'--')\n",
    "plt.yscale('log')\n",
    "#plt.xscale('log')\n",
    "#plt.xlim(1.8339,1.8341)\n",
    "plt.ylabel('Error in r,u')\n",
    "plt.xlabel('u')\n",
    "#plt.xlim(1.83,1.842)\n",
    "plt.grid()\n",
    "plt.title('Fractional Error of r,u')\n",
    "#plt.savefig('ru-error.png',dpi=300)\n",
    "plt.show()"
   ]
  },
  {
   "cell_type": "code",
   "execution_count": null,
   "metadata": {},
   "outputs": [],
   "source": [
    "signp2=np.delete(signp,0,axis=1)\n",
    "drvf=np.abs((drva[:]-drv[:])/drva[:])\n",
    "drvf2=np.abs((drva[:]-drv[:])/drva[:]*np.exp(signp2[u4,:]))\n",
    "\n",
    "plt.plot(np.delete(vrange,0),drvf)\n",
    "#plt.plot(np.delete(vrange,0),drvf2)\n",
    "#plt.plot(np.delete(urange,0),np.abs(drua),'--')\n",
    "plt.yscale('log')\n",
    "#plt.xscale('log')\n",
    "#plt.xlim(1.8339,1.8341)\n",
    "plt.ylabel('Error in r,v')\n",
    "plt.xlabel('v')\n",
    "plt.xlim(0,vmax)\n",
    "plt.title('Fractional Error of r,v')\n",
    "plt.grid()\n",
    "#plt.savefig('rv-error.png',dpi=300)\n",
    "plt.show()"
   ]
  },
  {
   "cell_type": "code",
   "execution_count": null,
   "metadata": {
    "scrolled": true
   },
   "outputs": [],
   "source": [
    "r=rnp[u4][v4]\n",
    "\n",
    "print(dru[u4],drv[v4],mth.exp(-signp[u4][v4]))\n",
    "print(drua[u4],drva[v4],mth.exp(-signp[u4][v4]))\n",
    "print(dru[u4]*drv[v4]*mth.exp(-signp[u4][v4]))\n",
    "print(drua[u4]*drva[v4]*mth.exp(-signp[u4][v4]))\n",
    "print((1+4*drua[u4]*drva[v4]*mth.exp(-signp[u4][v4]))*r/2+Q**2/(2*r))\n",
    "print(-1/4*(1-2*M0/r+Q**2/r**2))"
   ]
  },
  {
   "cell_type": "code",
   "execution_count": null,
   "metadata": {},
   "outputs": [],
   "source": [
    "du=urange[u4+1]-urange[u4]\n",
    "dv=vrange[v4+1]-vrange[v4]\n",
    "print(dnu.x4giveralt(u4,v4,du,dv,rnp,phinp,signp,massnp,M0,Q,0.0,object))\n",
    "print(dnu.x4giveralt(0,0,du,dv,rnp,phinp,signp,massnp,M0,Q,0.0,object))"
   ]
  },
  {
   "cell_type": "code",
   "execution_count": null,
   "metadata": {},
   "outputs": [],
   "source": [
    "vmar=rnp[u4][v4]\n",
    "print(r)\n",
    "print(\"M=\"+str((1.0+4.0*np.exp(-signp[u4][v4])*dru[u4]*drv[v4])*r/2+Q**2.0/(2.0*r)))\n",
    "print(massnp[u4][v4])"
   ]
  },
  {
   "cell_type": "code",
   "execution_count": null,
   "metadata": {},
   "outputs": [],
   "source": [
    "mth.exp(-27)*10**(-3)+1\n",
    "print(mth.exp(signp[u4][v4]))\n",
    "print(\"%.32f\" % (mth.exp(signp[u4][v4])/(25*4*.6877*1000)*(1-.95**2/.6877**2)))\n",
    "print(\"%.32f\" % (mth.exp(signp[u4][v4])/(25*4*.6877*1000)*(1-.95**2/.6877**2)+1))\n",
    "print(urange[u4+1]-urange[u4])\n"
   ]
  },
  {
   "cell_type": "code",
   "execution_count": null,
   "metadata": {},
   "outputs": [],
   "source": [
    "getcontext().prec=32"
   ]
  },
  {
   "cell_type": "code",
   "execution_count": null,
   "metadata": {},
   "outputs": [],
   "source": [
    "Decimal(mth.exp(signp[u4][v4])/(25*4*.6877*1000)*(1-.95**2/.6877**2))+Decimal(1)"
   ]
  },
  {
   "cell_type": "code",
   "execution_count": null,
   "metadata": {},
   "outputs": [],
   "source": [
    "np.array([Decimal(Decimal(-19).exp())+1])+np.array([1])"
   ]
  },
  {
   "cell_type": "code",
   "execution_count": null,
   "metadata": {},
   "outputs": [],
   "source": [
    "Decimal(mth.exp(Decimal(-19)))+Decimal(1)"
   ]
  },
  {
   "cell_type": "code",
   "execution_count": null,
   "metadata": {},
   "outputs": [],
   "source": [
    "Decimal(.95)+1"
   ]
  },
  {
   "cell_type": "code",
   "execution_count": null,
   "metadata": {},
   "outputs": [],
   "source": [
    "du0*dv0*(Decimal(signp[u4][v4])).exp()*(Q**Decimal(2)-M0*rnp[u4][v4])/(Decimal(2)*rnp[u4][v4]**Decimal(3))"
   ]
  },
  {
   "cell_type": "code",
   "execution_count": null,
   "metadata": {},
   "outputs": [],
   "source": [
    "(10**(-20)+1.0)-1.0"
   ]
  },
  {
   "cell_type": "code",
   "execution_count": null,
   "metadata": {},
   "outputs": [],
   "source": []
  },
  {
   "cell_type": "code",
   "execution_count": null,
   "metadata": {},
   "outputs": [],
   "source": []
  }
 ],
 "metadata": {
  "kernelspec": {
   "display_name": "Python 3",
   "language": "python",
   "name": "python3"
  },
  "language_info": {
   "codemirror_mode": {
    "name": "ipython",
    "version": 3
   },
   "file_extension": ".py",
   "mimetype": "text/x-python",
   "name": "python",
   "nbconvert_exporter": "python",
   "pygments_lexer": "ipython3",
   "version": "3.6.6"
  }
 },
 "nbformat": 4,
 "nbformat_minor": 2
}
